{
  "cells": [
    {
      "cell_type": "markdown",
      "metadata": {
        "id": "view-in-github",
        "colab_type": "text"
      },
      "source": [
        "<a href=\"https://colab.research.google.com/github/bartexx37/DeepLearning/blob/main/07_Food_Vision_project.ipynb\" target=\"_parent\"><img src=\"https://colab.research.google.com/assets/colab-badge.svg\" alt=\"Open In Colab\"/></a>"
      ]
    },
    {
      "cell_type": "code",
      "execution_count": null,
      "metadata": {
        "colab": {
          "base_uri": "https://localhost:8080/"
        },
        "id": "rjQ8wZr-ueVa",
        "outputId": "cca4066f-12cd-477e-c351-49e68e01884c"
      },
      "outputs": [
        {
          "name": "stdout",
          "output_type": "stream",
          "text": [
            "NVIDIA-SMI has failed because it couldn't communicate with the NVIDIA driver. Make sure that the latest NVIDIA driver is installed and running.\n",
            "\n"
          ]
        }
      ],
      "source": [
        "!nvidia-smi|"
      ]
    },
    {
      "cell_type": "code",
      "execution_count": null,
      "metadata": {
        "id": "saLgoa91wNAD"
      },
      "outputs": [],
      "source": [
        "import tensorflow as tf\n",
        "import pandas as pd\n",
        "import numpy as np\n",
        "import matplotlib.pyplot as plt"
      ]
    },
    {
      "cell_type": "code",
      "execution_count": null,
      "metadata": {
        "colab": {
          "base_uri": "https://localhost:8080/"
        },
        "id": "9Jfjd39hwS2E",
        "outputId": "759c4f19-e162-40c1-9add-ca2453bfdc7d"
      },
      "outputs": [
        {
          "name": "stdout",
          "output_type": "stream",
          "text": [
            "--2023-02-17 10:32:46--  https://raw.githubusercontent.com/mrdbourke/tensorflow-deep-learning/main/extras/helper_functions.py\n",
            "Resolving raw.githubusercontent.com (raw.githubusercontent.com)... 185.199.108.133, 185.199.109.133, 185.199.110.133, ...\n",
            "Connecting to raw.githubusercontent.com (raw.githubusercontent.com)|185.199.108.133|:443... connected.\n",
            "HTTP request sent, awaiting response... 200 OK\n",
            "Length: 10246 (10K) [text/plain]\n",
            "Saving to: ‘helper_functions.py’\n",
            "\n",
            "helper_functions.py 100%[===================>]  10.01K  --.-KB/s    in 0s      \n",
            "\n",
            "2023-02-17 10:32:46 (70.1 MB/s) - ‘helper_functions.py’ saved [10246/10246]\n",
            "\n"
          ]
        }
      ],
      "source": [
        "!wget https://raw.githubusercontent.com/mrdbourke/tensorflow-deep-learning/main/extras/helper_functions.py"
      ]
    },
    {
      "cell_type": "code",
      "execution_count": null,
      "metadata": {
        "id": "orzOFPezxfWN"
      },
      "outputs": [],
      "source": [
        "#Getting helper functions\n",
        "import helper_functions as hp"
      ]
    },
    {
      "cell_type": "code",
      "execution_count": null,
      "metadata": {
        "id": "HHDjmUfXxkfk"
      },
      "outputs": [],
      "source": [
        "#hp.unzip_data(\"101_food_classes_10_percent.zip\")\n",
        "#train_dir = \"101_food_classes_10_percent/train/\"\n",
        "#test_dir = \"101_food_classes_10_percent/test\"\n",
        "train_dir=\"C:/Users/barto/OneDrive/Pulpit/DL_TF/101_food_classes_10_percent/101_food_classes_10_percent/train\"\n",
        "test_dir=\"C:/Users/barto/OneDrive/Pulpit/DL_TF/101_food_classes_10_percent/101_food_classes_10_percent/test\""
      ]
    },
    {
      "cell_type": "code",
      "execution_count": null,
      "metadata": {
        "id": "u8mnOAA5xoYr"
      },
      "outputs": [],
      "source": [
        "#How many images/classes there\n",
        "hp.walk_through_dir(\"101_food_classes_10_percent\")"
      ]
    },
    {
      "cell_type": "code",
      "execution_count": null,
      "metadata": {
        "id": "po3d1IqzxwHJ"
      },
      "outputs": [],
      "source": [
        "#Get tensorflow Datasets\n",
        "import tensorflow_datasets as tfds"
      ]
    },
    {
      "cell_type": "code",
      "execution_count": null,
      "metadata": {
        "colab": {
          "base_uri": "https://localhost:8080/"
        },
        "id": "kOQ13Fzsx1OC",
        "outputId": "a9b15657-55a0-4567-a89a-67c59d7d8bb3"
      },
      "outputs": [
        {
          "name": "stdout",
          "output_type": "stream",
          "text": [
            "True\n"
          ]
        }
      ],
      "source": [
        "dataset_list=tfds.list_builders()\n",
        "print(\"food101\" in dataset_list)"
      ]
    },
    {
      "cell_type": "code",
      "execution_count": null,
      "metadata": {
        "colab": {
          "base_uri": "https://localhost:8080/",
          "height": 148,
          "referenced_widgets": [
            "94b4f6095bc0464d8cf6a2aa652835f5",
            "40e7a1f7414f4853848d75f9fe9687e7",
            "5f2c390082e8417eb9d60f04955c492c",
            "8586d296c84749e2a1628b0c12d55b56",
            "81d52953e3a44d55ab26269201b05e82",
            "5f4b12f1cd1f4f08b4e5002d088c6d89",
            "5790612ddf234e7d8256e0bb982e7d93",
            "a22d8648daef4c5cac48d650cc5b00de",
            "f3a77cad1f29414e858bba9e5dcd5a74",
            "2e41c08c9da14abb8ddd1ecd2f0cd9c5",
            "3d2cbaf1c7cf4ef7b49400611c91690c",
            "55b97353f8b7442a97f1de4c60e78147",
            "42cf4c93cf324952a986566d06330b96",
            "9590c962d4214ae6987b394342e6dce2",
            "faae0897d419477db52cd8519f1626cb",
            "0f95773e7ce842d3a3d037f9da98a121",
            "aebe4e983258421e927da057a1dddd13",
            "a872f4a3080f41169373830a869110c2",
            "6ef7a4cffce4460894bcd42cec666ece",
            "c6711ea3c12244b9904c7ea8bc7f3406",
            "de83bfeaa7ce4701b7db85813eba6420",
            "80c454d482644105b4e366a97f41e629",
            "0ddc9b8c30e145d4a774b291140f2fc6",
            "c49cf58f733244e688c6f3984e7954e6",
            "b36c7b0b030a4090a517d57746f7af6d",
            "9cb446527d934514b9f50f5ad6b6517a",
            "a78e46ce115b405789181ed5ac93620f",
            "9ee321a0c4be413aaceb2176ec8142f5",
            "257427c484d345d18f28a5b6d8e2f191",
            "332ef8936d974966b212b67dfccbceb5",
            "98ce35c4ed5f448eb9d1631e7e5d536e",
            "a97576f3bc924e9fae3ba0c6ead7ba1f",
            "c13057c4a5c64a18bfd57744f06b9666",
            "5992058cd92b4c6fab2fbee268b713cd",
            "e6d1b46df5ff48d5bd2e26aee0bcc01c",
            "e32e068d41c34f378ac29a34c36f9644",
            "c6a463485edd44f283b4538adfef3b2f",
            "1ac19db91d12434fb15c5edd4f20f525",
            "e779ec4622934507ad652a06b8da15d7",
            "d408a8a73dbf4a2988c6872978f5db4e",
            "7dd426dc7d3d4d359d8c485d81f9e41a",
            "726c8a8db919457aa3f57c1dc3224871",
            "be244a620b994d64b2968a42cf9ae729",
            "c5da687dd6854f7781b5ed29eb57c9fc",
            "5a3a8fcd2c5d45a1978bdd5a2549f98f",
            "d86d6c0b03534beb85bb2ae3c1621384",
            "547e6682fd2b4119a68741475caaa920",
            "f94f73de96394d81801cf1a33490591b",
            "90e6bd157c17484e86089187f02f6ac1",
            "a9047ef3bae34742a637527197a1af43",
            "c472ee52421044b583eb28d4aba33d91",
            "64a7c6057c8d46489d6c20881a4d74f1",
            "13e4336626ac473d9b82ae10e917431e",
            "7123231b23b2449f8e6c8997022a443c",
            "248b5862ed2747c0b3ebd07901050234",
            "8960c500af8d490aaab634aa26a95386",
            "a88c03f349ec4aa7b87fb289ff0b4cf3",
            "3eabb91a128649e988b50c92bcd3628f",
            "cd81664540fe41f2b46dae3ba3596b95",
            "7f48aa8b1a494d678469c135c873f678",
            "f2d0deb67c2b405385456d31be85d993",
            "9ba76cec52f2419c9cc3475fc4807d6c",
            "b02e8cedb8074ecd888c0c15bb0fd37a",
            "71014a3c7a77418f8e2fe6b40c1a86dc",
            "92222807a7ed4fdabb81b5a1f79d74d6",
            "d67a3f83fab440e7ae4b459e380c2670",
            "b44d46aac7a54493a7291fcd51560a5b",
            "8f70c0c7b8b04f8a94f95edea80d4a2a",
            "200a57fef2fb4ac39040e17826fa4446",
            "655538b2d5004b468a1cf385adeaa7ec",
            "4097dfa074134216b17c5dfbcf4eab8a",
            "27d9740e9b364d5ca10200c2c40671ec",
            "e85947e529bf45cb9d30b3186bcf84eb",
            "f5a663a8f5c6465cac0bf4c69b68b389",
            "52956b4b3cd44c18b363dd108d938d6d",
            "5a51405592b246f09b3591355a585fb3",
            "3d260d1790b94d84a86238548741a938",
            "50de01ce557349fd911279bcdc3117bd",
            "8df32e76d9c44a8b93b99d00fc66a211",
            "57c34efe506a4d91aa8a94f17f355c69",
            "0a88b3949c5747d6a5e5c2d9c755b1fd",
            "1d3e15a1fa2b4daeab31e82e3f9b3cb6",
            "61919c894c3644638cf407a176402598",
            "3bb8335f46df48228b59f14ec8c16edc",
            "c38df81e3a774545acc86fb912b1a074",
            "25a1c7a991b74af29cbcc823f4e89211",
            "428e111941cf4003a41bd0e0b06dd4e1",
            "465440b3fce9492e996d0d9f53e2e50c"
          ]
        },
        "id": "mEXk3-eyyGma",
        "outputId": "bf46443c-953d-4eff-c682-664e85dd110f"
      },
      "outputs": [
        {
          "name": "stdout",
          "output_type": "stream",
          "text": [
            "Downloading and preparing dataset 4.65 GiB (download: 4.65 GiB, generated: Unknown size, total: 4.65 GiB) to /root/tensorflow_datasets/food101/2.0.0...\n"
          ]
        },
        {
          "data": {
            "application/vnd.jupyter.widget-view+json": {
              "model_id": "94b4f6095bc0464d8cf6a2aa652835f5",
              "version_major": 2,
              "version_minor": 0
            },
            "text/plain": [
              "Dl Completed...: 0 url [00:00, ? url/s]"
            ]
          },
          "metadata": {},
          "output_type": "display_data"
        },
        {
          "data": {
            "application/vnd.jupyter.widget-view+json": {
              "model_id": "55b97353f8b7442a97f1de4c60e78147",
              "version_major": 2,
              "version_minor": 0
            },
            "text/plain": [
              "Dl Size...: 0 MiB [00:00, ? MiB/s]"
            ]
          },
          "metadata": {},
          "output_type": "display_data"
        },
        {
          "data": {
            "application/vnd.jupyter.widget-view+json": {
              "model_id": "0ddc9b8c30e145d4a774b291140f2fc6",
              "version_major": 2,
              "version_minor": 0
            },
            "text/plain": [
              "Extraction completed...: 0 file [00:00, ? file/s]"
            ]
          },
          "metadata": {},
          "output_type": "display_data"
        },
        {
          "data": {
            "application/vnd.jupyter.widget-view+json": {
              "model_id": "5992058cd92b4c6fab2fbee268b713cd",
              "version_major": 2,
              "version_minor": 0
            },
            "text/plain": [
              "Generating splits...:   0%|          | 0/2 [00:00<?, ? splits/s]"
            ]
          },
          "metadata": {},
          "output_type": "display_data"
        },
        {
          "data": {
            "application/vnd.jupyter.widget-view+json": {
              "model_id": "5a3a8fcd2c5d45a1978bdd5a2549f98f",
              "version_major": 2,
              "version_minor": 0
            },
            "text/plain": [
              "Generating train examples...:   0%|          | 0/75750 [00:00<?, ? examples/s]"
            ]
          },
          "metadata": {},
          "output_type": "display_data"
        },
        {
          "data": {
            "application/vnd.jupyter.widget-view+json": {
              "model_id": "8960c500af8d490aaab634aa26a95386",
              "version_major": 2,
              "version_minor": 0
            },
            "text/plain": [
              "Shuffling /root/tensorflow_datasets/food101/2.0.0.incompleteM8UC2I/food101-train.tfrecord*...:   0%|          …"
            ]
          },
          "metadata": {},
          "output_type": "display_data"
        },
        {
          "data": {
            "application/vnd.jupyter.widget-view+json": {
              "model_id": "b44d46aac7a54493a7291fcd51560a5b",
              "version_major": 2,
              "version_minor": 0
            },
            "text/plain": [
              "Generating validation examples...:   0%|          | 0/25250 [00:00<?, ? examples/s]"
            ]
          },
          "metadata": {},
          "output_type": "display_data"
        },
        {
          "data": {
            "application/vnd.jupyter.widget-view+json": {
              "model_id": "50de01ce557349fd911279bcdc3117bd",
              "version_major": 2,
              "version_minor": 0
            },
            "text/plain": [
              "Shuffling /root/tensorflow_datasets/food101/2.0.0.incompleteM8UC2I/food101-validation.tfrecord*...:   0%|     …"
            ]
          },
          "metadata": {},
          "output_type": "display_data"
        },
        {
          "name": "stdout",
          "output_type": "stream",
          "text": [
            "Dataset food101 downloaded and prepared to /root/tensorflow_datasets/food101/2.0.0. Subsequent calls will reuse this data.\n"
          ]
        }
      ],
      "source": [
        "#Load in the data\n",
        "(train_data, test_data), ds_info = tfds.load(name=\"food101\",\n",
        "                                             split=[\"train\",\"validation\"],\n",
        "                                             shuffle_files=True,\n",
        "                                             as_supervised=True, #Data gets terutned in tuple format (data,label)\n",
        "                                             with_info=True) #Meta-data info"
      ]
    },
    {
      "cell_type": "code",
      "execution_count": null,
      "metadata": {
        "colab": {
          "base_uri": "https://localhost:8080/"
        },
        "id": "myTk-6xRyJ_E",
        "outputId": "f2d336c4-5015-42c9-c170-109905705243"
      },
      "outputs": [
        {
          "data": {
            "text/plain": [
              "FeaturesDict({\n",
              "    'image': Image(shape=(None, None, 3), dtype=uint8),\n",
              "    'label': ClassLabel(shape=(), dtype=int64, num_classes=101),\n",
              "})"
            ]
          },
          "execution_count": 10,
          "metadata": {},
          "output_type": "execute_result"
        }
      ],
      "source": [
        "ds_info.features"
      ]
    },
    {
      "cell_type": "code",
      "execution_count": null,
      "metadata": {
        "colab": {
          "base_uri": "https://localhost:8080/"
        },
        "id": "zDI-5tphyNDs",
        "outputId": "b2b88bdc-519f-4d48-97a0-180f5af6b0cd"
      },
      "outputs": [
        {
          "data": {
            "text/plain": [
              "['apple_pie',\n",
              " 'baby_back_ribs',\n",
              " 'baklava',\n",
              " 'beef_carpaccio',\n",
              " 'beef_tartare',\n",
              " 'beet_salad',\n",
              " 'beignets',\n",
              " 'bibimbap',\n",
              " 'bread_pudding',\n",
              " 'breakfast_burrito']"
            ]
          },
          "execution_count": 11,
          "metadata": {},
          "output_type": "execute_result"
        }
      ],
      "source": [
        "class_names = ds_info.features[\"label\"].names\n",
        "class_names[:10]"
      ]
    },
    {
      "cell_type": "code",
      "execution_count": null,
      "metadata": {
        "colab": {
          "base_uri": "https://localhost:8080/"
        },
        "id": "cbZ3bZwkyTQi",
        "outputId": "a3a48dcc-611a-40ca-da36-b24e99b95655"
      },
      "outputs": [
        {
          "data": {
            "text/plain": [
              "<TakeDataset element_spec=(TensorSpec(shape=(None, None, 3), dtype=tf.uint8, name=None), TensorSpec(shape=(), dtype=tf.int64, name=None))>"
            ]
          },
          "execution_count": 12,
          "metadata": {},
          "output_type": "execute_result"
        }
      ],
      "source": [
        "#Take one sample of train_data\n",
        "train_one_sample = train_data.take(1) # Foremat (image tensor, label)\n",
        "train_one_sample"
      ]
    },
    {
      "cell_type": "code",
      "execution_count": null,
      "metadata": {
        "colab": {
          "base_uri": "https://localhost:8080/"
        },
        "id": "ukUVCc_MyVTD",
        "outputId": "f16c12ad-c899-4664-f3b8-8941290a8b0a"
      },
      "outputs": [
        {
          "name": "stdout",
          "output_type": "stream",
          "text": [
            "Image shape: (512, 512, 3), \n",
            "Image dtype: <dtype: 'uint8'>,\n",
            " Target class from food (tensor form): 81, \n",
            "Class name ramen\n"
          ]
        }
      ],
      "source": [
        "for image, label in train_one_sample:\n",
        "    print(f\"Image shape: {image.shape}, \\nImage dtype: {image.dtype},\\n Target class from food (tensor form): {label}, \\nClass name {class_names[label.numpy()]}\")"
      ]
    },
    {
      "cell_type": "code",
      "execution_count": null,
      "metadata": {
        "colab": {
          "base_uri": "https://localhost:8080/"
        },
        "id": "Ucf2o6AnydaR",
        "outputId": "2f98c429-9288-4943-a2d1-ee412bae110b"
      },
      "outputs": [
        {
          "data": {
            "text/plain": [
              "(<tf.Tensor: shape=(512, 512, 3), dtype=uint8, numpy=\n",
              " array([[[242, 254, 252],\n",
              "         [241, 253, 251],\n",
              "         [240, 252, 250],\n",
              "         ...,\n",
              "         [241, 211, 101],\n",
              "         [242, 212, 102],\n",
              "         [245, 215, 105]],\n",
              " \n",
              "        [[240, 252, 250],\n",
              "         [240, 252, 250],\n",
              "         [239, 251, 249],\n",
              "         ...,\n",
              "         [245, 215, 105],\n",
              "         [242, 212, 102],\n",
              "         [240, 210, 100]],\n",
              " \n",
              "        [[238, 250, 248],\n",
              "         [238, 250, 248],\n",
              "         [238, 250, 248],\n",
              "         ...,\n",
              "         [250, 218, 107],\n",
              "         [243, 211, 100],\n",
              "         [238, 206,  95]],\n",
              " \n",
              "        ...,\n",
              " \n",
              "        [[ 82,  81,  77],\n",
              "         [ 83,  82,  78],\n",
              "         [ 82,  81,  77],\n",
              "         ...,\n",
              "         [126, 128, 127],\n",
              "         [135, 137, 136],\n",
              "         [139, 141, 140]],\n",
              " \n",
              "        [[ 82,  79,  74],\n",
              "         [ 82,  79,  74],\n",
              "         [ 81,  78,  73],\n",
              "         ...,\n",
              "         [209, 209, 209],\n",
              "         [217, 217, 217],\n",
              "         [215, 215, 215]],\n",
              " \n",
              "        [[ 78,  75,  70],\n",
              "         [ 77,  74,  69],\n",
              "         [ 76,  73,  68],\n",
              "         ...,\n",
              "         [187, 187, 187],\n",
              "         [160, 160, 160],\n",
              "         [133, 133, 133]]], dtype=uint8)>,\n",
              " <tf.Tensor: shape=(), dtype=uint8, numpy=0>,\n",
              " <tf.Tensor: shape=(), dtype=uint8, numpy=255>)"
            ]
          },
          "execution_count": 14,
          "metadata": {},
          "output_type": "execute_result"
        }
      ],
      "source": [
        "import tensorflow as tf\n",
        "#As it can be seen, labels are not onehot encoded\n",
        "#Check how image look like\n",
        "image, tf.reduce_min(image), tf.reduce_max(image)"
      ]
    },
    {
      "cell_type": "code",
      "execution_count": null,
      "metadata": {
        "colab": {
          "base_uri": "https://localhost:8080/",
          "height": 264
        },
        "id": "lzGop-GAyfh2",
        "outputId": "13105dde-2b99-4146-ae7a-2830eeda6179"
      },
      "outputs": [
        {
          "data": {
            "image/png": "[encoded data removed]",
            "text/plain": [
              "<Figure size 432x288 with 1 Axes>"
            ]
          },
          "metadata": {},
          "output_type": "display_data"
        }
      ],
      "source": [
        "#Plot image\n",
        "import matplotlib.pyplot as plt\n",
        "plt.imshow(image)\n",
        "plt.title(class_names[label.numpy()])\n",
        "plt.axis(False);"
      ]
    },
    {
      "cell_type": "markdown",
      "metadata": {
        "id": "fSuJU8jYy1cQ"
      },
      "source": [
        "**PREPROCESS DATA TO MODELS TRAINING**\n",
        "- Good shape\n",
        "- Normalize -> between (0-1) generally performs better\n",
        "- Data type -> models like float32 and with mixed precision float16/float32\n",
        "- batches? -> Like all of the tensord within a batfch be the same size\n",
        "\n",
        "**NOW DATA IS**\n",
        "- In uint8 datatype\n",
        "- With different size tensors\n",
        "- Is not scaled              \n"
      ]
    },
    {
      "cell_type": "code",
      "execution_count": null,
      "metadata": {
        "id": "FYqhogyUy7ye"
      },
      "outputs": [],
      "source": [
        "#EfficientNetBx will be used, which has scaling built in, so rescaling is not needed in this case\n",
        "\n",
        "#1. Reshape to same size\n",
        "#2. Convert the dtype of images to float32"
      ]
    },
    {
      "cell_type": "code",
      "execution_count": null,
      "metadata": {
        "id": "mTrQL9PVzFw3"
      },
      "outputs": [],
      "source": [
        "#Function to preprocess img\n",
        "def preprocess_img(image,label,img_shape=224):\n",
        "    '''\n",
        "    Convert image datatype to float32 and reshapes\n",
        "    image to  [img_shape,img_shape,color_channels]\n",
        "    '''\n",
        "    \n",
        "    img=tf.image.resize(image,[img_shape,img_shape])\n",
        "    return tf.cast(img, tf.float32), label # return (float32_image,label)"
      ]
    },
    {
      "cell_type": "code",
      "execution_count": null,
      "metadata": {
        "colab": {
          "base_uri": "https://localhost:8080/"
        },
        "id": "r0ecvAvSzIJt",
        "outputId": "7aad9473-62c4-452a-e9ab-049c3629d9c3"
      },
      "outputs": [
        {
          "name": "stdout",
          "output_type": "stream",
          "text": [
            "Image before prep:\n",
            " [[[242 254 252]\n",
            "  [241 253 251]\n",
            "  [240 252 250]\n",
            "  ...\n",
            "  [241 211 101]\n",
            "  [242 212 102]\n",
            "  [245 215 105]]\n",
            "\n",
            " [[240 252 250]\n",
            "  [240 252 250]\n",
            "  [239 251 249]\n",
            "  ...\n",
            "  [245 215 105]\n",
            "  [242 212 102]\n",
            "  [240 210 100]]]... \n",
            "Shape: (512, 512, 3)\n",
            "Datatype: <dtype: 'uint8'>\n",
            " Prep image:\n",
            "[[[240.4847  252.4847  250.4847 ]\n",
            "  [238.42857 250.42857 248.42857]\n",
            "  [238.29082 249.86224 248.07652]\n",
            "  ...\n",
            "  [251.4235  219.20923 107.78071]\n",
            "  [246.3571  216.3571  106.3571 ]\n",
            "  [241.92346 211.92346 101.92346]]\n",
            "\n",
            " [[237.07143 249.07143 247.07143]\n",
            "  [238.      250.      248.     ]\n",
            "  [240.14285 250.14285 249.14285]\n",
            "  ...\n",
            "  [248.22957 215.28569 101.85716]\n",
            "  [250.99489 218.99489 106.27042]\n",
            "  [243.07126 211.07126 100.07126]]]...\n",
            "Shape: (224, 224, 3)\n",
            "Datatype:<dtype: 'float32'>\n"
          ]
        }
      ],
      "source": [
        "#preprocess single sample to check \n",
        "preprocessed_image = preprocess_img(image,label)[0]\n",
        "print(f\"Image before prep:\\n {image[:2]}... \\nShape: {image.shape}\\nDatatype: {image.dtype}\\n Prep image:\\n{preprocessed_image[:2]}...\\nShape: {preprocessed_image.shape}\\nDatatype:{preprocessed_image.dtype}\")"
      ]
    },
    {
      "cell_type": "markdown",
      "metadata": {
        "id": "ATrR47GN1Znb"
      },
      "source": [
        "**Batch and prepare datasets**\n",
        "- input pipelines\n",
        "\n",
        "Map preprocessing function to training (and parallelize)"
      ]
    },
    {
      "cell_type": "code",
      "execution_count": null,
      "metadata": {
        "id": "s0OY9sxr1dfO"
      },
      "outputs": [],
      "source": [
        "#Mapping\n",
        "train_data = train_data.map(map_func=preprocess_img, num_parallel_calls=tf.data.AUTOTUNE)#PO to, żeby możliwie jak największą\n",
        "                                                                                         #liczbe chipów CPU wykorzysytwał równolegle\n",
        "                                                                                         #Po defaultowo tylko 1 i wolniej\n",
        "#Shuffle train_data and turn it into batches and prefetch it (load faster)\n",
        "train_data = train_data.shuffle(buffer_size=1000).batch(batch_size=32).prefetch(buffer_size=tf.data.AUTOTUNE) \n",
        "#shuffle(buffer_size Parameter say how many elements to shuffle in one moment, pamięć RAM może ograniczać ilość, stad nie całość na raz\n",
        "\n",
        "#Map preprocessing function to test data\n",
        "test_data = test_data.map(map_func=preprocess_img, num_parallel_calls=tf.data.AUTOTUNE).batch(batch_size=32).prefetch(tf.data.AUTOTUNE)\n",
        "#prefetch - while program find patterns in one batch, during that time get another batch ready - pobierać wstępnie\n",
        "#.catch() - zapisuje co sie dzieje w pamięci RAM, żeby pamietało, ale zapycha to RAM więc zależy"
      ]
    },
    {
      "cell_type": "code",
      "execution_count": null,
      "metadata": {
        "colab": {
          "base_uri": "https://localhost:8080/"
        },
        "id": "LaEjK9N31f33",
        "outputId": "ab76acb0-e09e-41d3-af97-0bd3eead8a38"
      },
      "outputs": [
        {
          "data": {
            "text/plain": [
              "(<PrefetchDataset element_spec=(TensorSpec(shape=(None, 224, 224, 3), dtype=tf.float32, name=None), TensorSpec(shape=(None,), dtype=tf.int64, name=None))>,\n",
              " <PrefetchDataset element_spec=(TensorSpec(shape=(None, 224, 224, 3), dtype=tf.float32, name=None), TensorSpec(shape=(None,), dtype=tf.int64, name=None))>)"
            ]
          },
          "execution_count": 20,
          "metadata": {},
          "output_type": "execute_result"
        }
      ],
      "source": [
        "train_data,test_data"
      ]
    },
    {
      "cell_type": "markdown",
      "metadata": {
        "id": "BUK216_d1zW6"
      },
      "source": [
        "Creating model callback"
      ]
    },
    {
      "cell_type": "code",
      "execution_count": null,
      "metadata": {
        "colab": {
          "base_uri": "https://localhost:8080/"
        },
        "id": "mrbgKaW312PF",
        "outputId": "17b56b9d-2454-4a5d-9d2e-3a2093d09526"
      },
      "outputs": [
        {
          "name": "stdout",
          "output_type": "stream",
          "text": [
            "Saving TensorBoard log files to: C:/Users/barto/OneDrive/Pulpit/DL_TF/t_board_food_app/Vision_App/20230217-105220\n"
          ]
        }
      ],
      "source": [
        "tensorboard_callback = hp.create_tensorboard_callback(dir_name=\"C:/Users/barto/OneDrive/Pulpit/DL_TF/t_board_food_app\",\n",
        "                               experiment_name=\"Vision_App\")\n",
        "\n",
        "checkpoint_path = \"C:/Users/barto/OneDrive/Pulpit/DL_TF/foodapp.ckpt\"\n",
        "model_checkpoint = tf.keras.callbacks.ModelCheckpoint(checkpoint_path,\n",
        "                                                      monitor=\"val_acc\",\n",
        "                                                      save_best_only=True,\n",
        "                                                      save_weights_only=True,\n",
        "                                                      verbose=0)"
      ]
    },
    {
      "cell_type": "markdown",
      "metadata": {
        "id": "7CEansaC13zm"
      },
      "source": [
        "**MIXED PRECISION TRAINING**"
      ]
    },
    {
      "cell_type": "code",
      "execution_count": null,
      "metadata": {
        "colab": {
          "base_uri": "https://localhost:8080/"
        },
        "id": "1XxQl2xO18Xp",
        "outputId": "a9881f88-5b27-4839-86e6-19e86a05efaf"
      },
      "outputs": [
        {
          "name": "stderr",
          "output_type": "stream",
          "text": [
            "WARNING:tensorflow:Mixed precision compatibility check (mixed_float16): WARNING\n",
            "The dtype policy mixed_float16 may run slowly because this machine does not have a GPU. Only Nvidia GPUs with compute capability of at least 7.0 run quickly with mixed_float16.\n",
            "If you will use compatible GPU(s) not attached to this host, e.g. by running a multi-worker model, you can ignore this warning. This message will only be logged once\n"
          ]
        },
        {
          "data": {
            "text/plain": [
              "<Policy \"mixed_float16\">"
            ]
          },
          "execution_count": 22,
          "metadata": {},
          "output_type": "execute_result"
        }
      ],
      "source": [
        "#Turn on mixed precision training\n",
        "from tensorflow.keras import mixed_precision\n",
        "mixed_precision.set_global_policy(\"mixed_float16\")#Set global data policy to mixed precision\n",
        "#For any part of tensorflow models learning if possible it combinates float32 with float16 to speed up model performance\n",
        "mixed_precision.global_policy()"
      ]
    },
    {
      "cell_type": "markdown",
      "metadata": {
        "id": "c4IGPrVY18yN"
      },
      "source": [
        "**BUILDING FEATURE EXTRACTION MODEL**"
      ]
    },
    {
      "cell_type": "code",
      "execution_count": null,
      "metadata": {
        "id": "v7a4AMrf2WuA"
      },
      "outputs": [],
      "source": [
        "from tensorflow.keras.layers.experimental import preprocessing\n",
        "augmentation_layer = tf.keras.Sequential([\n",
        "    preprocessing.RandomRotation(0.2),\n",
        "    preprocessing.RandomFlip(),\n",
        "    preprocessing.RandomZoom(0.2),\n",
        "    preprocessing.RandomHeight(0.2)\n",
        "],name=\"Augmentation_Layer\")"
      ]
    },
    {
      "cell_type": "code",
      "execution_count": null,
      "metadata": {
        "colab": {
          "base_uri": "https://localhost:8080/"
        },
        "id": "ru6Jg3072XAz",
        "outputId": "26015e86-4717-4a07-e457-fb69de8e1aea"
      },
      "outputs": [
        {
          "name": "stdout",
          "output_type": "stream",
          "text": [
            "Downloading data from https://storage.googleapis.com/keras-applications/efficientnetb0_notop.h5\n",
            "16705208/16705208 [==============================] - 1s 0us/step\n"
          ]
        }
      ],
      "source": [
        "base_model = tf.keras.applications.EfficientNetB0(include_top=False)\n",
        "base_model.trainable = False\n",
        "\n",
        "inputs = tf.keras.layers.Input(shape=(224,224,3),name=\"Input_Layer\")\n",
        "\n",
        "#If  scaling woulkd be needed then\n",
        "#x= preprocessing.Rescaling(1/255.)(X) or in augmentation layer \n",
        "\n",
        "#x = augmentation_layer(inputs)\n",
        "x = base_model(inputs,training=False)\n",
        "x = tf.keras.layers.GlobalAveragePooling2D(name=\"Polling\")(x)\n",
        "x = tf.keras.layers.Dense(101)(x)\n",
        "outputs = tf.keras.layers.Activation(\"softmax\",dtype=tf.float32,name=\"softmax_float32\")(x)\n",
        "\n",
        "model = tf.keras.Model(inputs,outputs)\n",
        "\n",
        "#Compile the model\n",
        "model.compile(loss=\"sparse_categorical_crossentropy\", # Because this time labeles are not onehot encoded\n",
        "              optimizer=tf.keras.optimizers.Adam(),\n",
        "              metrics=[\"accuracy\"])"
      ]
    },
    {
      "cell_type": "code",
      "execution_count": null,
      "metadata": {
        "colab": {
          "base_uri": "https://localhost:8080/"
        },
        "id": "KGamOs6I2Za-",
        "outputId": "8ae503dd-6dc5-4807-d9f0-306f36b821dd"
      },
      "outputs": [
        {
          "name": "stdout",
          "output_type": "stream",
          "text": [
            "Model: \"model\"\n",
            "_________________________________________________________________\n",
            " Layer (type)                Output Shape              Param #   \n",
            "=================================================================\n",
            " Input_Layer (InputLayer)    [(None, 224, 224, 3)]     0         \n",
            "                                                                 \n",
            " efficientnetb0 (Functional)  (None, None, None, 1280)  4049571  \n",
            "                                                                 \n",
            " Polling (GlobalAveragePooli  (None, 1280)             0         \n",
            " ng2D)                                                           \n",
            "                                                                 \n",
            " dense (Dense)               (None, 101)               129381    \n",
            "                                                                 \n",
            " softmax_float32 (Activation  (None, 101)              0         \n",
            " )                                                               \n",
            "                                                                 \n",
            "=================================================================\n",
            "Total params: 4,178,952\n",
            "Trainable params: 129,381\n",
            "Non-trainable params: 4,049,571\n",
            "_________________________________________________________________\n"
          ]
        }
      ],
      "source": [
        "model.summary()"
      ]
    },
    {
      "cell_type": "code",
      "execution_count": null,
      "metadata": {
        "colab": {
          "base_uri": "https://localhost:8080/"
        },
        "id": "MPkkpJPy2zho",
        "outputId": "a64f5877-845e-4b38-9d67-2a5f343b8297"
      },
      "outputs": [
        {
          "name": "stdout",
          "output_type": "stream",
          "text": [
            "input_1 float32 <Policy \"float32\">\n",
            "rescaling float32 <Policy \"mixed_float16\">\n",
            "normalization float32 <Policy \"mixed_float16\">\n",
            "rescaling_1 float32 <Policy \"mixed_float16\">\n",
            "stem_conv_pad float32 <Policy \"mixed_float16\">\n",
            "stem_conv float32 <Policy \"mixed_float16\">\n",
            "stem_bn float32 <Policy \"mixed_float16\">\n",
            "stem_activation float32 <Policy \"mixed_float16\">\n",
            "block1a_dwconv float32 <Policy \"mixed_float16\">\n",
            "block1a_bn float32 <Policy \"mixed_float16\">\n",
            "block1a_activation float32 <Policy \"mixed_float16\">\n",
            "block1a_se_squeeze float32 <Policy \"mixed_float16\">\n",
            "block1a_se_reshape float32 <Policy \"mixed_float16\">\n",
            "block1a_se_reduce float32 <Policy \"mixed_float16\">\n",
            "block1a_se_expand float32 <Policy \"mixed_float16\">\n",
            "block1a_se_excite float32 <Policy \"mixed_float16\">\n",
            "block1a_project_conv float32 <Policy \"mixed_float16\">\n",
            "block1a_project_bn float32 <Policy \"mixed_float16\">\n",
            "block2a_expand_conv float32 <Policy \"mixed_float16\">\n",
            "block2a_expand_bn float32 <Policy \"mixed_float16\">\n",
            "block2a_expand_activation float32 <Policy \"mixed_float16\">\n",
            "block2a_dwconv_pad float32 <Policy \"mixed_float16\">\n",
            "block2a_dwconv float32 <Policy \"mixed_float16\">\n",
            "block2a_bn float32 <Policy \"mixed_float16\">\n",
            "block2a_activation float32 <Policy \"mixed_float16\">\n",
            "block2a_se_squeeze float32 <Policy \"mixed_float16\">\n",
            "block2a_se_reshape float32 <Policy \"mixed_float16\">\n",
            "block2a_se_reduce float32 <Policy \"mixed_float16\">\n",
            "block2a_se_expand float32 <Policy \"mixed_float16\">\n",
            "block2a_se_excite float32 <Policy \"mixed_float16\">\n",
            "block2a_project_conv float32 <Policy \"mixed_float16\">\n",
            "block2a_project_bn float32 <Policy \"mixed_float16\">\n",
            "block2b_expand_conv float32 <Policy \"mixed_float16\">\n",
            "block2b_expand_bn float32 <Policy \"mixed_float16\">\n",
            "block2b_expand_activation float32 <Policy \"mixed_float16\">\n",
            "block2b_dwconv float32 <Policy \"mixed_float16\">\n",
            "block2b_bn float32 <Policy \"mixed_float16\">\n",
            "block2b_activation float32 <Policy \"mixed_float16\">\n",
            "block2b_se_squeeze float32 <Policy \"mixed_float16\">\n",
            "block2b_se_reshape float32 <Policy \"mixed_float16\">\n",
            "block2b_se_reduce float32 <Policy \"mixed_float16\">\n",
            "block2b_se_expand float32 <Policy \"mixed_float16\">\n",
            "block2b_se_excite float32 <Policy \"mixed_float16\">\n",
            "block2b_project_conv float32 <Policy \"mixed_float16\">\n",
            "block2b_project_bn float32 <Policy \"mixed_float16\">\n",
            "block2b_drop float32 <Policy \"mixed_float16\">\n",
            "block2b_add float32 <Policy \"mixed_float16\">\n",
            "block3a_expand_conv float32 <Policy \"mixed_float16\">\n",
            "block3a_expand_bn float32 <Policy \"mixed_float16\">\n",
            "block3a_expand_activation float32 <Policy \"mixed_float16\">\n",
            "block3a_dwconv_pad float32 <Policy \"mixed_float16\">\n",
            "block3a_dwconv float32 <Policy \"mixed_float16\">\n",
            "block3a_bn float32 <Policy \"mixed_float16\">\n",
            "block3a_activation float32 <Policy \"mixed_float16\">\n",
            "block3a_se_squeeze float32 <Policy \"mixed_float16\">\n",
            "block3a_se_reshape float32 <Policy \"mixed_float16\">\n",
            "block3a_se_reduce float32 <Policy \"mixed_float16\">\n",
            "block3a_se_expand float32 <Policy \"mixed_float16\">\n",
            "block3a_se_excite float32 <Policy \"mixed_float16\">\n",
            "block3a_project_conv float32 <Policy \"mixed_float16\">\n",
            "block3a_project_bn float32 <Policy \"mixed_float16\">\n",
            "block3b_expand_conv float32 <Policy \"mixed_float16\">\n",
            "block3b_expand_bn float32 <Policy \"mixed_float16\">\n",
            "block3b_expand_activation float32 <Policy \"mixed_float16\">\n",
            "block3b_dwconv float32 <Policy \"mixed_float16\">\n",
            "block3b_bn float32 <Policy \"mixed_float16\">\n",
            "block3b_activation float32 <Policy \"mixed_float16\">\n",
            "block3b_se_squeeze float32 <Policy \"mixed_float16\">\n",
            "block3b_se_reshape float32 <Policy \"mixed_float16\">\n",
            "block3b_se_reduce float32 <Policy \"mixed_float16\">\n",
            "block3b_se_expand float32 <Policy \"mixed_float16\">\n",
            "block3b_se_excite float32 <Policy \"mixed_float16\">\n",
            "block3b_project_conv float32 <Policy \"mixed_float16\">\n",
            "block3b_project_bn float32 <Policy \"mixed_float16\">\n",
            "block3b_drop float32 <Policy \"mixed_float16\">\n",
            "block3b_add float32 <Policy \"mixed_float16\">\n",
            "block4a_expand_conv float32 <Policy \"mixed_float16\">\n",
            "block4a_expand_bn float32 <Policy \"mixed_float16\">\n",
            "block4a_expand_activation float32 <Policy \"mixed_float16\">\n",
            "block4a_dwconv_pad float32 <Policy \"mixed_float16\">\n",
            "block4a_dwconv float32 <Policy \"mixed_float16\">\n",
            "block4a_bn float32 <Policy \"mixed_float16\">\n",
            "block4a_activation float32 <Policy \"mixed_float16\">\n",
            "block4a_se_squeeze float32 <Policy \"mixed_float16\">\n",
            "block4a_se_reshape float32 <Policy \"mixed_float16\">\n",
            "block4a_se_reduce float32 <Policy \"mixed_float16\">\n",
            "block4a_se_expand float32 <Policy \"mixed_float16\">\n",
            "block4a_se_excite float32 <Policy \"mixed_float16\">\n",
            "block4a_project_conv float32 <Policy \"mixed_float16\">\n",
            "block4a_project_bn float32 <Policy \"mixed_float16\">\n",
            "block4b_expand_conv float32 <Policy \"mixed_float16\">\n",
            "block4b_expand_bn float32 <Policy \"mixed_float16\">\n",
            "block4b_expand_activation float32 <Policy \"mixed_float16\">\n",
            "block4b_dwconv float32 <Policy \"mixed_float16\">\n",
            "block4b_bn float32 <Policy \"mixed_float16\">\n",
            "block4b_activation float32 <Policy \"mixed_float16\">\n",
            "block4b_se_squeeze float32 <Policy \"mixed_float16\">\n",
            "block4b_se_reshape float32 <Policy \"mixed_float16\">\n",
            "block4b_se_reduce float32 <Policy \"mixed_float16\">\n",
            "block4b_se_expand float32 <Policy \"mixed_float16\">\n",
            "block4b_se_excite float32 <Policy \"mixed_float16\">\n",
            "block4b_project_conv float32 <Policy \"mixed_float16\">\n",
            "block4b_project_bn float32 <Policy \"mixed_float16\">\n",
            "block4b_drop float32 <Policy \"mixed_float16\">\n",
            "block4b_add float32 <Policy \"mixed_float16\">\n",
            "block4c_expand_conv float32 <Policy \"mixed_float16\">\n",
            "block4c_expand_bn float32 <Policy \"mixed_float16\">\n",
            "block4c_expand_activation float32 <Policy \"mixed_float16\">\n",
            "block4c_dwconv float32 <Policy \"mixed_float16\">\n",
            "block4c_bn float32 <Policy \"mixed_float16\">\n",
            "block4c_activation float32 <Policy \"mixed_float16\">\n",
            "block4c_se_squeeze float32 <Policy \"mixed_float16\">\n",
            "block4c_se_reshape float32 <Policy \"mixed_float16\">\n",
            "block4c_se_reduce float32 <Policy \"mixed_float16\">\n",
            "block4c_se_expand float32 <Policy \"mixed_float16\">\n",
            "block4c_se_excite float32 <Policy \"mixed_float16\">\n",
            "block4c_project_conv float32 <Policy \"mixed_float16\">\n",
            "block4c_project_bn float32 <Policy \"mixed_float16\">\n",
            "block4c_drop float32 <Policy \"mixed_float16\">\n",
            "block4c_add float32 <Policy \"mixed_float16\">\n",
            "block5a_expand_conv float32 <Policy \"mixed_float16\">\n",
            "block5a_expand_bn float32 <Policy \"mixed_float16\">\n",
            "block5a_expand_activation float32 <Policy \"mixed_float16\">\n",
            "block5a_dwconv float32 <Policy \"mixed_float16\">\n",
            "block5a_bn float32 <Policy \"mixed_float16\">\n",
            "block5a_activation float32 <Policy \"mixed_float16\">\n",
            "block5a_se_squeeze float32 <Policy \"mixed_float16\">\n",
            "block5a_se_reshape float32 <Policy \"mixed_float16\">\n",
            "block5a_se_reduce float32 <Policy \"mixed_float16\">\n",
            "block5a_se_expand float32 <Policy \"mixed_float16\">\n",
            "block5a_se_excite float32 <Policy \"mixed_float16\">\n",
            "block5a_project_conv float32 <Policy \"mixed_float16\">\n",
            "block5a_project_bn float32 <Policy \"mixed_float16\">\n",
            "block5b_expand_conv float32 <Policy \"mixed_float16\">\n",
            "block5b_expand_bn float32 <Policy \"mixed_float16\">\n",
            "block5b_expand_activation float32 <Policy \"mixed_float16\">\n",
            "block5b_dwconv float32 <Policy \"mixed_float16\">\n",
            "block5b_bn float32 <Policy \"mixed_float16\">\n",
            "block5b_activation float32 <Policy \"mixed_float16\">\n",
            "block5b_se_squeeze float32 <Policy \"mixed_float16\">\n",
            "block5b_se_reshape float32 <Policy \"mixed_float16\">\n",
            "block5b_se_reduce float32 <Policy \"mixed_float16\">\n",
            "block5b_se_expand float32 <Policy \"mixed_float16\">\n",
            "block5b_se_excite float32 <Policy \"mixed_float16\">\n",
            "block5b_project_conv float32 <Policy \"mixed_float16\">\n",
            "block5b_project_bn float32 <Policy \"mixed_float16\">\n",
            "block5b_drop float32 <Policy \"mixed_float16\">\n",
            "block5b_add float32 <Policy \"mixed_float16\">\n",
            "block5c_expand_conv float32 <Policy \"mixed_float16\">\n",
            "block5c_expand_bn float32 <Policy \"mixed_float16\">\n",
            "block5c_expand_activation float32 <Policy \"mixed_float16\">\n",
            "block5c_dwconv float32 <Policy \"mixed_float16\">\n",
            "block5c_bn float32 <Policy \"mixed_float16\">\n",
            "block5c_activation float32 <Policy \"mixed_float16\">\n",
            "block5c_se_squeeze float32 <Policy \"mixed_float16\">\n",
            "block5c_se_reshape float32 <Policy \"mixed_float16\">\n",
            "block5c_se_reduce float32 <Policy \"mixed_float16\">\n",
            "block5c_se_expand float32 <Policy \"mixed_float16\">\n",
            "block5c_se_excite float32 <Policy \"mixed_float16\">\n",
            "block5c_project_conv float32 <Policy \"mixed_float16\">\n",
            "block5c_project_bn float32 <Policy \"mixed_float16\">\n",
            "block5c_drop float32 <Policy \"mixed_float16\">\n",
            "block5c_add float32 <Policy \"mixed_float16\">\n",
            "block6a_expand_conv float32 <Policy \"mixed_float16\">\n",
            "block6a_expand_bn float32 <Policy \"mixed_float16\">\n",
            "block6a_expand_activation float32 <Policy \"mixed_float16\">\n",
            "block6a_dwconv_pad float32 <Policy \"mixed_float16\">\n",
            "block6a_dwconv float32 <Policy \"mixed_float16\">\n",
            "block6a_bn float32 <Policy \"mixed_float16\">\n",
            "block6a_activation float32 <Policy \"mixed_float16\">\n",
            "block6a_se_squeeze float32 <Policy \"mixed_float16\">\n",
            "block6a_se_reshape float32 <Policy \"mixed_float16\">\n",
            "block6a_se_reduce float32 <Policy \"mixed_float16\">\n",
            "block6a_se_expand float32 <Policy \"mixed_float16\">\n",
            "block6a_se_excite float32 <Policy \"mixed_float16\">\n",
            "block6a_project_conv float32 <Policy \"mixed_float16\">\n",
            "block6a_project_bn float32 <Policy \"mixed_float16\">\n",
            "block6b_expand_conv float32 <Policy \"mixed_float16\">\n",
            "block6b_expand_bn float32 <Policy \"mixed_float16\">\n",
            "block6b_expand_activation float32 <Policy \"mixed_float16\">\n",
            "block6b_dwconv float32 <Policy \"mixed_float16\">\n",
            "block6b_bn float32 <Policy \"mixed_float16\">\n",
            "block6b_activation float32 <Policy \"mixed_float16\">\n",
            "block6b_se_squeeze float32 <Policy \"mixed_float16\">\n",
            "block6b_se_reshape float32 <Policy \"mixed_float16\">\n",
            "block6b_se_reduce float32 <Policy \"mixed_float16\">\n",
            "block6b_se_expand float32 <Policy \"mixed_float16\">\n",
            "block6b_se_excite float32 <Policy \"mixed_float16\">\n",
            "block6b_project_conv float32 <Policy \"mixed_float16\">\n",
            "block6b_project_bn float32 <Policy \"mixed_float16\">\n",
            "block6b_drop float32 <Policy \"mixed_float16\">\n",
            "block6b_add float32 <Policy \"mixed_float16\">\n",
            "block6c_expand_conv float32 <Policy \"mixed_float16\">\n",
            "block6c_expand_bn float32 <Policy \"mixed_float16\">\n",
            "block6c_expand_activation float32 <Policy \"mixed_float16\">\n",
            "block6c_dwconv float32 <Policy \"mixed_float16\">\n",
            "block6c_bn float32 <Policy \"mixed_float16\">\n",
            "block6c_activation float32 <Policy \"mixed_float16\">\n",
            "block6c_se_squeeze float32 <Policy \"mixed_float16\">\n",
            "block6c_se_reshape float32 <Policy \"mixed_float16\">\n",
            "block6c_se_reduce float32 <Policy \"mixed_float16\">\n",
            "block6c_se_expand float32 <Policy \"mixed_float16\">\n",
            "block6c_se_excite float32 <Policy \"mixed_float16\">\n",
            "block6c_project_conv float32 <Policy \"mixed_float16\">\n",
            "block6c_project_bn float32 <Policy \"mixed_float16\">\n",
            "block6c_drop float32 <Policy \"mixed_float16\">\n",
            "block6c_add float32 <Policy \"mixed_float16\">\n",
            "block6d_expand_conv float32 <Policy \"mixed_float16\">\n",
            "block6d_expand_bn float32 <Policy \"mixed_float16\">\n",
            "block6d_expand_activation float32 <Policy \"mixed_float16\">\n",
            "block6d_dwconv float32 <Policy \"mixed_float16\">\n",
            "block6d_bn float32 <Policy \"mixed_float16\">\n",
            "block6d_activation float32 <Policy \"mixed_float16\">\n",
            "block6d_se_squeeze float32 <Policy \"mixed_float16\">\n",
            "block6d_se_reshape float32 <Policy \"mixed_float16\">\n",
            "block6d_se_reduce float32 <Policy \"mixed_float16\">\n",
            "block6d_se_expand float32 <Policy \"mixed_float16\">\n",
            "block6d_se_excite float32 <Policy \"mixed_float16\">\n",
            "block6d_project_conv float32 <Policy \"mixed_float16\">\n",
            "block6d_project_bn float32 <Policy \"mixed_float16\">\n",
            "block6d_drop float32 <Policy \"mixed_float16\">\n",
            "block6d_add float32 <Policy \"mixed_float16\">\n",
            "block7a_expand_conv float32 <Policy \"mixed_float16\">\n",
            "block7a_expand_bn float32 <Policy \"mixed_float16\">\n",
            "block7a_expand_activation float32 <Policy \"mixed_float16\">\n",
            "block7a_dwconv float32 <Policy \"mixed_float16\">\n",
            "block7a_bn float32 <Policy \"mixed_float16\">\n",
            "block7a_activation float32 <Policy \"mixed_float16\">\n",
            "block7a_se_squeeze float32 <Policy \"mixed_float16\">\n",
            "block7a_se_reshape float32 <Policy \"mixed_float16\">\n",
            "block7a_se_reduce float32 <Policy \"mixed_float16\">\n",
            "block7a_se_expand float32 <Policy \"mixed_float16\">\n",
            "block7a_se_excite float32 <Policy \"mixed_float16\">\n",
            "block7a_project_conv float32 <Policy \"mixed_float16\">\n",
            "block7a_project_bn float32 <Policy \"mixed_float16\">\n",
            "top_conv float32 <Policy \"mixed_float16\">\n",
            "top_bn float32 <Policy \"mixed_float16\">\n",
            "top_activation float32 <Policy \"mixed_float16\">\n"
          ]
        }
      ],
      "source": [
        "#Check dtype of base model\n",
        "for layer in base_model.layers:\n",
        "    print(layer.name,layer.dtype, layer.dtype_policy)"
      ]
    },
    {
      "cell_type": "markdown",
      "metadata": {
        "id": "oBFNanQw25S1"
      },
      "source": [
        "**FIT THE MODEL**\n",
        "1. Feature extraction\n",
        "2. Fine tuning"
      ]
    },
    {
      "cell_type": "code",
      "execution_count": null,
      "metadata": {
        "colab": {
          "background_save": true,
          "base_uri": "https://localhost:8080/"
        },
        "id": "ZD30aNHe29_9",
        "outputId": "adca88fb-1f5e-4030-eaa0-62642aed66a6"
      },
      "outputs": [
        {
          "name": "stderr",
          "output_type": "stream",
          "text": [
            "WARNING:tensorflow:Model failed to serialize as JSON. Ignoring... Unable to serialize [2.0896919 2.1128857 2.1081853] to JSON. Unrecognized type <class 'tensorflow.python.framework.ops.EagerTensor'>.\n"
          ]
        },
        {
          "name": "stdout",
          "output_type": "stream",
          "text": [
            "Epoch 1/3\n",
            "  52/2368 [..............................] - ETA: 44:06:40 - loss: nan - accuracy: 0.0096"
          ]
        }
      ],
      "source": [
        "#Fitting model\n",
        "history = model.fit(train_data,\n",
        "                    epochs=3,\n",
        "                    steps_per_epoch=len(train_data),\n",
        "                    validation_data=test_data,\n",
        "                    validation_steps=int(0.15*len(test_data)),\n",
        "                    callbacks=[tensorboard_callback,model_checkpoint])"
      ]
    },
    {
      "cell_type": "code",
      "execution_count": null,
      "metadata": {
        "colab": {
          "background_save": true
        },
        "id": "epp4g89Q3BCB"
      },
      "outputs": [],
      "source": [
        "model.evaluate(test_data)"
      ]
    },
    {
      "cell_type": "code",
      "execution_count": null,
      "metadata": {
        "colab": {
          "background_save": true
        },
        "id": "Ucwwwigl5LkZ"
      },
      "outputs": [],
      "source": []
    }
  ],
  "metadata": {
    "accelerator": "GPU",
    "colab": {
      "provenance": [],
      "authorship_tag": "ABX9TyPuVtXayHdIC+IOPT8Wz1EW",
      "include_colab_link": true
    },
    "gpuClass": "standard",
    "kernelspec": {
      "display_name": "Python 3",
      "name": "python3"
    },
    "language_info": {
      "name": "python"
    },
    "widgets": {
      "application/vnd.jupyter.widget-state+json": {
        "0a88b3949c5747d6a5e5c2d9c755b1fd": {
          "model_module": "@jupyter-widgets/controls",
          "model_module_version": "1.5.0",
          "model_name": "HTMLModel",
          "state": {
            "_dom_classes": [],
            "_model_module": "@jupyter-widgets/controls",
            "_model_module_version": "1.5.0",
            "_model_name": "HTMLModel",
            "_view_count": null,
            "_view_module": "@jupyter-widgets/controls",
            "_view_module_version": "1.5.0",
            "_view_name": "HTMLView",
            "description": "",
            "description_tooltip": null,
            "layout": "IPY_MODEL_428e111941cf4003a41bd0e0b06dd4e1",
            "placeholder": "​",
            "style": "IPY_MODEL_465440b3fce9492e996d0d9f53e2e50c",
            "value": " 24760/25250 [00:06&lt;00:00, 3272.12 examples/s]"
          }
        },
        "0ddc9b8c30e145d4a774b291140f2fc6": {
          "model_module": "@jupyter-widgets/controls",
          "model_module_version": "1.5.0",
          "model_name": "HBoxModel",
          "state": {
            "_dom_classes": [],
            "_model_module": "@jupyter-widgets/controls",
            "_model_module_version": "1.5.0",
            "_model_name": "HBoxModel",
            "_view_count": null,
            "_view_module": "@jupyter-widgets/controls",
            "_view_module_version": "1.5.0",
            "_view_name": "HBoxView",
            "box_style": "",
            "children": [
              "IPY_MODEL_c49cf58f733244e688c6f3984e7954e6",
              "IPY_MODEL_b36c7b0b030a4090a517d57746f7af6d",
              "IPY_MODEL_9cb446527d934514b9f50f5ad6b6517a"
            ],
            "layout": "IPY_MODEL_a78e46ce115b405789181ed5ac93620f"
          }
        },
        "0f95773e7ce842d3a3d037f9da98a121": {
          "model_module": "@jupyter-widgets/base",
          "model_module_version": "1.2.0",
          "model_name": "LayoutModel",
          "state": {
            "_model_module": "@jupyter-widgets/base",
            "_model_module_version": "1.2.0",
            "_model_name": "LayoutModel",
            "_view_count": null,
            "_view_module": "@jupyter-widgets/base",
            "_view_module_version": "1.2.0",
            "_view_name": "LayoutView",
            "align_content": null,
            "align_items": null,
            "align_self": null,
            "border": null,
            "bottom": null,
            "display": null,
            "flex": null,
            "flex_flow": null,
            "grid_area": null,
            "grid_auto_columns": null,
            "grid_auto_flow": null,
            "grid_auto_rows": null,
            "grid_column": null,
            "grid_gap": null,
            "grid_row": null,
            "grid_template_areas": null,
            "grid_template_columns": null,
            "grid_template_rows": null,
            "height": null,
            "justify_content": null,
            "justify_items": null,
            "left": null,
            "margin": null,
            "max_height": null,
            "max_width": null,
            "min_height": null,
            "min_width": null,
            "object_fit": null,
            "object_position": null,
            "order": null,
            "overflow": null,
            "overflow_x": null,
            "overflow_y": null,
            "padding": null,
            "right": null,
            "top": null,
            "visibility": null,
            "width": null
          }
        },
        "13e4336626ac473d9b82ae10e917431e": {
          "model_module": "@jupyter-widgets/controls",
          "model_module_version": "1.5.0",
          "model_name": "ProgressStyleModel",
          "state": {
            "_model_module": "@jupyter-widgets/controls",
            "_model_module_version": "1.5.0",
            "_model_name": "ProgressStyleModel",
            "_view_count": null,
            "_view_module": "@jupyter-widgets/base",
            "_view_module_version": "1.2.0",
            "_view_name": "StyleView",
            "bar_color": null,
            "description_width": ""
          }
        },
        "1ac19db91d12434fb15c5edd4f20f525": {
          "model_module": "@jupyter-widgets/base",
          "model_module_version": "1.2.0",
          "model_name": "LayoutModel",
          "state": {
            "_model_module": "@jupyter-widgets/base",
            "_model_module_version": "1.2.0",
            "_model_name": "LayoutModel",
            "_view_count": null,
            "_view_module": "@jupyter-widgets/base",
            "_view_module_version": "1.2.0",
            "_view_name": "LayoutView",
            "align_content": null,
            "align_items": null,
            "align_self": null,
            "border": null,
            "bottom": null,
            "display": null,
            "flex": null,
            "flex_flow": null,
            "grid_area": null,
            "grid_auto_columns": null,
            "grid_auto_flow": null,
            "grid_auto_rows": null,
            "grid_column": null,
            "grid_gap": null,
            "grid_row": null,
            "grid_template_areas": null,
            "grid_template_columns": null,
            "grid_template_rows": null,
            "height": null,
            "justify_content": null,
            "justify_items": null,
            "left": null,
            "margin": null,
            "max_height": null,
            "max_width": null,
            "min_height": null,
            "min_width": null,
            "object_fit": null,
            "object_position": null,
            "order": null,
            "overflow": null,
            "overflow_x": null,
            "overflow_y": null,
            "padding": null,
            "right": null,
            "top": null,
            "visibility": "hidden",
            "width": null
          }
        },
        "1d3e15a1fa2b4daeab31e82e3f9b3cb6": {
          "model_module": "@jupyter-widgets/base",
          "model_module_version": "1.2.0",
          "model_name": "LayoutModel",
          "state": {
            "_model_module": "@jupyter-widgets/base",
            "_model_module_version": "1.2.0",
            "_model_name": "LayoutModel",
            "_view_count": null,
            "_view_module": "@jupyter-widgets/base",
            "_view_module_version": "1.2.0",
            "_view_name": "LayoutView",
            "align_content": null,
            "align_items": null,
            "align_self": null,
            "border": null,
            "bottom": null,
            "display": null,
            "flex": null,
            "flex_flow": null,
            "grid_area": null,
            "grid_auto_columns": null,
            "grid_auto_flow": null,
            "grid_auto_rows": null,
            "grid_column": null,
            "grid_gap": null,
            "grid_row": null,
            "grid_template_areas": null,
            "grid_template_columns": null,
            "grid_template_rows": null,
            "height": null,
            "justify_content": null,
            "justify_items": null,
            "left": null,
            "margin": null,
            "max_height": null,
            "max_width": null,
            "min_height": null,
            "min_width": null,
            "object_fit": null,
            "object_position": null,
            "order": null,
            "overflow": null,
            "overflow_x": null,
            "overflow_y": null,
            "padding": null,
            "right": null,
            "top": null,
            "visibility": "hidden",
            "width": null
          }
        },
        "200a57fef2fb4ac39040e17826fa4446": {
          "model_module": "@jupyter-widgets/controls",
          "model_module_version": "1.5.0",
          "model_name": "FloatProgressModel",
          "state": {
            "_dom_classes": [],
            "_model_module": "@jupyter-widgets/controls",
            "_model_module_version": "1.5.0",
            "_model_name": "FloatProgressModel",
            "_view_count": null,
            "_view_module": "@jupyter-widgets/controls",
            "_view_module_version": "1.5.0",
            "_view_name": "ProgressView",
            "bar_style": "",
            "description": "",
            "description_tooltip": null,
            "layout": "IPY_MODEL_f5a663a8f5c6465cac0bf4c69b68b389",
            "max": 25250,
            "min": 0,
            "orientation": "horizontal",
            "style": "IPY_MODEL_52956b4b3cd44c18b363dd108d938d6d",
            "value": 25250
          }
        },
        "248b5862ed2747c0b3ebd07901050234": {
          "model_module": "@jupyter-widgets/controls",
          "model_module_version": "1.5.0",
          "model_name": "DescriptionStyleModel",
          "state": {
            "_model_module": "@jupyter-widgets/controls",
            "_model_module_version": "1.5.0",
            "_model_name": "DescriptionStyleModel",
            "_view_count": null,
            "_view_module": "@jupyter-widgets/base",
            "_view_module_version": "1.2.0",
            "_view_name": "StyleView",
            "description_width": ""
          }
        },
        "257427c484d345d18f28a5b6d8e2f191": {
          "model_module": "@jupyter-widgets/controls",
          "model_module_version": "1.5.0",
          "model_name": "DescriptionStyleModel",
          "state": {
            "_model_module": "@jupyter-widgets/controls",
            "_model_module_version": "1.5.0",
            "_model_name": "DescriptionStyleModel",
            "_view_count": null,
            "_view_module": "@jupyter-widgets/base",
            "_view_module_version": "1.2.0",
            "_view_name": "StyleView",
            "description_width": ""
          }
        },
        "25a1c7a991b74af29cbcc823f4e89211": {
          "model_module": "@jupyter-widgets/controls",
          "model_module_version": "1.5.0",
          "model_name": "ProgressStyleModel",
          "state": {
            "_model_module": "@jupyter-widgets/controls",
            "_model_module_version": "1.5.0",
            "_model_name": "ProgressStyleModel",
            "_view_count": null,
            "_view_module": "@jupyter-widgets/base",
            "_view_module_version": "1.2.0",
            "_view_name": "StyleView",
            "bar_color": null,
            "description_width": ""
          }
        },
        "27d9740e9b364d5ca10200c2c40671ec": {
          "model_module": "@jupyter-widgets/base",
          "model_module_version": "1.2.0",
          "model_name": "LayoutModel",
          "state": {
            "_model_module": "@jupyter-widgets/base",
            "_model_module_version": "1.2.0",
            "_model_name": "LayoutModel",
            "_view_count": null,
            "_view_module": "@jupyter-widgets/base",
            "_view_module_version": "1.2.0",
            "_view_name": "LayoutView",
            "align_content": null,
            "align_items": null,
            "align_self": null,
            "border": null,
            "bottom": null,
            "display": null,
            "flex": null,
            "flex_flow": null,
            "grid_area": null,
            "grid_auto_columns": null,
            "grid_auto_flow": null,
            "grid_auto_rows": null,
            "grid_column": null,
            "grid_gap": null,
            "grid_row": null,
            "grid_template_areas": null,
            "grid_template_columns": null,
            "grid_template_rows": null,
            "height": null,
            "justify_content": null,
            "justify_items": null,
            "left": null,
            "margin": null,
            "max_height": null,
            "max_width": null,
            "min_height": null,
            "min_width": null,
            "object_fit": null,
            "object_position": null,
            "order": null,
            "overflow": null,
            "overflow_x": null,
            "overflow_y": null,
            "padding": null,
            "right": null,
            "top": null,
            "visibility": null,
            "width": null
          }
        },
        "2e41c08c9da14abb8ddd1ecd2f0cd9c5": {
          "model_module": "@jupyter-widgets/base",
          "model_module_version": "1.2.0",
          "model_name": "LayoutModel",
          "state": {
            "_model_module": "@jupyter-widgets/base",
            "_model_module_version": "1.2.0",
            "_model_name": "LayoutModel",
            "_view_count": null,
            "_view_module": "@jupyter-widgets/base",
            "_view_module_version": "1.2.0",
            "_view_name": "LayoutView",
            "align_content": null,
            "align_items": null,
            "align_self": null,
            "border": null,
            "bottom": null,
            "display": null,
            "flex": null,
            "flex_flow": null,
            "grid_area": null,
            "grid_auto_columns": null,
            "grid_auto_flow": null,
            "grid_auto_rows": null,
            "grid_column": null,
            "grid_gap": null,
            "grid_row": null,
            "grid_template_areas": null,
            "grid_template_columns": null,
            "grid_template_rows": null,
            "height": null,
            "justify_content": null,
            "justify_items": null,
            "left": null,
            "margin": null,
            "max_height": null,
            "max_width": null,
            "min_height": null,
            "min_width": null,
            "object_fit": null,
            "object_position": null,
            "order": null,
            "overflow": null,
            "overflow_x": null,
            "overflow_y": null,
            "padding": null,
            "right": null,
            "top": null,
            "visibility": null,
            "width": null
          }
        },
        "332ef8936d974966b212b67dfccbceb5": {
          "model_module": "@jupyter-widgets/base",
          "model_module_version": "1.2.0",
          "model_name": "LayoutModel",
          "state": {
            "_model_module": "@jupyter-widgets/base",
            "_model_module_version": "1.2.0",
            "_model_name": "LayoutModel",
            "_view_count": null,
            "_view_module": "@jupyter-widgets/base",
            "_view_module_version": "1.2.0",
            "_view_name": "LayoutView",
            "align_content": null,
            "align_items": null,
            "align_self": null,
            "border": null,
            "bottom": null,
            "display": null,
            "flex": null,
            "flex_flow": null,
            "grid_area": null,
            "grid_auto_columns": null,
            "grid_auto_flow": null,
            "grid_auto_rows": null,
            "grid_column": null,
            "grid_gap": null,
            "grid_row": null,
            "grid_template_areas": null,
            "grid_template_columns": null,
            "grid_template_rows": null,
            "height": null,
            "justify_content": null,
            "justify_items": null,
            "left": null,
            "margin": null,
            "max_height": null,
            "max_width": null,
            "min_height": null,
            "min_width": null,
            "object_fit": null,
            "object_position": null,
            "order": null,
            "overflow": null,
            "overflow_x": null,
            "overflow_y": null,
            "padding": null,
            "right": null,
            "top": null,
            "visibility": null,
            "width": "20px"
          }
        },
        "3bb8335f46df48228b59f14ec8c16edc": {
          "model_module": "@jupyter-widgets/controls",
          "model_module_version": "1.5.0",
          "model_name": "DescriptionStyleModel",
          "state": {
            "_model_module": "@jupyter-widgets/controls",
            "_model_module_version": "1.5.0",
            "_model_name": "DescriptionStyleModel",
            "_view_count": null,
            "_view_module": "@jupyter-widgets/base",
            "_view_module_version": "1.2.0",
            "_view_name": "StyleView",
            "description_width": ""
          }
        },
        "3d260d1790b94d84a86238548741a938": {
          "model_module": "@jupyter-widgets/controls",
          "model_module_version": "1.5.0",
          "model_name": "DescriptionStyleModel",
          "state": {
            "_model_module": "@jupyter-widgets/controls",
            "_model_module_version": "1.5.0",
            "_model_name": "DescriptionStyleModel",
            "_view_count": null,
            "_view_module": "@jupyter-widgets/base",
            "_view_module_version": "1.2.0",
            "_view_name": "StyleView",
            "description_width": ""
          }
        },
        "3d2cbaf1c7cf4ef7b49400611c91690c": {
          "model_module": "@jupyter-widgets/controls",
          "model_module_version": "1.5.0",
          "model_name": "DescriptionStyleModel",
          "state": {
            "_model_module": "@jupyter-widgets/controls",
            "_model_module_version": "1.5.0",
            "_model_name": "DescriptionStyleModel",
            "_view_count": null,
            "_view_module": "@jupyter-widgets/base",
            "_view_module_version": "1.2.0",
            "_view_name": "StyleView",
            "description_width": ""
          }
        },
        "3eabb91a128649e988b50c92bcd3628f": {
          "model_module": "@jupyter-widgets/controls",
          "model_module_version": "1.5.0",
          "model_name": "FloatProgressModel",
          "state": {
            "_dom_classes": [],
            "_model_module": "@jupyter-widgets/controls",
            "_model_module_version": "1.5.0",
            "_model_name": "FloatProgressModel",
            "_view_count": null,
            "_view_module": "@jupyter-widgets/controls",
            "_view_module_version": "1.5.0",
            "_view_name": "ProgressView",
            "bar_style": "",
            "description": "",
            "description_tooltip": null,
            "layout": "IPY_MODEL_b02e8cedb8074ecd888c0c15bb0fd37a",
            "max": 75750,
            "min": 0,
            "orientation": "horizontal",
            "style": "IPY_MODEL_71014a3c7a77418f8e2fe6b40c1a86dc",
            "value": 75750
          }
        },
        "4097dfa074134216b17c5dfbcf4eab8a": {
          "model_module": "@jupyter-widgets/base",
          "model_module_version": "1.2.0",
          "model_name": "LayoutModel",
          "state": {
            "_model_module": "@jupyter-widgets/base",
            "_model_module_version": "1.2.0",
            "_model_name": "LayoutModel",
            "_view_count": null,
            "_view_module": "@jupyter-widgets/base",
            "_view_module_version": "1.2.0",
            "_view_name": "LayoutView",
            "align_content": null,
            "align_items": null,
            "align_self": null,
            "border": null,
            "bottom": null,
            "display": null,
            "flex": null,
            "flex_flow": null,
            "grid_area": null,
            "grid_auto_columns": null,
            "grid_auto_flow": null,
            "grid_auto_rows": null,
            "grid_column": null,
            "grid_gap": null,
            "grid_row": null,
            "grid_template_areas": null,
            "grid_template_columns": null,
            "grid_template_rows": null,
            "height": null,
            "justify_content": null,
            "justify_items": null,
            "left": null,
            "margin": null,
            "max_height": null,
            "max_width": null,
            "min_height": null,
            "min_width": null,
            "object_fit": null,
            "object_position": null,
            "order": null,
            "overflow": null,
            "overflow_x": null,
            "overflow_y": null,
            "padding": null,
            "right": null,
            "top": null,
            "visibility": "hidden",
            "width": null
          }
        },
        "40e7a1f7414f4853848d75f9fe9687e7": {
          "model_module": "@jupyter-widgets/controls",
          "model_module_version": "1.5.0",
          "model_name": "HTMLModel",
          "state": {
            "_dom_classes": [],
            "_model_module": "@jupyter-widgets/controls",
            "_model_module_version": "1.5.0",
            "_model_name": "HTMLModel",
            "_view_count": null,
            "_view_module": "@jupyter-widgets/controls",
            "_view_module_version": "1.5.0",
            "_view_name": "HTMLView",
            "description": "",
            "description_tooltip": null,
            "layout": "IPY_MODEL_5f4b12f1cd1f4f08b4e5002d088c6d89",
            "placeholder": "​",
            "style": "IPY_MODEL_5790612ddf234e7d8256e0bb982e7d93",
            "value": "Dl Completed...: 100%"
          }
        },
        "428e111941cf4003a41bd0e0b06dd4e1": {
          "model_module": "@jupyter-widgets/base",
          "model_module_version": "1.2.0",
          "model_name": "LayoutModel",
          "state": {
            "_model_module": "@jupyter-widgets/base",
            "_model_module_version": "1.2.0",
            "_model_name": "LayoutModel",
            "_view_count": null,
            "_view_module": "@jupyter-widgets/base",
            "_view_module_version": "1.2.0",
            "_view_name": "LayoutView",
            "align_content": null,
            "align_items": null,
            "align_self": null,
            "border": null,
            "bottom": null,
            "display": null,
            "flex": null,
            "flex_flow": null,
            "grid_area": null,
            "grid_auto_columns": null,
            "grid_auto_flow": null,
            "grid_auto_rows": null,
            "grid_column": null,
            "grid_gap": null,
            "grid_row": null,
            "grid_template_areas": null,
            "grid_template_columns": null,
            "grid_template_rows": null,
            "height": null,
            "justify_content": null,
            "justify_items": null,
            "left": null,
            "margin": null,
            "max_height": null,
            "max_width": null,
            "min_height": null,
            "min_width": null,
            "object_fit": null,
            "object_position": null,
            "order": null,
            "overflow": null,
            "overflow_x": null,
            "overflow_y": null,
            "padding": null,
            "right": null,
            "top": null,
            "visibility": null,
            "width": null
          }
        },
        "42cf4c93cf324952a986566d06330b96": {
          "model_module": "@jupyter-widgets/controls",
          "model_module_version": "1.5.0",
          "model_name": "HTMLModel",
          "state": {
            "_dom_classes": [],
            "_model_module": "@jupyter-widgets/controls",
            "_model_module_version": "1.5.0",
            "_model_name": "HTMLModel",
            "_view_count": null,
            "_view_module": "@jupyter-widgets/controls",
            "_view_module_version": "1.5.0",
            "_view_name": "HTMLView",
            "description": "",
            "description_tooltip": null,
            "layout": "IPY_MODEL_aebe4e983258421e927da057a1dddd13",
            "placeholder": "​",
            "style": "IPY_MODEL_a872f4a3080f41169373830a869110c2",
            "value": "Dl Size...: 100%"
          }
        },
        "465440b3fce9492e996d0d9f53e2e50c": {
          "model_module": "@jupyter-widgets/controls",
          "model_module_version": "1.5.0",
          "model_name": "DescriptionStyleModel",
          "state": {
            "_model_module": "@jupyter-widgets/controls",
            "_model_module_version": "1.5.0",
            "_model_name": "DescriptionStyleModel",
            "_view_count": null,
            "_view_module": "@jupyter-widgets/base",
            "_view_module_version": "1.2.0",
            "_view_name": "StyleView",
            "description_width": ""
          }
        },
        "50de01ce557349fd911279bcdc3117bd": {
          "model_module": "@jupyter-widgets/controls",
          "model_module_version": "1.5.0",
          "model_name": "HBoxModel",
          "state": {
            "_dom_classes": [],
            "_model_module": "@jupyter-widgets/controls",
            "_model_module_version": "1.5.0",
            "_model_name": "HBoxModel",
            "_view_count": null,
            "_view_module": "@jupyter-widgets/controls",
            "_view_module_version": "1.5.0",
            "_view_name": "HBoxView",
            "box_style": "",
            "children": [
              "IPY_MODEL_8df32e76d9c44a8b93b99d00fc66a211",
              "IPY_MODEL_57c34efe506a4d91aa8a94f17f355c69",
              "IPY_MODEL_0a88b3949c5747d6a5e5c2d9c755b1fd"
            ],
            "layout": "IPY_MODEL_1d3e15a1fa2b4daeab31e82e3f9b3cb6"
          }
        },
        "52956b4b3cd44c18b363dd108d938d6d": {
          "model_module": "@jupyter-widgets/controls",
          "model_module_version": "1.5.0",
          "model_name": "ProgressStyleModel",
          "state": {
            "_model_module": "@jupyter-widgets/controls",
            "_model_module_version": "1.5.0",
            "_model_name": "ProgressStyleModel",
            "_view_count": null,
            "_view_module": "@jupyter-widgets/base",
            "_view_module_version": "1.2.0",
            "_view_name": "StyleView",
            "bar_color": null,
            "description_width": ""
          }
        },
        "547e6682fd2b4119a68741475caaa920": {
          "model_module": "@jupyter-widgets/controls",
          "model_module_version": "1.5.0",
          "model_name": "FloatProgressModel",
          "state": {
            "_dom_classes": [],
            "_model_module": "@jupyter-widgets/controls",
            "_model_module_version": "1.5.0",
            "_model_name": "FloatProgressModel",
            "_view_count": null,
            "_view_module": "@jupyter-widgets/controls",
            "_view_module_version": "1.5.0",
            "_view_name": "ProgressView",
            "bar_style": "",
            "description": "",
            "description_tooltip": null,
            "layout": "IPY_MODEL_64a7c6057c8d46489d6c20881a4d74f1",
            "max": 75750,
            "min": 0,
            "orientation": "horizontal",
            "style": "IPY_MODEL_13e4336626ac473d9b82ae10e917431e",
            "value": 75750
          }
        },
        "55b97353f8b7442a97f1de4c60e78147": {
          "model_module": "@jupyter-widgets/controls",
          "model_module_version": "1.5.0",
          "model_name": "HBoxModel",
          "state": {
            "_dom_classes": [],
            "_model_module": "@jupyter-widgets/controls",
            "_model_module_version": "1.5.0",
            "_model_name": "HBoxModel",
            "_view_count": null,
            "_view_module": "@jupyter-widgets/controls",
            "_view_module_version": "1.5.0",
            "_view_name": "HBoxView",
            "box_style": "",
            "children": [
              "IPY_MODEL_42cf4c93cf324952a986566d06330b96",
              "IPY_MODEL_9590c962d4214ae6987b394342e6dce2",
              "IPY_MODEL_faae0897d419477db52cd8519f1626cb"
            ],
            "layout": "IPY_MODEL_0f95773e7ce842d3a3d037f9da98a121"
          }
        },
        "5790612ddf234e7d8256e0bb982e7d93": {
          "model_module": "@jupyter-widgets/controls",
          "model_module_version": "1.5.0",
          "model_name": "DescriptionStyleModel",
          "state": {
            "_model_module": "@jupyter-widgets/controls",
            "_model_module_version": "1.5.0",
            "_model_name": "DescriptionStyleModel",
            "_view_count": null,
            "_view_module": "@jupyter-widgets/base",
            "_view_module_version": "1.2.0",
            "_view_name": "StyleView",
            "description_width": ""
          }
        },
        "57c34efe506a4d91aa8a94f17f355c69": {
          "model_module": "@jupyter-widgets/controls",
          "model_module_version": "1.5.0",
          "model_name": "FloatProgressModel",
          "state": {
            "_dom_classes": [],
            "_model_module": "@jupyter-widgets/controls",
            "_model_module_version": "1.5.0",
            "_model_name": "FloatProgressModel",
            "_view_count": null,
            "_view_module": "@jupyter-widgets/controls",
            "_view_module_version": "1.5.0",
            "_view_name": "ProgressView",
            "bar_style": "",
            "description": "",
            "description_tooltip": null,
            "layout": "IPY_MODEL_c38df81e3a774545acc86fb912b1a074",
            "max": 25250,
            "min": 0,
            "orientation": "horizontal",
            "style": "IPY_MODEL_25a1c7a991b74af29cbcc823f4e89211",
            "value": 25250
          }
        },
        "5992058cd92b4c6fab2fbee268b713cd": {
          "model_module": "@jupyter-widgets/controls",
          "model_module_version": "1.5.0",
          "model_name": "HBoxModel",
          "state": {
            "_dom_classes": [],
            "_model_module": "@jupyter-widgets/controls",
            "_model_module_version": "1.5.0",
            "_model_name": "HBoxModel",
            "_view_count": null,
            "_view_module": "@jupyter-widgets/controls",
            "_view_module_version": "1.5.0",
            "_view_name": "HBoxView",
            "box_style": "",
            "children": [
              "IPY_MODEL_e6d1b46df5ff48d5bd2e26aee0bcc01c",
              "IPY_MODEL_e32e068d41c34f378ac29a34c36f9644",
              "IPY_MODEL_c6a463485edd44f283b4538adfef3b2f"
            ],
            "layout": "IPY_MODEL_1ac19db91d12434fb15c5edd4f20f525"
          }
        },
        "5a3a8fcd2c5d45a1978bdd5a2549f98f": {
          "model_module": "@jupyter-widgets/controls",
          "model_module_version": "1.5.0",
          "model_name": "HBoxModel",
          "state": {
            "_dom_classes": [],
            "_model_module": "@jupyter-widgets/controls",
            "_model_module_version": "1.5.0",
            "_model_name": "HBoxModel",
            "_view_count": null,
            "_view_module": "@jupyter-widgets/controls",
            "_view_module_version": "1.5.0",
            "_view_name": "HBoxView",
            "box_style": "",
            "children": [
              "IPY_MODEL_d86d6c0b03534beb85bb2ae3c1621384",
              "IPY_MODEL_547e6682fd2b4119a68741475caaa920",
              "IPY_MODEL_f94f73de96394d81801cf1a33490591b"
            ],
            "layout": "IPY_MODEL_90e6bd157c17484e86089187f02f6ac1"
          }
        },
        "5a51405592b246f09b3591355a585fb3": {
          "model_module": "@jupyter-widgets/base",
          "model_module_version": "1.2.0",
          "model_name": "LayoutModel",
          "state": {
            "_model_module": "@jupyter-widgets/base",
            "_model_module_version": "1.2.0",
            "_model_name": "LayoutModel",
            "_view_count": null,
            "_view_module": "@jupyter-widgets/base",
            "_view_module_version": "1.2.0",
            "_view_name": "LayoutView",
            "align_content": null,
            "align_items": null,
            "align_self": null,
            "border": null,
            "bottom": null,
            "display": null,
            "flex": null,
            "flex_flow": null,
            "grid_area": null,
            "grid_auto_columns": null,
            "grid_auto_flow": null,
            "grid_auto_rows": null,
            "grid_column": null,
            "grid_gap": null,
            "grid_row": null,
            "grid_template_areas": null,
            "grid_template_columns": null,
            "grid_template_rows": null,
            "height": null,
            "justify_content": null,
            "justify_items": null,
            "left": null,
            "margin": null,
            "max_height": null,
            "max_width": null,
            "min_height": null,
            "min_width": null,
            "object_fit": null,
            "object_position": null,
            "order": null,
            "overflow": null,
            "overflow_x": null,
            "overflow_y": null,
            "padding": null,
            "right": null,
            "top": null,
            "visibility": null,
            "width": null
          }
        },
        "5f2c390082e8417eb9d60f04955c492c": {
          "model_module": "@jupyter-widgets/controls",
          "model_module_version": "1.5.0",
          "model_name": "FloatProgressModel",
          "state": {
            "_dom_classes": [],
            "_model_module": "@jupyter-widgets/controls",
            "_model_module_version": "1.5.0",
            "_model_name": "FloatProgressModel",
            "_view_count": null,
            "_view_module": "@jupyter-widgets/controls",
            "_view_module_version": "1.5.0",
            "_view_name": "ProgressView",
            "bar_style": "success",
            "description": "",
            "description_tooltip": null,
            "layout": "IPY_MODEL_a22d8648daef4c5cac48d650cc5b00de",
            "max": 1,
            "min": 0,
            "orientation": "horizontal",
            "style": "IPY_MODEL_f3a77cad1f29414e858bba9e5dcd5a74",
            "value": 1
          }
        },
        "5f4b12f1cd1f4f08b4e5002d088c6d89": {
          "model_module": "@jupyter-widgets/base",
          "model_module_version": "1.2.0",
          "model_name": "LayoutModel",
          "state": {
            "_model_module": "@jupyter-widgets/base",
            "_model_module_version": "1.2.0",
            "_model_name": "LayoutModel",
            "_view_count": null,
            "_view_module": "@jupyter-widgets/base",
            "_view_module_version": "1.2.0",
            "_view_name": "LayoutView",
            "align_content": null,
            "align_items": null,
            "align_self": null,
            "border": null,
            "bottom": null,
            "display": null,
            "flex": null,
            "flex_flow": null,
            "grid_area": null,
            "grid_auto_columns": null,
            "grid_auto_flow": null,
            "grid_auto_rows": null,
            "grid_column": null,
            "grid_gap": null,
            "grid_row": null,
            "grid_template_areas": null,
            "grid_template_columns": null,
            "grid_template_rows": null,
            "height": null,
            "justify_content": null,
            "justify_items": null,
            "left": null,
            "margin": null,
            "max_height": null,
            "max_width": null,
            "min_height": null,
            "min_width": null,
            "object_fit": null,
            "object_position": null,
            "order": null,
            "overflow": null,
            "overflow_x": null,
            "overflow_y": null,
            "padding": null,
            "right": null,
            "top": null,
            "visibility": null,
            "width": null
          }
        },
        "61919c894c3644638cf407a176402598": {
          "model_module": "@jupyter-widgets/base",
          "model_module_version": "1.2.0",
          "model_name": "LayoutModel",
          "state": {
            "_model_module": "@jupyter-widgets/base",
            "_model_module_version": "1.2.0",
            "_model_name": "LayoutModel",
            "_view_count": null,
            "_view_module": "@jupyter-widgets/base",
            "_view_module_version": "1.2.0",
            "_view_name": "LayoutView",
            "align_content": null,
            "align_items": null,
            "align_self": null,
            "border": null,
            "bottom": null,
            "display": null,
            "flex": null,
            "flex_flow": null,
            "grid_area": null,
            "grid_auto_columns": null,
            "grid_auto_flow": null,
            "grid_auto_rows": null,
            "grid_column": null,
            "grid_gap": null,
            "grid_row": null,
            "grid_template_areas": null,
            "grid_template_columns": null,
            "grid_template_rows": null,
            "height": null,
            "justify_content": null,
            "justify_items": null,
            "left": null,
            "margin": null,
            "max_height": null,
            "max_width": null,
            "min_height": null,
            "min_width": null,
            "object_fit": null,
            "object_position": null,
            "order": null,
            "overflow": null,
            "overflow_x": null,
            "overflow_y": null,
            "padding": null,
            "right": null,
            "top": null,
            "visibility": null,
            "width": null
          }
        },
        "64a7c6057c8d46489d6c20881a4d74f1": {
          "model_module": "@jupyter-widgets/base",
          "model_module_version": "1.2.0",
          "model_name": "LayoutModel",
          "state": {
            "_model_module": "@jupyter-widgets/base",
            "_model_module_version": "1.2.0",
            "_model_name": "LayoutModel",
            "_view_count": null,
            "_view_module": "@jupyter-widgets/base",
            "_view_module_version": "1.2.0",
            "_view_name": "LayoutView",
            "align_content": null,
            "align_items": null,
            "align_self": null,
            "border": null,
            "bottom": null,
            "display": null,
            "flex": null,
            "flex_flow": null,
            "grid_area": null,
            "grid_auto_columns": null,
            "grid_auto_flow": null,
            "grid_auto_rows": null,
            "grid_column": null,
            "grid_gap": null,
            "grid_row": null,
            "grid_template_areas": null,
            "grid_template_columns": null,
            "grid_template_rows": null,
            "height": null,
            "justify_content": null,
            "justify_items": null,
            "left": null,
            "margin": null,
            "max_height": null,
            "max_width": null,
            "min_height": null,
            "min_width": null,
            "object_fit": null,
            "object_position": null,
            "order": null,
            "overflow": null,
            "overflow_x": null,
            "overflow_y": null,
            "padding": null,
            "right": null,
            "top": null,
            "visibility": null,
            "width": null
          }
        },
        "655538b2d5004b468a1cf385adeaa7ec": {
          "model_module": "@jupyter-widgets/controls",
          "model_module_version": "1.5.0",
          "model_name": "HTMLModel",
          "state": {
            "_dom_classes": [],
            "_model_module": "@jupyter-widgets/controls",
            "_model_module_version": "1.5.0",
            "_model_name": "HTMLModel",
            "_view_count": null,
            "_view_module": "@jupyter-widgets/controls",
            "_view_module_version": "1.5.0",
            "_view_name": "HTMLView",
            "description": "",
            "description_tooltip": null,
            "layout": "IPY_MODEL_5a51405592b246f09b3591355a585fb3",
            "placeholder": "​",
            "style": "IPY_MODEL_3d260d1790b94d84a86238548741a938",
            "value": " 25211/25250 [01:02&lt;00:00, 378.76 examples/s]"
          }
        },
        "6ef7a4cffce4460894bcd42cec666ece": {
          "model_module": "@jupyter-widgets/base",
          "model_module_version": "1.2.0",
          "model_name": "LayoutModel",
          "state": {
            "_model_module": "@jupyter-widgets/base",
            "_model_module_version": "1.2.0",
            "_model_name": "LayoutModel",
            "_view_count": null,
            "_view_module": "@jupyter-widgets/base",
            "_view_module_version": "1.2.0",
            "_view_name": "LayoutView",
            "align_content": null,
            "align_items": null,
            "align_self": null,
            "border": null,
            "bottom": null,
            "display": null,
            "flex": null,
            "flex_flow": null,
            "grid_area": null,
            "grid_auto_columns": null,
            "grid_auto_flow": null,
            "grid_auto_rows": null,
            "grid_column": null,
            "grid_gap": null,
            "grid_row": null,
            "grid_template_areas": null,
            "grid_template_columns": null,
            "grid_template_rows": null,
            "height": null,
            "justify_content": null,
            "justify_items": null,
            "left": null,
            "margin": null,
            "max_height": null,
            "max_width": null,
            "min_height": null,
            "min_width": null,
            "object_fit": null,
            "object_position": null,
            "order": null,
            "overflow": null,
            "overflow_x": null,
            "overflow_y": null,
            "padding": null,
            "right": null,
            "top": null,
            "visibility": null,
            "width": "20px"
          }
        },
        "71014a3c7a77418f8e2fe6b40c1a86dc": {
          "model_module": "@jupyter-widgets/controls",
          "model_module_version": "1.5.0",
          "model_name": "ProgressStyleModel",
          "state": {
            "_model_module": "@jupyter-widgets/controls",
            "_model_module_version": "1.5.0",
            "_model_name": "ProgressStyleModel",
            "_view_count": null,
            "_view_module": "@jupyter-widgets/base",
            "_view_module_version": "1.2.0",
            "_view_name": "StyleView",
            "bar_color": null,
            "description_width": ""
          }
        },
        "7123231b23b2449f8e6c8997022a443c": {
          "model_module": "@jupyter-widgets/base",
          "model_module_version": "1.2.0",
          "model_name": "LayoutModel",
          "state": {
            "_model_module": "@jupyter-widgets/base",
            "_model_module_version": "1.2.0",
            "_model_name": "LayoutModel",
            "_view_count": null,
            "_view_module": "@jupyter-widgets/base",
            "_view_module_version": "1.2.0",
            "_view_name": "LayoutView",
            "align_content": null,
            "align_items": null,
            "align_self": null,
            "border": null,
            "bottom": null,
            "display": null,
            "flex": null,
            "flex_flow": null,
            "grid_area": null,
            "grid_auto_columns": null,
            "grid_auto_flow": null,
            "grid_auto_rows": null,
            "grid_column": null,
            "grid_gap": null,
            "grid_row": null,
            "grid_template_areas": null,
            "grid_template_columns": null,
            "grid_template_rows": null,
            "height": null,
            "justify_content": null,
            "justify_items": null,
            "left": null,
            "margin": null,
            "max_height": null,
            "max_width": null,
            "min_height": null,
            "min_width": null,
            "object_fit": null,
            "object_position": null,
            "order": null,
            "overflow": null,
            "overflow_x": null,
            "overflow_y": null,
            "padding": null,
            "right": null,
            "top": null,
            "visibility": null,
            "width": null
          }
        },
        "726c8a8db919457aa3f57c1dc3224871": {
          "model_module": "@jupyter-widgets/controls",
          "model_module_version": "1.5.0",
          "model_name": "ProgressStyleModel",
          "state": {
            "_model_module": "@jupyter-widgets/controls",
            "_model_module_version": "1.5.0",
            "_model_name": "ProgressStyleModel",
            "_view_count": null,
            "_view_module": "@jupyter-widgets/base",
            "_view_module_version": "1.2.0",
            "_view_name": "StyleView",
            "bar_color": null,
            "description_width": ""
          }
        },
        "7dd426dc7d3d4d359d8c485d81f9e41a": {
          "model_module": "@jupyter-widgets/base",
          "model_module_version": "1.2.0",
          "model_name": "LayoutModel",
          "state": {
            "_model_module": "@jupyter-widgets/base",
            "_model_module_version": "1.2.0",
            "_model_name": "LayoutModel",
            "_view_count": null,
            "_view_module": "@jupyter-widgets/base",
            "_view_module_version": "1.2.0",
            "_view_name": "LayoutView",
            "align_content": null,
            "align_items": null,
            "align_self": null,
            "border": null,
            "bottom": null,
            "display": null,
            "flex": null,
            "flex_flow": null,
            "grid_area": null,
            "grid_auto_columns": null,
            "grid_auto_flow": null,
            "grid_auto_rows": null,
            "grid_column": null,
            "grid_gap": null,
            "grid_row": null,
            "grid_template_areas": null,
            "grid_template_columns": null,
            "grid_template_rows": null,
            "height": null,
            "justify_content": null,
            "justify_items": null,
            "left": null,
            "margin": null,
            "max_height": null,
            "max_width": null,
            "min_height": null,
            "min_width": null,
            "object_fit": null,
            "object_position": null,
            "order": null,
            "overflow": null,
            "overflow_x": null,
            "overflow_y": null,
            "padding": null,
            "right": null,
            "top": null,
            "visibility": null,
            "width": null
          }
        },
        "7f48aa8b1a494d678469c135c873f678": {
          "model_module": "@jupyter-widgets/base",
          "model_module_version": "1.2.0",
          "model_name": "LayoutModel",
          "state": {
            "_model_module": "@jupyter-widgets/base",
            "_model_module_version": "1.2.0",
            "_model_name": "LayoutModel",
            "_view_count": null,
            "_view_module": "@jupyter-widgets/base",
            "_view_module_version": "1.2.0",
            "_view_name": "LayoutView",
            "align_content": null,
            "align_items": null,
            "align_self": null,
            "border": null,
            "bottom": null,
            "display": null,
            "flex": null,
            "flex_flow": null,
            "grid_area": null,
            "grid_auto_columns": null,
            "grid_auto_flow": null,
            "grid_auto_rows": null,
            "grid_column": null,
            "grid_gap": null,
            "grid_row": null,
            "grid_template_areas": null,
            "grid_template_columns": null,
            "grid_template_rows": null,
            "height": null,
            "justify_content": null,
            "justify_items": null,
            "left": null,
            "margin": null,
            "max_height": null,
            "max_width": null,
            "min_height": null,
            "min_width": null,
            "object_fit": null,
            "object_position": null,
            "order": null,
            "overflow": null,
            "overflow_x": null,
            "overflow_y": null,
            "padding": null,
            "right": null,
            "top": null,
            "visibility": "hidden",
            "width": null
          }
        },
        "80c454d482644105b4e366a97f41e629": {
          "model_module": "@jupyter-widgets/controls",
          "model_module_version": "1.5.0",
          "model_name": "DescriptionStyleModel",
          "state": {
            "_model_module": "@jupyter-widgets/controls",
            "_model_module_version": "1.5.0",
            "_model_name": "DescriptionStyleModel",
            "_view_count": null,
            "_view_module": "@jupyter-widgets/base",
            "_view_module_version": "1.2.0",
            "_view_name": "StyleView",
            "description_width": ""
          }
        },
        "81d52953e3a44d55ab26269201b05e82": {
          "model_module": "@jupyter-widgets/base",
          "model_module_version": "1.2.0",
          "model_name": "LayoutModel",
          "state": {
            "_model_module": "@jupyter-widgets/base",
            "_model_module_version": "1.2.0",
            "_model_name": "LayoutModel",
            "_view_count": null,
            "_view_module": "@jupyter-widgets/base",
            "_view_module_version": "1.2.0",
            "_view_name": "LayoutView",
            "align_content": null,
            "align_items": null,
            "align_self": null,
            "border": null,
            "bottom": null,
            "display": null,
            "flex": null,
            "flex_flow": null,
            "grid_area": null,
            "grid_auto_columns": null,
            "grid_auto_flow": null,
            "grid_auto_rows": null,
            "grid_column": null,
            "grid_gap": null,
            "grid_row": null,
            "grid_template_areas": null,
            "grid_template_columns": null,
            "grid_template_rows": null,
            "height": null,
            "justify_content": null,
            "justify_items": null,
            "left": null,
            "margin": null,
            "max_height": null,
            "max_width": null,
            "min_height": null,
            "min_width": null,
            "object_fit": null,
            "object_position": null,
            "order": null,
            "overflow": null,
            "overflow_x": null,
            "overflow_y": null,
            "padding": null,
            "right": null,
            "top": null,
            "visibility": null,
            "width": null
          }
        },
        "8586d296c84749e2a1628b0c12d55b56": {
          "model_module": "@jupyter-widgets/controls",
          "model_module_version": "1.5.0",
          "model_name": "HTMLModel",
          "state": {
            "_dom_classes": [],
            "_model_module": "@jupyter-widgets/controls",
            "_model_module_version": "1.5.0",
            "_model_name": "HTMLModel",
            "_view_count": null,
            "_view_module": "@jupyter-widgets/controls",
            "_view_module_version": "1.5.0",
            "_view_name": "HTMLView",
            "description": "",
            "description_tooltip": null,
            "layout": "IPY_MODEL_2e41c08c9da14abb8ddd1ecd2f0cd9c5",
            "placeholder": "​",
            "style": "IPY_MODEL_3d2cbaf1c7cf4ef7b49400611c91690c",
            "value": " 1/1 [15:42&lt;00:00, 493.63s/ url]"
          }
        },
        "8960c500af8d490aaab634aa26a95386": {
          "model_module": "@jupyter-widgets/controls",
          "model_module_version": "1.5.0",
          "model_name": "HBoxModel",
          "state": {
            "_dom_classes": [],
            "_model_module": "@jupyter-widgets/controls",
            "_model_module_version": "1.5.0",
            "_model_name": "HBoxModel",
            "_view_count": null,
            "_view_module": "@jupyter-widgets/controls",
            "_view_module_version": "1.5.0",
            "_view_name": "HBoxView",
            "box_style": "",
            "children": [
              "IPY_MODEL_a88c03f349ec4aa7b87fb289ff0b4cf3",
              "IPY_MODEL_3eabb91a128649e988b50c92bcd3628f",
              "IPY_MODEL_cd81664540fe41f2b46dae3ba3596b95"
            ],
            "layout": "IPY_MODEL_7f48aa8b1a494d678469c135c873f678"
          }
        },
        "8df32e76d9c44a8b93b99d00fc66a211": {
          "model_module": "@jupyter-widgets/controls",
          "model_module_version": "1.5.0",
          "model_name": "HTMLModel",
          "state": {
            "_dom_classes": [],
            "_model_module": "@jupyter-widgets/controls",
            "_model_module_version": "1.5.0",
            "_model_name": "HTMLModel",
            "_view_count": null,
            "_view_module": "@jupyter-widgets/controls",
            "_view_module_version": "1.5.0",
            "_view_name": "HTMLView",
            "description": "",
            "description_tooltip": null,
            "layout": "IPY_MODEL_61919c894c3644638cf407a176402598",
            "placeholder": "​",
            "style": "IPY_MODEL_3bb8335f46df48228b59f14ec8c16edc",
            "value": "Shuffling /root/tensorflow_datasets/food101/2.0.0.incompleteM8UC2I/food101-validation.tfrecord*...:  98%"
          }
        },
        "8f70c0c7b8b04f8a94f95edea80d4a2a": {
          "model_module": "@jupyter-widgets/controls",
          "model_module_version": "1.5.0",
          "model_name": "HTMLModel",
          "state": {
            "_dom_classes": [],
            "_model_module": "@jupyter-widgets/controls",
            "_model_module_version": "1.5.0",
            "_model_name": "HTMLModel",
            "_view_count": null,
            "_view_module": "@jupyter-widgets/controls",
            "_view_module_version": "1.5.0",
            "_view_name": "HTMLView",
            "description": "",
            "description_tooltip": null,
            "layout": "IPY_MODEL_27d9740e9b364d5ca10200c2c40671ec",
            "placeholder": "​",
            "style": "IPY_MODEL_e85947e529bf45cb9d30b3186bcf84eb",
            "value": "Generating validation examples...: 100%"
          }
        },
        "90e6bd157c17484e86089187f02f6ac1": {
          "model_module": "@jupyter-widgets/base",
          "model_module_version": "1.2.0",
          "model_name": "LayoutModel",
          "state": {
            "_model_module": "@jupyter-widgets/base",
            "_model_module_version": "1.2.0",
            "_model_name": "LayoutModel",
            "_view_count": null,
            "_view_module": "@jupyter-widgets/base",
            "_view_module_version": "1.2.0",
            "_view_name": "LayoutView",
            "align_content": null,
            "align_items": null,
            "align_self": null,
            "border": null,
            "bottom": null,
            "display": null,
            "flex": null,
            "flex_flow": null,
            "grid_area": null,
            "grid_auto_columns": null,
            "grid_auto_flow": null,
            "grid_auto_rows": null,
            "grid_column": null,
            "grid_gap": null,
            "grid_row": null,
            "grid_template_areas": null,
            "grid_template_columns": null,
            "grid_template_rows": null,
            "height": null,
            "justify_content": null,
            "justify_items": null,
            "left": null,
            "margin": null,
            "max_height": null,
            "max_width": null,
            "min_height": null,
            "min_width": null,
            "object_fit": null,
            "object_position": null,
            "order": null,
            "overflow": null,
            "overflow_x": null,
            "overflow_y": null,
            "padding": null,
            "right": null,
            "top": null,
            "visibility": "hidden",
            "width": null
          }
        },
        "92222807a7ed4fdabb81b5a1f79d74d6": {
          "model_module": "@jupyter-widgets/base",
          "model_module_version": "1.2.0",
          "model_name": "LayoutModel",
          "state": {
            "_model_module": "@jupyter-widgets/base",
            "_model_module_version": "1.2.0",
            "_model_name": "LayoutModel",
            "_view_count": null,
            "_view_module": "@jupyter-widgets/base",
            "_view_module_version": "1.2.0",
            "_view_name": "LayoutView",
            "align_content": null,
            "align_items": null,
            "align_self": null,
            "border": null,
            "bottom": null,
            "display": null,
            "flex": null,
            "flex_flow": null,
            "grid_area": null,
            "grid_auto_columns": null,
            "grid_auto_flow": null,
            "grid_auto_rows": null,
            "grid_column": null,
            "grid_gap": null,
            "grid_row": null,
            "grid_template_areas": null,
            "grid_template_columns": null,
            "grid_template_rows": null,
            "height": null,
            "justify_content": null,
            "justify_items": null,
            "left": null,
            "margin": null,
            "max_height": null,
            "max_width": null,
            "min_height": null,
            "min_width": null,
            "object_fit": null,
            "object_position": null,
            "order": null,
            "overflow": null,
            "overflow_x": null,
            "overflow_y": null,
            "padding": null,
            "right": null,
            "top": null,
            "visibility": null,
            "width": null
          }
        },
        "94b4f6095bc0464d8cf6a2aa652835f5": {
          "model_module": "@jupyter-widgets/controls",
          "model_module_version": "1.5.0",
          "model_name": "HBoxModel",
          "state": {
            "_dom_classes": [],
            "_model_module": "@jupyter-widgets/controls",
            "_model_module_version": "1.5.0",
            "_model_name": "HBoxModel",
            "_view_count": null,
            "_view_module": "@jupyter-widgets/controls",
            "_view_module_version": "1.5.0",
            "_view_name": "HBoxView",
            "box_style": "",
            "children": [
              "IPY_MODEL_40e7a1f7414f4853848d75f9fe9687e7",
              "IPY_MODEL_5f2c390082e8417eb9d60f04955c492c",
              "IPY_MODEL_8586d296c84749e2a1628b0c12d55b56"
            ],
            "layout": "IPY_MODEL_81d52953e3a44d55ab26269201b05e82"
          }
        },
        "9590c962d4214ae6987b394342e6dce2": {
          "model_module": "@jupyter-widgets/controls",
          "model_module_version": "1.5.0",
          "model_name": "FloatProgressModel",
          "state": {
            "_dom_classes": [],
            "_model_module": "@jupyter-widgets/controls",
            "_model_module_version": "1.5.0",
            "_model_name": "FloatProgressModel",
            "_view_count": null,
            "_view_module": "@jupyter-widgets/controls",
            "_view_module_version": "1.5.0",
            "_view_name": "ProgressView",
            "bar_style": "success",
            "description": "",
            "description_tooltip": null,
            "layout": "IPY_MODEL_6ef7a4cffce4460894bcd42cec666ece",
            "max": 1,
            "min": 0,
            "orientation": "horizontal",
            "style": "IPY_MODEL_c6711ea3c12244b9904c7ea8bc7f3406",
            "value": 1
          }
        },
        "98ce35c4ed5f448eb9d1631e7e5d536e": {
          "model_module": "@jupyter-widgets/controls",
          "model_module_version": "1.5.0",
          "model_name": "ProgressStyleModel",
          "state": {
            "_model_module": "@jupyter-widgets/controls",
            "_model_module_version": "1.5.0",
            "_model_name": "ProgressStyleModel",
            "_view_count": null,
            "_view_module": "@jupyter-widgets/base",
            "_view_module_version": "1.2.0",
            "_view_name": "StyleView",
            "bar_color": null,
            "description_width": ""
          }
        },
        "9ba76cec52f2419c9cc3475fc4807d6c": {
          "model_module": "@jupyter-widgets/controls",
          "model_module_version": "1.5.0",
          "model_name": "DescriptionStyleModel",
          "state": {
            "_model_module": "@jupyter-widgets/controls",
            "_model_module_version": "1.5.0",
            "_model_name": "DescriptionStyleModel",
            "_view_count": null,
            "_view_module": "@jupyter-widgets/base",
            "_view_module_version": "1.2.0",
            "_view_name": "StyleView",
            "description_width": ""
          }
        },
        "9cb446527d934514b9f50f5ad6b6517a": {
          "model_module": "@jupyter-widgets/controls",
          "model_module_version": "1.5.0",
          "model_name": "HTMLModel",
          "state": {
            "_dom_classes": [],
            "_model_module": "@jupyter-widgets/controls",
            "_model_module_version": "1.5.0",
            "_model_name": "HTMLModel",
            "_view_count": null,
            "_view_module": "@jupyter-widgets/controls",
            "_view_module_version": "1.5.0",
            "_view_name": "HTMLView",
            "description": "",
            "description_tooltip": null,
            "layout": "IPY_MODEL_a97576f3bc924e9fae3ba0c6ead7ba1f",
            "placeholder": "​",
            "style": "IPY_MODEL_c13057c4a5c64a18bfd57744f06b9666",
            "value": " 100192/101008 [15:43&lt;00:00, 927.61 file/s]"
          }
        },
        "9ee321a0c4be413aaceb2176ec8142f5": {
          "model_module": "@jupyter-widgets/base",
          "model_module_version": "1.2.0",
          "model_name": "LayoutModel",
          "state": {
            "_model_module": "@jupyter-widgets/base",
            "_model_module_version": "1.2.0",
            "_model_name": "LayoutModel",
            "_view_count": null,
            "_view_module": "@jupyter-widgets/base",
            "_view_module_version": "1.2.0",
            "_view_name": "LayoutView",
            "align_content": null,
            "align_items": null,
            "align_self": null,
            "border": null,
            "bottom": null,
            "display": null,
            "flex": null,
            "flex_flow": null,
            "grid_area": null,
            "grid_auto_columns": null,
            "grid_auto_flow": null,
            "grid_auto_rows": null,
            "grid_column": null,
            "grid_gap": null,
            "grid_row": null,
            "grid_template_areas": null,
            "grid_template_columns": null,
            "grid_template_rows": null,
            "height": null,
            "justify_content": null,
            "justify_items": null,
            "left": null,
            "margin": null,
            "max_height": null,
            "max_width": null,
            "min_height": null,
            "min_width": null,
            "object_fit": null,
            "object_position": null,
            "order": null,
            "overflow": null,
            "overflow_x": null,
            "overflow_y": null,
            "padding": null,
            "right": null,
            "top": null,
            "visibility": null,
            "width": null
          }
        },
        "a22d8648daef4c5cac48d650cc5b00de": {
          "model_module": "@jupyter-widgets/base",
          "model_module_version": "1.2.0",
          "model_name": "LayoutModel",
          "state": {
            "_model_module": "@jupyter-widgets/base",
            "_model_module_version": "1.2.0",
            "_model_name": "LayoutModel",
            "_view_count": null,
            "_view_module": "@jupyter-widgets/base",
            "_view_module_version": "1.2.0",
            "_view_name": "LayoutView",
            "align_content": null,
            "align_items": null,
            "align_self": null,
            "border": null,
            "bottom": null,
            "display": null,
            "flex": null,
            "flex_flow": null,
            "grid_area": null,
            "grid_auto_columns": null,
            "grid_auto_flow": null,
            "grid_auto_rows": null,
            "grid_column": null,
            "grid_gap": null,
            "grid_row": null,
            "grid_template_areas": null,
            "grid_template_columns": null,
            "grid_template_rows": null,
            "height": null,
            "justify_content": null,
            "justify_items": null,
            "left": null,
            "margin": null,
            "max_height": null,
            "max_width": null,
            "min_height": null,
            "min_width": null,
            "object_fit": null,
            "object_position": null,
            "order": null,
            "overflow": null,
            "overflow_x": null,
            "overflow_y": null,
            "padding": null,
            "right": null,
            "top": null,
            "visibility": null,
            "width": "20px"
          }
        },
        "a78e46ce115b405789181ed5ac93620f": {
          "model_module": "@jupyter-widgets/base",
          "model_module_version": "1.2.0",
          "model_name": "LayoutModel",
          "state": {
            "_model_module": "@jupyter-widgets/base",
            "_model_module_version": "1.2.0",
            "_model_name": "LayoutModel",
            "_view_count": null,
            "_view_module": "@jupyter-widgets/base",
            "_view_module_version": "1.2.0",
            "_view_name": "LayoutView",
            "align_content": null,
            "align_items": null,
            "align_self": null,
            "border": null,
            "bottom": null,
            "display": null,
            "flex": null,
            "flex_flow": null,
            "grid_area": null,
            "grid_auto_columns": null,
            "grid_auto_flow": null,
            "grid_auto_rows": null,
            "grid_column": null,
            "grid_gap": null,
            "grid_row": null,
            "grid_template_areas": null,
            "grid_template_columns": null,
            "grid_template_rows": null,
            "height": null,
            "justify_content": null,
            "justify_items": null,
            "left": null,
            "margin": null,
            "max_height": null,
            "max_width": null,
            "min_height": null,
            "min_width": null,
            "object_fit": null,
            "object_position": null,
            "order": null,
            "overflow": null,
            "overflow_x": null,
            "overflow_y": null,
            "padding": null,
            "right": null,
            "top": null,
            "visibility": null,
            "width": null
          }
        },
        "a872f4a3080f41169373830a869110c2": {
          "model_module": "@jupyter-widgets/controls",
          "model_module_version": "1.5.0",
          "model_name": "DescriptionStyleModel",
          "state": {
            "_model_module": "@jupyter-widgets/controls",
            "_model_module_version": "1.5.0",
            "_model_name": "DescriptionStyleModel",
            "_view_count": null,
            "_view_module": "@jupyter-widgets/base",
            "_view_module_version": "1.2.0",
            "_view_name": "StyleView",
            "description_width": ""
          }
        },
        "a88c03f349ec4aa7b87fb289ff0b4cf3": {
          "model_module": "@jupyter-widgets/controls",
          "model_module_version": "1.5.0",
          "model_name": "HTMLModel",
          "state": {
            "_dom_classes": [],
            "_model_module": "@jupyter-widgets/controls",
            "_model_module_version": "1.5.0",
            "_model_name": "HTMLModel",
            "_view_count": null,
            "_view_module": "@jupyter-widgets/controls",
            "_view_module_version": "1.5.0",
            "_view_name": "HTMLView",
            "description": "",
            "description_tooltip": null,
            "layout": "IPY_MODEL_f2d0deb67c2b405385456d31be85d993",
            "placeholder": "​",
            "style": "IPY_MODEL_9ba76cec52f2419c9cc3475fc4807d6c",
            "value": "Shuffling /root/tensorflow_datasets/food101/2.0.0.incompleteM8UC2I/food101-train.tfrecord*...: 100%"
          }
        },
        "a9047ef3bae34742a637527197a1af43": {
          "model_module": "@jupyter-widgets/base",
          "model_module_version": "1.2.0",
          "model_name": "LayoutModel",
          "state": {
            "_model_module": "@jupyter-widgets/base",
            "_model_module_version": "1.2.0",
            "_model_name": "LayoutModel",
            "_view_count": null,
            "_view_module": "@jupyter-widgets/base",
            "_view_module_version": "1.2.0",
            "_view_name": "LayoutView",
            "align_content": null,
            "align_items": null,
            "align_self": null,
            "border": null,
            "bottom": null,
            "display": null,
            "flex": null,
            "flex_flow": null,
            "grid_area": null,
            "grid_auto_columns": null,
            "grid_auto_flow": null,
            "grid_auto_rows": null,
            "grid_column": null,
            "grid_gap": null,
            "grid_row": null,
            "grid_template_areas": null,
            "grid_template_columns": null,
            "grid_template_rows": null,
            "height": null,
            "justify_content": null,
            "justify_items": null,
            "left": null,
            "margin": null,
            "max_height": null,
            "max_width": null,
            "min_height": null,
            "min_width": null,
            "object_fit": null,
            "object_position": null,
            "order": null,
            "overflow": null,
            "overflow_x": null,
            "overflow_y": null,
            "padding": null,
            "right": null,
            "top": null,
            "visibility": null,
            "width": null
          }
        },
        "a97576f3bc924e9fae3ba0c6ead7ba1f": {
          "model_module": "@jupyter-widgets/base",
          "model_module_version": "1.2.0",
          "model_name": "LayoutModel",
          "state": {
            "_model_module": "@jupyter-widgets/base",
            "_model_module_version": "1.2.0",
            "_model_name": "LayoutModel",
            "_view_count": null,
            "_view_module": "@jupyter-widgets/base",
            "_view_module_version": "1.2.0",
            "_view_name": "LayoutView",
            "align_content": null,
            "align_items": null,
            "align_self": null,
            "border": null,
            "bottom": null,
            "display": null,
            "flex": null,
            "flex_flow": null,
            "grid_area": null,
            "grid_auto_columns": null,
            "grid_auto_flow": null,
            "grid_auto_rows": null,
            "grid_column": null,
            "grid_gap": null,
            "grid_row": null,
            "grid_template_areas": null,
            "grid_template_columns": null,
            "grid_template_rows": null,
            "height": null,
            "justify_content": null,
            "justify_items": null,
            "left": null,
            "margin": null,
            "max_height": null,
            "max_width": null,
            "min_height": null,
            "min_width": null,
            "object_fit": null,
            "object_position": null,
            "order": null,
            "overflow": null,
            "overflow_x": null,
            "overflow_y": null,
            "padding": null,
            "right": null,
            "top": null,
            "visibility": null,
            "width": null
          }
        },
        "aebe4e983258421e927da057a1dddd13": {
          "model_module": "@jupyter-widgets/base",
          "model_module_version": "1.2.0",
          "model_name": "LayoutModel",
          "state": {
            "_model_module": "@jupyter-widgets/base",
            "_model_module_version": "1.2.0",
            "_model_name": "LayoutModel",
            "_view_count": null,
            "_view_module": "@jupyter-widgets/base",
            "_view_module_version": "1.2.0",
            "_view_name": "LayoutView",
            "align_content": null,
            "align_items": null,
            "align_self": null,
            "border": null,
            "bottom": null,
            "display": null,
            "flex": null,
            "flex_flow": null,
            "grid_area": null,
            "grid_auto_columns": null,
            "grid_auto_flow": null,
            "grid_auto_rows": null,
            "grid_column": null,
            "grid_gap": null,
            "grid_row": null,
            "grid_template_areas": null,
            "grid_template_columns": null,
            "grid_template_rows": null,
            "height": null,
            "justify_content": null,
            "justify_items": null,
            "left": null,
            "margin": null,
            "max_height": null,
            "max_width": null,
            "min_height": null,
            "min_width": null,
            "object_fit": null,
            "object_position": null,
            "order": null,
            "overflow": null,
            "overflow_x": null,
            "overflow_y": null,
            "padding": null,
            "right": null,
            "top": null,
            "visibility": null,
            "width": null
          }
        },
        "b02e8cedb8074ecd888c0c15bb0fd37a": {
          "model_module": "@jupyter-widgets/base",
          "model_module_version": "1.2.0",
          "model_name": "LayoutModel",
          "state": {
            "_model_module": "@jupyter-widgets/base",
            "_model_module_version": "1.2.0",
            "_model_name": "LayoutModel",
            "_view_count": null,
            "_view_module": "@jupyter-widgets/base",
            "_view_module_version": "1.2.0",
            "_view_name": "LayoutView",
            "align_content": null,
            "align_items": null,
            "align_self": null,
            "border": null,
            "bottom": null,
            "display": null,
            "flex": null,
            "flex_flow": null,
            "grid_area": null,
            "grid_auto_columns": null,
            "grid_auto_flow": null,
            "grid_auto_rows": null,
            "grid_column": null,
            "grid_gap": null,
            "grid_row": null,
            "grid_template_areas": null,
            "grid_template_columns": null,
            "grid_template_rows": null,
            "height": null,
            "justify_content": null,
            "justify_items": null,
            "left": null,
            "margin": null,
            "max_height": null,
            "max_width": null,
            "min_height": null,
            "min_width": null,
            "object_fit": null,
            "object_position": null,
            "order": null,
            "overflow": null,
            "overflow_x": null,
            "overflow_y": null,
            "padding": null,
            "right": null,
            "top": null,
            "visibility": null,
            "width": null
          }
        },
        "b36c7b0b030a4090a517d57746f7af6d": {
          "model_module": "@jupyter-widgets/controls",
          "model_module_version": "1.5.0",
          "model_name": "FloatProgressModel",
          "state": {
            "_dom_classes": [],
            "_model_module": "@jupyter-widgets/controls",
            "_model_module_version": "1.5.0",
            "_model_name": "FloatProgressModel",
            "_view_count": null,
            "_view_module": "@jupyter-widgets/controls",
            "_view_module_version": "1.5.0",
            "_view_name": "ProgressView",
            "bar_style": "success",
            "description": "",
            "description_tooltip": null,
            "layout": "IPY_MODEL_332ef8936d974966b212b67dfccbceb5",
            "max": 1,
            "min": 0,
            "orientation": "horizontal",
            "style": "IPY_MODEL_98ce35c4ed5f448eb9d1631e7e5d536e",
            "value": 1
          }
        },
        "b44d46aac7a54493a7291fcd51560a5b": {
          "model_module": "@jupyter-widgets/controls",
          "model_module_version": "1.5.0",
          "model_name": "HBoxModel",
          "state": {
            "_dom_classes": [],
            "_model_module": "@jupyter-widgets/controls",
            "_model_module_version": "1.5.0",
            "_model_name": "HBoxModel",
            "_view_count": null,
            "_view_module": "@jupyter-widgets/controls",
            "_view_module_version": "1.5.0",
            "_view_name": "HBoxView",
            "box_style": "",
            "children": [
              "IPY_MODEL_8f70c0c7b8b04f8a94f95edea80d4a2a",
              "IPY_MODEL_200a57fef2fb4ac39040e17826fa4446",
              "IPY_MODEL_655538b2d5004b468a1cf385adeaa7ec"
            ],
            "layout": "IPY_MODEL_4097dfa074134216b17c5dfbcf4eab8a"
          }
        },
        "be244a620b994d64b2968a42cf9ae729": {
          "model_module": "@jupyter-widgets/base",
          "model_module_version": "1.2.0",
          "model_name": "LayoutModel",
          "state": {
            "_model_module": "@jupyter-widgets/base",
            "_model_module_version": "1.2.0",
            "_model_name": "LayoutModel",
            "_view_count": null,
            "_view_module": "@jupyter-widgets/base",
            "_view_module_version": "1.2.0",
            "_view_name": "LayoutView",
            "align_content": null,
            "align_items": null,
            "align_self": null,
            "border": null,
            "bottom": null,
            "display": null,
            "flex": null,
            "flex_flow": null,
            "grid_area": null,
            "grid_auto_columns": null,
            "grid_auto_flow": null,
            "grid_auto_rows": null,
            "grid_column": null,
            "grid_gap": null,
            "grid_row": null,
            "grid_template_areas": null,
            "grid_template_columns": null,
            "grid_template_rows": null,
            "height": null,
            "justify_content": null,
            "justify_items": null,
            "left": null,
            "margin": null,
            "max_height": null,
            "max_width": null,
            "min_height": null,
            "min_width": null,
            "object_fit": null,
            "object_position": null,
            "order": null,
            "overflow": null,
            "overflow_x": null,
            "overflow_y": null,
            "padding": null,
            "right": null,
            "top": null,
            "visibility": null,
            "width": null
          }
        },
        "c13057c4a5c64a18bfd57744f06b9666": {
          "model_module": "@jupyter-widgets/controls",
          "model_module_version": "1.5.0",
          "model_name": "DescriptionStyleModel",
          "state": {
            "_model_module": "@jupyter-widgets/controls",
            "_model_module_version": "1.5.0",
            "_model_name": "DescriptionStyleModel",
            "_view_count": null,
            "_view_module": "@jupyter-widgets/base",
            "_view_module_version": "1.2.0",
            "_view_name": "StyleView",
            "description_width": ""
          }
        },
        "c38df81e3a774545acc86fb912b1a074": {
          "model_module": "@jupyter-widgets/base",
          "model_module_version": "1.2.0",
          "model_name": "LayoutModel",
          "state": {
            "_model_module": "@jupyter-widgets/base",
            "_model_module_version": "1.2.0",
            "_model_name": "LayoutModel",
            "_view_count": null,
            "_view_module": "@jupyter-widgets/base",
            "_view_module_version": "1.2.0",
            "_view_name": "LayoutView",
            "align_content": null,
            "align_items": null,
            "align_self": null,
            "border": null,
            "bottom": null,
            "display": null,
            "flex": null,
            "flex_flow": null,
            "grid_area": null,
            "grid_auto_columns": null,
            "grid_auto_flow": null,
            "grid_auto_rows": null,
            "grid_column": null,
            "grid_gap": null,
            "grid_row": null,
            "grid_template_areas": null,
            "grid_template_columns": null,
            "grid_template_rows": null,
            "height": null,
            "justify_content": null,
            "justify_items": null,
            "left": null,
            "margin": null,
            "max_height": null,
            "max_width": null,
            "min_height": null,
            "min_width": null,
            "object_fit": null,
            "object_position": null,
            "order": null,
            "overflow": null,
            "overflow_x": null,
            "overflow_y": null,
            "padding": null,
            "right": null,
            "top": null,
            "visibility": null,
            "width": null
          }
        },
        "c472ee52421044b583eb28d4aba33d91": {
          "model_module": "@jupyter-widgets/controls",
          "model_module_version": "1.5.0",
          "model_name": "DescriptionStyleModel",
          "state": {
            "_model_module": "@jupyter-widgets/controls",
            "_model_module_version": "1.5.0",
            "_model_name": "DescriptionStyleModel",
            "_view_count": null,
            "_view_module": "@jupyter-widgets/base",
            "_view_module_version": "1.2.0",
            "_view_name": "StyleView",
            "description_width": ""
          }
        },
        "c49cf58f733244e688c6f3984e7954e6": {
          "model_module": "@jupyter-widgets/controls",
          "model_module_version": "1.5.0",
          "model_name": "HTMLModel",
          "state": {
            "_dom_classes": [],
            "_model_module": "@jupyter-widgets/controls",
            "_model_module_version": "1.5.0",
            "_model_name": "HTMLModel",
            "_view_count": null,
            "_view_module": "@jupyter-widgets/controls",
            "_view_module_version": "1.5.0",
            "_view_name": "HTMLView",
            "description": "",
            "description_tooltip": null,
            "layout": "IPY_MODEL_9ee321a0c4be413aaceb2176ec8142f5",
            "placeholder": "​",
            "style": "IPY_MODEL_257427c484d345d18f28a5b6d8e2f191",
            "value": "Extraction completed...:  98%"
          }
        },
        "c5da687dd6854f7781b5ed29eb57c9fc": {
          "model_module": "@jupyter-widgets/controls",
          "model_module_version": "1.5.0",
          "model_name": "DescriptionStyleModel",
          "state": {
            "_model_module": "@jupyter-widgets/controls",
            "_model_module_version": "1.5.0",
            "_model_name": "DescriptionStyleModel",
            "_view_count": null,
            "_view_module": "@jupyter-widgets/base",
            "_view_module_version": "1.2.0",
            "_view_name": "StyleView",
            "description_width": ""
          }
        },
        "c6711ea3c12244b9904c7ea8bc7f3406": {
          "model_module": "@jupyter-widgets/controls",
          "model_module_version": "1.5.0",
          "model_name": "ProgressStyleModel",
          "state": {
            "_model_module": "@jupyter-widgets/controls",
            "_model_module_version": "1.5.0",
            "_model_name": "ProgressStyleModel",
            "_view_count": null,
            "_view_module": "@jupyter-widgets/base",
            "_view_module_version": "1.2.0",
            "_view_name": "StyleView",
            "bar_color": null,
            "description_width": ""
          }
        },
        "c6a463485edd44f283b4538adfef3b2f": {
          "model_module": "@jupyter-widgets/controls",
          "model_module_version": "1.5.0",
          "model_name": "HTMLModel",
          "state": {
            "_dom_classes": [],
            "_model_module": "@jupyter-widgets/controls",
            "_model_module_version": "1.5.0",
            "_model_name": "HTMLModel",
            "_view_count": null,
            "_view_module": "@jupyter-widgets/controls",
            "_view_module_version": "1.5.0",
            "_view_name": "HTMLView",
            "description": "",
            "description_tooltip": null,
            "layout": "IPY_MODEL_be244a620b994d64b2968a42cf9ae729",
            "placeholder": "​",
            "style": "IPY_MODEL_c5da687dd6854f7781b5ed29eb57c9fc",
            "value": " 2/2 [03:36&lt;00:00, 101.25s/ splits]"
          }
        },
        "cd81664540fe41f2b46dae3ba3596b95": {
          "model_module": "@jupyter-widgets/controls",
          "model_module_version": "1.5.0",
          "model_name": "HTMLModel",
          "state": {
            "_dom_classes": [],
            "_model_module": "@jupyter-widgets/controls",
            "_model_module_version": "1.5.0",
            "_model_name": "HTMLModel",
            "_view_count": null,
            "_view_module": "@jupyter-widgets/controls",
            "_view_module_version": "1.5.0",
            "_view_name": "HTMLView",
            "description": "",
            "description_tooltip": null,
            "layout": "IPY_MODEL_92222807a7ed4fdabb81b5a1f79d74d6",
            "placeholder": "​",
            "style": "IPY_MODEL_d67a3f83fab440e7ae4b459e380c2670",
            "value": " 75534/75750 [00:31&lt;00:00, 2635.11 examples/s]"
          }
        },
        "d408a8a73dbf4a2988c6872978f5db4e": {
          "model_module": "@jupyter-widgets/controls",
          "model_module_version": "1.5.0",
          "model_name": "DescriptionStyleModel",
          "state": {
            "_model_module": "@jupyter-widgets/controls",
            "_model_module_version": "1.5.0",
            "_model_name": "DescriptionStyleModel",
            "_view_count": null,
            "_view_module": "@jupyter-widgets/base",
            "_view_module_version": "1.2.0",
            "_view_name": "StyleView",
            "description_width": ""
          }
        },
        "d67a3f83fab440e7ae4b459e380c2670": {
          "model_module": "@jupyter-widgets/controls",
          "model_module_version": "1.5.0",
          "model_name": "DescriptionStyleModel",
          "state": {
            "_model_module": "@jupyter-widgets/controls",
            "_model_module_version": "1.5.0",
            "_model_name": "DescriptionStyleModel",
            "_view_count": null,
            "_view_module": "@jupyter-widgets/base",
            "_view_module_version": "1.2.0",
            "_view_name": "StyleView",
            "description_width": ""
          }
        },
        "d86d6c0b03534beb85bb2ae3c1621384": {
          "model_module": "@jupyter-widgets/controls",
          "model_module_version": "1.5.0",
          "model_name": "HTMLModel",
          "state": {
            "_dom_classes": [],
            "_model_module": "@jupyter-widgets/controls",
            "_model_module_version": "1.5.0",
            "_model_name": "HTMLModel",
            "_view_count": null,
            "_view_module": "@jupyter-widgets/controls",
            "_view_module_version": "1.5.0",
            "_view_name": "HTMLView",
            "description": "",
            "description_tooltip": null,
            "layout": "IPY_MODEL_a9047ef3bae34742a637527197a1af43",
            "placeholder": "​",
            "style": "IPY_MODEL_c472ee52421044b583eb28d4aba33d91",
            "value": "Generating train examples...: 100%"
          }
        },
        "de83bfeaa7ce4701b7db85813eba6420": {
          "model_module": "@jupyter-widgets/base",
          "model_module_version": "1.2.0",
          "model_name": "LayoutModel",
          "state": {
            "_model_module": "@jupyter-widgets/base",
            "_model_module_version": "1.2.0",
            "_model_name": "LayoutModel",
            "_view_count": null,
            "_view_module": "@jupyter-widgets/base",
            "_view_module_version": "1.2.0",
            "_view_name": "LayoutView",
            "align_content": null,
            "align_items": null,
            "align_self": null,
            "border": null,
            "bottom": null,
            "display": null,
            "flex": null,
            "flex_flow": null,
            "grid_area": null,
            "grid_auto_columns": null,
            "grid_auto_flow": null,
            "grid_auto_rows": null,
            "grid_column": null,
            "grid_gap": null,
            "grid_row": null,
            "grid_template_areas": null,
            "grid_template_columns": null,
            "grid_template_rows": null,
            "height": null,
            "justify_content": null,
            "justify_items": null,
            "left": null,
            "margin": null,
            "max_height": null,
            "max_width": null,
            "min_height": null,
            "min_width": null,
            "object_fit": null,
            "object_position": null,
            "order": null,
            "overflow": null,
            "overflow_x": null,
            "overflow_y": null,
            "padding": null,
            "right": null,
            "top": null,
            "visibility": null,
            "width": null
          }
        },
        "e32e068d41c34f378ac29a34c36f9644": {
          "model_module": "@jupyter-widgets/controls",
          "model_module_version": "1.5.0",
          "model_name": "FloatProgressModel",
          "state": {
            "_dom_classes": [],
            "_model_module": "@jupyter-widgets/controls",
            "_model_module_version": "1.5.0",
            "_model_name": "FloatProgressModel",
            "_view_count": null,
            "_view_module": "@jupyter-widgets/controls",
            "_view_module_version": "1.5.0",
            "_view_name": "ProgressView",
            "bar_style": "",
            "description": "",
            "description_tooltip": null,
            "layout": "IPY_MODEL_7dd426dc7d3d4d359d8c485d81f9e41a",
            "max": 2,
            "min": 0,
            "orientation": "horizontal",
            "style": "IPY_MODEL_726c8a8db919457aa3f57c1dc3224871",
            "value": 2
          }
        },
        "e6d1b46df5ff48d5bd2e26aee0bcc01c": {
          "model_module": "@jupyter-widgets/controls",
          "model_module_version": "1.5.0",
          "model_name": "HTMLModel",
          "state": {
            "_dom_classes": [],
            "_model_module": "@jupyter-widgets/controls",
            "_model_module_version": "1.5.0",
            "_model_name": "HTMLModel",
            "_view_count": null,
            "_view_module": "@jupyter-widgets/controls",
            "_view_module_version": "1.5.0",
            "_view_name": "HTMLView",
            "description": "",
            "description_tooltip": null,
            "layout": "IPY_MODEL_e779ec4622934507ad652a06b8da15d7",
            "placeholder": "​",
            "style": "IPY_MODEL_d408a8a73dbf4a2988c6872978f5db4e",
            "value": "Generating splits...: 100%"
          }
        },
        "e779ec4622934507ad652a06b8da15d7": {
          "model_module": "@jupyter-widgets/base",
          "model_module_version": "1.2.0",
          "model_name": "LayoutModel",
          "state": {
            "_model_module": "@jupyter-widgets/base",
            "_model_module_version": "1.2.0",
            "_model_name": "LayoutModel",
            "_view_count": null,
            "_view_module": "@jupyter-widgets/base",
            "_view_module_version": "1.2.0",
            "_view_name": "LayoutView",
            "align_content": null,
            "align_items": null,
            "align_self": null,
            "border": null,
            "bottom": null,
            "display": null,
            "flex": null,
            "flex_flow": null,
            "grid_area": null,
            "grid_auto_columns": null,
            "grid_auto_flow": null,
            "grid_auto_rows": null,
            "grid_column": null,
            "grid_gap": null,
            "grid_row": null,
            "grid_template_areas": null,
            "grid_template_columns": null,
            "grid_template_rows": null,
            "height": null,
            "justify_content": null,
            "justify_items": null,
            "left": null,
            "margin": null,
            "max_height": null,
            "max_width": null,
            "min_height": null,
            "min_width": null,
            "object_fit": null,
            "object_position": null,
            "order": null,
            "overflow": null,
            "overflow_x": null,
            "overflow_y": null,
            "padding": null,
            "right": null,
            "top": null,
            "visibility": null,
            "width": null
          }
        },
        "e85947e529bf45cb9d30b3186bcf84eb": {
          "model_module": "@jupyter-widgets/controls",
          "model_module_version": "1.5.0",
          "model_name": "DescriptionStyleModel",
          "state": {
            "_model_module": "@jupyter-widgets/controls",
            "_model_module_version": "1.5.0",
            "_model_name": "DescriptionStyleModel",
            "_view_count": null,
            "_view_module": "@jupyter-widgets/base",
            "_view_module_version": "1.2.0",
            "_view_name": "StyleView",
            "description_width": ""
          }
        },
        "f2d0deb67c2b405385456d31be85d993": {
          "model_module": "@jupyter-widgets/base",
          "model_module_version": "1.2.0",
          "model_name": "LayoutModel",
          "state": {
            "_model_module": "@jupyter-widgets/base",
            "_model_module_version": "1.2.0",
            "_model_name": "LayoutModel",
            "_view_count": null,
            "_view_module": "@jupyter-widgets/base",
            "_view_module_version": "1.2.0",
            "_view_name": "LayoutView",
            "align_content": null,
            "align_items": null,
            "align_self": null,
            "border": null,
            "bottom": null,
            "display": null,
            "flex": null,
            "flex_flow": null,
            "grid_area": null,
            "grid_auto_columns": null,
            "grid_auto_flow": null,
            "grid_auto_rows": null,
            "grid_column": null,
            "grid_gap": null,
            "grid_row": null,
            "grid_template_areas": null,
            "grid_template_columns": null,
            "grid_template_rows": null,
            "height": null,
            "justify_content": null,
            "justify_items": null,
            "left": null,
            "margin": null,
            "max_height": null,
            "max_width": null,
            "min_height": null,
            "min_width": null,
            "object_fit": null,
            "object_position": null,
            "order": null,
            "overflow": null,
            "overflow_x": null,
            "overflow_y": null,
            "padding": null,
            "right": null,
            "top": null,
            "visibility": null,
            "width": null
          }
        },
        "f3a77cad1f29414e858bba9e5dcd5a74": {
          "model_module": "@jupyter-widgets/controls",
          "model_module_version": "1.5.0",
          "model_name": "ProgressStyleModel",
          "state": {
            "_model_module": "@jupyter-widgets/controls",
            "_model_module_version": "1.5.0",
            "_model_name": "ProgressStyleModel",
            "_view_count": null,
            "_view_module": "@jupyter-widgets/base",
            "_view_module_version": "1.2.0",
            "_view_name": "StyleView",
            "bar_color": null,
            "description_width": ""
          }
        },
        "f5a663a8f5c6465cac0bf4c69b68b389": {
          "model_module": "@jupyter-widgets/base",
          "model_module_version": "1.2.0",
          "model_name": "LayoutModel",
          "state": {
            "_model_module": "@jupyter-widgets/base",
            "_model_module_version": "1.2.0",
            "_model_name": "LayoutModel",
            "_view_count": null,
            "_view_module": "@jupyter-widgets/base",
            "_view_module_version": "1.2.0",
            "_view_name": "LayoutView",
            "align_content": null,
            "align_items": null,
            "align_self": null,
            "border": null,
            "bottom": null,
            "display": null,
            "flex": null,
            "flex_flow": null,
            "grid_area": null,
            "grid_auto_columns": null,
            "grid_auto_flow": null,
            "grid_auto_rows": null,
            "grid_column": null,
            "grid_gap": null,
            "grid_row": null,
            "grid_template_areas": null,
            "grid_template_columns": null,
            "grid_template_rows": null,
            "height": null,
            "justify_content": null,
            "justify_items": null,
            "left": null,
            "margin": null,
            "max_height": null,
            "max_width": null,
            "min_height": null,
            "min_width": null,
            "object_fit": null,
            "object_position": null,
            "order": null,
            "overflow": null,
            "overflow_x": null,
            "overflow_y": null,
            "padding": null,
            "right": null,
            "top": null,
            "visibility": null,
            "width": null
          }
        },
        "f94f73de96394d81801cf1a33490591b": {
          "model_module": "@jupyter-widgets/controls",
          "model_module_version": "1.5.0",
          "model_name": "HTMLModel",
          "state": {
            "_dom_classes": [],
            "_model_module": "@jupyter-widgets/controls",
            "_model_module_version": "1.5.0",
            "_model_name": "HTMLModel",
            "_view_count": null,
            "_view_module": "@jupyter-widgets/controls",
            "_view_module_version": "1.5.0",
            "_view_name": "HTMLView",
            "description": "",
            "description_tooltip": null,
            "layout": "IPY_MODEL_7123231b23b2449f8e6c8997022a443c",
            "placeholder": "​",
            "style": "IPY_MODEL_248b5862ed2747c0b3ebd07901050234",
            "value": " 75659/75750 [01:56&lt;00:00, 619.48 examples/s]"
          }
        },
        "faae0897d419477db52cd8519f1626cb": {
          "model_module": "@jupyter-widgets/controls",
          "model_module_version": "1.5.0",
          "model_name": "HTMLModel",
          "state": {
            "_dom_classes": [],
            "_model_module": "@jupyter-widgets/controls",
            "_model_module_version": "1.5.0",
            "_model_name": "HTMLModel",
            "_view_count": null,
            "_view_module": "@jupyter-widgets/controls",
            "_view_module_version": "1.5.0",
            "_view_name": "HTMLView",
            "description": "",
            "description_tooltip": null,
            "layout": "IPY_MODEL_de83bfeaa7ce4701b7db85813eba6420",
            "placeholder": "​",
            "style": "IPY_MODEL_80c454d482644105b4e366a97f41e629",
            "value": " 4764/4764 [15:42&lt;00:00, 11.12 MiB/s]"
          }
        }
      }
    }
  },
  "nbformat": 4,
  "nbformat_minor": 0
}