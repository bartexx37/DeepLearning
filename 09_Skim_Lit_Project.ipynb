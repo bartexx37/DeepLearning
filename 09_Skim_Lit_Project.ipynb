{
  "nbformat": 4,
  "nbformat_minor": 0,
  "metadata": {
    "colab": {
      "provenance": [],
      "toc_visible": true,
      "authorship_tag": "ABX9TyNek6iGcuEi9GX+LNHM6WNG",
      "include_colab_link": true
    },
    "kernelspec": {
      "name": "python3",
      "display_name": "Python 3"
    },
    "language_info": {
      "name": "python"
    },
    "accelerator": "GPU",
    "gpuClass": "standard"
  },
  "cells": [
    {
      "cell_type": "markdown",
      "metadata": {
        "id": "view-in-github",
        "colab_type": "text"
      },
      "source": [
        "<a href=\"https://colab.research.google.com/github/bartexx37/DeepLearning/blob/main/09_Skim_Lit_Project.ipynb\" target=\"_parent\"><img src=\"https://colab.research.google.com/assets/colab-badge.svg\" alt=\"Open In Colab\"/></a>"
      ]
    },
    {
      "cell_type": "markdown",
      "source": [
        "#Sklimlit Project\n",
        "\n",
        "- Replicating paper : https://arxiv.org/pdf/1710.06071.pdf\n",
        "- Architecture for project : https://arxiv.org/pdf/1612.05251.pdf"
      ],
      "metadata": {
        "id": "z0-1_oXGF9eR"
      }
    },
    {
      "cell_type": "markdown",
      "source": [
        "#Confirm access to a GPU"
      ],
      "metadata": {
        "id": "xHZaWMZHGZQj"
      }
    },
    {
      "cell_type": "code",
      "source": [
        "!nvidia-smi -L"
      ],
      "metadata": {
        "colab": {
          "base_uri": "https://localhost:8080/"
        },
        "id": "wlePGMJnGsnW",
        "outputId": "ec736fad-ef08-485f-82e0-40909efe283c"
      },
      "execution_count": 133,
      "outputs": [
        {
          "output_type": "stream",
          "name": "stdout",
          "text": [
            "NVIDIA-SMI has failed because it couldn't communicate with the NVIDIA driver. Make sure that the latest NVIDIA driver is installed and running.\n",
            "\n"
          ]
        }
      ]
    },
    {
      "cell_type": "code",
      "source": [
        "!wget https://raw.githubusercontent.com/mrdbourke/tensorflow-deep-learning/main/extras/helper_functions.py\n",
        "import helper_functions as hp"
      ],
      "metadata": {
        "colab": {
          "base_uri": "https://localhost:8080/"
        },
        "id": "Tk14QpXhW3XA",
        "outputId": "6adb25ba-aed2-4a46-f0c2-c7e91e6b8ed4"
      },
      "execution_count": 2,
      "outputs": [
        {
          "output_type": "stream",
          "name": "stdout",
          "text": [
            "--2023-02-23 16:18:53--  https://raw.githubusercontent.com/mrdbourke/tensorflow-deep-learning/main/extras/helper_functions.py\n",
            "Resolving raw.githubusercontent.com (raw.githubusercontent.com)... 185.199.111.133, 185.199.110.133, 185.199.108.133, ...\n",
            "Connecting to raw.githubusercontent.com (raw.githubusercontent.com)|185.199.111.133|:443... connected.\n",
            "HTTP request sent, awaiting response... 200 OK\n",
            "Length: 10246 (10K) [text/plain]\n",
            "Saving to: ‘helper_functions.py’\n",
            "\n",
            "helper_functions.py 100%[===================>]  10.01K  --.-KB/s    in 0s      \n",
            "\n",
            "2023-02-23 16:18:53 (69.2 MB/s) - ‘helper_functions.py’ saved [10246/10246]\n",
            "\n"
          ]
        }
      ]
    },
    {
      "cell_type": "markdown",
      "source": [
        "# Get data\n",
        "\n",
        "- Dataset from PubMed 200k RCT, taking it from authors Github linked in paper: https://github.com/Franck-Dernoncourt/pubmed-rct\n",
        "\n",
        "- Dev.txt - another word in machine learning for calidation dataset\n"
      ],
      "metadata": {
        "id": "vwqxoImCGz0I"
      }
    },
    {
      "cell_type": "code",
      "source": [
        "!git clone https://github.com/Franck-Dernoncourt/pubmed-rct"
      ],
      "metadata": {
        "colab": {
          "base_uri": "https://localhost:8080/"
        },
        "id": "kiLUK9DxG-Gj",
        "outputId": "a1b933f7-4947-40cf-beed-4ece36ea2832"
      },
      "execution_count": 3,
      "outputs": [
        {
          "output_type": "stream",
          "name": "stdout",
          "text": [
            "Cloning into 'pubmed-rct'...\n",
            "remote: Enumerating objects: 33, done.\u001b[K\n",
            "remote: Counting objects: 100% (8/8), done.\u001b[K\n",
            "remote: Compressing objects: 100% (3/3), done.\u001b[K\n",
            "remote: Total 33 (delta 5), reused 5 (delta 5), pack-reused 25\u001b[K\n",
            "Unpacking objects: 100% (33/33), 177.08 MiB | 10.09 MiB/s, done.\n"
          ]
        }
      ]
    },
    {
      "cell_type": "code",
      "source": [
        "!ls pubmed-rct"
      ],
      "metadata": {
        "colab": {
          "base_uri": "https://localhost:8080/"
        },
        "id": "8jWdVD_NO_ua",
        "outputId": "7f5ff7b4-0e92-4db5-8ae3-65b5f5653350"
      },
      "execution_count": 4,
      "outputs": [
        {
          "output_type": "stream",
          "name": "stdout",
          "text": [
            "PubMed_200k_RCT\n",
            "PubMed_200k_RCT_numbers_replaced_with_at_sign\n",
            "PubMed_20k_RCT\n",
            "PubMed_20k_RCT_numbers_replaced_with_at_sign\n",
            "README.md\n"
          ]
        }
      ]
    },
    {
      "cell_type": "code",
      "source": [
        "!ls pubmed-rct/PubMed_20k_RCT_numbers_replaced_with_at_sign/\n",
        "'''\n",
        "There are 3 files:\n",
        "1. dev.txt - validation dataset\n",
        "2. test.txt - test dataset\n",
        "3. train.txt - train dataset\n",
        "'''"
      ],
      "metadata": {
        "colab": {
          "base_uri": "https://localhost:8080/",
          "height": 53
        },
        "id": "KdFrUiQ7PKaq",
        "outputId": "3071a7ec-eda5-4089-bbde-d2a4342fbffe"
      },
      "execution_count": 5,
      "outputs": [
        {
          "output_type": "stream",
          "name": "stdout",
          "text": [
            "dev.txt  test.txt  train.txt\n"
          ]
        },
        {
          "output_type": "execute_result",
          "data": {
            "text/plain": [
              "'\\nThere are 3 files:\\n1. dev.txt - validation dataset\\n2. test.txt - test dataset\\n3. train.txt - train dataset\\n'"
            ],
            "application/vnd.google.colaboratory.intrinsic+json": {
              "type": "string"
            }
          },
          "metadata": {},
          "execution_count": 5
        }
      ]
    },
    {
      "cell_type": "code",
      "source": [
        "import os\n",
        "data_dir = \"pubmed-rct/PubMed_20k_RCT_numbers_replaced_with_at_sign/\"\n",
        "filenames = [data_dir + filename for filename in os.listdir(data_dir)]\n",
        "filenames"
      ],
      "metadata": {
        "colab": {
          "base_uri": "https://localhost:8080/"
        },
        "id": "F490eODDPabN",
        "outputId": "2c90a291-747b-4385-fcf7-51036655796b"
      },
      "execution_count": 6,
      "outputs": [
        {
          "output_type": "execute_result",
          "data": {
            "text/plain": [
              "['pubmed-rct/PubMed_20k_RCT_numbers_replaced_with_at_sign/train.txt',\n",
              " 'pubmed-rct/PubMed_20k_RCT_numbers_replaced_with_at_sign/test.txt',\n",
              " 'pubmed-rct/PubMed_20k_RCT_numbers_replaced_with_at_sign/dev.txt']"
            ]
          },
          "metadata": {},
          "execution_count": 6
        }
      ]
    },
    {
      "cell_type": "markdown",
      "source": [
        "# Preprocessing Data"
      ],
      "metadata": {
        "id": "JNXCjmPkPzcQ"
      }
    },
    {
      "cell_type": "code",
      "source": [
        "def get_lines(filename):\n",
        "  '''\n",
        "  Reads filename (txt) returns list of lines\n",
        "\n",
        "  Args:\n",
        "    filename: a string containing target filepath\n",
        "  \n",
        "  Return: List of strings - one string per line\n",
        "  '''\n",
        "  with open(filename, \"r\") as f:\n",
        "    return f.readlines()"
      ],
      "metadata": {
        "id": "o3dtxUz4Rw3C"
      },
      "execution_count": 7,
      "outputs": []
    },
    {
      "cell_type": "markdown",
      "source": [
        "Get data in form of list of directories like :\n",
        "```\n",
        "[{'line_num': num,\n",
        "  'target': e.g. 'BACKGROUND',\n",
        "  'text': e.g  \"Pain was assessed using the visual analog pain scale ( @-@ mm ) .\\n\",\n",
        "  'num_of_lines': lines for one article},\n",
        "next sentences...]\n",
        "```"
      ],
      "metadata": {
        "id": "yXBr6ovVSYxU"
      }
    },
    {
      "cell_type": "code",
      "source": [
        "def preprocess_lines(filename):\n",
        "  lines = get_lines(filename) #Getting lines from filename\n",
        "  #Prepare text for learning\n",
        "  train_data=[]\n",
        "  j=0\n",
        "  for i,line in enumerate(lines):\n",
        "    if line.startswith(\"###\"):\n",
        "      for k,check_line in enumerate(lines[i:]):\n",
        "        if check_line.isspace():\n",
        "          break\n",
        "    elif line.isspace():\n",
        "      j=0\n",
        "    else:\n",
        "      train_data.append({'line_num': j,\n",
        "                        'target': line.split(\"\\t\")[0],\n",
        "                        'text': line.split(\"\\t\")[1][:-1].lower(),\n",
        "                        'num_of_lines':k-2})#Substracting 2 because of first ### line and last \"\\n\" line\n",
        "      j+=1\n",
        "  return train_data"
      ],
      "metadata": {
        "id": "rUUQOMXTUN5S"
      },
      "execution_count": 8,
      "outputs": []
    },
    {
      "cell_type": "code",
      "source": [
        "%%time\n",
        "\n",
        "train_samples = preprocess_lines(data_dir+\"train.txt\")\n",
        "val_samples = preprocess_lines(data_dir+\"dev.txt\")\n",
        "test_samples = preprocess_lines(data_dir+\"test.txt\")\n",
        "\n",
        "print(len(train_samples),len(val_samples),len(test_samples))"
      ],
      "metadata": {
        "colab": {
          "base_uri": "https://localhost:8080/"
        },
        "id": "WK7tboA32ekI",
        "outputId": "3fa3e9ee-3ad9-4d85-9941-484b0b0cd98c"
      },
      "execution_count": 9,
      "outputs": [
        {
          "output_type": "stream",
          "name": "stdout",
          "text": [
            "180040 30212 30135\n",
            "CPU times: user 22.9 s, sys: 287 ms, total: 23.2 s\n",
            "Wall time: 23.3 s\n"
          ]
        }
      ]
    },
    {
      "cell_type": "code",
      "source": [
        "train_samples[:14]"
      ],
      "metadata": {
        "colab": {
          "base_uri": "https://localhost:8080/"
        },
        "id": "YOISe5CSGRk4",
        "outputId": "a3c5c956-4ec6-4414-c157-b46003edfbe5"
      },
      "execution_count": 10,
      "outputs": [
        {
          "output_type": "execute_result",
          "data": {
            "text/plain": [
              "[{'line_num': 0,\n",
              "  'target': 'OBJECTIVE',\n",
              "  'text': 'to investigate the efficacy of @ weeks of daily low-dose oral prednisolone in improving pain , mobility , and systemic low-grade inflammation in the short term and whether the effect would be sustained at @ weeks in older adults with moderate to severe knee osteoarthritis ( oa ) .',\n",
              "  'num_of_lines': 11},\n",
              " {'line_num': 1,\n",
              "  'target': 'METHODS',\n",
              "  'text': 'a total of @ patients with primary knee oa were randomized @:@ ; @ received @ mg/day of prednisolone and @ received placebo for @ weeks .',\n",
              "  'num_of_lines': 11},\n",
              " {'line_num': 2,\n",
              "  'target': 'METHODS',\n",
              "  'text': 'outcome measures included pain reduction and improvement in function scores and systemic inflammation markers .',\n",
              "  'num_of_lines': 11},\n",
              " {'line_num': 3,\n",
              "  'target': 'METHODS',\n",
              "  'text': 'pain was assessed using the visual analog pain scale ( @-@ mm ) .',\n",
              "  'num_of_lines': 11},\n",
              " {'line_num': 4,\n",
              "  'target': 'METHODS',\n",
              "  'text': 'secondary outcome measures included the western ontario and mcmaster universities osteoarthritis index scores , patient global assessment ( pga ) of the severity of knee oa , and @-min walk distance ( @mwd ) .',\n",
              "  'num_of_lines': 11},\n",
              " {'line_num': 5,\n",
              "  'target': 'METHODS',\n",
              "  'text': 'serum levels of interleukin @ ( il-@ ) , il-@ , tumor necrosis factor ( tnf ) - , and high-sensitivity c-reactive protein ( hscrp ) were measured .',\n",
              "  'num_of_lines': 11},\n",
              " {'line_num': 6,\n",
              "  'target': 'RESULTS',\n",
              "  'text': 'there was a clinically relevant reduction in the intervention group compared to the placebo group for knee pain , physical function , pga , and @mwd at @ weeks .',\n",
              "  'num_of_lines': 11},\n",
              " {'line_num': 7,\n",
              "  'target': 'RESULTS',\n",
              "  'text': 'the mean difference between treatment arms ( @ % ci ) was @ ( @-@ @ ) , p < @ ; @ ( @-@ @ ) , p < @ ; @ ( @-@ @ ) , p < @ ; and @ ( @-@ @ ) , p < @ , respectively .',\n",
              "  'num_of_lines': 11},\n",
              " {'line_num': 8,\n",
              "  'target': 'RESULTS',\n",
              "  'text': 'further , there was a clinically relevant reduction in the serum levels of il-@ , il-@ , tnf - , and hscrp at @ weeks in the intervention group when compared to the placebo group .',\n",
              "  'num_of_lines': 11},\n",
              " {'line_num': 9,\n",
              "  'target': 'RESULTS',\n",
              "  'text': 'these differences remained significant at @ weeks .',\n",
              "  'num_of_lines': 11},\n",
              " {'line_num': 10,\n",
              "  'target': 'RESULTS',\n",
              "  'text': 'the outcome measures in rheumatology clinical trials-osteoarthritis research society international responder rate was @ % in the intervention group and @ % in the placebo group ( p < @ ) .',\n",
              "  'num_of_lines': 11},\n",
              " {'line_num': 11,\n",
              "  'target': 'CONCLUSIONS',\n",
              "  'text': 'low-dose oral prednisolone had both a short-term and a longer sustained effect resulting in less knee pain , better physical function , and attenuation of systemic inflammation in older patients with knee oa ( clinicaltrials.gov identifier nct@ ) .',\n",
              "  'num_of_lines': 11},\n",
              " {'line_num': 0,\n",
              "  'target': 'BACKGROUND',\n",
              "  'text': 'emotional eating is associated with overeating and the development of obesity .',\n",
              "  'num_of_lines': 10},\n",
              " {'line_num': 1,\n",
              "  'target': 'BACKGROUND',\n",
              "  'text': 'yet , empirical evidence for individual ( trait ) differences in emotional eating and cognitive mechanisms that contribute to eating during sad mood remain equivocal .',\n",
              "  'num_of_lines': 10}]"
            ]
          },
          "metadata": {},
          "execution_count": 10
        }
      ]
    },
    {
      "cell_type": "code",
      "source": [
        "import pandas as pd\n",
        "train_df = pd.DataFrame(train_samples)\n",
        "val_df = pd.DataFrame(val_samples)\n",
        "test_df = pd.DataFrame(test_samples)\n",
        "train_df.head(14)"
      ],
      "metadata": {
        "colab": {
          "base_uri": "https://localhost:8080/",
          "height": 488
        },
        "id": "WJC7_tI8IvHb",
        "outputId": "c69d261a-0a55-4f98-b9e1-ae753d13b8da"
      },
      "execution_count": 11,
      "outputs": [
        {
          "output_type": "execute_result",
          "data": {
            "text/plain": [
              "    line_num       target                                               text  \\\n",
              "0          0    OBJECTIVE  to investigate the efficacy of @ weeks of dail...   \n",
              "1          1      METHODS  a total of @ patients with primary knee oa wer...   \n",
              "2          2      METHODS  outcome measures included pain reduction and i...   \n",
              "3          3      METHODS  pain was assessed using the visual analog pain...   \n",
              "4          4      METHODS  secondary outcome measures included the wester...   \n",
              "5          5      METHODS  serum levels of interleukin @ ( il-@ ) , il-@ ...   \n",
              "6          6      RESULTS  there was a clinically relevant reduction in t...   \n",
              "7          7      RESULTS  the mean difference between treatment arms ( @...   \n",
              "8          8      RESULTS  further , there was a clinically relevant redu...   \n",
              "9          9      RESULTS  these differences remained significant at @ we...   \n",
              "10        10      RESULTS  the outcome measures in rheumatology clinical ...   \n",
              "11        11  CONCLUSIONS  low-dose oral prednisolone had both a short-te...   \n",
              "12         0   BACKGROUND  emotional eating is associated with overeating...   \n",
              "13         1   BACKGROUND  yet , empirical evidence for individual ( trai...   \n",
              "\n",
              "    num_of_lines  \n",
              "0             11  \n",
              "1             11  \n",
              "2             11  \n",
              "3             11  \n",
              "4             11  \n",
              "5             11  \n",
              "6             11  \n",
              "7             11  \n",
              "8             11  \n",
              "9             11  \n",
              "10            11  \n",
              "11            11  \n",
              "12            10  \n",
              "13            10  "
            ],
            "text/html": [
              "\n",
              "  <div id=\"df-11f62e40-84ad-45c3-894e-a401c346b1ed\">\n",
              "    <div class=\"colab-df-container\">\n",
              "      <div>\n",
              "<style scoped>\n",
              "    .dataframe tbody tr th:only-of-type {\n",
              "        vertical-align: middle;\n",
              "    }\n",
              "\n",
              "    .dataframe tbody tr th {\n",
              "        vertical-align: top;\n",
              "    }\n",
              "\n",
              "    .dataframe thead th {\n",
              "        text-align: right;\n",
              "    }\n",
              "</style>\n",
              "<table border=\"1\" class=\"dataframe\">\n",
              "  <thead>\n",
              "    <tr style=\"text-align: right;\">\n",
              "      <th></th>\n",
              "      <th>line_num</th>\n",
              "      <th>target</th>\n",
              "      <th>text</th>\n",
              "      <th>num_of_lines</th>\n",
              "    </tr>\n",
              "  </thead>\n",
              "  <tbody>\n",
              "    <tr>\n",
              "      <th>0</th>\n",
              "      <td>0</td>\n",
              "      <td>OBJECTIVE</td>\n",
              "      <td>to investigate the efficacy of @ weeks of dail...</td>\n",
              "      <td>11</td>\n",
              "    </tr>\n",
              "    <tr>\n",
              "      <th>1</th>\n",
              "      <td>1</td>\n",
              "      <td>METHODS</td>\n",
              "      <td>a total of @ patients with primary knee oa wer...</td>\n",
              "      <td>11</td>\n",
              "    </tr>\n",
              "    <tr>\n",
              "      <th>2</th>\n",
              "      <td>2</td>\n",
              "      <td>METHODS</td>\n",
              "      <td>outcome measures included pain reduction and i...</td>\n",
              "      <td>11</td>\n",
              "    </tr>\n",
              "    <tr>\n",
              "      <th>3</th>\n",
              "      <td>3</td>\n",
              "      <td>METHODS</td>\n",
              "      <td>pain was assessed using the visual analog pain...</td>\n",
              "      <td>11</td>\n",
              "    </tr>\n",
              "    <tr>\n",
              "      <th>4</th>\n",
              "      <td>4</td>\n",
              "      <td>METHODS</td>\n",
              "      <td>secondary outcome measures included the wester...</td>\n",
              "      <td>11</td>\n",
              "    </tr>\n",
              "    <tr>\n",
              "      <th>5</th>\n",
              "      <td>5</td>\n",
              "      <td>METHODS</td>\n",
              "      <td>serum levels of interleukin @ ( il-@ ) , il-@ ...</td>\n",
              "      <td>11</td>\n",
              "    </tr>\n",
              "    <tr>\n",
              "      <th>6</th>\n",
              "      <td>6</td>\n",
              "      <td>RESULTS</td>\n",
              "      <td>there was a clinically relevant reduction in t...</td>\n",
              "      <td>11</td>\n",
              "    </tr>\n",
              "    <tr>\n",
              "      <th>7</th>\n",
              "      <td>7</td>\n",
              "      <td>RESULTS</td>\n",
              "      <td>the mean difference between treatment arms ( @...</td>\n",
              "      <td>11</td>\n",
              "    </tr>\n",
              "    <tr>\n",
              "      <th>8</th>\n",
              "      <td>8</td>\n",
              "      <td>RESULTS</td>\n",
              "      <td>further , there was a clinically relevant redu...</td>\n",
              "      <td>11</td>\n",
              "    </tr>\n",
              "    <tr>\n",
              "      <th>9</th>\n",
              "      <td>9</td>\n",
              "      <td>RESULTS</td>\n",
              "      <td>these differences remained significant at @ we...</td>\n",
              "      <td>11</td>\n",
              "    </tr>\n",
              "    <tr>\n",
              "      <th>10</th>\n",
              "      <td>10</td>\n",
              "      <td>RESULTS</td>\n",
              "      <td>the outcome measures in rheumatology clinical ...</td>\n",
              "      <td>11</td>\n",
              "    </tr>\n",
              "    <tr>\n",
              "      <th>11</th>\n",
              "      <td>11</td>\n",
              "      <td>CONCLUSIONS</td>\n",
              "      <td>low-dose oral prednisolone had both a short-te...</td>\n",
              "      <td>11</td>\n",
              "    </tr>\n",
              "    <tr>\n",
              "      <th>12</th>\n",
              "      <td>0</td>\n",
              "      <td>BACKGROUND</td>\n",
              "      <td>emotional eating is associated with overeating...</td>\n",
              "      <td>10</td>\n",
              "    </tr>\n",
              "    <tr>\n",
              "      <th>13</th>\n",
              "      <td>1</td>\n",
              "      <td>BACKGROUND</td>\n",
              "      <td>yet , empirical evidence for individual ( trai...</td>\n",
              "      <td>10</td>\n",
              "    </tr>\n",
              "  </tbody>\n",
              "</table>\n",
              "</div>\n",
              "      <button class=\"colab-df-convert\" onclick=\"convertToInteractive('df-11f62e40-84ad-45c3-894e-a401c346b1ed')\"\n",
              "              title=\"Convert this dataframe to an interactive table.\"\n",
              "              style=\"display:none;\">\n",
              "        \n",
              "  <svg xmlns=\"http://www.w3.org/2000/svg\" height=\"24px\"viewBox=\"0 0 24 24\"\n",
              "       width=\"24px\">\n",
              "    <path d=\"M0 0h24v24H0V0z\" fill=\"none\"/>\n",
              "    <path d=\"M18.56 5.44l.94 2.06.94-2.06 2.06-.94-2.06-.94-.94-2.06-.94 2.06-2.06.94zm-11 1L8.5 8.5l.94-2.06 2.06-.94-2.06-.94L8.5 2.5l-.94 2.06-2.06.94zm10 10l.94 2.06.94-2.06 2.06-.94-2.06-.94-.94-2.06-.94 2.06-2.06.94z\"/><path d=\"M17.41 7.96l-1.37-1.37c-.4-.4-.92-.59-1.43-.59-.52 0-1.04.2-1.43.59L10.3 9.45l-7.72 7.72c-.78.78-.78 2.05 0 2.83L4 21.41c.39.39.9.59 1.41.59.51 0 1.02-.2 1.41-.59l7.78-7.78 2.81-2.81c.8-.78.8-2.07 0-2.86zM5.41 20L4 18.59l7.72-7.72 1.47 1.35L5.41 20z\"/>\n",
              "  </svg>\n",
              "      </button>\n",
              "      \n",
              "  <style>\n",
              "    .colab-df-container {\n",
              "      display:flex;\n",
              "      flex-wrap:wrap;\n",
              "      gap: 12px;\n",
              "    }\n",
              "\n",
              "    .colab-df-convert {\n",
              "      background-color: #E8F0FE;\n",
              "      border: none;\n",
              "      border-radius: 50%;\n",
              "      cursor: pointer;\n",
              "      display: none;\n",
              "      fill: #1967D2;\n",
              "      height: 32px;\n",
              "      padding: 0 0 0 0;\n",
              "      width: 32px;\n",
              "    }\n",
              "\n",
              "    .colab-df-convert:hover {\n",
              "      background-color: #E2EBFA;\n",
              "      box-shadow: 0px 1px 2px rgba(60, 64, 67, 0.3), 0px 1px 3px 1px rgba(60, 64, 67, 0.15);\n",
              "      fill: #174EA6;\n",
              "    }\n",
              "\n",
              "    [theme=dark] .colab-df-convert {\n",
              "      background-color: #3B4455;\n",
              "      fill: #D2E3FC;\n",
              "    }\n",
              "\n",
              "    [theme=dark] .colab-df-convert:hover {\n",
              "      background-color: #434B5C;\n",
              "      box-shadow: 0px 1px 3px 1px rgba(0, 0, 0, 0.15);\n",
              "      filter: drop-shadow(0px 1px 2px rgba(0, 0, 0, 0.3));\n",
              "      fill: #FFFFFF;\n",
              "    }\n",
              "  </style>\n",
              "\n",
              "      <script>\n",
              "        const buttonEl =\n",
              "          document.querySelector('#df-11f62e40-84ad-45c3-894e-a401c346b1ed button.colab-df-convert');\n",
              "        buttonEl.style.display =\n",
              "          google.colab.kernel.accessAllowed ? 'block' : 'none';\n",
              "\n",
              "        async function convertToInteractive(key) {\n",
              "          const element = document.querySelector('#df-11f62e40-84ad-45c3-894e-a401c346b1ed');\n",
              "          const dataTable =\n",
              "            await google.colab.kernel.invokeFunction('convertToInteractive',\n",
              "                                                     [key], {});\n",
              "          if (!dataTable) return;\n",
              "\n",
              "          const docLinkHtml = 'Like what you see? Visit the ' +\n",
              "            '<a target=\"_blank\" href=https://colab.research.google.com/notebooks/data_table.ipynb>data table notebook</a>'\n",
              "            + ' to learn more about interactive tables.';\n",
              "          element.innerHTML = '';\n",
              "          dataTable['output_type'] = 'display_data';\n",
              "          await google.colab.output.renderOutput(dataTable, element);\n",
              "          const docLink = document.createElement('div');\n",
              "          docLink.innerHTML = docLinkHtml;\n",
              "          element.appendChild(docLink);\n",
              "        }\n",
              "      </script>\n",
              "    </div>\n",
              "  </div>\n",
              "  "
            ]
          },
          "metadata": {},
          "execution_count": 11
        }
      ]
    },
    {
      "cell_type": "code",
      "source": [
        "#Distribution of labels\n",
        "train_df.target.value_counts()"
      ],
      "metadata": {
        "colab": {
          "base_uri": "https://localhost:8080/"
        },
        "id": "kG7rpjy9KQRp",
        "outputId": "327a479e-6a9b-4f42-bcc4-5ce3685bb9d3"
      },
      "execution_count": 12,
      "outputs": [
        {
          "output_type": "execute_result",
          "data": {
            "text/plain": [
              "METHODS        59353\n",
              "RESULTS        57953\n",
              "CONCLUSIONS    27168\n",
              "BACKGROUND     21727\n",
              "OBJECTIVE      13839\n",
              "Name: target, dtype: int64"
            ]
          },
          "metadata": {},
          "execution_count": 12
        }
      ]
    },
    {
      "cell_type": "code",
      "source": [
        "#Distribution of lenght of different lines\n",
        "train_df.num_of_lines.plot.hist();"
      ],
      "metadata": {
        "colab": {
          "base_uri": "https://localhost:8080/",
          "height": 267
        },
        "id": "3R2l-FcmK7OT",
        "outputId": "5fd2033d-55fa-4535-fe55-81caf9194cf0"
      },
      "execution_count": 13,
      "outputs": [
        {
          "output_type": "display_data",
          "data": {
            "text/plain": [
              "<Figure size 432x288 with 1 Axes>"
            ],
            "image/png": "[encoded data removed]"
          },
          "metadata": {
            "needs_background": "light"
          }
        }
      ]
    },
    {
      "cell_type": "markdown",
      "source": [
        "#List of sentences"
      ],
      "metadata": {
        "id": "Yq36dvEILM2Y"
      }
    },
    {
      "cell_type": "code",
      "source": [
        "#Making data ready to learning\n",
        "train_sentences = train_df[\"text\"].tolist()\n",
        "val_sentences=val_df[\"text\"].tolist()\n",
        "test_sentences=test_df[\"text\"].tolist()\n",
        "len(train_sentences),len(val_sentences),len(test_sentences)"
      ],
      "metadata": {
        "colab": {
          "base_uri": "https://localhost:8080/"
        },
        "id": "KNazW2gULajz",
        "outputId": "1d715ea7-18ee-43a8-a320-26e6fd357416"
      },
      "execution_count": 14,
      "outputs": [
        {
          "output_type": "execute_result",
          "data": {
            "text/plain": [
              "(180040, 30212, 30135)"
            ]
          },
          "metadata": {},
          "execution_count": 14
        }
      ]
    },
    {
      "cell_type": "code",
      "source": [
        "# Make labels numeric for ML models\n",
        "import tensorflow as tf\n",
        "from sklearn.preprocessing import OneHotEncoder\n",
        "ohc = OneHotEncoder(sparse=False)\n",
        "train_labels_oh = tf.constant(ohc.fit_transform(train_df[\"target\"].to_numpy().reshape(-1,1)))#Fit only to train data\n",
        "val_labels_oh = tf.constant(ohc.transform(val_df[\"target\"].to_numpy().reshape(-1,1)))\n",
        "test_labels_oh = tf.constant(ohc.transform(test_df[\"target\"].to_numpy().reshape(-1,1)))\n",
        "train_labels_oh, len(train_labels_oh)"
      ],
      "metadata": {
        "colab": {
          "base_uri": "https://localhost:8080/"
        },
        "id": "_Sv5IoT6Lybt",
        "outputId": "03c29b37-9b23-45a3-cc27-d2305e5ffe66"
      },
      "execution_count": 15,
      "outputs": [
        {
          "output_type": "execute_result",
          "data": {
            "text/plain": [
              "(<tf.Tensor: shape=(180040, 5), dtype=float64, numpy=\n",
              " array([[0., 0., 0., 1., 0.],\n",
              "        [0., 0., 1., 0., 0.],\n",
              "        [0., 0., 1., 0., 0.],\n",
              "        ...,\n",
              "        [0., 0., 0., 0., 1.],\n",
              "        [0., 1., 0., 0., 0.],\n",
              "        [0., 1., 0., 0., 0.]])>, 180040)"
            ]
          },
          "metadata": {},
          "execution_count": 15
        }
      ]
    },
    {
      "cell_type": "code",
      "source": [
        "#Cand also encode labels\n",
        "from sklearn.preprocessing import LabelEncoder\n",
        "label_encoder = LabelEncoder()\n",
        "train_labels_encode = label_encoder.fit_transform(train_df[\"target\"].to_numpy())\n",
        "val_labels_encode = label_encoder.transform(val_df[\"target\"].to_numpy())\n",
        "test_labels_encode = label_encoder.transform(test_df[\"target\"].to_numpy())\n",
        "train_labels_encode,len(train_labels_encode)"
      ],
      "metadata": {
        "colab": {
          "base_uri": "https://localhost:8080/"
        },
        "id": "U2Z6gyW-RQKB",
        "outputId": "bc05445f-fd89-4fc4-b52e-cd96ed77217e"
      },
      "execution_count": 16,
      "outputs": [
        {
          "output_type": "execute_result",
          "data": {
            "text/plain": [
              "(array([3, 2, 2, ..., 4, 1, 1]), 180040)"
            ]
          },
          "metadata": {},
          "execution_count": 16
        }
      ]
    },
    {
      "cell_type": "code",
      "source": [
        "#Get class names and number of them\n",
        "num_classes = len(label_encoder.classes_)\n",
        "class_names = label_encoder.classes_\n",
        "num_classes, class_names\n"
      ],
      "metadata": {
        "colab": {
          "base_uri": "https://localhost:8080/"
        },
        "id": "YYtTf9LHRR-o",
        "outputId": "2f7479a0-8335-4522-afb7-5444cb33ee78"
      },
      "execution_count": 17,
      "outputs": [
        {
          "output_type": "execute_result",
          "data": {
            "text/plain": [
              "(5, array(['BACKGROUND', 'CONCLUSIONS', 'METHODS', 'OBJECTIVE', 'RESULTS'],\n",
              "       dtype=object))"
            ]
          },
          "metadata": {},
          "execution_count": 17
        }
      ]
    },
    {
      "cell_type": "markdown",
      "source": [
        "## MODEL 0 - Naive Bayes as baseline\n",
        "\n",
        "-  Multinomial"
      ],
      "metadata": {
        "id": "VU2J3YTNTjrJ"
      }
    },
    {
      "cell_type": "code",
      "source": [
        "from sklearn.naive_bayes import MultinomialNB, GaussianNB\n",
        "from sklearn.pipeline import Pipeline\n",
        "from sklearn.feature_extraction.text import TfidfVectorizer\n",
        "#Build\n",
        "model_0 = Pipeline([('tf-idf', TfidfVectorizer()),\n",
        "                    ('clf', MultinomialNB())])\n",
        "model_0.fit(train_sentences,train_labels_encode)"
      ],
      "metadata": {
        "colab": {
          "base_uri": "https://localhost:8080/"
        },
        "id": "y683sST7UT7n",
        "outputId": "89251199-c4d6-4581-ffb3-823dc9336d3e"
      },
      "execution_count": 18,
      "outputs": [
        {
          "output_type": "execute_result",
          "data": {
            "text/plain": [
              "Pipeline(steps=[('tf-idf', TfidfVectorizer()), ('clf', MultinomialNB())])"
            ]
          },
          "metadata": {},
          "execution_count": 18
        }
      ]
    },
    {
      "cell_type": "code",
      "source": [
        "#Evaluate\n",
        "model_0.score(X=val_sentences,y=val_labels_encode)"
      ],
      "metadata": {
        "colab": {
          "base_uri": "https://localhost:8080/"
        },
        "id": "Inr5m2WCVDSv",
        "outputId": "9ab8613c-bea1-43e4-a2e7-ff58e1315f17"
      },
      "execution_count": 19,
      "outputs": [
        {
          "output_type": "execute_result",
          "data": {
            "text/plain": [
              "0.7218323844829869"
            ]
          },
          "metadata": {},
          "execution_count": 19
        }
      ]
    },
    {
      "cell_type": "code",
      "source": [
        "#Making predictions and gettign evaluation metrics\n",
        "model_0_predictions = model_0.predict(val_sentences)\n",
        "model_0_results = hp.calculate_results(val_labels_encode,model_0_predictions)\n",
        "model_0_results"
      ],
      "metadata": {
        "colab": {
          "base_uri": "https://localhost:8080/"
        },
        "id": "Yyl_zCtdWU8e",
        "outputId": "a022205f-fbe5-49b9-8cc3-a7a05b3c807e"
      },
      "execution_count": 20,
      "outputs": [
        {
          "output_type": "execute_result",
          "data": {
            "text/plain": [
              "{'accuracy': 72.1832384482987,\n",
              " 'precision': 0.7186466952323352,\n",
              " 'recall': 0.7218323844829869,\n",
              " 'f1': 0.6989250353450294}"
            ]
          },
          "metadata": {},
          "execution_count": 20
        }
      ]
    },
    {
      "cell_type": "markdown",
      "source": [
        "# Preparing data for deep learning\n",
        "\n",
        "- Tokenization, Word Embedding"
      ],
      "metadata": {
        "id": "AYQ8UocgXzul"
      }
    },
    {
      "cell_type": "code",
      "source": [
        "#Length of sentences average\n",
        "import numpy as np\n",
        "sentence_lengths =  [len(sentence.split()) for sentence in train_sentences]\n",
        "avg_length = np.mean(sentence_lengths)\n",
        "max_length = np.max(sentence_lengths)\n",
        "avg_length, max_length "
      ],
      "metadata": {
        "colab": {
          "base_uri": "https://localhost:8080/"
        },
        "id": "XI-aT8_uFGRp",
        "outputId": "f1ee8431-3561-470c-d981-c86c03180187"
      },
      "execution_count": 21,
      "outputs": [
        {
          "output_type": "execute_result",
          "data": {
            "text/plain": [
              "(26.338269273494777, 296)"
            ]
          },
          "metadata": {},
          "execution_count": 21
        }
      ]
    },
    {
      "cell_type": "code",
      "source": [
        "import matplotlib.pyplot as plt\n",
        "plt.hist(sentence_lengths,bins=25);"
      ],
      "metadata": {
        "colab": {
          "base_uri": "https://localhost:8080/",
          "height": 265
        },
        "id": "fwMjGX83GJbq",
        "outputId": "b9497978-2107-4e41-940c-3c909c9cd1b7"
      },
      "execution_count": 22,
      "outputs": [
        {
          "output_type": "display_data",
          "data": {
            "text/plain": [
              "<Figure size 432x288 with 1 Axes>"
            ],
            "image/png": "[encoded data removed]"
          },
          "metadata": {
            "needs_background": "light"
          }
        }
      ]
    },
    {
      "cell_type": "code",
      "source": [
        "percentile_sent = int(np.percentile(sentence_lengths,95))\n",
        "percentile_sent\n",
        "#95% is under 55 length"
      ],
      "metadata": {
        "colab": {
          "base_uri": "https://localhost:8080/"
        },
        "id": "nHKZyTiVGUpD",
        "outputId": "ee3d2d68-82dd-481e-81dc-6eb3aeb7c391"
      },
      "execution_count": 23,
      "outputs": [
        {
          "output_type": "execute_result",
          "data": {
            "text/plain": [
              "55"
            ]
          },
          "metadata": {},
          "execution_count": 23
        }
      ]
    },
    {
      "cell_type": "markdown",
      "source": [
        "Use length of 55 then as length of sequences for vectorization and embedding\n",
        "\n",
        "Also taking from paper given at the beggining, max tokens will be set as an amount of words in 20K PubMed DataSet"
      ],
      "metadata": {
        "id": "5lUw09CNHGfn"
      }
    },
    {
      "cell_type": "code",
      "source": [
        "import tensorflow as tf\n",
        "from tensorflow.keras.layers.experimental.preprocessing import TextVectorization\n",
        "from tensorflow.keras.layers import Embedding\n",
        "\n",
        "max_tokens = 68000\n",
        "sequence_length = percentile_sent\n",
        "\n",
        "#Text Vectorizer layer \n",
        "text_vectorizer = TextVectorization(max_tokens = max_tokens,\n",
        "                                    output_mode = \"int\",\n",
        "                                    output_sequence_length=sequence_length)"
      ],
      "metadata": {
        "id": "xG0ES-KBD06T"
      },
      "execution_count": 24,
      "outputs": []
    },
    {
      "cell_type": "code",
      "source": [
        "#Adapt text vectorizer to train_data\n",
        "text_vectorizer.adapt(train_sentences)"
      ],
      "metadata": {
        "id": "Sffoe2CFEZOz"
      },
      "execution_count": 25,
      "outputs": []
    },
    {
      "cell_type": "code",
      "source": [
        "#Test text vectorizer\n",
        "import random\n",
        "target_sentence = random.choice(train_sentences)\n",
        "print(f\"Text:\\n{target_sentence}\")\n",
        "print(f\"\\nlength = {len(target_sentence.split())}\")\n",
        "print(f\"\\nText:\\n{text_vectorizer([target_sentence])}\")"
      ],
      "metadata": {
        "colab": {
          "base_uri": "https://localhost:8080/"
        },
        "id": "kNLF_fLeJHOT",
        "outputId": "8f5bb1af-0aa1-4d2d-c5bb-d7b22bb2d155"
      },
      "execution_count": 26,
      "outputs": [
        {
          "output_type": "stream",
          "name": "stdout",
          "text": [
            "Text:\n",
            "during the follow-up , both groups consumed a diet of @ kcal/kg/weight and @ g/kg/weight of protein , and a food diary was made to assess both the adherence to the diet and lcs .\n",
            "\n",
            "length = 35\n",
            "\n",
            "Text:\n",
            "[[   52     2    94    54    24  1572     8   376     4 54275     3 57040\n",
            "      4   396     3     8   661  2390    10  1050     6   216    54     2\n",
            "    429     6     2   376     3 12032     0     0     0     0     0     0\n",
            "      0     0     0     0     0     0     0     0     0     0     0     0\n",
            "      0     0     0     0     0     0     0]]\n"
          ]
        }
      ]
    },
    {
      "cell_type": "code",
      "source": [
        "pubMed_20k_vocab = text_vectorizer.get_vocabulary()\n",
        "print(f\"Len of Vocabulary: {len(pubMed_20k_vocab)}\\n\")\n",
        "print(f\"Most Common:\\n{pubMed_20k_vocab[:5]}\")\n",
        "print(f\"\\nRare:\\n{pubMed_20k_vocab[-5:]}\")"
      ],
      "metadata": {
        "colab": {
          "base_uri": "https://localhost:8080/"
        },
        "id": "mvMxBK23T4eZ",
        "outputId": "4fc434a9-1213-41c9-f0ed-f89b88d2a826"
      },
      "execution_count": 27,
      "outputs": [
        {
          "output_type": "stream",
          "name": "stdout",
          "text": [
            "Len of Vocabulary: 64841\n",
            "\n",
            "Most Common:\n",
            "['', '[UNK]', 'the', 'and', 'of']\n",
            "\n",
            "Rare:\n",
            "['aainduced', 'aaigroup', 'aachener', 'aachen', 'aaacp']\n"
          ]
        }
      ]
    },
    {
      "cell_type": "code",
      "source": [
        "embedding_layer = Embedding(input_dim=len(pubMed_20k_vocab),\n",
        "                            output_dim=128,\n",
        "                            mask_zero=True, #It will mask out zeros - A lot of special 'padding' - thank to this - more efficient,\n",
        "                            name=\"embedding_layer\" \n",
        "                            )"
      ],
      "metadata": {
        "id": "5M1Vf8J8Ju00"
      },
      "execution_count": 28,
      "outputs": []
    },
    {
      "cell_type": "code",
      "source": [
        "#Check random samples going through embedding\n",
        "import random\n",
        "target_sentence = random.choice(train_sentences)\n",
        "print(f\"Text:\\n{target_sentence}\")\n",
        "print(f\"\\nVectorized Text:\\n{text_vectorizer([target_sentence])}\")\n",
        "print(f\"\\nEmbedded Text{embedding_layer(text_vectorizer([target_sentence]))}\")\n",
        "print(f\"\\nShape of embedded text:{embedding_layer(text_vectorizer([target_sentence])).shape} \")"
      ],
      "metadata": {
        "colab": {
          "base_uri": "https://localhost:8080/"
        },
        "id": "rqXxE2fjUlsa",
        "outputId": "4ca5e36f-d17e-4c3e-84d2-96785285b5d6"
      },
      "execution_count": 29,
      "outputs": [
        {
          "output_type": "stream",
          "name": "stdout",
          "text": [
            "Text:\n",
            "it is an effective and reliable technique to treat thoracolumbar burst fractures .\n",
            "\n",
            "Vectorized Text:\n",
            "[[ 185   20   26  137    3 2006  475    6  733 9535 6555 1285    0    0\n",
            "     0    0    0    0    0    0    0    0    0    0    0    0    0    0\n",
            "     0    0    0    0    0    0    0    0    0    0    0    0    0    0\n",
            "     0    0    0    0    0    0    0    0    0    0    0    0    0]]\n",
            "\n",
            "Embedded Text[[[-0.02821326 -0.0044075  -0.00719861 ...  0.03855522 -0.01091365\n",
            "    0.04954923]\n",
            "  [-0.03647534  0.00736241 -0.04260997 ... -0.01598976  0.01424481\n",
            "   -0.00486211]\n",
            "  [ 0.01512605  0.01646398 -0.03426017 ... -0.03516851  0.03504955\n",
            "    0.04546675]\n",
            "  ...\n",
            "  [ 0.04352212  0.03533169 -0.00521336 ...  0.00706812  0.01996049\n",
            "   -0.00095402]\n",
            "  [ 0.04352212  0.03533169 -0.00521336 ...  0.00706812  0.01996049\n",
            "   -0.00095402]\n",
            "  [ 0.04352212  0.03533169 -0.00521336 ...  0.00706812  0.01996049\n",
            "   -0.00095402]]]\n",
            "\n",
            "Shape of embedded text:(1, 55, 128) \n"
          ]
        }
      ]
    },
    {
      "cell_type": "markdown",
      "source": [
        "## Creating dataset - using tf.data APi\n",
        "- making as efficient as possible\n",
        "\n",
        "https://www.tensorflow.org/guide/data?hl=pl\n",
        "\n"
      ],
      "metadata": {
        "id": "ZUdUcpedVTmt"
      }
    },
    {
      "cell_type": "code",
      "source": [
        "#Turn list and numpy array to TensorflowSliceDataset\n",
        "train_dataset = tf.data.Dataset.from_tensor_slices((train_sentences,train_labels_oh))\n",
        "valid_dataset = tf.data.Dataset.from_tensor_slices((val_sentences,val_labels_oh))\n",
        "test_dataset = tf.data.Dataset.from_tensor_slices((test_sentences,test_labels_oh))\n",
        "train_dataset"
      ],
      "metadata": {
        "colab": {
          "base_uri": "https://localhost:8080/"
        },
        "id": "COUoPas5WXvq",
        "outputId": "a9ac9422-a046-44e0-cb4c-0e760ee6ba9f"
      },
      "execution_count": 30,
      "outputs": [
        {
          "output_type": "execute_result",
          "data": {
            "text/plain": [
              "<TensorSliceDataset element_spec=(TensorSpec(shape=(), dtype=tf.string, name=None), TensorSpec(shape=(5,), dtype=tf.float64, name=None))>"
            ]
          },
          "metadata": {},
          "execution_count": 30
        }
      ]
    },
    {
      "cell_type": "code",
      "source": [
        "train_labels_oh.shape"
      ],
      "metadata": {
        "colab": {
          "base_uri": "https://localhost:8080/"
        },
        "id": "wmE6O6AGXLhr",
        "outputId": "cdf093ad-8cf4-44bd-dac0-da4105995001"
      },
      "execution_count": 31,
      "outputs": [
        {
          "output_type": "execute_result",
          "data": {
            "text/plain": [
              "TensorShape([180040, 5])"
            ]
          },
          "metadata": {},
          "execution_count": 31
        }
      ]
    },
    {
      "cell_type": "code",
      "source": [
        "#Turn to prefeched Datasets\n",
        "train_dataset = train_dataset.batch(32).prefetch(tf.data.AUTOTUNE)#Don't shuffle, because order in this case is crucial\n",
        "valid_dataset = valid_dataset.batch(32).prefetch(tf.data.AUTOTUNE)\n",
        "test_dataset = test_dataset.batch(32).prefetch(tf.data.AUTOTUNE)\n",
        "train_dataset"
      ],
      "metadata": {
        "colab": {
          "base_uri": "https://localhost:8080/"
        },
        "id": "2g9qH2t8XaE1",
        "outputId": "c65b0697-4c61-43e1-a429-547354aa3f99"
      },
      "execution_count": 32,
      "outputs": [
        {
          "output_type": "execute_result",
          "data": {
            "text/plain": [
              "<PrefetchDataset element_spec=(TensorSpec(shape=(None,), dtype=tf.string, name=None), TensorSpec(shape=(None, 5), dtype=tf.float64, name=None))>"
            ]
          },
          "metadata": {},
          "execution_count": 32
        }
      ]
    },
    {
      "cell_type": "markdown",
      "source": [
        "# Model1 : Conv1D"
      ],
      "metadata": {
        "id": "lQkkDlOVYeUv"
      }
    },
    {
      "cell_type": "markdown",
      "source": [
        "Build and compile model"
      ],
      "metadata": {
        "id": "baZOxphGbxah"
      }
    },
    {
      "cell_type": "code",
      "source": [
        "from tensorflow.keras import layers\n",
        "#Build model\n",
        "inputs = layers.Input(shape=(1,),dtype=tf.string) # One sequence at the time\n",
        "x = text_vectorizer(inputs)\n",
        "x = embedding_layer(x)\n",
        "x = layers.Conv1D(filters=64,\n",
        "                  kernel_size=5,\n",
        "                  padding=\"same\",\n",
        "                  activation=\"relu\",\n",
        "                  )(x)\n",
        "x = layers.GlobalMaxPool1D()(x)\n",
        "outputs = layers.Dense(5,activation=\"softmax\")(x)\n",
        "model_1 = tf.keras.Model(inputs,outputs,name=\"model_1_conv1D\")\n",
        "\n",
        "#Compile model\n",
        "model_1.compile(loss=\"categorical_crossentropy\",\n",
        "                optimizer=tf.keras.optimizers.Adam(),\n",
        "                metrics=[\"accuracy\"])\n",
        "#Summary\n",
        "model_1.summary()"
      ],
      "metadata": {
        "colab": {
          "base_uri": "https://localhost:8080/"
        },
        "id": "obyneabGZRjM",
        "outputId": "ce0b95da-8e92-40f5-c257-dff5eb3df986"
      },
      "execution_count": 33,
      "outputs": [
        {
          "output_type": "stream",
          "name": "stdout",
          "text": [
            "Model: \"model_1_conv1D\"\n",
            "_________________________________________________________________\n",
            " Layer (type)                Output Shape              Param #   \n",
            "=================================================================\n",
            " input_1 (InputLayer)        [(None, 1)]               0         \n",
            "                                                                 \n",
            " text_vectorization (TextVec  (None, 55)               0         \n",
            " torization)                                                     \n",
            "                                                                 \n",
            " embedding_layer (Embedding)  (None, 55, 128)          8299648   \n",
            "                                                                 \n",
            " conv1d (Conv1D)             (None, 55, 64)            41024     \n",
            "                                                                 \n",
            " global_max_pooling1d (Globa  (None, 64)               0         \n",
            " lMaxPooling1D)                                                  \n",
            "                                                                 \n",
            " dense (Dense)               (None, 5)                 325       \n",
            "                                                                 \n",
            "=================================================================\n",
            "Total params: 8,340,997\n",
            "Trainable params: 8,340,997\n",
            "Non-trainable params: 0\n",
            "_________________________________________________________________\n"
          ]
        }
      ]
    },
    {
      "cell_type": "markdown",
      "source": [
        "Create callbacks"
      ],
      "metadata": {
        "id": "ZI_awyBWZZ3m"
      }
    },
    {
      "cell_type": "code",
      "source": [
        "SAVE_DIR = \"models/\"\n",
        "tensorboard_callback = hp.create_tensorboard_callback(SAVE_DIR,\n",
        "                                                      \"model_1\")\n",
        "model_checkpoint = tf.keras.callbacks.ModelCheckpoint(\"Model_1_Checkpoint\",\n",
        "                                                      monitor=\"val_accuracy\",\n",
        "                                                      save_best_only=True,\n",
        "                                                      save_weights_only=True,\n",
        "                                                      verbose=1)\n"
      ],
      "metadata": {
        "colab": {
          "base_uri": "https://localhost:8080/"
        },
        "id": "z0_SoBKdbKMp",
        "outputId": "d7a256f0-02b1-4907-bc18-ef04b5916035"
      },
      "execution_count": 34,
      "outputs": [
        {
          "output_type": "stream",
          "name": "stdout",
          "text": [
            "Saving TensorBoard log files to: models//model_1/20230223-162007\n"
          ]
        }
      ]
    },
    {
      "cell_type": "markdown",
      "source": [
        "Fit model"
      ],
      "metadata": {
        "id": "rWp3MdehbjTN"
      }
    },
    {
      "cell_type": "code",
      "source": [
        "history_1=model_1.fit(train_dataset,\n",
        "                      steps_per_epoch=int(0.1*len(train_dataset)),#Train on 10% of data\n",
        "                      epochs=3,\n",
        "                      validation_data=valid_dataset,\n",
        "                      validation_steps=int(0.1*len(valid_dataset)),\n",
        "                      callbacks=[tensorboard_callback,model_checkpoint])  "
      ],
      "metadata": {
        "colab": {
          "base_uri": "https://localhost:8080/"
        },
        "id": "X1iSiPuCbvge",
        "outputId": "a26c336b-f487-4660-df66-75ce06e320b8"
      },
      "execution_count": 35,
      "outputs": [
        {
          "output_type": "stream",
          "name": "stdout",
          "text": [
            "Epoch 1/3\n",
            "562/562 [==============================] - ETA: 0s - loss: 0.8435 - accuracy: 0.6786\n",
            "Epoch 1: val_accuracy improved from -inf to 0.78291, saving model to Model_1_Checkpoint\n",
            "562/562 [==============================] - 71s 124ms/step - loss: 0.8435 - accuracy: 0.6786 - val_loss: 0.5857 - val_accuracy: 0.7829\n",
            "Epoch 2/3\n",
            "562/562 [==============================] - ETA: 0s - loss: 0.5789 - accuracy: 0.7886\n",
            "Epoch 2: val_accuracy improved from 0.78291 to 0.80186, saving model to Model_1_Checkpoint\n",
            "562/562 [==============================] - 70s 124ms/step - loss: 0.5789 - accuracy: 0.7886 - val_loss: 0.5441 - val_accuracy: 0.8019\n",
            "Epoch 3/3\n",
            "562/562 [==============================] - ETA: 0s - loss: 0.5464 - accuracy: 0.8007\n",
            "Epoch 3: val_accuracy improved from 0.80186 to 0.80918, saving model to Model_1_Checkpoint\n",
            "562/562 [==============================] - 68s 122ms/step - loss: 0.5464 - accuracy: 0.8007 - val_loss: 0.5206 - val_accuracy: 0.8092\n"
          ]
        }
      ]
    },
    {
      "cell_type": "markdown",
      "source": [
        "Evaluation"
      ],
      "metadata": {
        "id": "xWmWkyFhglqG"
      }
    },
    {
      "cell_type": "code",
      "source": [
        "model_1.evaluate(valid_dataset)"
      ],
      "metadata": {
        "colab": {
          "base_uri": "https://localhost:8080/"
        },
        "id": "Dl_AnlXrd3nF",
        "outputId": "fd6ac586-c1d0-44a2-beb5-27145c06cd41"
      },
      "execution_count": 36,
      "outputs": [
        {
          "output_type": "stream",
          "name": "stdout",
          "text": [
            "945/945 [==============================] - 7s 7ms/step - loss: 0.5245 - accuracy: 0.8070\n"
          ]
        },
        {
          "output_type": "execute_result",
          "data": {
            "text/plain": [
              "[0.5245108008384705, 0.8069972395896912]"
            ]
          },
          "metadata": {},
          "execution_count": 36
        }
      ]
    },
    {
      "cell_type": "code",
      "source": [
        "model_1_pred_probs = model_1.predict(val_sentences)\n",
        "model_1_pred_probs[:4]"
      ],
      "metadata": {
        "colab": {
          "base_uri": "https://localhost:8080/"
        },
        "id": "wia7OpWYfywr",
        "outputId": "40e8ca70-74c9-40c0-e0f5-d39b6eee86b5"
      },
      "execution_count": 37,
      "outputs": [
        {
          "output_type": "stream",
          "name": "stdout",
          "text": [
            "945/945 [==============================] - 6s 6ms/step\n"
          ]
        },
        {
          "output_type": "execute_result",
          "data": {
            "text/plain": [
              "array([[5.36113381e-01, 7.53208175e-02, 3.20781907e-03, 3.82737309e-01,\n",
              "        2.62071611e-03],\n",
              "       [3.59332770e-01, 4.39660728e-01, 1.01761706e-03, 1.97138041e-01,\n",
              "        2.85086851e-03],\n",
              "       [1.31222308e-01, 1.03954785e-02, 3.17236548e-03, 8.55095744e-01,\n",
              "        1.14065115e-04],\n",
              "       [2.73149856e-03, 3.30511504e-03, 9.69020724e-01, 2.80256523e-03,\n",
              "        2.21401248e-02]], dtype=float32)"
            ]
          },
          "metadata": {},
          "execution_count": 37
        }
      ]
    },
    {
      "cell_type": "code",
      "source": [
        "model_1_predictions = tf.argmax(model_1_pred_probs,axis=1)\n",
        "model_1_predictions[:4]"
      ],
      "metadata": {
        "colab": {
          "base_uri": "https://localhost:8080/"
        },
        "id": "8Fn-8al8f6ow",
        "outputId": "6e9ab70c-ec7c-4753-b596-d09d3ac9970f"
      },
      "execution_count": 38,
      "outputs": [
        {
          "output_type": "execute_result",
          "data": {
            "text/plain": [
              "<tf.Tensor: shape=(4,), dtype=int64, numpy=array([0, 1, 3, 2])>"
            ]
          },
          "metadata": {},
          "execution_count": 38
        }
      ]
    },
    {
      "cell_type": "code",
      "source": [
        "class_names"
      ],
      "metadata": {
        "colab": {
          "base_uri": "https://localhost:8080/"
        },
        "id": "uFYuGLyJgh9a",
        "outputId": "b0903258-d3a7-4569-a34d-75873e3fbab5"
      },
      "execution_count": 39,
      "outputs": [
        {
          "output_type": "execute_result",
          "data": {
            "text/plain": [
              "array(['BACKGROUND', 'CONCLUSIONS', 'METHODS', 'OBJECTIVE', 'RESULTS'],\n",
              "      dtype=object)"
            ]
          },
          "metadata": {},
          "execution_count": 39
        }
      ]
    },
    {
      "cell_type": "code",
      "source": [
        "model_1_results = hp.calculate_results(val_labels_encode,model_1_predictions)\n",
        "model_1_results"
      ],
      "metadata": {
        "colab": {
          "base_uri": "https://localhost:8080/"
        },
        "id": "oRTUk7JcgOp8",
        "outputId": "919de415-274b-4da9-f8b8-a3056559276c"
      },
      "execution_count": 40,
      "outputs": [
        {
          "output_type": "execute_result",
          "data": {
            "text/plain": [
              "{'accuracy': 80.6997219647822,\n",
              " 'precision': 0.8051227072313717,\n",
              " 'recall': 0.806997219647822,\n",
              " 'f1': 0.8050274822793615}"
            ]
          },
          "metadata": {},
          "execution_count": 40
        }
      ]
    },
    {
      "cell_type": "code",
      "source": [
        "model_0_results"
      ],
      "metadata": {
        "colab": {
          "base_uri": "https://localhost:8080/"
        },
        "id": "J0NnWwNTggqR",
        "outputId": "e239fb84-9a2c-4678-ee07-cb20489d6ff7"
      },
      "execution_count": 41,
      "outputs": [
        {
          "output_type": "execute_result",
          "data": {
            "text/plain": [
              "{'accuracy': 72.1832384482987,\n",
              " 'precision': 0.7186466952323352,\n",
              " 'recall': 0.7218323844829869,\n",
              " 'f1': 0.6989250353450294}"
            ]
          },
          "metadata": {},
          "execution_count": 41
        }
      ]
    },
    {
      "cell_type": "markdown",
      "source": [
        "# Model2 : Using TF_HUB Pretrained Feature Extractor\n",
        "\n",
        "- Using universal sentence encoder: https://tfhub.dev/google/universal-sentence-encoder/4"
      ],
      "metadata": {
        "id": "pSghO9vSgqHV"
      }
    },
    {
      "cell_type": "markdown",
      "source": [
        "Build and compile model"
      ],
      "metadata": {
        "id": "czBpO7Ym-3zs"
      }
    },
    {
      "cell_type": "code",
      "source": [
        "import tensorflow_hub as hub\n",
        "from tensorflow.keras import layers\n",
        "import tensorflow as tf\n",
        "#Build model\n",
        "feature_extractor = hub.KerasLayer(\"https://tfhub.dev/google/universal-sentence-encoder/4\",\n",
        "                                   trainable=False,\n",
        "                                   input_shape=[],\n",
        "                                   dtype=tf.string)\n",
        "#model_2 = tf.keras.Sequential([\n",
        "#    feature_extractor,\n",
        "#    layers.Dense(64,activation=\"relu\"),\n",
        "#    layers.Dense(5,activation=\"softmax\")\n",
        "#])\n",
        "\n",
        "inputs = layers.Input(shape=[],dtype=tf.string)\n",
        "x = feature_extractor(inputs)\n",
        "x=layers.Dense(128,activation=\"relu\")(x)\n",
        "outputs=layers.Dense(5,activation=\"softmax\")(x)\n",
        "model_2 = tf.keras.Model(inputs,outputs,name=\"MODEL_2_USE\")\n",
        "\n",
        "#Compile model\n",
        "model_2.compile(loss=\"categorical_crossentropy\",\n",
        "                optimizer=tf.keras.optimizers.Adam(),\n",
        "                metrics=[\"accuracy\"])\n",
        "#Summary\n",
        "model_2.summary()"
      ],
      "metadata": {
        "colab": {
          "base_uri": "https://localhost:8080/"
        },
        "id": "GKK1cnbuhS71",
        "outputId": "2dc94da9-9f20-431f-bd0c-491d1625951c"
      },
      "execution_count": 42,
      "outputs": [
        {
          "output_type": "stream",
          "name": "stderr",
          "text": [
            "WARNING:tensorflow:Please fix your imports. Module tensorflow.python.training.tracking.data_structures has been moved to tensorflow.python.trackable.data_structures. The old module will be deleted in version 2.11.\n",
            "WARNING:tensorflow:From /usr/local/lib/python3.8/dist-packages/tensorflow/python/autograph/pyct/static_analysis/liveness.py:83: Analyzer.lamba_check (from tensorflow.python.autograph.pyct.static_analysis.liveness) is deprecated and will be removed after 2023-09-23.\n",
            "Instructions for updating:\n",
            "Lambda fuctions will be no more assumed to be used in the statement where they are used, or at least in the same block. https://github.com/tensorflow/tensorflow/issues/56089\n"
          ]
        },
        {
          "output_type": "stream",
          "name": "stdout",
          "text": [
            "Model: \"MODEL_2_USE\"\n",
            "_________________________________________________________________\n",
            " Layer (type)                Output Shape              Param #   \n",
            "=================================================================\n",
            " input_2 (InputLayer)        [(None,)]                 0         \n",
            "                                                                 \n",
            " keras_layer (KerasLayer)    (None, 512)               256797824 \n",
            "                                                                 \n",
            " dense_1 (Dense)             (None, 128)               65664     \n",
            "                                                                 \n",
            " dense_2 (Dense)             (None, 5)                 645       \n",
            "                                                                 \n",
            "=================================================================\n",
            "Total params: 256,864,133\n",
            "Trainable params: 66,309\n",
            "Non-trainable params: 256,797,824\n",
            "_________________________________________________________________\n"
          ]
        }
      ]
    },
    {
      "cell_type": "markdown",
      "source": [
        "Fit model"
      ],
      "metadata": {
        "id": "CiQMBbtW8ffb"
      }
    },
    {
      "cell_type": "code",
      "source": [
        "history_2 = model_2.fit(train_dataset,\n",
        "                        steps_per_epoch=int(0.1*len(train_dataset)),\n",
        "                        epochs=3,\n",
        "                        validation_data=valid_dataset,\n",
        "                        validation_steps=int(0.1*len(valid_dataset)),\n",
        "                        callbacks=[tensorboard_callback,model_checkpoint]\n",
        "                        )"
      ],
      "metadata": {
        "colab": {
          "base_uri": "https://localhost:8080/"
        },
        "id": "gNM4q1fP-6gH",
        "outputId": "4ea72734-940c-4551-aef5-7bbc234bf7cd"
      },
      "execution_count": 43,
      "outputs": [
        {
          "output_type": "stream",
          "name": "stdout",
          "text": [
            "Epoch 1/3\n",
            "561/562 [============================>.] - ETA: 0s - loss: 0.9186 - accuracy: 0.6486\n",
            "Epoch 1: val_accuracy did not improve from 0.80918\n",
            "562/562 [==============================] - 13s 16ms/step - loss: 0.9181 - accuracy: 0.6487 - val_loss: 0.7967 - val_accuracy: 0.6898\n",
            "Epoch 2/3\n",
            "562/562 [==============================] - ETA: 0s - loss: 0.7713 - accuracy: 0.6998\n",
            "Epoch 2: val_accuracy did not improve from 0.80918\n",
            "562/562 [==============================] - 9s 16ms/step - loss: 0.7713 - accuracy: 0.6998 - val_loss: 0.7567 - val_accuracy: 0.7055\n",
            "Epoch 3/3\n",
            "558/562 [============================>.] - ETA: 0s - loss: 0.7569 - accuracy: 0.7094\n",
            "Epoch 3: val_accuracy did not improve from 0.80918\n",
            "562/562 [==============================] - 9s 17ms/step - loss: 0.7566 - accuracy: 0.7096 - val_loss: 0.7446 - val_accuracy: 0.7084\n"
          ]
        }
      ]
    },
    {
      "cell_type": "markdown",
      "source": [
        "Evaluation"
      ],
      "metadata": {
        "id": "13yEhTHoDKvU"
      }
    },
    {
      "cell_type": "code",
      "source": [
        "model_2.evaluate(valid_dataset)"
      ],
      "metadata": {
        "colab": {
          "base_uri": "https://localhost:8080/"
        },
        "id": "Ex4aOA8Z_vRR",
        "outputId": "fcbcd8f3-44a8-4dac-aa86-d8fdde1a1f8b"
      },
      "execution_count": 44,
      "outputs": [
        {
          "output_type": "stream",
          "name": "stdout",
          "text": [
            "945/945 [==============================] - 13s 14ms/step - loss: 0.7467 - accuracy: 0.7113\n"
          ]
        },
        {
          "output_type": "execute_result",
          "data": {
            "text/plain": [
              "[0.746696949005127, 0.7112736701965332]"
            ]
          },
          "metadata": {},
          "execution_count": 44
        }
      ]
    },
    {
      "cell_type": "code",
      "source": [
        "model_2_predprobs=model_2.predict(val_sentences)\n",
        "model_2_predprobs[:4]"
      ],
      "metadata": {
        "colab": {
          "base_uri": "https://localhost:8080/"
        },
        "id": "WaVRD2p5ChKX",
        "outputId": "06d5b5bd-7191-48d7-f24b-6e1507b56a55"
      },
      "execution_count": 45,
      "outputs": [
        {
          "output_type": "stream",
          "name": "stdout",
          "text": [
            "945/945 [==============================] - 13s 13ms/step\n"
          ]
        },
        {
          "output_type": "execute_result",
          "data": {
            "text/plain": [
              "array([[0.4098974 , 0.3801299 , 0.0021878 , 0.19887152, 0.00891335],\n",
              "       [0.33190358, 0.5017492 , 0.00332546, 0.15970096, 0.00332075],\n",
              "       [0.23745108, 0.16450572, 0.0173582 , 0.5408278 , 0.03985719],\n",
              "       [0.01416965, 0.04374357, 0.80500954, 0.00904496, 0.12803237]],\n",
              "      dtype=float32)"
            ]
          },
          "metadata": {},
          "execution_count": 45
        }
      ]
    },
    {
      "cell_type": "code",
      "source": [
        "model_2_predicts = tf.argmax(model_2_predprobs,axis=1)\n",
        "model_2_predicts[:4]"
      ],
      "metadata": {
        "colab": {
          "base_uri": "https://localhost:8080/"
        },
        "id": "-P5ATCgGDRwo",
        "outputId": "5af61b0b-497c-48e1-ffd6-2a18a234eb01"
      },
      "execution_count": 46,
      "outputs": [
        {
          "output_type": "execute_result",
          "data": {
            "text/plain": [
              "<tf.Tensor: shape=(4,), dtype=int64, numpy=array([0, 1, 3, 2])>"
            ]
          },
          "metadata": {},
          "execution_count": 46
        }
      ]
    },
    {
      "cell_type": "code",
      "source": [
        "#Calculate results\n",
        "model_2_results = hp.calculate_results(val_labels_encode,model_2_predicts)\n",
        "model_2_results"
      ],
      "metadata": {
        "colab": {
          "base_uri": "https://localhost:8080/"
        },
        "id": "HJi9_-1sDeVm",
        "outputId": "8b34c12b-85a7-4765-b51c-5297364ea2e4"
      },
      "execution_count": 47,
      "outputs": [
        {
          "output_type": "execute_result",
          "data": {
            "text/plain": [
              "{'accuracy': 71.12736660929431,\n",
              " 'precision': 0.7116055603929269,\n",
              " 'recall': 0.7112736660929432,\n",
              " 'f1': 0.7084924054185799}"
            ]
          },
          "metadata": {},
          "execution_count": 47
        }
      ]
    },
    {
      "cell_type": "code",
      "source": [
        "model_0_results"
      ],
      "metadata": {
        "colab": {
          "base_uri": "https://localhost:8080/"
        },
        "id": "tXTZD-bcDsM0",
        "outputId": "7dd9a992-865b-4b12-cd7d-cfd7b386d3da"
      },
      "execution_count": 48,
      "outputs": [
        {
          "output_type": "execute_result",
          "data": {
            "text/plain": [
              "{'accuracy': 72.1832384482987,\n",
              " 'precision': 0.7186466952323352,\n",
              " 'recall': 0.7218323844829869,\n",
              " 'f1': 0.6989250353450294}"
            ]
          },
          "metadata": {},
          "execution_count": 48
        }
      ]
    },
    {
      "cell_type": "markdown",
      "source": [
        "# Model 3: Conv1D with character embeddings\n",
        "\n",
        "-To eventaully use concatenation of both token and character embedding as in paper shown at the beggining"
      ],
      "metadata": {
        "id": "tVjnLnTYDu9i"
      }
    },
    {
      "cell_type": "markdown",
      "source": [
        "Dealing with data for character embedding"
      ],
      "metadata": {
        "id": "g90a2roGPMuM"
      }
    },
    {
      "cell_type": "code",
      "source": [
        "#To use character embedding it is needed to change sentences from e.g. ['it is dog'] to ['i','t',' ','i'...]\n",
        "import random\n",
        "def text_to_char(text):\n",
        "  return \" \".join(list(text))\n",
        "text_to_char(random.choice(train_sentences))"
      ],
      "metadata": {
        "colab": {
          "base_uri": "https://localhost:8080/",
          "height": 35
        },
        "id": "c3LVq81REYmw",
        "outputId": "7d306989-0edc-4a1e-ad92-87e95c1aabb3"
      },
      "execution_count": 49,
      "outputs": [
        {
          "output_type": "execute_result",
          "data": {
            "text/plain": [
              "'c l i n i c a l t r i a l s . g o v   n c t @   .'"
            ],
            "application/vnd.google.colaboratory.intrinsic+json": {
              "type": "string"
            }
          },
          "metadata": {},
          "execution_count": 49
        }
      ]
    },
    {
      "cell_type": "code",
      "source": [
        "#Split sequence-level data splits into character-level data splits\n",
        "train_chars = [text_to_char(sentence) for sentence in train_sentences]\n",
        "val_chars = [text_to_char(sentence) for sentence in val_sentences]\n",
        "test_chars = [text_to_char(sentence) for sentence in test_sentences]\n",
        "train_chars[:3]"
      ],
      "metadata": {
        "colab": {
          "base_uri": "https://localhost:8080/"
        },
        "id": "DZXaEi69Fq_p",
        "outputId": "bb7845c6-baf2-4027-c9e4-3d1d5c05e8ba"
      },
      "execution_count": 50,
      "outputs": [
        {
          "output_type": "execute_result",
          "data": {
            "text/plain": [
              "['t o   i n v e s t i g a t e   t h e   e f f i c a c y   o f   @   w e e k s   o f   d a i l y   l o w - d o s e   o r a l   p r e d n i s o l o n e   i n   i m p r o v i n g   p a i n   ,   m o b i l i t y   ,   a n d   s y s t e m i c   l o w - g r a d e   i n f l a m m a t i o n   i n   t h e   s h o r t   t e r m   a n d   w h e t h e r   t h e   e f f e c t   w o u l d   b e   s u s t a i n e d   a t   @   w e e k s   i n   o l d e r   a d u l t s   w i t h   m o d e r a t e   t o   s e v e r e   k n e e   o s t e o a r t h r i t i s   (   o a   )   .',\n",
              " 'a   t o t a l   o f   @   p a t i e n t s   w i t h   p r i m a r y   k n e e   o a   w e r e   r a n d o m i z e d   @ : @   ;   @   r e c e i v e d   @   m g / d a y   o f   p r e d n i s o l o n e   a n d   @   r e c e i v e d   p l a c e b o   f o r   @   w e e k s   .',\n",
              " 'o u t c o m e   m e a s u r e s   i n c l u d e d   p a i n   r e d u c t i o n   a n d   i m p r o v e m e n t   i n   f u n c t i o n   s c o r e s   a n d   s y s t e m i c   i n f l a m m a t i o n   m a r k e r s   .']"
            ]
          },
          "metadata": {},
          "execution_count": 50
        }
      ]
    },
    {
      "cell_type": "code",
      "source": [
        "#Average character lenght\n",
        "char_len = [len(sentence) for sentence in train_sentences]\n",
        "mean_char_len = np.mean(char_len)\n",
        "mean_char_len"
      ],
      "metadata": {
        "colab": {
          "base_uri": "https://localhost:8080/"
        },
        "id": "zSK6oT_NGY0B",
        "outputId": "a39ac6a7-3bba-4968-e2fe-15376101cb66"
      },
      "execution_count": 51,
      "outputs": [
        {
          "output_type": "execute_result",
          "data": {
            "text/plain": [
              "149.3662574983337"
            ]
          },
          "metadata": {},
          "execution_count": 51
        }
      ]
    },
    {
      "cell_type": "code",
      "source": [
        "#Check the distribution\n",
        "import seaborn as sns \n",
        "sns.histplot(char_len,bins=30);"
      ],
      "metadata": {
        "colab": {
          "base_uri": "https://localhost:8080/",
          "height": 265
        },
        "id": "-_PwyIfMOUhD",
        "outputId": "b8f625b7-b69f-4b5d-dfab-9db76349bf3b"
      },
      "execution_count": 52,
      "outputs": [
        {
          "output_type": "display_data",
          "data": {
            "text/plain": [
              "<Figure size 432x288 with 1 Axes>"
            ],
            "image/png": "[encoded data removed]"
          },
          "metadata": {
            "needs_background": "light"
          }
        }
      ]
    },
    {
      "cell_type": "code",
      "source": [
        "#getting <95% of char length\n",
        "char_95_percentile = int(np.percentile(char_len,95))\n",
        "char_95_percentile"
      ],
      "metadata": {
        "colab": {
          "base_uri": "https://localhost:8080/"
        },
        "id": "-U4rX_RiOmOC",
        "outputId": "352651ec-74cb-4629-e4fe-0f94e3e5f108"
      },
      "execution_count": 53,
      "outputs": [
        {
          "output_type": "execute_result",
          "data": {
            "text/plain": [
              "290"
            ]
          },
          "metadata": {},
          "execution_count": 53
        }
      ]
    },
    {
      "cell_type": "code",
      "source": [
        "#Getting all keyboard characters\n",
        "import string\n",
        "alphabet = string.ascii_lowercase+string.digits+string.punctuation\n",
        "alphabet"
      ],
      "metadata": {
        "colab": {
          "base_uri": "https://localhost:8080/",
          "height": 35
        },
        "id": "uS_1C8B3OzJ3",
        "outputId": "9b455ff4-e927-4c4c-c6d3-56400806f19d"
      },
      "execution_count": 54,
      "outputs": [
        {
          "output_type": "execute_result",
          "data": {
            "text/plain": [
              "'abcdefghijklmnopqrstuvwxyz0123456789!\"#$%&\\'()*+,-./:;<=>?@[\\\\]^_`{|}~'"
            ],
            "application/vnd.google.colaboratory.intrinsic+json": {
              "type": "string"
            }
          },
          "metadata": {},
          "execution_count": 54
        }
      ]
    },
    {
      "cell_type": "markdown",
      "source": [
        "Creating character vectorizer instance and embedding layer"
      ],
      "metadata": {
        "id": "ZSpoMuEcP5_b"
      }
    },
    {
      "cell_type": "code",
      "source": [
        "num_char = len(alphabet)+2 # 1 for space, another for OOv - out of vocab\n",
        "char_vectorizer = TextVectorization(max_tokens = num_char,\n",
        "                                    output_mode=\"int\",\n",
        "                                    output_sequence_length=char_95_percentile)\n",
        "#Adapt Vectorizer\n",
        "char_vectorizer.adapt(train_chars)\n",
        "char_vocab = char_vectorizer.get_vocabulary()\n",
        "\n",
        "embedding_char_layer = tf.keras.layers.Embedding(input_dim=len(char_vocab),\n",
        "                                                 output_dim=25,\n",
        "                                                 mask_zero=True)"
      ],
      "metadata": {
        "id": "uXr_iAM_QDsV"
      },
      "execution_count": 55,
      "outputs": []
    },
    {
      "cell_type": "code",
      "source": [
        "len(char_vocab), char_vocab[:5], char_vocab[-5:]"
      ],
      "metadata": {
        "colab": {
          "base_uri": "https://localhost:8080/"
        },
        "id": "fgLKLV5TTxkX",
        "outputId": "28c5496e-6985-4776-b60a-b577627eb2ed"
      },
      "execution_count": 56,
      "outputs": [
        {
          "output_type": "execute_result",
          "data": {
            "text/plain": [
              "(28, ['', '[UNK]', 'e', 't', 'i'], ['k', 'x', 'z', 'q', 'j'])"
            ]
          },
          "metadata": {},
          "execution_count": 56
        }
      ]
    },
    {
      "cell_type": "code",
      "source": [
        "random_char_sentence = random.choice(train_chars)\n",
        "print(f\"Char sentence:\\n{random_char_sentence}\\n\")\n",
        "print(f\"Embeded char sentence:\\n{embedding_char_layer(char_vectorizer([random_char_sentence]))}\")\n",
        "print(f\"\\nEmbedded shape:{embedding_char_layer(char_vectorizer([random_char_sentence])).shape}\")"
      ],
      "metadata": {
        "colab": {
          "base_uri": "https://localhost:8080/"
        },
        "id": "QAjYiYtLRea8",
        "outputId": "e7992986-b1b1-4d62-a431-1740fed52587"
      },
      "execution_count": 57,
      "outputs": [
        {
          "output_type": "stream",
          "name": "stdout",
          "text": [
            "Char sentence:\n",
            "o v e r a l l   c o r r e c t   r e s p o n s e   r a t e   w a s   @   %   .\n",
            "\n",
            "Embeded char sentence:\n",
            "[[[-0.01479531 -0.02890272 -0.02405765 ... -0.0232123  -0.00720822\n",
            "    0.01818875]\n",
            "  [ 0.01648564 -0.01063013 -0.02302498 ... -0.03284313 -0.04102367\n",
            "    0.03174533]\n",
            "  [-0.02398058 -0.02116141  0.00010272 ...  0.04640402  0.00049633\n",
            "   -0.02174039]\n",
            "  ...\n",
            "  [ 0.03435328  0.02970649  0.01823143 ...  0.04828502 -0.04963231\n",
            "    0.02389021]\n",
            "  [ 0.03435328  0.02970649  0.01823143 ...  0.04828502 -0.04963231\n",
            "    0.02389021]\n",
            "  [ 0.03435328  0.02970649  0.01823143 ...  0.04828502 -0.04963231\n",
            "    0.02389021]]]\n",
            "\n",
            "Embedded shape:(1, 290, 25)\n"
          ]
        }
      ]
    },
    {
      "cell_type": "markdown",
      "source": [
        "Model 3: Conv1D - Character embedding"
      ],
      "metadata": {
        "id": "53-WkkNJRlZ0"
      }
    },
    {
      "cell_type": "markdown",
      "source": [
        "Build and compile model"
      ],
      "metadata": {
        "id": "84Zp4PYIYGzO"
      }
    },
    {
      "cell_type": "code",
      "source": [
        "from tensorflow.keras import layers\n",
        "#Build model\n",
        "inputs = layers.Input(shape=(1,),dtype=tf.string)\n",
        "vectorizer = char_vectorizer(inputs)\n",
        "embedding = embedding_char_layer(vectorizer)\n",
        "x = layers.Conv1D(filters=64,\n",
        "                  kernel_size=5,\n",
        "                  activation=\"relu\",\n",
        "                  padding=\"same\")(embedding)\n",
        "x = layers.GlobalMaxPool1D()(x)\n",
        "outputs = layers.Dense(5,activation=\"softmax\")(x)\n",
        "model_3 = tf.keras.Model(inputs,outputs,name=\"model_3_Conv1D_CharEmb\")\n",
        "\n",
        "#Compile model\n",
        "model_3.compile(loss=\"categorical_crossentropy\",\n",
        "                optimizer=tf.keras.optimizers.Adam(),\n",
        "                metrics=[\"accuracy\"])\n",
        "#Summary\n",
        "model_3.summary()"
      ],
      "metadata": {
        "colab": {
          "base_uri": "https://localhost:8080/"
        },
        "id": "00rTzPN5XLbJ",
        "outputId": "5ac5b564-54fb-4a8e-9d9d-70350f08473c"
      },
      "execution_count": 58,
      "outputs": [
        {
          "output_type": "stream",
          "name": "stdout",
          "text": [
            "Model: \"model_3_Conv1D_CharEmb\"\n",
            "_________________________________________________________________\n",
            " Layer (type)                Output Shape              Param #   \n",
            "=================================================================\n",
            " input_3 (InputLayer)        [(None, 1)]               0         \n",
            "                                                                 \n",
            " text_vectorization_1 (TextV  (None, 290)              0         \n",
            " ectorization)                                                   \n",
            "                                                                 \n",
            " embedding (Embedding)       (None, 290, 25)           700       \n",
            "                                                                 \n",
            " conv1d_1 (Conv1D)           (None, 290, 64)           8064      \n",
            "                                                                 \n",
            " global_max_pooling1d_1 (Glo  (None, 64)               0         \n",
            " balMaxPooling1D)                                                \n",
            "                                                                 \n",
            " dense_3 (Dense)             (None, 5)                 325       \n",
            "                                                                 \n",
            "=================================================================\n",
            "Total params: 9,089\n",
            "Trainable params: 9,089\n",
            "Non-trainable params: 0\n",
            "_________________________________________________________________\n"
          ]
        }
      ]
    },
    {
      "cell_type": "code",
      "source": [
        "#Getting data into tensorflow datasets\n",
        "train_chars_dataset = tf.data.Dataset.from_tensor_slices((train_chars,train_labels_oh)).batch(32).prefetch(tf.data.AUTOTUNE)\n",
        "valid_chars_dataset = tf.data.Dataset.from_tensor_slices((val_chars,val_labels_oh)).batch(32).prefetch(tf.data.AUTOTUNE)\n",
        "test_chars_dataset = tf.data.Dataset.from_tensor_slices((test_chars,test_labels_oh)).batch(32).prefetch(tf.data.AUTOTUNE)"
      ],
      "metadata": {
        "id": "OkQXDGjlacJf"
      },
      "execution_count": 59,
      "outputs": []
    },
    {
      "cell_type": "markdown",
      "source": [
        "Fit Model"
      ],
      "metadata": {
        "id": "PEKRpUIXYkzB"
      }
    },
    {
      "cell_type": "code",
      "source": [
        "#Fit model\n",
        "history_3 = model_3.fit(train_chars_dataset,\n",
        "                        steps_per_epoch=int(0.1*len(train_chars_dataset)),\n",
        "                        epochs=3,\n",
        "                        validation_data=valid_chars_dataset,\n",
        "                        validation_steps=int(0.1*len(valid_chars_dataset)),\n",
        "                        callbacks=[tensorboard_callback,model_checkpoint])\n"
      ],
      "metadata": {
        "colab": {
          "base_uri": "https://localhost:8080/"
        },
        "id": "VLFcCNmBYw9F",
        "outputId": "c6f945c7-64be-4f97-b3d3-17a841ecd2a0"
      },
      "execution_count": 60,
      "outputs": [
        {
          "output_type": "stream",
          "name": "stdout",
          "text": [
            "Epoch 1/3\n",
            "562/562 [==============================] - ETA: 0s - loss: 1.2710 - accuracy: 0.4822\n",
            "Epoch 1: val_accuracy did not improve from 0.80918\n",
            "562/562 [==============================] - 16s 28ms/step - loss: 1.2710 - accuracy: 0.4822 - val_loss: 1.0452 - val_accuracy: 0.5791\n",
            "Epoch 2/3\n",
            "561/562 [============================>.] - ETA: 0s - loss: 0.9991 - accuracy: 0.5949\n",
            "Epoch 2: val_accuracy did not improve from 0.80918\n",
            "562/562 [==============================] - 15s 27ms/step - loss: 0.9993 - accuracy: 0.5949 - val_loss: 0.9270 - val_accuracy: 0.6323\n",
            "Epoch 3/3\n",
            "561/562 [============================>.] - ETA: 0s - loss: 0.9248 - accuracy: 0.6276\n",
            "Epoch 3: val_accuracy did not improve from 0.80918\n",
            "562/562 [==============================] - 14s 25ms/step - loss: 0.9247 - accuracy: 0.6277 - val_loss: 0.8557 - val_accuracy: 0.6715\n"
          ]
        }
      ]
    },
    {
      "cell_type": "code",
      "source": [
        "pd.DataFrame(history_3.history).plot()"
      ],
      "metadata": {
        "colab": {
          "base_uri": "https://localhost:8080/",
          "height": 284
        },
        "id": "264Up1nGc5M9",
        "outputId": "5b4d10a8-0a27-4b3f-81b6-d65fd9a8fed0"
      },
      "execution_count": 61,
      "outputs": [
        {
          "output_type": "execute_result",
          "data": {
            "text/plain": [
              "<matplotlib.axes._subplots.AxesSubplot at 0x7fe228ea20d0>"
            ]
          },
          "metadata": {},
          "execution_count": 61
        },
        {
          "output_type": "display_data",
          "data": {
            "text/plain": [
              "<Figure size 432x288 with 1 Axes>"
            ],
            "image/png": "[encoded data removed]"
          },
          "metadata": {
            "needs_background": "light"
          }
        }
      ]
    },
    {
      "cell_type": "code",
      "source": [
        "model_3.evaluate(valid_chars_dataset)"
      ],
      "metadata": {
        "colab": {
          "base_uri": "https://localhost:8080/"
        },
        "id": "nbmxzY5QdGtJ",
        "outputId": "46e8dab3-5a54-406d-9368-2150e5295658"
      },
      "execution_count": 62,
      "outputs": [
        {
          "output_type": "stream",
          "name": "stdout",
          "text": [
            "945/945 [==============================] - 8s 9ms/step - loss: 0.8773 - accuracy: 0.6567\n"
          ]
        },
        {
          "output_type": "execute_result",
          "data": {
            "text/plain": [
              "[0.8772826790809631, 0.6567258238792419]"
            ]
          },
          "metadata": {},
          "execution_count": 62
        }
      ]
    },
    {
      "cell_type": "code",
      "source": [
        "model_3_pred_probs = model_3.predict(val_chars)\n",
        "model_3_pred_probs[:3]"
      ],
      "metadata": {
        "colab": {
          "base_uri": "https://localhost:8080/"
        },
        "id": "WaDmatUAdNii",
        "outputId": "80752b5c-6893-40b6-8a28-34d627aa5213"
      },
      "execution_count": 63,
      "outputs": [
        {
          "output_type": "stream",
          "name": "stdout",
          "text": [
            "945/945 [==============================] - 8s 9ms/step\n"
          ]
        },
        {
          "output_type": "execute_result",
          "data": {
            "text/plain": [
              "array([[0.19767435, 0.37878224, 0.12483088, 0.20508543, 0.09362722],\n",
              "       [0.13681446, 0.76260376, 0.02243651, 0.06504337, 0.01310182],\n",
              "       [0.19667602, 0.25143367, 0.16339421, 0.33300036, 0.05549566]],\n",
              "      dtype=float32)"
            ]
          },
          "metadata": {},
          "execution_count": 63
        }
      ]
    },
    {
      "cell_type": "code",
      "source": [
        "model_3_predicts = tf.argmax(model_3_pred_probs,axis=1)\n",
        "model_3_predicts[:3]"
      ],
      "metadata": {
        "colab": {
          "base_uri": "https://localhost:8080/"
        },
        "id": "hJ75XUXZdWSs",
        "outputId": "77b912a4-4e16-4b9a-d796-cec73ca74e36"
      },
      "execution_count": 64,
      "outputs": [
        {
          "output_type": "execute_result",
          "data": {
            "text/plain": [
              "<tf.Tensor: shape=(3,), dtype=int64, numpy=array([1, 1, 3])>"
            ]
          },
          "metadata": {},
          "execution_count": 64
        }
      ]
    },
    {
      "cell_type": "code",
      "source": [
        "#Calculate results of model 3\n",
        "model_3_results = hp.calculate_results(val_labels_encode,model_3_predicts)\n",
        "model_3_results"
      ],
      "metadata": {
        "colab": {
          "base_uri": "https://localhost:8080/"
        },
        "id": "PFBvRBtqdc_5",
        "outputId": "2182e3d4-7f1b-4456-f59a-8644e4c2929c"
      },
      "execution_count": 65,
      "outputs": [
        {
          "output_type": "execute_result",
          "data": {
            "text/plain": [
              "{'accuracy': 65.67258043161658,\n",
              " 'precision': 0.6488253144646872,\n",
              " 'recall': 0.6567258043161658,\n",
              " 'f1': 0.6471991515877458}"
            ]
          },
          "metadata": {},
          "execution_count": 65
        }
      ]
    },
    {
      "cell_type": "markdown",
      "source": [
        "# Model 4 : Combine pretrained token embeddings + character embeddings\n",
        "\n",
        "1. Create a token-level embedding Model\n",
        "2. Create a character-level model\n",
        "3. Combine both with concatenate layer (layers.Concatenate)\n",
        "4. Build a series of output layers on top of 3 similar to Figure 1 and 4.2 section of paper\n",
        "5. Construct model which takes both token and character embedding sequences as input and pred probas as output"
      ],
      "metadata": {
        "id": "pc-KlcTEdlrY"
      }
    },
    {
      "cell_type": "code",
      "source": [
        "#Dropout randomly exchanging to 0 values given part of inputs - for regularization - prevent overfitting\n",
        "from tensorflow.keras import layers\n",
        "import tensorflow as tf\n",
        "\n",
        "#1. Token-level embedding model\n",
        "token_inputs = layers.Input(shape=[],dtype=tf.string, name=\"token_input\")\n",
        "embedd_layer = feature_extractor(token_inputs)\n",
        "token_outputs = layers.Dense(128,activation=\"relu\")(embedd_layer)\n",
        "\n",
        "token_model = tf.keras.Model(token_inputs,token_outputs)\n",
        "\n",
        "#2. Character-level model\n",
        "char_inputs = layers.Input(shape=(1,),dtype=tf.string,name=\"char_input\")\n",
        "vectorization = char_vectorizer(char_inputs)\n",
        "embedding_chars = embedding_char_layer(vectorization)\n",
        "char_outputs = layers.Bidirectional(layers.LSTM(units=24))(embedding_chars)\n",
        "\n",
        "char_model = tf.keras.Model(char_inputs, char_outputs)\n",
        "\n",
        "#3.Combine both\n",
        "token_char_combine = layers.Concatenate(name=\"combine_char_token\")([token_model.output,char_model.output])\n",
        "\n",
        "#4. Build output layers\n",
        "dropout = layers.Dropout(0.5)(token_char_combine)\n",
        "x = layers.Dense(128,activation=\"relu\")(dropout)\n",
        "final_dropout = layers.Dropout(0.5)(x)\n",
        "end_outputs = layers.Dense(5,activation=\"softmax\")(final_dropout)\n",
        "\n",
        "model_4 = tf.keras.Model(inputs=[token_inputs,char_inputs],\n",
        "                         outputs=end_outputs,\n",
        "                         name=\"model_4_Combined\")\n",
        "\n",
        "model_4.summary()"
      ],
      "metadata": {
        "colab": {
          "base_uri": "https://localhost:8080/"
        },
        "id": "InFIgNh5eo9l",
        "outputId": "090f9f65-d83c-489f-f484-6c6b94426e9b"
      },
      "execution_count": 66,
      "outputs": [
        {
          "output_type": "stream",
          "name": "stdout",
          "text": [
            "Model: \"model_4_Combined\"\n",
            "__________________________________________________________________________________________________\n",
            " Layer (type)                   Output Shape         Param #     Connected to                     \n",
            "==================================================================================================\n",
            " char_input (InputLayer)        [(None, 1)]          0           []                               \n",
            "                                                                                                  \n",
            " token_input (InputLayer)       [(None,)]            0           []                               \n",
            "                                                                                                  \n",
            " text_vectorization_1 (TextVect  (None, 290)         0           ['char_input[0][0]']             \n",
            " orization)                                                                                       \n",
            "                                                                                                  \n",
            " keras_layer (KerasLayer)       (None, 512)          256797824   ['token_input[0][0]']            \n",
            "                                                                                                  \n",
            " embedding (Embedding)          (None, 290, 25)      700         ['text_vectorization_1[1][0]']   \n",
            "                                                                                                  \n",
            " dense_4 (Dense)                (None, 128)          65664       ['keras_layer[1][0]']            \n",
            "                                                                                                  \n",
            " bidirectional (Bidirectional)  (None, 48)           9600        ['embedding[1][0]']              \n",
            "                                                                                                  \n",
            " combine_char_token (Concatenat  (None, 176)         0           ['dense_4[0][0]',                \n",
            " e)                                                               'bidirectional[0][0]']          \n",
            "                                                                                                  \n",
            " dropout (Dropout)              (None, 176)          0           ['combine_char_token[0][0]']     \n",
            "                                                                                                  \n",
            " dense_5 (Dense)                (None, 128)          22656       ['dropout[0][0]']                \n",
            "                                                                                                  \n",
            " dropout_1 (Dropout)            (None, 128)          0           ['dense_5[0][0]']                \n",
            "                                                                                                  \n",
            " dense_6 (Dense)                (None, 5)            645         ['dropout_1[0][0]']              \n",
            "                                                                                                  \n",
            "==================================================================================================\n",
            "Total params: 256,897,089\n",
            "Trainable params: 99,265\n",
            "Non-trainable params: 256,797,824\n",
            "__________________________________________________________________________________________________\n"
          ]
        }
      ]
    },
    {
      "cell_type": "code",
      "source": [
        " from keras.utils import plot_model\n",
        " plot_model(model_4, show_shapes=True)"
      ],
      "metadata": {
        "colab": {
          "base_uri": "https://localhost:8080/",
          "height": 976
        },
        "id": "2xLFAu6XLmNN",
        "outputId": "e4e588e9-a331-47c2-9ada-be40d9314ca0"
      },
      "execution_count": 67,
      "outputs": [
        {
          "output_type": "execute_result",
          "data": {
            "image/png": "[encoded data removed]",
            "text/plain": [
              "<IPython.core.display.Image object>"
            ]
          },
          "metadata": {},
          "execution_count": 67
        }
      ]
    },
    {
      "cell_type": "markdown",
      "source": [
        "Compile Model"
      ],
      "metadata": {
        "id": "HkmdIEcuOrNQ"
      }
    },
    {
      "cell_type": "code",
      "source": [
        "model_4.compile(loss=\"categorical_crossentropy\",\n",
        "                optimizer=tf.keras.optimizers.Adam(),\n",
        "                metrics=[\"accuracy\"])"
      ],
      "metadata": {
        "id": "Gu-1VKuBOsoz"
      },
      "execution_count": 68,
      "outputs": []
    },
    {
      "cell_type": "markdown",
      "source": [
        "Preprocess data as multi-input tensorflow Datasets"
      ],
      "metadata": {
        "id": "6Mox-h3rMUax"
      }
    },
    {
      "cell_type": "code",
      "source": [
        "concatenated_train_data = tf.data.Dataset.from_tensor_slices((train_sentences,train_chars))\n",
        "concatenated_train_labels = tf.data.Dataset.from_tensor_slices((train_labels_oh))\n",
        "concatenated_train_dataset = tf.data.Dataset.zip((concatenated_train_data,concatenated_train_labels))#Combining tensorflow Datasets\n",
        "#Prefetch and make batches\n",
        "concatenated_train_dataset=concatenated_train_dataset.batch(32).prefetch(tf.data.AUTOTUNE)"
      ],
      "metadata": {
        "id": "GtUuh0dZM_w8"
      },
      "execution_count": 69,
      "outputs": []
    },
    {
      "cell_type": "code",
      "source": [
        "#Same for validation dataset\n",
        "concatenated_val_data = tf.data.Dataset.from_tensor_slices((val_sentences,val_chars))\n",
        "concatenated_val_labels = tf.data.Dataset.from_tensor_slices((val_labels_oh))\n",
        "concatenated_val_dataset = tf.data.Dataset.zip((concatenated_val_data,concatenated_val_labels))\n",
        "#Prefetch and make batches\n",
        "concatenated_val_dataset=concatenated_val_dataset.batch(32).prefetch(tf.data.AUTOTUNE)"
      ],
      "metadata": {
        "id": "K0jqO-AbP6AD"
      },
      "execution_count": 70,
      "outputs": []
    },
    {
      "cell_type": "code",
      "source": [
        "concatenated_train_dataset,concatenated_val_dataset"
      ],
      "metadata": {
        "colab": {
          "base_uri": "https://localhost:8080/"
        },
        "id": "NmWDcaJQQj7p",
        "outputId": "f3e5beb3-9117-4759-d7a1-d267682cb350"
      },
      "execution_count": 71,
      "outputs": [
        {
          "output_type": "execute_result",
          "data": {
            "text/plain": [
              "(<PrefetchDataset element_spec=((TensorSpec(shape=(None,), dtype=tf.string, name=None), TensorSpec(shape=(None,), dtype=tf.string, name=None)), TensorSpec(shape=(None, 5), dtype=tf.float64, name=None))>,\n",
              " <PrefetchDataset element_spec=((TensorSpec(shape=(None,), dtype=tf.string, name=None), TensorSpec(shape=(None,), dtype=tf.string, name=None)), TensorSpec(shape=(None, 5), dtype=tf.float64, name=None))>)"
            ]
          },
          "metadata": {},
          "execution_count": 71
        }
      ]
    },
    {
      "cell_type": "markdown",
      "source": [
        "Fit the model"
      ],
      "metadata": {
        "id": "RuSGriOpQm_3"
      }
    },
    {
      "cell_type": "code",
      "source": [
        "history_4 = model_4.fit(concatenated_train_dataset,\n",
        "                        epochs=3,\n",
        "                        steps_per_epoch=int(0.1*len(concatenated_train_dataset)),\n",
        "                        validation_data=concatenated_val_dataset,\n",
        "                        validation_steps=int(0.1*len(concatenated_val_dataset)),\n",
        "                        callbacks=[tensorboard_callback,model_checkpoint])"
      ],
      "metadata": {
        "colab": {
          "base_uri": "https://localhost:8080/"
        },
        "id": "b5fOnCIOW16u",
        "outputId": "40fb643b-be7d-41aa-c10a-dcafbed3e5e1"
      },
      "execution_count": 72,
      "outputs": [
        {
          "output_type": "stream",
          "name": "stdout",
          "text": [
            "Epoch 1/3\n",
            "562/562 [==============================] - ETA: 0s - loss: 0.9791 - accuracy: 0.6100\n",
            "Epoch 1: val_accuracy did not improve from 0.80918\n",
            "562/562 [==============================] - 214s 359ms/step - loss: 0.9791 - accuracy: 0.6100 - val_loss: 0.7664 - val_accuracy: 0.7088\n",
            "Epoch 2/3\n",
            "562/562 [==============================] - ETA: 0s - loss: 0.8005 - accuracy: 0.6887\n",
            "Epoch 2: val_accuracy did not improve from 0.80918\n",
            "562/562 [==============================] - 196s 348ms/step - loss: 0.8005 - accuracy: 0.6887 - val_loss: 0.7102 - val_accuracy: 0.7317\n",
            "Epoch 3/3\n",
            "562/562 [==============================] - ETA: 0s - loss: 0.7739 - accuracy: 0.7046\n",
            "Epoch 3: val_accuracy did not improve from 0.80918\n",
            "562/562 [==============================] - 199s 353ms/step - loss: 0.7739 - accuracy: 0.7046 - val_loss: 0.6936 - val_accuracy: 0.7360\n"
          ]
        }
      ]
    },
    {
      "cell_type": "code",
      "source": [
        "model_4.evaluate(concatenated_val_dataset)"
      ],
      "metadata": {
        "colab": {
          "base_uri": "https://localhost:8080/"
        },
        "id": "EiNczYf_XPx4",
        "outputId": "39c3bc88-e2f2-4f92-c7df-ac99011febcc"
      },
      "execution_count": 73,
      "outputs": [
        {
          "output_type": "stream",
          "name": "stdout",
          "text": [
            "945/945 [==============================] - 72s 76ms/step - loss: 0.6997 - accuracy: 0.7335\n"
          ]
        },
        {
          "output_type": "execute_result",
          "data": {
            "text/plain": [
              "[0.6996670365333557, 0.7335495948791504]"
            ]
          },
          "metadata": {},
          "execution_count": 73
        }
      ]
    },
    {
      "cell_type": "code",
      "source": [
        "model_4_pred_probs=model_4.predict(concatenated_val_dataset) # ???????????????\n",
        "model_4_pred_probs"
      ],
      "metadata": {
        "colab": {
          "base_uri": "https://localhost:8080/"
        },
        "id": "kp9BmDUcYEF2",
        "outputId": "b0054130-caa4-43c3-adb2-26423354e627"
      },
      "execution_count": 74,
      "outputs": [
        {
          "output_type": "stream",
          "name": "stdout",
          "text": [
            "945/945 [==============================] - 74s 74ms/step\n"
          ]
        },
        {
          "output_type": "execute_result",
          "data": {
            "text/plain": [
              "array([[4.1896218e-01, 3.7264076e-01, 3.1510103e-03, 1.9887194e-01,\n",
              "        6.3740420e-03],\n",
              "       [3.7476462e-01, 4.3379474e-01, 2.6406618e-03, 1.8700357e-01,\n",
              "        1.7964746e-03],\n",
              "       [3.0107901e-01, 1.5023091e-01, 4.7178268e-02, 4.6113756e-01,\n",
              "        4.0374212e-02],\n",
              "       ...,\n",
              "       [9.1971050e-04, 1.4553203e-02, 5.1571086e-02, 3.2930649e-04,\n",
              "        9.3262672e-01],\n",
              "       [7.0261257e-03, 6.1241649e-02, 2.0311342e-01, 3.6924549e-03,\n",
              "        7.2492629e-01],\n",
              "       [2.9370689e-01, 4.8233733e-01, 1.5852307e-01, 1.9567244e-02,\n",
              "        4.5865521e-02]], dtype=float32)"
            ]
          },
          "metadata": {},
          "execution_count": 74
        }
      ]
    },
    {
      "cell_type": "code",
      "source": [
        "model_4_predicts = tf.argmax(model_4_pred_probs,axis=1)\n",
        "model_4_predicts[:5]"
      ],
      "metadata": {
        "colab": {
          "base_uri": "https://localhost:8080/"
        },
        "id": "wbibSjs2YTMH",
        "outputId": "07ff2d20-d3ae-4dd4-bcd4-652f7876d3ce"
      },
      "execution_count": 75,
      "outputs": [
        {
          "output_type": "execute_result",
          "data": {
            "text/plain": [
              "<tf.Tensor: shape=(5,), dtype=int64, numpy=array([0, 1, 3, 2, 2])>"
            ]
          },
          "metadata": {},
          "execution_count": 75
        }
      ]
    },
    {
      "cell_type": "code",
      "source": [
        "model_4_results = hp.calculate_results(val_labels_encode,model_4_predicts)\n",
        "model_4_results"
      ],
      "metadata": {
        "colab": {
          "base_uri": "https://localhost:8080/"
        },
        "id": "zDw4ACyyY6D4",
        "outputId": "2084c825-c8cf-4842-a336-9a883c954001"
      },
      "execution_count": 76,
      "outputs": [
        {
          "output_type": "execute_result",
          "data": {
            "text/plain": [
              "{'accuracy': 73.35495829471733,\n",
              " 'precision': 0.7348701232119368,\n",
              " 'recall': 0.7335495829471733,\n",
              " 'f1': 0.7318161087937934}"
            ]
          },
          "metadata": {},
          "execution_count": 76
        }
      ]
    },
    {
      "cell_type": "markdown",
      "source": [
        "# Model 5 : Both embeddings + positional embedding"
      ],
      "metadata": {
        "id": "kK04SxJZMJpc"
      }
    },
    {
      "cell_type": "markdown",
      "source": [
        "Preparing data for the model fitting"
      ],
      "metadata": {
        "id": "A9hudNE9Oga6"
      }
    },
    {
      "cell_type": "code",
      "source": [
        "train_df[\"line_num\"].value_counts()\n"
      ],
      "metadata": {
        "colab": {
          "base_uri": "https://localhost:8080/"
        },
        "id": "7HbMYU5DZdxJ",
        "outputId": "fe4831c5-dfd9-4de5-c81a-ae1c22b7b35a"
      },
      "execution_count": 78,
      "outputs": [
        {
          "output_type": "execute_result",
          "data": {
            "text/plain": [
              "0     15000\n",
              "1     15000\n",
              "2     15000\n",
              "3     15000\n",
              "4     14992\n",
              "5     14949\n",
              "6     14758\n",
              "7     14279\n",
              "8     13346\n",
              "9     11981\n",
              "10    10041\n",
              "11     7892\n",
              "12     5853\n",
              "13     4152\n",
              "14     2835\n",
              "15     1861\n",
              "16     1188\n",
              "17      751\n",
              "18      462\n",
              "19      286\n",
              "20      162\n",
              "21      101\n",
              "22       66\n",
              "23       33\n",
              "24       22\n",
              "25       14\n",
              "26        7\n",
              "27        4\n",
              "28        3\n",
              "29        1\n",
              "30        1\n",
              "Name: line_num, dtype: int64"
            ]
          },
          "metadata": {},
          "execution_count": 78
        }
      ]
    },
    {
      "cell_type": "code",
      "source": [
        "#Plot \n",
        "import seaborn as sns\n",
        "sns.histplot(data=train_df,x=\"line_num\",bins=15);"
      ],
      "metadata": {
        "colab": {
          "base_uri": "https://localhost:8080/",
          "height": 280
        },
        "id": "rC4fHJ5wJB_K",
        "outputId": "46b82330-b6e7-4ce4-b740-dfd014eb9f3f"
      },
      "execution_count": 82,
      "outputs": [
        {
          "output_type": "display_data",
          "data": {
            "text/plain": [
              "<Figure size 432x288 with 1 Axes>"
            ],
            "image/png": "[encoded data removed]"
          },
          "metadata": {
            "needs_background": "light"
          }
        }
      ]
    },
    {
      "cell_type": "code",
      "source": [
        "import numpy as np \n",
        "np.percentile(train_df[\"line_num\"],98)"
      ],
      "metadata": {
        "colab": {
          "base_uri": "https://localhost:8080/"
        },
        "id": "ZIWd9v_cId0s",
        "outputId": "78604834-f672-479b-9579-ea4fe8baf6e3"
      },
      "execution_count": 85,
      "outputs": [
        {
          "output_type": "execute_result",
          "data": {
            "text/plain": [
              "15.0"
            ]
          },
          "metadata": {},
          "execution_count": 85
        }
      ]
    },
    {
      "cell_type": "code",
      "source": [
        "#Because of the fact that up to 15 is about 98% of all of the train data, then one_hot will be performed with depth=15\n",
        "#To decrease size 2 times\n",
        "train_line_num_oh = tf.one_hot(train_df[\"line_num\"].to_numpy(),depth=15)\n",
        "val_line_num_oh = tf.one_hot(val_df[\"line_num\"].to_numpy(),depth=15)\n",
        "test_line_num_oh = tf.one_hot(test_df[\"line_num\"].to_numpy(),depth=15)\n",
        "train_line_num_oh[:5]"
      ],
      "metadata": {
        "colab": {
          "base_uri": "https://localhost:8080/"
        },
        "id": "kMRr5GCnIyfa",
        "outputId": "bc32b511-706d-49f5-852e-00654a3d1d6f"
      },
      "execution_count": 102,
      "outputs": [
        {
          "output_type": "execute_result",
          "data": {
            "text/plain": [
              "<tf.Tensor: shape=(5, 15), dtype=float32, numpy=\n",
              "array([[1., 0., 0., 0., 0., 0., 0., 0., 0., 0., 0., 0., 0., 0., 0.],\n",
              "       [0., 1., 0., 0., 0., 0., 0., 0., 0., 0., 0., 0., 0., 0., 0.],\n",
              "       [0., 0., 1., 0., 0., 0., 0., 0., 0., 0., 0., 0., 0., 0., 0.],\n",
              "       [0., 0., 0., 1., 0., 0., 0., 0., 0., 0., 0., 0., 0., 0., 0.],\n",
              "       [0., 0., 0., 0., 1., 0., 0., 0., 0., 0., 0., 0., 0., 0., 0.]],\n",
              "      dtype=float32)>"
            ]
          },
          "metadata": {},
          "execution_count": 102
        }
      ]
    },
    {
      "cell_type": "code",
      "source": [
        "train_df[\"num_of_lines\"].value_counts()"
      ],
      "metadata": {
        "colab": {
          "base_uri": "https://localhost:8080/"
        },
        "id": "JlGBpNVxKS7F",
        "outputId": "007a4cfe-edbe-43f0-f611-e24a402af2b2"
      },
      "execution_count": 99,
      "outputs": [
        {
          "output_type": "execute_result",
          "data": {
            "text/plain": [
              "11    24468\n",
              "10    23639\n",
              "12    22113\n",
              "9     19400\n",
              "13    18438\n",
              "14    14610\n",
              "8     12285\n",
              "15    10768\n",
              "7      7464\n",
              "16     7429\n",
              "17     5202\n",
              "6      3353\n",
              "18     3344\n",
              "19     2480\n",
              "20     1281\n",
              "5      1146\n",
              "21      770\n",
              "22      759\n",
              "23      264\n",
              "4       215\n",
              "24      200\n",
              "25      182\n",
              "26       81\n",
              "28       58\n",
              "3        32\n",
              "30       31\n",
              "27       28\n",
              "Name: num_of_lines, dtype: int64"
            ]
          },
          "metadata": {},
          "execution_count": 99
        }
      ]
    },
    {
      "cell_type": "code",
      "source": [
        "sns.histplot(data=train_df,x=\"num_of_lines\",bins=10);"
      ],
      "metadata": {
        "colab": {
          "base_uri": "https://localhost:8080/",
          "height": 282
        },
        "id": "hofV7N0hKWPo",
        "outputId": "76f2ca34-6e4e-41b0-f823-e38aa60760a1"
      },
      "execution_count": 89,
      "outputs": [
        {
          "output_type": "display_data",
          "data": {
            "text/plain": [
              "<Figure size 432x288 with 1 Axes>"
            ],
            "image/png": "[encoded data removed]"
          },
          "metadata": {
            "needs_background": "light"
          }
        }
      ]
    },
    {
      "cell_type": "code",
      "source": [
        "sum=0\n",
        "for i in range(3,20):\n",
        "  sum = sum + train_df[\"num_of_lines\"].value_counts()[i]\n",
        "sum"
      ],
      "metadata": {
        "colab": {
          "base_uri": "https://localhost:8080/"
        },
        "id": "c8UII8yFKXol",
        "outputId": "ede12f28-aa6d-4189-af7e-0026a8ee117d"
      },
      "execution_count": 103,
      "outputs": [
        {
          "output_type": "execute_result",
          "data": {
            "text/plain": [
              "176386"
            ]
          },
          "metadata": {},
          "execution_count": 103
        }
      ]
    },
    {
      "cell_type": "code",
      "source": [
        "#Calculate percent\n",
        "perc = sum/len(train_df)*100\n",
        "perc"
      ],
      "metadata": {
        "colab": {
          "base_uri": "https://localhost:8080/"
        },
        "id": "XIDMMKDXK82b",
        "outputId": "055cf28c-6403-4f5b-a936-e3259a253159"
      },
      "execution_count": 104,
      "outputs": [
        {
          "output_type": "execute_result",
          "data": {
            "text/plain": [
              "97.97045101088648"
            ]
          },
          "metadata": {},
          "execution_count": 104
        }
      ]
    },
    {
      "cell_type": "code",
      "source": [
        "#Due to the same fact as before - now depth will be 20\n",
        "train_total_lines_oh = tf.one_hot(train_df[\"num_of_lines\"].to_numpy(),depth=20)\n",
        "val_total_lines_oh = tf.one_hot(val_df[\"num_of_lines\"].to_numpy(),depth=20)\n",
        "test_total_lines_oh = tf.one_hot(test_df[\"num_of_lines\"].to_numpy(),depth=20)\n",
        "#Of course any abstract above 20 will have vector covered with zeros\n",
        "val_total_lines_oh[:2], val_total_lines_oh.shape"
      ],
      "metadata": {
        "colab": {
          "base_uri": "https://localhost:8080/"
        },
        "id": "whBec6VxLqBq",
        "outputId": "85b9b933-d97d-4dbc-cbe2-852b332cc350"
      },
      "execution_count": 105,
      "outputs": [
        {
          "output_type": "execute_result",
          "data": {
            "text/plain": [
              "(<tf.Tensor: shape=(2, 20), dtype=float32, numpy=\n",
              " array([[0., 0., 0., 0., 0., 0., 0., 0., 0., 1., 0., 0., 0., 0., 0., 0.,\n",
              "         0., 0., 0., 0.],\n",
              "        [0., 0., 0., 0., 0., 0., 0., 0., 0., 1., 0., 0., 0., 0., 0., 0.,\n",
              "         0., 0., 0., 0.]], dtype=float32)>, TensorShape([30212, 20]))"
            ]
          },
          "metadata": {},
          "execution_count": 105
        }
      ]
    },
    {
      "cell_type": "markdown",
      "source": [
        "##  Building model 5\n",
        "\n",
        "1. Create token-level model\n",
        "2. Create character-level model\n",
        "3. Create model for number of line \n",
        "4. Create model for all lines of abstracts\n",
        "5. Combine models 1 and 2\n",
        "6. Combine models 5 with 3,4\n",
        "7. Output layer after combined models\n",
        "8. Combine all four inputs"
      ],
      "metadata": {
        "id": "3nP3GJ4QNwzK"
      }
    },
    {
      "cell_type": "code",
      "source": [
        "#1. Token-level model\n",
        "token_inputs = layers.Input(shape=[], dtype=tf.string,name=\"Token_input\")\n",
        "token_vectorizer = feature_extractor(token_inputs)\n",
        "token_output = layers.Dense(units=128,activation=\"relu\")(token_vectorizer)\n",
        "token_model_5 = tf.keras.Model(token_inputs,token_output)\n",
        "\n",
        "#2. Character-level model\n",
        "character_inputs = layers.Input(shape=(1,),\n",
        "                               dtype=tf.string,\n",
        "                               name=\"Char_input\",\n",
        "                               )\n",
        "character_vectorizer = char_vectorizer(character_inputs)\n",
        "character_embedding = embedding_char_layer(character_vectorizer)\n",
        "character_ouputs = layers.Bidirectional(layers.LSTM(32))(character_embedding)\n",
        "character_model_5 = tf.keras.Model(character_inputs,character_ouputs)\n",
        "\n",
        "#3. Num of lines model\n",
        "num_lines_inputs = layers.Input(shape=(15,),\n",
        "                                dtype=tf.float32,\n",
        "                                name=\"num_lines_input\")\n",
        "num_lines_outputs = layers.Dense(32,activation=\"relu\")(num_lines_inputs)\n",
        "num_lines_model_5 = tf.keras.Model(num_lines_inputs,\n",
        "                                   num_lines_outputs)\n",
        "\n",
        "#4. All lines of abstract model\n",
        "all_line_inputs = layers.Input(shape=(20,),\n",
        "                               dtype=tf.float32,\n",
        "                               name=\"all_lines_input\")\n",
        "all_line_outputs = layers.Dense(32,activation=\"relu\")(all_line_inputs)\n",
        "all_line_model_5 = tf.keras.Model(all_line_inputs,\n",
        "                                  all_line_outputs)\n",
        "#5. Concatenate model from 1/2\n",
        "Concat_model_12 = layers.Concatenate(name=\"Concat_model_12\")([token_model_5.output,\n",
        "                                                              character_model_5.output])\n",
        "\n",
        "\n",
        "a = layers.Dense(256,activation=\"relu\")(Concat_model_12)\n",
        "dropout_5 = layers.Dropout(0.5)(a) # Regularization\n",
        "\n",
        "#6. Concatenate model from 3/4/5 \n",
        "Concat_model_345 = layers.Concatenate(name=\"Concat_model_345\")([num_lines_model_5.output,\n",
        "                                                                all_line_model_5.output,\n",
        "                                                                dropout_5])\n",
        "\n",
        "#7. Output layer for all concatenated models\n",
        "output_layer = layers.Dense(5,activation=\"softmax\",name=\"output_layer\")(Concat_model_345)\n",
        "\n",
        "#8. Create end model\n",
        "model_5 = tf.keras.Model(inputs=[num_lines_model_5.input,\n",
        "                                 all_line_model_5.input,\n",
        "                                 token_model_5.input,\n",
        "                                 character_model_5.input],\n",
        "                         outputs=output_layer,\n",
        "                         name=\"model_5_tribrid\")"
      ],
      "metadata": {
        "id": "NTJ5nn9WPS3J"
      },
      "execution_count": 142,
      "outputs": []
    },
    {
      "cell_type": "code",
      "source": [
        "#Summary\n",
        "model_5.summary()"
      ],
      "metadata": {
        "colab": {
          "base_uri": "https://localhost:8080/"
        },
        "id": "sWnu6dkHdcH3",
        "outputId": "95e15603-2db3-4091-ff31-cbc61efb0e87"
      },
      "execution_count": 143,
      "outputs": [
        {
          "output_type": "stream",
          "name": "stdout",
          "text": [
            "Model: \"model_5_tribrid\"\n",
            "__________________________________________________________________________________________________\n",
            " Layer (type)                   Output Shape         Param #     Connected to                     \n",
            "==================================================================================================\n",
            " Char_input (InputLayer)        [(None, 1)]          0           []                               \n",
            "                                                                                                  \n",
            " Token_input (InputLayer)       [(None,)]            0           []                               \n",
            "                                                                                                  \n",
            " text_vectorization_1 (TextVect  (None, 290)         0           ['Char_input[0][0]']             \n",
            " orization)                                                                                       \n",
            "                                                                                                  \n",
            " keras_layer (KerasLayer)       (None, 512)          256797824   ['Token_input[0][0]']            \n",
            "                                                                                                  \n",
            " embedding (Embedding)          (None, 290, 25)      700         ['text_vectorization_1[13][0]']  \n",
            "                                                                                                  \n",
            " dense_33 (Dense)               (None, 128)          65664       ['keras_layer[14][0]']           \n",
            "                                                                                                  \n",
            " bidirectional_9 (Bidirectional  (None, 64)          14848       ['embedding[13][0]']             \n",
            " )                                                                                                \n",
            "                                                                                                  \n",
            " Concat_model_12 (Concatenate)  (None, 192)          0           ['dense_33[0][0]',               \n",
            "                                                                  'bidirectional_9[0][0]']        \n",
            "                                                                                                  \n",
            " num_lines_input (InputLayer)   [(None, 15)]         0           []                               \n",
            "                                                                                                  \n",
            " all_lines_input (InputLayer)   [(None, 20)]         0           []                               \n",
            "                                                                                                  \n",
            " dense_36 (Dense)               (None, 256)          49408       ['Concat_model_12[0][0]']        \n",
            "                                                                                                  \n",
            " dense_34 (Dense)               (None, 32)           512         ['num_lines_input[0][0]']        \n",
            "                                                                                                  \n",
            " dense_35 (Dense)               (None, 32)           672         ['all_lines_input[0][0]']        \n",
            "                                                                                                  \n",
            " dropout_9 (Dropout)            (None, 256)          0           ['dense_36[0][0]']               \n",
            "                                                                                                  \n",
            " Concat_model_345 (Concatenate)  (None, 320)         0           ['dense_34[0][0]',               \n",
            "                                                                  'dense_35[0][0]',               \n",
            "                                                                  'dropout_9[0][0]']              \n",
            "                                                                                                  \n",
            " output_layer (Dense)           (None, 5)            1605        ['Concat_model_345[0][0]']       \n",
            "                                                                                                  \n",
            "==================================================================================================\n",
            "Total params: 256,931,233\n",
            "Trainable params: 133,409\n",
            "Non-trainable params: 256,797,824\n",
            "__________________________________________________________________________________________________\n"
          ]
        }
      ]
    },
    {
      "cell_type": "code",
      "source": [
        "#Visualize model 5\n",
        "from keras.utils import plot_model\n",
        "plot_model(model_5)"
      ],
      "metadata": {
        "colab": {
          "base_uri": "https://localhost:8080/",
          "height": 856
        },
        "id": "iB7gRZ3MeLxi",
        "outputId": "2a833761-4374-4192-8aea-b3d1a7e16b1f"
      },
      "execution_count": 144,
      "outputs": [
        {
          "output_type": "execute_result",
          "data": {
            "image/png": "[encoded data removed]",
            "text/plain": [
              "<IPython.core.display.Image object>"
            ]
          },
          "metadata": {},
          "execution_count": 144
        }
      ]
    },
    {
      "cell_type": "markdown",
      "source": [
        "Compile the Model"
      ],
      "metadata": {
        "id": "WF-25l9fegUr"
      }
    },
    {
      "cell_type": "code",
      "source": [
        "model_5.compile(loss=tf.keras.losses.CategoricalCrossentropy(label_smoothing=0.2),\n",
        "                optimizer=tf.keras.optimizers.Adam(),\n",
        "                metrics=[\"accuracy\"])"
      ],
      "metadata": {
        "id": "gdcSHah-fXET"
      },
      "execution_count": 145,
      "outputs": []
    },
    {
      "cell_type": "markdown",
      "source": [
        "Make train dataset\n"
      ],
      "metadata": {
        "id": "JD2uFvfFmUPL"
      }
    },
    {
      "cell_type": "code",
      "source": [
        "train_all__sentence_dataset = tf.data.Dataset.from_tensor_slices((train_line_num_oh,\n",
        "                                                                  train_total_lines_oh,\n",
        "                                                                  train_sentences,\n",
        "                                                                  train_chars))\n",
        "                                                  \n",
        "train_all_labels_dataset = tf.data.Dataset.from_tensor_slices((train_labels_oh))\n",
        "train_all_dataset = tf.data.Dataset.zip((train_all__sentence_dataset , train_all_labels_dataset)).batch(32).prefetch(tf.data.AUTOTUNE)"
      ],
      "metadata": {
        "id": "HA4yNipNhRnx"
      },
      "execution_count": 146,
      "outputs": []
    },
    {
      "cell_type": "markdown",
      "source": [
        "Make validation dataset"
      ],
      "metadata": {
        "id": "pw--DtgymXjN"
      }
    },
    {
      "cell_type": "code",
      "source": [
        "val_all__sentence_dataset = tf.data.Dataset.from_tensor_slices((val_line_num_oh,\n",
        "                                                                  val_total_lines_oh,\n",
        "                                                                  val_sentences,\n",
        "                                                                  val_chars))\n",
        "                                                  \n",
        "val_all_labels_dataset = tf.data.Dataset.from_tensor_slices((val_labels_oh))\n",
        "val_all_dataset = tf.data.Dataset.zip((val_all__sentence_dataset , val_all_labels_dataset)).batch(32).prefetch(tf.data.AUTOTUNE)"
      ],
      "metadata": {
        "id": "9ZnwbLS6mbao"
      },
      "execution_count": 147,
      "outputs": []
    },
    {
      "cell_type": "markdown",
      "source": [
        "Fit model5"
      ],
      "metadata": {
        "id": "qni5wZvPnHKh"
      }
    },
    {
      "cell_type": "code",
      "source": [
        "train_all__sentence_dataset, val_all__sentence_dataset"
      ],
      "metadata": {
        "colab": {
          "base_uri": "https://localhost:8080/"
        },
        "id": "v58__jninI6r",
        "outputId": "98117724-505f-4f67-9caf-49d8a4eaae64"
      },
      "execution_count": 138,
      "outputs": [
        {
          "output_type": "execute_result",
          "data": {
            "text/plain": [
              "(<TensorSliceDataset element_spec=(TensorSpec(shape=(15,), dtype=tf.float32, name=None), TensorSpec(shape=(20,), dtype=tf.float32, name=None), TensorSpec(shape=(), dtype=tf.string, name=None), TensorSpec(shape=(), dtype=tf.string, name=None))>,\n",
              " <TensorSliceDataset element_spec=(TensorSpec(shape=(15,), dtype=tf.float32, name=None), TensorSpec(shape=(20,), dtype=tf.float32, name=None), TensorSpec(shape=(), dtype=tf.string, name=None), TensorSpec(shape=(), dtype=tf.string, name=None))>)"
            ]
          },
          "metadata": {},
          "execution_count": 138
        }
      ]
    },
    {
      "cell_type": "code",
      "source": [
        "history_5 = model_5.fit(train_all_dataset,\n",
        "                        epochs=3,\n",
        "                        steps_per_epoch=int(0.1*len(train_all_dataset)),\n",
        "                        validation_data=val_all_dataset,\n",
        "                        validation_steps=int(0.1*len(val_all_dataset)),\n",
        "                        callbacks=[tensorboard_callback,model_checkpoint])"
      ],
      "metadata": {
        "colab": {
          "base_uri": "https://localhost:8080/"
        },
        "id": "TVQi_hxfnrEc",
        "outputId": "83f69b9a-aef7-429a-825a-5fa18027b309"
      },
      "execution_count": 148,
      "outputs": [
        {
          "output_type": "stream",
          "name": "stdout",
          "text": [
            "Epoch 1/3\n",
            "562/562 [==============================] - ETA: 0s - loss: 1.0911 - accuracy: 0.7276\n",
            "Epoch 1: val_accuracy did not improve from 0.80918\n",
            "562/562 [==============================] - 232s 393ms/step - loss: 1.0911 - accuracy: 0.7276 - val_loss: 0.9863 - val_accuracy: 0.8025\n",
            "Epoch 2/3\n",
            "562/562 [==============================] - ETA: 0s - loss: 0.9681 - accuracy: 0.8134\n",
            "Epoch 2: val_accuracy improved from 0.80918 to 0.82680, saving model to Model_1_Checkpoint\n",
            "562/562 [==============================] - 229s 407ms/step - loss: 0.9681 - accuracy: 0.8134 - val_loss: 0.9513 - val_accuracy: 0.8268\n",
            "Epoch 3/3\n",
            "562/562 [==============================] - ETA: 0s - loss: 0.9507 - accuracy: 0.8227\n",
            "Epoch 3: val_accuracy improved from 0.82680 to 0.82945, saving model to Model_1_Checkpoint\n",
            "562/562 [==============================] - 227s 403ms/step - loss: 0.9507 - accuracy: 0.8227 - val_loss: 0.9427 - val_accuracy: 0.8295\n"
          ]
        }
      ]
    },
    {
      "cell_type": "markdown",
      "source": [
        "#Evaluation - Compare models"
      ],
      "metadata": {
        "id": "ZbYu0bXi1sEL"
      }
    },
    {
      "cell_type": "code",
      "source": [
        "model_5_pred_probs = model_5.predict(val_all_dataset)\n",
        "model_5_predicts = tf.argmax(model_5_pred_probs,axis=1)\n",
        "model_5_predicts"
      ],
      "metadata": {
        "colab": {
          "base_uri": "https://localhost:8080/"
        },
        "id": "s4Ehrwa0pVmz",
        "outputId": "35b61072-ced0-4833-e3a1-27d9959fa4af"
      },
      "execution_count": 149,
      "outputs": [
        {
          "output_type": "stream",
          "name": "stdout",
          "text": [
            "945/945 [==============================] - 84s 85ms/step\n"
          ]
        },
        {
          "output_type": "execute_result",
          "data": {
            "text/plain": [
              "<tf.Tensor: shape=(30212,), dtype=int64, numpy=array([0, 0, 3, ..., 4, 4, 1])>"
            ]
          },
          "metadata": {},
          "execution_count": 149
        }
      ]
    },
    {
      "cell_type": "code",
      "source": [
        "model_5_results = hp.calculate_results(val_labels_encode,model_5_predicts)\n",
        "model_5_results"
      ],
      "metadata": {
        "colab": {
          "base_uri": "https://localhost:8080/"
        },
        "id": "9STh_J-lvCzR",
        "outputId": "07ce737f-6e68-4888-f829-656fcd965436"
      },
      "execution_count": 150,
      "outputs": [
        {
          "output_type": "execute_result",
          "data": {
            "text/plain": [
              "{'accuracy': 83.14907983582683,\n",
              " 'precision': 0.8309118547486496,\n",
              " 'recall': 0.8314907983582682,\n",
              " 'f1': 0.8302300205824407}"
            ]
          },
          "metadata": {},
          "execution_count": 150
        }
      ]
    },
    {
      "cell_type": "code",
      "source": [
        "#Model results \n",
        "import pandas as pd\n",
        "model_results = pd.DataFrame({\"model_0\": model_0_results,\n",
        "                             \"model_1_Conv1D\":model_1_results,\n",
        "                             \"model_2_TF_HUB\":model_2_results,\n",
        "                             \"model_3_Conv1D_Char\":model_3_results,\n",
        "                             \"model_4_Char_Token\":model_4_results,\n",
        "                             \"model_5_char_token_pos\":model_5_results}).transpose()\n",
        "model_results[\"accuracy\"] = model_results[\"accuracy\"]/100\n",
        "model_results"
      ],
      "metadata": {
        "colab": {
          "base_uri": "https://localhost:8080/",
          "height": 235
        },
        "id": "7Y6dLG9x1iAa",
        "outputId": "c3c469fa-0685-40cf-8a7f-e45ca5d4e1e3"
      },
      "execution_count": 2,
      "outputs": [
        {
          "output_type": "error",
          "ename": "NameError",
          "evalue": "ignored",
          "traceback": [
            "\u001b[0;31m---------------------------------------------------------------------------\u001b[0m",
            "\u001b[0;31mNameError\u001b[0m                                 Traceback (most recent call last)",
            "\u001b[0;32m<ipython-input-2-f6d36d1212e0>\u001b[0m in \u001b[0;36m<module>\u001b[0;34m\u001b[0m\n\u001b[1;32m      1\u001b[0m \u001b[0;31m#Model results\u001b[0m\u001b[0;34m\u001b[0m\u001b[0;34m\u001b[0m\u001b[0;34m\u001b[0m\u001b[0m\n\u001b[1;32m      2\u001b[0m \u001b[0;32mimport\u001b[0m \u001b[0mpandas\u001b[0m \u001b[0;32mas\u001b[0m \u001b[0mpd\u001b[0m\u001b[0;34m\u001b[0m\u001b[0;34m\u001b[0m\u001b[0m\n\u001b[0;32m----> 3\u001b[0;31m model_results = pd.DataFrame({\"model_0\": model_0_results,\n\u001b[0m\u001b[1;32m      4\u001b[0m                              \u001b[0;34m\"model_1_Conv1D\"\u001b[0m\u001b[0;34m:\u001b[0m\u001b[0mmodel_1_results\u001b[0m\u001b[0;34m,\u001b[0m\u001b[0;34m\u001b[0m\u001b[0;34m\u001b[0m\u001b[0m\n\u001b[1;32m      5\u001b[0m                              \u001b[0;34m\"model_2_TF_HUB\"\u001b[0m\u001b[0;34m:\u001b[0m\u001b[0mmodel_2_results\u001b[0m\u001b[0;34m,\u001b[0m\u001b[0;34m\u001b[0m\u001b[0;34m\u001b[0m\u001b[0m\n",
            "\u001b[0;31mNameError\u001b[0m: name 'model_0_results' is not defined"
          ]
        }
      ]
    },
    {
      "cell_type": "code",
      "source": [
        "model_results.plot(kind=\"bar\", figsize=(8,6)).legend(bbox_to_anchor(1.0,1.0))"
      ],
      "metadata": {
        "colab": {
          "base_uri": "https://localhost:8080/",
          "height": 637
        },
        "id": "HXZWoywn5MeK",
        "outputId": "01fb42d1-977d-4a22-db07-c3c9700e83f0"
      },
      "execution_count": 156,
      "outputs": [
        {
          "output_type": "error",
          "ename": "NameError",
          "evalue": "ignored",
          "traceback": [
            "\u001b[0;31m---------------------------------------------------------------------------\u001b[0m",
            "\u001b[0;31mNameError\u001b[0m                                 Traceback (most recent call last)",
            "\u001b[0;32m<ipython-input-156-7b78ae88d356>\u001b[0m in \u001b[0;36m<module>\u001b[0;34m\u001b[0m\n\u001b[0;32m----> 1\u001b[0;31m \u001b[0mmodel_results\u001b[0m\u001b[0;34m.\u001b[0m\u001b[0mplot\u001b[0m\u001b[0;34m(\u001b[0m\u001b[0mkind\u001b[0m\u001b[0;34m=\u001b[0m\u001b[0;34m\"bar\"\u001b[0m\u001b[0;34m,\u001b[0m \u001b[0mfigsize\u001b[0m\u001b[0;34m=\u001b[0m\u001b[0;34m(\u001b[0m\u001b[0;36m8\u001b[0m\u001b[0;34m,\u001b[0m\u001b[0;36m6\u001b[0m\u001b[0;34m)\u001b[0m\u001b[0;34m)\u001b[0m\u001b[0;34m.\u001b[0m\u001b[0mlegend\u001b[0m\u001b[0;34m(\u001b[0m\u001b[0mbbox_to_anchor\u001b[0m\u001b[0;34m(\u001b[0m\u001b[0;36m1.0\u001b[0m\u001b[0;34m,\u001b[0m\u001b[0;36m1.0\u001b[0m\u001b[0;34m)\u001b[0m\u001b[0;34m)\u001b[0m\u001b[0;34m\u001b[0m\u001b[0;34m\u001b[0m\u001b[0m\n\u001b[0m",
            "\u001b[0;31mNameError\u001b[0m: name 'bbox_to_anchor' is not defined"
          ]
        },
        {
          "output_type": "display_data",
          "data": {
            "text/plain": [
              "<Figure size 576x432 with 1 Axes>"
            ],
            "image/png": "[encoded data removed]"
          },
          "metadata": {
            "needs_background": "light"
          }
        }
      ]
    },
    {
      "cell_type": "code",
      "source": [],
      "metadata": {
        "id": "hzNtES7Y6Bhh"
      },
      "execution_count": null,
      "outputs": []
    }
  ]
}