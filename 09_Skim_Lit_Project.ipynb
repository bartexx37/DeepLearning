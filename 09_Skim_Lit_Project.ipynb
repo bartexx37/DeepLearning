{
  "nbformat": 4,
  "nbformat_minor": 0,
  "metadata": {
    "colab": {
      "provenance": [],
      "toc_visible": true,
      "authorship_tag": "ABX9TyPcPkVQypAH4CPzlpNhiutc",
      "include_colab_link": true
    },
    "kernelspec": {
      "name": "python3",
      "display_name": "Python 3"
    },
    "language_info": {
      "name": "python"
    },
    "accelerator": "GPU",
    "gpuClass": "standard"
  },
  "cells": [
    {
      "cell_type": "markdown",
      "metadata": {
        "id": "view-in-github",
        "colab_type": "text"
      },
      "source": [
        "<a href=\"https://colab.research.google.com/github/bartexx37/DeepLearning/blob/main/09_Skim_Lit_Project.ipynb\" target=\"_parent\"><img src=\"https://colab.research.google.com/assets/colab-badge.svg\" alt=\"Open In Colab\"/></a>"
      ]
    },
    {
      "cell_type": "markdown",
      "source": [
        "#Sklimlit Project\n",
        "\n",
        "- Replicating paper : https://arxiv.org/pdf/1710.06071.pdf\n",
        "- Architecture for project : https://arxiv.org/pdf/1612.05251.pdf"
      ],
      "metadata": {
        "id": "z0-1_oXGF9eR"
      }
    },
    {
      "cell_type": "markdown",
      "source": [
        "#Confirm access to a GPU"
      ],
      "metadata": {
        "id": "xHZaWMZHGZQj"
      }
    },
    {
      "cell_type": "code",
      "source": [
        "!nvidia-smi -L"
      ],
      "metadata": {
        "colab": {
          "base_uri": "https://localhost:8080/"
        },
        "id": "wlePGMJnGsnW",
        "outputId": "897fbad0-6fc9-477b-d917-0566a0ac5f13"
      },
      "execution_count": 1,
      "outputs": [
        {
          "output_type": "stream",
          "name": "stdout",
          "text": [
            "GPU 0: Tesla T4 (UUID: GPU-25a9d5a9-b60f-dc50-37f4-4e35df0c3753)\n"
          ]
        }
      ]
    },
    {
      "cell_type": "code",
      "source": [
        "!wget https://raw.githubusercontent.com/mrdbourke/tensorflow-deep-learning/main/extras/helper_functions.py\n",
        "import helper_functions as hp"
      ],
      "metadata": {
        "colab": {
          "base_uri": "https://localhost:8080/"
        },
        "id": "Tk14QpXhW3XA",
        "outputId": "fdfe04a5-e5bb-4181-fa8d-3770cbce4314"
      },
      "execution_count": 2,
      "outputs": [
        {
          "output_type": "stream",
          "name": "stdout",
          "text": [
            "--2023-02-22 21:26:50--  https://raw.githubusercontent.com/mrdbourke/tensorflow-deep-learning/main/extras/helper_functions.py\n",
            "Resolving raw.githubusercontent.com (raw.githubusercontent.com)... 185.199.108.133, 185.199.109.133, 185.199.110.133, ...\n",
            "Connecting to raw.githubusercontent.com (raw.githubusercontent.com)|185.199.108.133|:443... connected.\n",
            "HTTP request sent, awaiting response... 200 OK\n",
            "Length: 10246 (10K) [text/plain]\n",
            "Saving to: ‘helper_functions.py’\n",
            "\n",
            "helper_functions.py 100%[===================>]  10.01K  --.-KB/s    in 0s      \n",
            "\n",
            "2023-02-22 21:26:51 (85.5 MB/s) - ‘helper_functions.py’ saved [10246/10246]\n",
            "\n"
          ]
        }
      ]
    },
    {
      "cell_type": "markdown",
      "source": [
        "# Get data\n",
        "\n",
        "- Dataset from PubMed 200k RCT, taking it from authors Github linked in paper: https://github.com/Franck-Dernoncourt/pubmed-rct\n",
        "\n",
        "- Dev.txt - another word in machine learning for calidation dataset\n"
      ],
      "metadata": {
        "id": "vwqxoImCGz0I"
      }
    },
    {
      "cell_type": "code",
      "source": [
        "!git clone https://github.com/Franck-Dernoncourt/pubmed-rct"
      ],
      "metadata": {
        "colab": {
          "base_uri": "https://localhost:8080/"
        },
        "id": "kiLUK9DxG-Gj",
        "outputId": "a37df71a-453a-4a08-a0db-a559b04a92b1"
      },
      "execution_count": 3,
      "outputs": [
        {
          "output_type": "stream",
          "name": "stdout",
          "text": [
            "Cloning into 'pubmed-rct'...\n",
            "remote: Enumerating objects: 33, done.\u001b[K\n",
            "remote: Counting objects: 100% (8/8), done.\u001b[K\n",
            "remote: Compressing objects: 100% (3/3), done.\u001b[K\n",
            "remote: Total 33 (delta 5), reused 5 (delta 5), pack-reused 25\u001b[K\n",
            "Unpacking objects: 100% (33/33), 177.08 MiB | 8.98 MiB/s, done.\n"
          ]
        }
      ]
    },
    {
      "cell_type": "code",
      "source": [
        "!ls pubmed-rct"
      ],
      "metadata": {
        "colab": {
          "base_uri": "https://localhost:8080/"
        },
        "id": "8jWdVD_NO_ua",
        "outputId": "001651ee-c2a9-424f-8e05-27511319ee09"
      },
      "execution_count": 4,
      "outputs": [
        {
          "output_type": "stream",
          "name": "stdout",
          "text": [
            "PubMed_200k_RCT\n",
            "PubMed_200k_RCT_numbers_replaced_with_at_sign\n",
            "PubMed_20k_RCT\n",
            "PubMed_20k_RCT_numbers_replaced_with_at_sign\n",
            "README.md\n"
          ]
        }
      ]
    },
    {
      "cell_type": "code",
      "source": [
        "!ls pubmed-rct/PubMed_20k_RCT_numbers_replaced_with_at_sign/\n",
        "'''\n",
        "There are 3 files:\n",
        "1. dev.txt - validation dataset\n",
        "2. test.txt - test dataset\n",
        "3. train.txt - train dataset\n",
        "'''"
      ],
      "metadata": {
        "colab": {
          "base_uri": "https://localhost:8080/",
          "height": 54
        },
        "id": "KdFrUiQ7PKaq",
        "outputId": "4e7c7894-70ae-4530-ff25-99e216d5c2a1"
      },
      "execution_count": 5,
      "outputs": [
        {
          "output_type": "stream",
          "name": "stdout",
          "text": [
            "dev.txt  test.txt  train.txt\n"
          ]
        },
        {
          "output_type": "execute_result",
          "data": {
            "text/plain": [
              "'\\nThere are 3 files:\\n1. dev.txt - validation dataset\\n2. test.txt - test dataset\\n3. train.txt - train dataset\\n'"
            ],
            "application/vnd.google.colaboratory.intrinsic+json": {
              "type": "string"
            }
          },
          "metadata": {},
          "execution_count": 5
        }
      ]
    },
    {
      "cell_type": "code",
      "source": [
        "import os\n",
        "data_dir = \"pubmed-rct/PubMed_20k_RCT_numbers_replaced_with_at_sign/\"\n",
        "filenames = [data_dir + filename for filename in os.listdir(data_dir)]\n",
        "filenames"
      ],
      "metadata": {
        "colab": {
          "base_uri": "https://localhost:8080/"
        },
        "id": "F490eODDPabN",
        "outputId": "296c8c95-8194-47c8-c7c4-c0d93aaefbc2"
      },
      "execution_count": 6,
      "outputs": [
        {
          "output_type": "execute_result",
          "data": {
            "text/plain": [
              "['pubmed-rct/PubMed_20k_RCT_numbers_replaced_with_at_sign/test.txt',\n",
              " 'pubmed-rct/PubMed_20k_RCT_numbers_replaced_with_at_sign/train.txt',\n",
              " 'pubmed-rct/PubMed_20k_RCT_numbers_replaced_with_at_sign/dev.txt']"
            ]
          },
          "metadata": {},
          "execution_count": 6
        }
      ]
    },
    {
      "cell_type": "markdown",
      "source": [
        "# Preprocessing Data"
      ],
      "metadata": {
        "id": "JNXCjmPkPzcQ"
      }
    },
    {
      "cell_type": "code",
      "source": [
        "def get_lines(filename):\n",
        "  '''\n",
        "  Reads filename (txt) returns list of lines\n",
        "\n",
        "  Args:\n",
        "    filename: a string containing target filepath\n",
        "  \n",
        "  Return: List of strings - one string per line\n",
        "  '''\n",
        "  with open(filename, \"r\") as f:\n",
        "    return f.readlines()"
      ],
      "metadata": {
        "id": "o3dtxUz4Rw3C"
      },
      "execution_count": 7,
      "outputs": []
    },
    {
      "cell_type": "markdown",
      "source": [
        "Get data in form of list of directories like :\n",
        "```\n",
        "[{'line_num': num,\n",
        "  'target': e.g. 'BACKGROUND',\n",
        "  'text': e.g  \"Pain was assessed using the visual analog pain scale ( @-@ mm ) .\\n\",\n",
        "  'num_of_lines': lines for one article},\n",
        "next sentences...]\n",
        "```"
      ],
      "metadata": {
        "id": "yXBr6ovVSYxU"
      }
    },
    {
      "cell_type": "code",
      "source": [
        "def preprocess_lines(filename):\n",
        "  lines = get_lines(filename) #Getting lines from filename\n",
        "  #Prepare text for learning\n",
        "  train_data=[]\n",
        "  j=0\n",
        "  for i,line in enumerate(lines):\n",
        "    if line.startswith(\"###\"):\n",
        "      for k,check_line in enumerate(lines[i:]):\n",
        "        if check_line.isspace():\n",
        "          break\n",
        "    elif line.isspace():\n",
        "      j=0\n",
        "    else:\n",
        "      train_data.append({'line_num': j,\n",
        "                        'target': line.split(\"\\t\")[0],\n",
        "                        'text': line.split(\"\\t\")[1][:-1].lower(),\n",
        "                        'num_of_lines':k-2})#Substracting 2 because of first ### line and last \"\\n\" line\n",
        "      j+=1\n",
        "  return train_data"
      ],
      "metadata": {
        "id": "rUUQOMXTUN5S"
      },
      "execution_count": 8,
      "outputs": []
    },
    {
      "cell_type": "code",
      "source": [
        "%%time\n",
        "\n",
        "train_samples = preprocess_lines(data_dir+\"train.txt\")\n",
        "val_samples = preprocess_lines(data_dir+\"dev.txt\")\n",
        "test_samples = preprocess_lines(data_dir+\"test.txt\")\n",
        "\n",
        "print(len(train_samples),len(val_samples),len(test_samples))"
      ],
      "metadata": {
        "colab": {
          "base_uri": "https://localhost:8080/"
        },
        "id": "WK7tboA32ekI",
        "outputId": "2106e89e-4e7f-40fb-ad23-c5f9b9691453"
      },
      "execution_count": 9,
      "outputs": [
        {
          "output_type": "stream",
          "name": "stdout",
          "text": [
            "180040 30212 30135\n",
            "CPU times: user 13.2 s, sys: 165 ms, total: 13.4 s\n",
            "Wall time: 13.5 s\n"
          ]
        }
      ]
    },
    {
      "cell_type": "code",
      "source": [
        "train_samples[:14]"
      ],
      "metadata": {
        "colab": {
          "base_uri": "https://localhost:8080/"
        },
        "id": "YOISe5CSGRk4",
        "outputId": "97389b09-1191-4601-f6c8-fc61049f7bd2"
      },
      "execution_count": 10,
      "outputs": [
        {
          "output_type": "execute_result",
          "data": {
            "text/plain": [
              "[{'line_num': 0,\n",
              "  'target': 'OBJECTIVE',\n",
              "  'text': 'to investigate the efficacy of @ weeks of daily low-dose oral prednisolone in improving pain , mobility , and systemic low-grade inflammation in the short term and whether the effect would be sustained at @ weeks in older adults with moderate to severe knee osteoarthritis ( oa ) .',\n",
              "  'num_of_lines': 11},\n",
              " {'line_num': 1,\n",
              "  'target': 'METHODS',\n",
              "  'text': 'a total of @ patients with primary knee oa were randomized @:@ ; @ received @ mg/day of prednisolone and @ received placebo for @ weeks .',\n",
              "  'num_of_lines': 11},\n",
              " {'line_num': 2,\n",
              "  'target': 'METHODS',\n",
              "  'text': 'outcome measures included pain reduction and improvement in function scores and systemic inflammation markers .',\n",
              "  'num_of_lines': 11},\n",
              " {'line_num': 3,\n",
              "  'target': 'METHODS',\n",
              "  'text': 'pain was assessed using the visual analog pain scale ( @-@ mm ) .',\n",
              "  'num_of_lines': 11},\n",
              " {'line_num': 4,\n",
              "  'target': 'METHODS',\n",
              "  'text': 'secondary outcome measures included the western ontario and mcmaster universities osteoarthritis index scores , patient global assessment ( pga ) of the severity of knee oa , and @-min walk distance ( @mwd ) .',\n",
              "  'num_of_lines': 11},\n",
              " {'line_num': 5,\n",
              "  'target': 'METHODS',\n",
              "  'text': 'serum levels of interleukin @ ( il-@ ) , il-@ , tumor necrosis factor ( tnf ) - , and high-sensitivity c-reactive protein ( hscrp ) were measured .',\n",
              "  'num_of_lines': 11},\n",
              " {'line_num': 6,\n",
              "  'target': 'RESULTS',\n",
              "  'text': 'there was a clinically relevant reduction in the intervention group compared to the placebo group for knee pain , physical function , pga , and @mwd at @ weeks .',\n",
              "  'num_of_lines': 11},\n",
              " {'line_num': 7,\n",
              "  'target': 'RESULTS',\n",
              "  'text': 'the mean difference between treatment arms ( @ % ci ) was @ ( @-@ @ ) , p < @ ; @ ( @-@ @ ) , p < @ ; @ ( @-@ @ ) , p < @ ; and @ ( @-@ @ ) , p < @ , respectively .',\n",
              "  'num_of_lines': 11},\n",
              " {'line_num': 8,\n",
              "  'target': 'RESULTS',\n",
              "  'text': 'further , there was a clinically relevant reduction in the serum levels of il-@ , il-@ , tnf - , and hscrp at @ weeks in the intervention group when compared to the placebo group .',\n",
              "  'num_of_lines': 11},\n",
              " {'line_num': 9,\n",
              "  'target': 'RESULTS',\n",
              "  'text': 'these differences remained significant at @ weeks .',\n",
              "  'num_of_lines': 11},\n",
              " {'line_num': 10,\n",
              "  'target': 'RESULTS',\n",
              "  'text': 'the outcome measures in rheumatology clinical trials-osteoarthritis research society international responder rate was @ % in the intervention group and @ % in the placebo group ( p < @ ) .',\n",
              "  'num_of_lines': 11},\n",
              " {'line_num': 11,\n",
              "  'target': 'CONCLUSIONS',\n",
              "  'text': 'low-dose oral prednisolone had both a short-term and a longer sustained effect resulting in less knee pain , better physical function , and attenuation of systemic inflammation in older patients with knee oa ( clinicaltrials.gov identifier nct@ ) .',\n",
              "  'num_of_lines': 11},\n",
              " {'line_num': 0,\n",
              "  'target': 'BACKGROUND',\n",
              "  'text': 'emotional eating is associated with overeating and the development of obesity .',\n",
              "  'num_of_lines': 10},\n",
              " {'line_num': 1,\n",
              "  'target': 'BACKGROUND',\n",
              "  'text': 'yet , empirical evidence for individual ( trait ) differences in emotional eating and cognitive mechanisms that contribute to eating during sad mood remain equivocal .',\n",
              "  'num_of_lines': 10}]"
            ]
          },
          "metadata": {},
          "execution_count": 10
        }
      ]
    },
    {
      "cell_type": "code",
      "source": [
        "import pandas as pd\n",
        "train_df = pd.DataFrame(train_samples)\n",
        "val_df = pd.DataFrame(val_samples)\n",
        "test_df = pd.DataFrame(test_samples)\n",
        "train_df.head(14)"
      ],
      "metadata": {
        "colab": {
          "base_uri": "https://localhost:8080/",
          "height": 488
        },
        "id": "WJC7_tI8IvHb",
        "outputId": "db2bab92-2984-4b6f-e903-0c7a9a68404c"
      },
      "execution_count": 11,
      "outputs": [
        {
          "output_type": "execute_result",
          "data": {
            "text/plain": [
              "    line_num       target                                               text  \\\n",
              "0          0    OBJECTIVE  to investigate the efficacy of @ weeks of dail...   \n",
              "1          1      METHODS  a total of @ patients with primary knee oa wer...   \n",
              "2          2      METHODS  outcome measures included pain reduction and i...   \n",
              "3          3      METHODS  pain was assessed using the visual analog pain...   \n",
              "4          4      METHODS  secondary outcome measures included the wester...   \n",
              "5          5      METHODS  serum levels of interleukin @ ( il-@ ) , il-@ ...   \n",
              "6          6      RESULTS  there was a clinically relevant reduction in t...   \n",
              "7          7      RESULTS  the mean difference between treatment arms ( @...   \n",
              "8          8      RESULTS  further , there was a clinically relevant redu...   \n",
              "9          9      RESULTS  these differences remained significant at @ we...   \n",
              "10        10      RESULTS  the outcome measures in rheumatology clinical ...   \n",
              "11        11  CONCLUSIONS  low-dose oral prednisolone had both a short-te...   \n",
              "12         0   BACKGROUND  emotional eating is associated with overeating...   \n",
              "13         1   BACKGROUND  yet , empirical evidence for individual ( trai...   \n",
              "\n",
              "    num_of_lines  \n",
              "0             11  \n",
              "1             11  \n",
              "2             11  \n",
              "3             11  \n",
              "4             11  \n",
              "5             11  \n",
              "6             11  \n",
              "7             11  \n",
              "8             11  \n",
              "9             11  \n",
              "10            11  \n",
              "11            11  \n",
              "12            10  \n",
              "13            10  "
            ],
            "text/html": [
              "\n",
              "  <div id=\"df-26073a20-348e-4c29-87ba-3c3b1492ff14\">\n",
              "    <div class=\"colab-df-container\">\n",
              "      <div>\n",
              "<style scoped>\n",
              "    .dataframe tbody tr th:only-of-type {\n",
              "        vertical-align: middle;\n",
              "    }\n",
              "\n",
              "    .dataframe tbody tr th {\n",
              "        vertical-align: top;\n",
              "    }\n",
              "\n",
              "    .dataframe thead th {\n",
              "        text-align: right;\n",
              "    }\n",
              "</style>\n",
              "<table border=\"1\" class=\"dataframe\">\n",
              "  <thead>\n",
              "    <tr style=\"text-align: right;\">\n",
              "      <th></th>\n",
              "      <th>line_num</th>\n",
              "      <th>target</th>\n",
              "      <th>text</th>\n",
              "      <th>num_of_lines</th>\n",
              "    </tr>\n",
              "  </thead>\n",
              "  <tbody>\n",
              "    <tr>\n",
              "      <th>0</th>\n",
              "      <td>0</td>\n",
              "      <td>OBJECTIVE</td>\n",
              "      <td>to investigate the efficacy of @ weeks of dail...</td>\n",
              "      <td>11</td>\n",
              "    </tr>\n",
              "    <tr>\n",
              "      <th>1</th>\n",
              "      <td>1</td>\n",
              "      <td>METHODS</td>\n",
              "      <td>a total of @ patients with primary knee oa wer...</td>\n",
              "      <td>11</td>\n",
              "    </tr>\n",
              "    <tr>\n",
              "      <th>2</th>\n",
              "      <td>2</td>\n",
              "      <td>METHODS</td>\n",
              "      <td>outcome measures included pain reduction and i...</td>\n",
              "      <td>11</td>\n",
              "    </tr>\n",
              "    <tr>\n",
              "      <th>3</th>\n",
              "      <td>3</td>\n",
              "      <td>METHODS</td>\n",
              "      <td>pain was assessed using the visual analog pain...</td>\n",
              "      <td>11</td>\n",
              "    </tr>\n",
              "    <tr>\n",
              "      <th>4</th>\n",
              "      <td>4</td>\n",
              "      <td>METHODS</td>\n",
              "      <td>secondary outcome measures included the wester...</td>\n",
              "      <td>11</td>\n",
              "    </tr>\n",
              "    <tr>\n",
              "      <th>5</th>\n",
              "      <td>5</td>\n",
              "      <td>METHODS</td>\n",
              "      <td>serum levels of interleukin @ ( il-@ ) , il-@ ...</td>\n",
              "      <td>11</td>\n",
              "    </tr>\n",
              "    <tr>\n",
              "      <th>6</th>\n",
              "      <td>6</td>\n",
              "      <td>RESULTS</td>\n",
              "      <td>there was a clinically relevant reduction in t...</td>\n",
              "      <td>11</td>\n",
              "    </tr>\n",
              "    <tr>\n",
              "      <th>7</th>\n",
              "      <td>7</td>\n",
              "      <td>RESULTS</td>\n",
              "      <td>the mean difference between treatment arms ( @...</td>\n",
              "      <td>11</td>\n",
              "    </tr>\n",
              "    <tr>\n",
              "      <th>8</th>\n",
              "      <td>8</td>\n",
              "      <td>RESULTS</td>\n",
              "      <td>further , there was a clinically relevant redu...</td>\n",
              "      <td>11</td>\n",
              "    </tr>\n",
              "    <tr>\n",
              "      <th>9</th>\n",
              "      <td>9</td>\n",
              "      <td>RESULTS</td>\n",
              "      <td>these differences remained significant at @ we...</td>\n",
              "      <td>11</td>\n",
              "    </tr>\n",
              "    <tr>\n",
              "      <th>10</th>\n",
              "      <td>10</td>\n",
              "      <td>RESULTS</td>\n",
              "      <td>the outcome measures in rheumatology clinical ...</td>\n",
              "      <td>11</td>\n",
              "    </tr>\n",
              "    <tr>\n",
              "      <th>11</th>\n",
              "      <td>11</td>\n",
              "      <td>CONCLUSIONS</td>\n",
              "      <td>low-dose oral prednisolone had both a short-te...</td>\n",
              "      <td>11</td>\n",
              "    </tr>\n",
              "    <tr>\n",
              "      <th>12</th>\n",
              "      <td>0</td>\n",
              "      <td>BACKGROUND</td>\n",
              "      <td>emotional eating is associated with overeating...</td>\n",
              "      <td>10</td>\n",
              "    </tr>\n",
              "    <tr>\n",
              "      <th>13</th>\n",
              "      <td>1</td>\n",
              "      <td>BACKGROUND</td>\n",
              "      <td>yet , empirical evidence for individual ( trai...</td>\n",
              "      <td>10</td>\n",
              "    </tr>\n",
              "  </tbody>\n",
              "</table>\n",
              "</div>\n",
              "      <button class=\"colab-df-convert\" onclick=\"convertToInteractive('df-26073a20-348e-4c29-87ba-3c3b1492ff14')\"\n",
              "              title=\"Convert this dataframe to an interactive table.\"\n",
              "              style=\"display:none;\">\n",
              "        \n",
              "  <svg xmlns=\"http://www.w3.org/2000/svg\" height=\"24px\"viewBox=\"0 0 24 24\"\n",
              "       width=\"24px\">\n",
              "    <path d=\"M0 0h24v24H0V0z\" fill=\"none\"/>\n",
              "    <path d=\"M18.56 5.44l.94 2.06.94-2.06 2.06-.94-2.06-.94-.94-2.06-.94 2.06-2.06.94zm-11 1L8.5 8.5l.94-2.06 2.06-.94-2.06-.94L8.5 2.5l-.94 2.06-2.06.94zm10 10l.94 2.06.94-2.06 2.06-.94-2.06-.94-.94-2.06-.94 2.06-2.06.94z\"/><path d=\"M17.41 7.96l-1.37-1.37c-.4-.4-.92-.59-1.43-.59-.52 0-1.04.2-1.43.59L10.3 9.45l-7.72 7.72c-.78.78-.78 2.05 0 2.83L4 21.41c.39.39.9.59 1.41.59.51 0 1.02-.2 1.41-.59l7.78-7.78 2.81-2.81c.8-.78.8-2.07 0-2.86zM5.41 20L4 18.59l7.72-7.72 1.47 1.35L5.41 20z\"/>\n",
              "  </svg>\n",
              "      </button>\n",
              "      \n",
              "  <style>\n",
              "    .colab-df-container {\n",
              "      display:flex;\n",
              "      flex-wrap:wrap;\n",
              "      gap: 12px;\n",
              "    }\n",
              "\n",
              "    .colab-df-convert {\n",
              "      background-color: #E8F0FE;\n",
              "      border: none;\n",
              "      border-radius: 50%;\n",
              "      cursor: pointer;\n",
              "      display: none;\n",
              "      fill: #1967D2;\n",
              "      height: 32px;\n",
              "      padding: 0 0 0 0;\n",
              "      width: 32px;\n",
              "    }\n",
              "\n",
              "    .colab-df-convert:hover {\n",
              "      background-color: #E2EBFA;\n",
              "      box-shadow: 0px 1px 2px rgba(60, 64, 67, 0.3), 0px 1px 3px 1px rgba(60, 64, 67, 0.15);\n",
              "      fill: #174EA6;\n",
              "    }\n",
              "\n",
              "    [theme=dark] .colab-df-convert {\n",
              "      background-color: #3B4455;\n",
              "      fill: #D2E3FC;\n",
              "    }\n",
              "\n",
              "    [theme=dark] .colab-df-convert:hover {\n",
              "      background-color: #434B5C;\n",
              "      box-shadow: 0px 1px 3px 1px rgba(0, 0, 0, 0.15);\n",
              "      filter: drop-shadow(0px 1px 2px rgba(0, 0, 0, 0.3));\n",
              "      fill: #FFFFFF;\n",
              "    }\n",
              "  </style>\n",
              "\n",
              "      <script>\n",
              "        const buttonEl =\n",
              "          document.querySelector('#df-26073a20-348e-4c29-87ba-3c3b1492ff14 button.colab-df-convert');\n",
              "        buttonEl.style.display =\n",
              "          google.colab.kernel.accessAllowed ? 'block' : 'none';\n",
              "\n",
              "        async function convertToInteractive(key) {\n",
              "          const element = document.querySelector('#df-26073a20-348e-4c29-87ba-3c3b1492ff14');\n",
              "          const dataTable =\n",
              "            await google.colab.kernel.invokeFunction('convertToInteractive',\n",
              "                                                     [key], {});\n",
              "          if (!dataTable) return;\n",
              "\n",
              "          const docLinkHtml = 'Like what you see? Visit the ' +\n",
              "            '<a target=\"_blank\" href=https://colab.research.google.com/notebooks/data_table.ipynb>data table notebook</a>'\n",
              "            + ' to learn more about interactive tables.';\n",
              "          element.innerHTML = '';\n",
              "          dataTable['output_type'] = 'display_data';\n",
              "          await google.colab.output.renderOutput(dataTable, element);\n",
              "          const docLink = document.createElement('div');\n",
              "          docLink.innerHTML = docLinkHtml;\n",
              "          element.appendChild(docLink);\n",
              "        }\n",
              "      </script>\n",
              "    </div>\n",
              "  </div>\n",
              "  "
            ]
          },
          "metadata": {},
          "execution_count": 11
        }
      ]
    },
    {
      "cell_type": "code",
      "source": [
        "#Distribution of labels\n",
        "train_df.target.value_counts()"
      ],
      "metadata": {
        "colab": {
          "base_uri": "https://localhost:8080/"
        },
        "id": "kG7rpjy9KQRp",
        "outputId": "19f270ac-486d-434d-e0d8-65576a3d7120"
      },
      "execution_count": 12,
      "outputs": [
        {
          "output_type": "execute_result",
          "data": {
            "text/plain": [
              "METHODS        59353\n",
              "RESULTS        57953\n",
              "CONCLUSIONS    27168\n",
              "BACKGROUND     21727\n",
              "OBJECTIVE      13839\n",
              "Name: target, dtype: int64"
            ]
          },
          "metadata": {},
          "execution_count": 12
        }
      ]
    },
    {
      "cell_type": "code",
      "source": [
        "#Distribution of lenght of different lines\n",
        "train_df.num_of_lines.plot.hist();"
      ],
      "metadata": {
        "colab": {
          "base_uri": "https://localhost:8080/",
          "height": 267
        },
        "id": "3R2l-FcmK7OT",
        "outputId": "a1721dbc-95e0-46d3-829b-fe89c9cccd1d"
      },
      "execution_count": 13,
      "outputs": [
        {
          "output_type": "display_data",
          "data": {
            "text/plain": [
              "<Figure size 432x288 with 1 Axes>"
            ],
            "image/png": "[encoded data removed]"
          },
          "metadata": {
            "needs_background": "light"
          }
        }
      ]
    },
    {
      "cell_type": "markdown",
      "source": [
        "#List of sentences"
      ],
      "metadata": {
        "id": "Yq36dvEILM2Y"
      }
    },
    {
      "cell_type": "code",
      "source": [
        "#Making data ready to learning\n",
        "train_sentences = train_df[\"text\"].tolist()\n",
        "val_sentences=val_df[\"text\"].tolist()\n",
        "test_sentences=test_df[\"text\"].tolist()\n",
        "len(train_sentences),len(val_sentences),len(test_sentences)"
      ],
      "metadata": {
        "colab": {
          "base_uri": "https://localhost:8080/"
        },
        "id": "KNazW2gULajz",
        "outputId": "4a6df41e-6922-4ad8-9d99-c9aba054d7e6"
      },
      "execution_count": 14,
      "outputs": [
        {
          "output_type": "execute_result",
          "data": {
            "text/plain": [
              "(180040, 30212, 30135)"
            ]
          },
          "metadata": {},
          "execution_count": 14
        }
      ]
    },
    {
      "cell_type": "code",
      "source": [
        "# Make labels numeric for ML models\n",
        "import tensorflow as tf\n",
        "from sklearn.preprocessing import OneHotEncoder\n",
        "ohc = OneHotEncoder(sparse=False)\n",
        "train_labels_oh = tf.constant(ohc.fit_transform(train_df[\"target\"].to_numpy().reshape(-1,1)))#Fit only to train data\n",
        "val_labels_oh = tf.constant(ohc.transform(val_df[\"target\"].to_numpy().reshape(-1,1)))\n",
        "test_labels_oh = tf.constant(ohc.transform(test_df[\"target\"].to_numpy().reshape(-1,1)))\n",
        "train_labels_oh, len(train_labels_oh)"
      ],
      "metadata": {
        "colab": {
          "base_uri": "https://localhost:8080/"
        },
        "id": "_Sv5IoT6Lybt",
        "outputId": "4b47c7cd-f4c0-4d89-c39b-760873f2e6b1"
      },
      "execution_count": 15,
      "outputs": [
        {
          "output_type": "execute_result",
          "data": {
            "text/plain": [
              "(<tf.Tensor: shape=(180040, 5), dtype=float64, numpy=\n",
              " array([[0., 0., 0., 1., 0.],\n",
              "        [0., 0., 1., 0., 0.],\n",
              "        [0., 0., 1., 0., 0.],\n",
              "        ...,\n",
              "        [0., 0., 0., 0., 1.],\n",
              "        [0., 1., 0., 0., 0.],\n",
              "        [0., 1., 0., 0., 0.]])>, 180040)"
            ]
          },
          "metadata": {},
          "execution_count": 15
        }
      ]
    },
    {
      "cell_type": "code",
      "source": [
        "#Cand also encode labels\n",
        "from sklearn.preprocessing import LabelEncoder\n",
        "label_encoder = LabelEncoder()\n",
        "train_labels_encode = label_encoder.fit_transform(train_df[\"target\"].to_numpy())\n",
        "val_labels_encode = label_encoder.transform(val_df[\"target\"].to_numpy())\n",
        "test_labels_encode = label_encoder.transform(test_df[\"target\"].to_numpy())\n",
        "train_labels_encode,len(train_labels_encode)"
      ],
      "metadata": {
        "colab": {
          "base_uri": "https://localhost:8080/"
        },
        "id": "U2Z6gyW-RQKB",
        "outputId": "dc6b8f7c-687f-42b2-a866-b9a8f8166ff5"
      },
      "execution_count": 16,
      "outputs": [
        {
          "output_type": "execute_result",
          "data": {
            "text/plain": [
              "(array([3, 2, 2, ..., 4, 1, 1]), 180040)"
            ]
          },
          "metadata": {},
          "execution_count": 16
        }
      ]
    },
    {
      "cell_type": "code",
      "source": [
        "#Get class names and number of them\n",
        "num_classes = len(label_encoder.classes_)\n",
        "class_names = label_encoder.classes_\n",
        "num_classes, class_names\n"
      ],
      "metadata": {
        "colab": {
          "base_uri": "https://localhost:8080/"
        },
        "id": "YYtTf9LHRR-o",
        "outputId": "f1b3a114-2c39-4b35-9b9e-0fa53731af6b"
      },
      "execution_count": 17,
      "outputs": [
        {
          "output_type": "execute_result",
          "data": {
            "text/plain": [
              "(5, array(['BACKGROUND', 'CONCLUSIONS', 'METHODS', 'OBJECTIVE', 'RESULTS'],\n",
              "       dtype=object))"
            ]
          },
          "metadata": {},
          "execution_count": 17
        }
      ]
    },
    {
      "cell_type": "markdown",
      "source": [
        "## MODEL 0 - Naive Bayes as baseline\n",
        "\n",
        "-  Multinomial"
      ],
      "metadata": {
        "id": "VU2J3YTNTjrJ"
      }
    },
    {
      "cell_type": "code",
      "source": [
        "from sklearn.naive_bayes import MultinomialNB, GaussianNB\n",
        "from sklearn.pipeline import Pipeline\n",
        "from sklearn.feature_extraction.text import TfidfVectorizer\n",
        "#Build\n",
        "model_0 = Pipeline([('tf-idf', TfidfVectorizer()),\n",
        "                    ('clf', MultinomialNB())])\n",
        "model_0.fit(train_sentences,train_labels_encode)"
      ],
      "metadata": {
        "colab": {
          "base_uri": "https://localhost:8080/"
        },
        "id": "y683sST7UT7n",
        "outputId": "78600d58-8dcd-4eb0-c746-a612bdc53f6c"
      },
      "execution_count": 18,
      "outputs": [
        {
          "output_type": "execute_result",
          "data": {
            "text/plain": [
              "Pipeline(steps=[('tf-idf', TfidfVectorizer()), ('clf', MultinomialNB())])"
            ]
          },
          "metadata": {},
          "execution_count": 18
        }
      ]
    },
    {
      "cell_type": "code",
      "source": [
        "#Evaluate\n",
        "model_0.score(X=val_sentences,y=val_labels_encode)"
      ],
      "metadata": {
        "colab": {
          "base_uri": "https://localhost:8080/"
        },
        "id": "Inr5m2WCVDSv",
        "outputId": "b759353d-3a94-4fa5-b43d-bc4b8fab0804"
      },
      "execution_count": 19,
      "outputs": [
        {
          "output_type": "execute_result",
          "data": {
            "text/plain": [
              "0.7218323844829869"
            ]
          },
          "metadata": {},
          "execution_count": 19
        }
      ]
    },
    {
      "cell_type": "code",
      "source": [
        "#Making predictions and gettign evaluation metrics\n",
        "model_0_predictions = model_0.predict(val_sentences)\n",
        "model_0_results = hp.calculate_results(val_labels_encode,model_0_predictions)\n",
        "model_0_results"
      ],
      "metadata": {
        "colab": {
          "base_uri": "https://localhost:8080/"
        },
        "id": "Yyl_zCtdWU8e",
        "outputId": "9b8c7547-f9ce-4adc-9ebc-4dec28e26303"
      },
      "execution_count": 20,
      "outputs": [
        {
          "output_type": "execute_result",
          "data": {
            "text/plain": [
              "{'accuracy': 72.1832384482987,\n",
              " 'precision': 0.7186466952323352,\n",
              " 'recall': 0.7218323844829869,\n",
              " 'f1': 0.6989250353450294}"
            ]
          },
          "metadata": {},
          "execution_count": 20
        }
      ]
    },
    {
      "cell_type": "markdown",
      "source": [
        "# Preparing data for deep learning\n",
        "\n",
        "- Tokenization, Word Embedding"
      ],
      "metadata": {
        "id": "AYQ8UocgXzul"
      }
    },
    {
      "cell_type": "code",
      "source": [
        "#Length of sentences average\n",
        "import numpy as np\n",
        "sentence_lengths =  [len(sentence.split()) for sentence in train_sentences]\n",
        "avg_length = np.mean(sentence_lengths)\n",
        "max_length = np.max(sentence_lengths)\n",
        "avg_length, max_length "
      ],
      "metadata": {
        "colab": {
          "base_uri": "https://localhost:8080/"
        },
        "id": "XI-aT8_uFGRp",
        "outputId": "770eda07-5181-4e69-ddb0-685f508ba429"
      },
      "execution_count": 21,
      "outputs": [
        {
          "output_type": "execute_result",
          "data": {
            "text/plain": [
              "(26.338269273494777, 296)"
            ]
          },
          "metadata": {},
          "execution_count": 21
        }
      ]
    },
    {
      "cell_type": "code",
      "source": [
        "import matplotlib.pyplot as plt\n",
        "plt.hist(sentence_lengths,bins=25);"
      ],
      "metadata": {
        "colab": {
          "base_uri": "https://localhost:8080/",
          "height": 265
        },
        "id": "fwMjGX83GJbq",
        "outputId": "488e2a54-adc5-46f9-b4d0-1c4238c6d85f"
      },
      "execution_count": 22,
      "outputs": [
        {
          "output_type": "display_data",
          "data": {
            "text/plain": [
              "<Figure size 432x288 with 1 Axes>"
            ],
            "image/png": "[encoded data removed]"
          },
          "metadata": {
            "needs_background": "light"
          }
        }
      ]
    },
    {
      "cell_type": "code",
      "source": [
        "percentile_sent = int(np.percentile(sentence_lengths,95))\n",
        "percentile_sent\n",
        "#95% is under 55 length"
      ],
      "metadata": {
        "colab": {
          "base_uri": "https://localhost:8080/"
        },
        "id": "nHKZyTiVGUpD",
        "outputId": "9b136a74-05dd-431e-8140-22d711017164"
      },
      "execution_count": 23,
      "outputs": [
        {
          "output_type": "execute_result",
          "data": {
            "text/plain": [
              "55"
            ]
          },
          "metadata": {},
          "execution_count": 23
        }
      ]
    },
    {
      "cell_type": "markdown",
      "source": [
        "Use length of 55 then as length of sequences for vectorization and embedding\n",
        "\n",
        "Also taking from paper given at the beggining, max tokens will be set as an amount of words in 20K PubMed DataSet"
      ],
      "metadata": {
        "id": "5lUw09CNHGfn"
      }
    },
    {
      "cell_type": "code",
      "source": [
        "import tensorflow as tf\n",
        "from tensorflow.keras.layers.experimental.preprocessing import TextVectorization\n",
        "from tensorflow.keras.layers import Embedding\n",
        "\n",
        "max_tokens = 68000\n",
        "sequence_length = percentile_sent\n",
        "\n",
        "#Text Vectorizer layer \n",
        "text_vectorizer = TextVectorization(max_tokens = max_tokens,\n",
        "                                    output_mode = \"int\",\n",
        "                                    output_sequence_length=sequence_length)"
      ],
      "metadata": {
        "id": "xG0ES-KBD06T"
      },
      "execution_count": 24,
      "outputs": []
    },
    {
      "cell_type": "code",
      "source": [
        "#Adapt text vectorizer to train_data\n",
        "text_vectorizer.adapt(train_sentences)"
      ],
      "metadata": {
        "id": "Sffoe2CFEZOz"
      },
      "execution_count": 25,
      "outputs": []
    },
    {
      "cell_type": "code",
      "source": [
        "#Test text vectorizer\n",
        "import random\n",
        "target_sentence = random.choice(train_sentences)\n",
        "print(f\"Text:\\n{target_sentence}\")\n",
        "print(f\"\\nlength = {len(target_sentence.split())}\")\n",
        "print(f\"\\nText:\\n{text_vectorizer([target_sentence])}\")"
      ],
      "metadata": {
        "colab": {
          "base_uri": "https://localhost:8080/"
        },
        "id": "kNLF_fLeJHOT",
        "outputId": "9634b753-6e44-44b7-a740-783769db3038"
      },
      "execution_count": 26,
      "outputs": [
        {
          "output_type": "stream",
          "name": "stdout",
          "text": [
            "Text:\n",
            "assessment parameters were nutritional intake ( @-h recall method ) , nutritional status patient-generated subjective global assessment ( pg-sga ) , qol and blood parameters including albumin .\n",
            "\n",
            "length = 28\n",
            "\n",
            "Text:\n",
            "[[  250   315     9  1217   399   196  2043   363  1217   272 29468   822\n",
            "    647   250 35733   609     3   107   315   251  2229     0     0     0\n",
            "      0     0     0     0     0     0     0     0     0     0     0     0\n",
            "      0     0     0     0     0     0     0     0     0     0     0     0\n",
            "      0     0     0     0     0     0     0]]\n"
          ]
        }
      ]
    },
    {
      "cell_type": "code",
      "source": [
        "pubMed_20k_vocab = text_vectorizer.get_vocabulary()\n",
        "print(f\"Len of Vocabulary: {len(pubMed_20k_vocab)}\\n\")\n",
        "print(f\"Most Common:\\n{pubMed_20k_vocab[:5]}\")\n",
        "print(f\"\\nRare:\\n{pubMed_20k_vocab[-5:]}\")"
      ],
      "metadata": {
        "colab": {
          "base_uri": "https://localhost:8080/"
        },
        "id": "mvMxBK23T4eZ",
        "outputId": "a501e4fc-1394-4aa0-9314-a0230276ec78"
      },
      "execution_count": 27,
      "outputs": [
        {
          "output_type": "stream",
          "name": "stdout",
          "text": [
            "Len of Vocabulary: 64841\n",
            "\n",
            "Most Common:\n",
            "['', '[UNK]', 'the', 'and', 'of']\n",
            "\n",
            "Rare:\n",
            "['aainduced', 'aaigroup', 'aachener', 'aachen', 'aaacp']\n"
          ]
        }
      ]
    },
    {
      "cell_type": "code",
      "source": [
        "embedding_layer = Embedding(input_dim=len(pubMed_20k_vocab),\n",
        "                            output_dim=128,\n",
        "                            mask_zero=True, #It will mask out zeros - A lot of special 'padding' - thank to this - more efficient,\n",
        "                            name=\"embedding_layer\" \n",
        "                            )"
      ],
      "metadata": {
        "id": "5M1Vf8J8Ju00"
      },
      "execution_count": 28,
      "outputs": []
    },
    {
      "cell_type": "code",
      "source": [
        "#Check random samples going through embedding\n",
        "import random\n",
        "target_sentence = random.choice(train_sentences)\n",
        "print(f\"Text:\\n{target_sentence}\")\n",
        "print(f\"\\nVectorized Text:\\n{text_vectorizer([target_sentence])}\")\n",
        "print(f\"\\nEmbedded Text{embedding_layer(text_vectorizer([target_sentence]))}\")\n",
        "print(f\"\\nShape of embedded text:{embedding_layer(text_vectorizer([target_sentence])).shape} \")"
      ],
      "metadata": {
        "colab": {
          "base_uri": "https://localhost:8080/"
        },
        "id": "rqXxE2fjUlsa",
        "outputId": "9d4024a9-09ff-4cba-f57a-f37d9e6ac3e0"
      },
      "execution_count": 29,
      "outputs": [
        {
          "output_type": "stream",
          "name": "stdout",
          "text": [
            "Text:\n",
            "to investigate the effects of different target plasma remifentanil concentrations on the minimum alveolar concentration of sevoflurane ( mac ) for blocking adrenergic response ( bar ) during laparoscopic gynaecological surgery with carbon dioxide insufflation .\n",
            "\n",
            "Vectorized Text:\n",
            "[[   6  331    2   71    4  197  492  249 1442  341   18    2 1488 3205\n",
            "   422    4 1818 7052   11 5372 7123  142 6121   52  723 9171  115    7\n",
            "  2581 3947 5280    0    0    0    0    0    0    0    0    0    0    0\n",
            "     0    0    0    0    0    0    0    0    0    0    0    0    0]]\n",
            "\n",
            "Embedded Text[[[ 0.03926274 -0.04394957  0.03914506 ... -0.01172101 -0.04883529\n",
            "    0.00675821]\n",
            "  [ 0.04086092  0.0253162  -0.03944159 ... -0.03512906 -0.01860244\n",
            "    0.03476213]\n",
            "  [ 0.0032388  -0.00189543 -0.04797632 ... -0.01628768 -0.00762813\n",
            "    0.02992341]\n",
            "  ...\n",
            "  [-0.04527171  0.02978846  0.03641644 ... -0.01626395  0.0141151\n",
            "    0.02147799]\n",
            "  [-0.04527171  0.02978846  0.03641644 ... -0.01626395  0.0141151\n",
            "    0.02147799]\n",
            "  [-0.04527171  0.02978846  0.03641644 ... -0.01626395  0.0141151\n",
            "    0.02147799]]]\n",
            "\n",
            "Shape of embedded text:(1, 55, 128) \n"
          ]
        }
      ]
    },
    {
      "cell_type": "markdown",
      "source": [
        "## Creating dataset - using tf.data APi\n",
        "- making as efficient as possible\n",
        "\n",
        "https://www.tensorflow.org/guide/data?hl=pl\n",
        "\n"
      ],
      "metadata": {
        "id": "ZUdUcpedVTmt"
      }
    },
    {
      "cell_type": "code",
      "source": [
        "#Turn list and numpy array to TensorflowSliceDataset\n",
        "train_dataset = tf.data.Dataset.from_tensor_slices((train_sentences,train_labels_oh))\n",
        "valid_dataset = tf.data.Dataset.from_tensor_slices((val_sentences,val_labels_oh))\n",
        "test_dataset = tf.data.Dataset.from_tensor_slices((test_sentences,test_labels_oh))\n",
        "train_dataset"
      ],
      "metadata": {
        "colab": {
          "base_uri": "https://localhost:8080/"
        },
        "id": "COUoPas5WXvq",
        "outputId": "7b20349f-2f6c-4f0d-d8df-d24aa75c240f"
      },
      "execution_count": 30,
      "outputs": [
        {
          "output_type": "execute_result",
          "data": {
            "text/plain": [
              "<TensorSliceDataset element_spec=(TensorSpec(shape=(), dtype=tf.string, name=None), TensorSpec(shape=(5,), dtype=tf.float64, name=None))>"
            ]
          },
          "metadata": {},
          "execution_count": 30
        }
      ]
    },
    {
      "cell_type": "code",
      "source": [
        "train_labels_oh.shape"
      ],
      "metadata": {
        "colab": {
          "base_uri": "https://localhost:8080/"
        },
        "id": "wmE6O6AGXLhr",
        "outputId": "80036187-5ce3-4716-db67-54dc3079c8b6"
      },
      "execution_count": 31,
      "outputs": [
        {
          "output_type": "execute_result",
          "data": {
            "text/plain": [
              "TensorShape([180040, 5])"
            ]
          },
          "metadata": {},
          "execution_count": 31
        }
      ]
    },
    {
      "cell_type": "code",
      "source": [
        "#Turn to prefeched Datasets\n",
        "train_dataset = train_dataset.batch(32).prefetch(tf.data.AUTOTUNE)#Don't shuffle, because order in this case is crucial\n",
        "valid_dataset = valid_dataset.batch(32).prefetch(tf.data.AUTOTUNE)\n",
        "test_dataset = test_dataset.batch(32).prefetch(tf.data.AUTOTUNE)\n",
        "train_dataset"
      ],
      "metadata": {
        "colab": {
          "base_uri": "https://localhost:8080/"
        },
        "id": "2g9qH2t8XaE1",
        "outputId": "23999866-6e27-429d-fba5-546fcf13c901"
      },
      "execution_count": 32,
      "outputs": [
        {
          "output_type": "execute_result",
          "data": {
            "text/plain": [
              "<PrefetchDataset element_spec=(TensorSpec(shape=(None,), dtype=tf.string, name=None), TensorSpec(shape=(None, 5), dtype=tf.float64, name=None))>"
            ]
          },
          "metadata": {},
          "execution_count": 32
        }
      ]
    },
    {
      "cell_type": "markdown",
      "source": [
        "# Model1 : Conv1D"
      ],
      "metadata": {
        "id": "lQkkDlOVYeUv"
      }
    },
    {
      "cell_type": "markdown",
      "source": [
        "Build and compile model"
      ],
      "metadata": {
        "id": "baZOxphGbxah"
      }
    },
    {
      "cell_type": "code",
      "source": [
        "from tensorflow.keras import layers\n",
        "#Build model\n",
        "inputs = layers.Input(shape=(1,),dtype=tf.string) # One sequence at the time\n",
        "x = text_vectorizer(inputs)\n",
        "x = embedding_layer(x)\n",
        "x = layers.Conv1D(filters=64,\n",
        "                  kernel_size=5,\n",
        "                  padding=\"same\",\n",
        "                  activation=\"relu\",\n",
        "                  )(x)\n",
        "x = layers.GlobalMaxPool1D()(x)\n",
        "outputs = layers.Dense(5,activation=\"softmax\")(x)\n",
        "model_1 = tf.keras.Model(inputs,outputs,name=\"model_1_conv1D\")\n",
        "\n",
        "#Compile model\n",
        "model_1.compile(loss=\"categorical_crossentropy\",\n",
        "                optimizer=tf.keras.optimizers.Adam(),\n",
        "                metrics=[\"accuracy\"])\n",
        "#Summary\n",
        "model_1.summary()"
      ],
      "metadata": {
        "colab": {
          "base_uri": "https://localhost:8080/"
        },
        "id": "obyneabGZRjM",
        "outputId": "56aadf0c-a8f3-4381-d1a3-9b1e9a94a507"
      },
      "execution_count": 33,
      "outputs": [
        {
          "output_type": "stream",
          "name": "stdout",
          "text": [
            "Model: \"model_1_conv1D\"\n",
            "_________________________________________________________________\n",
            " Layer (type)                Output Shape              Param #   \n",
            "=================================================================\n",
            " input_1 (InputLayer)        [(None, 1)]               0         \n",
            "                                                                 \n",
            " text_vectorization (TextVec  (None, 55)               0         \n",
            " torization)                                                     \n",
            "                                                                 \n",
            " embedding_layer (Embedding)  (None, 55, 128)          8299648   \n",
            "                                                                 \n",
            " conv1d (Conv1D)             (None, 55, 64)            41024     \n",
            "                                                                 \n",
            " global_max_pooling1d (Globa  (None, 64)               0         \n",
            " lMaxPooling1D)                                                  \n",
            "                                                                 \n",
            " dense (Dense)               (None, 5)                 325       \n",
            "                                                                 \n",
            "=================================================================\n",
            "Total params: 8,340,997\n",
            "Trainable params: 8,340,997\n",
            "Non-trainable params: 0\n",
            "_________________________________________________________________\n"
          ]
        }
      ]
    },
    {
      "cell_type": "markdown",
      "source": [
        "Create callbacks"
      ],
      "metadata": {
        "id": "ZI_awyBWZZ3m"
      }
    },
    {
      "cell_type": "code",
      "source": [
        "SAVE_DIR = \"models/\"\n",
        "tensorboard_callback = hp.create_tensorboard_callback(SAVE_DIR,\n",
        "                                                      \"model_1\")\n",
        "model_checkpoint = tf.keras.callbacks.ModelCheckpoint(\"Model_1_Checkpoint\",\n",
        "                                                      monitor=\"val_accuracy\",\n",
        "                                                      save_best_only=True,\n",
        "                                                      save_weights_only=True,\n",
        "                                                      verbose=1)\n"
      ],
      "metadata": {
        "colab": {
          "base_uri": "https://localhost:8080/"
        },
        "id": "z0_SoBKdbKMp",
        "outputId": "ef6ce441-d404-45c2-eb0c-af71c081d9ae"
      },
      "execution_count": 34,
      "outputs": [
        {
          "output_type": "stream",
          "name": "stdout",
          "text": [
            "Saving TensorBoard log files to: models//model_1/20230222-212802\n"
          ]
        }
      ]
    },
    {
      "cell_type": "markdown",
      "source": [
        "Fit model"
      ],
      "metadata": {
        "id": "rWp3MdehbjTN"
      }
    },
    {
      "cell_type": "code",
      "source": [
        "history_1=model_1.fit(train_dataset,\n",
        "                      steps_per_epoch=int(0.1*len(train_dataset)),#Train on 10% of data\n",
        "                      epochs=3,\n",
        "                      validation_data=valid_dataset,\n",
        "                      validation_steps=int(0.1*len(valid_dataset)),\n",
        "                      callbacks=[tensorboard_callback,model_checkpoint])  "
      ],
      "metadata": {
        "colab": {
          "base_uri": "https://localhost:8080/"
        },
        "id": "X1iSiPuCbvge",
        "outputId": "f27a11b5-de13-4000-b1d2-0228c7e19271"
      },
      "execution_count": 35,
      "outputs": [
        {
          "output_type": "stream",
          "name": "stdout",
          "text": [
            "Epoch 1/3\n",
            "562/562 [==============================] - ETA: 0s - loss: 0.8436 - accuracy: 0.6851\n",
            "Epoch 1: val_accuracy improved from -inf to 0.78557, saving model to Model_1_Checkpoint\n",
            "562/562 [==============================] - 34s 45ms/step - loss: 0.8436 - accuracy: 0.6851 - val_loss: 0.5881 - val_accuracy: 0.7856\n",
            "Epoch 2/3\n",
            "561/562 [============================>.] - ETA: 0s - loss: 0.5786 - accuracy: 0.7893\n",
            "Epoch 2: val_accuracy improved from 0.78557 to 0.79588, saving model to Model_1_Checkpoint\n",
            "562/562 [==============================] - 7s 12ms/step - loss: 0.5786 - accuracy: 0.7894 - val_loss: 0.5409 - val_accuracy: 0.7959\n",
            "Epoch 3/3\n",
            "556/562 [============================>.] - ETA: 0s - loss: 0.5433 - accuracy: 0.7992\n",
            "Epoch 3: val_accuracy improved from 0.79588 to 0.80519, saving model to Model_1_Checkpoint\n",
            "562/562 [==============================] - 6s 10ms/step - loss: 0.5429 - accuracy: 0.7990 - val_loss: 0.5166 - val_accuracy: 0.8052\n"
          ]
        }
      ]
    },
    {
      "cell_type": "markdown",
      "source": [
        "Evaluation"
      ],
      "metadata": {
        "id": "xWmWkyFhglqG"
      }
    },
    {
      "cell_type": "code",
      "source": [
        "model_1.evaluate(valid_dataset)"
      ],
      "metadata": {
        "colab": {
          "base_uri": "https://localhost:8080/"
        },
        "id": "Dl_AnlXrd3nF",
        "outputId": "067c7b50-7eb1-44fc-b819-f26a90fbd6de"
      },
      "execution_count": 36,
      "outputs": [
        {
          "output_type": "stream",
          "name": "stdout",
          "text": [
            "945/945 [==============================] - 3s 3ms/step - loss: 0.5229 - accuracy: 0.8051\n"
          ]
        },
        {
          "output_type": "execute_result",
          "data": {
            "text/plain": [
              "[0.5228807926177979, 0.8051105737686157]"
            ]
          },
          "metadata": {},
          "execution_count": 36
        }
      ]
    },
    {
      "cell_type": "code",
      "source": [
        "model_1_pred_probs = model_1.predict(val_sentences)\n",
        "model_1_pred_probs[:4]"
      ],
      "metadata": {
        "colab": {
          "base_uri": "https://localhost:8080/"
        },
        "id": "wia7OpWYfywr",
        "outputId": "a02d5ef8-b30b-4276-c6cb-a064bcc3cf20"
      },
      "execution_count": 37,
      "outputs": [
        {
          "output_type": "stream",
          "name": "stdout",
          "text": [
            "945/945 [==============================] - 3s 3ms/step\n"
          ]
        },
        {
          "output_type": "execute_result",
          "data": {
            "text/plain": [
              "array([[5.6666940e-01, 7.6283664e-02, 2.7267358e-03, 3.5016647e-01,\n",
              "        4.1537052e-03],\n",
              "       [2.5865051e-01, 5.7731438e-01, 3.7218749e-03, 1.5497482e-01,\n",
              "        5.3384649e-03],\n",
              "       [1.0794199e-01, 6.1297659e-03, 1.5924895e-03, 8.8416737e-01,\n",
              "        1.6833682e-04],\n",
              "       [4.9699997e-03, 5.2203625e-03, 9.5724732e-01, 2.1391138e-03,\n",
              "        3.0423153e-02]], dtype=float32)"
            ]
          },
          "metadata": {},
          "execution_count": 37
        }
      ]
    },
    {
      "cell_type": "code",
      "source": [
        "model_1_predictions = tf.argmax(model_1_pred_probs,axis=1)\n",
        "model_1_predictions[:4]"
      ],
      "metadata": {
        "colab": {
          "base_uri": "https://localhost:8080/"
        },
        "id": "8Fn-8al8f6ow",
        "outputId": "609fb5f7-63dd-4d28-8d16-c8010a47cc32"
      },
      "execution_count": 38,
      "outputs": [
        {
          "output_type": "execute_result",
          "data": {
            "text/plain": [
              "<tf.Tensor: shape=(4,), dtype=int64, numpy=array([0, 1, 3, 2])>"
            ]
          },
          "metadata": {},
          "execution_count": 38
        }
      ]
    },
    {
      "cell_type": "code",
      "source": [
        "class_names"
      ],
      "metadata": {
        "colab": {
          "base_uri": "https://localhost:8080/"
        },
        "id": "uFYuGLyJgh9a",
        "outputId": "20c4b7c8-de62-440e-e920-089e30950a2d"
      },
      "execution_count": 39,
      "outputs": [
        {
          "output_type": "execute_result",
          "data": {
            "text/plain": [
              "array(['BACKGROUND', 'CONCLUSIONS', 'METHODS', 'OBJECTIVE', 'RESULTS'],\n",
              "      dtype=object)"
            ]
          },
          "metadata": {},
          "execution_count": 39
        }
      ]
    },
    {
      "cell_type": "code",
      "source": [
        "model_1_results = hp.calculate_results(val_labels_encode,model_1_predictions)\n",
        "model_1_results"
      ],
      "metadata": {
        "colab": {
          "base_uri": "https://localhost:8080/"
        },
        "id": "oRTUk7JcgOp8",
        "outputId": "8f8918a6-228f-4d7b-e039-b01c4429042e"
      },
      "execution_count": 40,
      "outputs": [
        {
          "output_type": "execute_result",
          "data": {
            "text/plain": [
              "{'accuracy': 80.5110552098504,\n",
              " 'precision': 0.80304210413589,\n",
              " 'recall': 0.8051105520985039,\n",
              " 'f1': 0.8033552891398161}"
            ]
          },
          "metadata": {},
          "execution_count": 40
        }
      ]
    },
    {
      "cell_type": "code",
      "source": [
        "model_0_results"
      ],
      "metadata": {
        "colab": {
          "base_uri": "https://localhost:8080/"
        },
        "id": "J0NnWwNTggqR",
        "outputId": "ee4bd0a5-07af-46b0-cb6f-5d709cbe0512"
      },
      "execution_count": 41,
      "outputs": [
        {
          "output_type": "execute_result",
          "data": {
            "text/plain": [
              "{'accuracy': 72.1832384482987,\n",
              " 'precision': 0.7186466952323352,\n",
              " 'recall': 0.7218323844829869,\n",
              " 'f1': 0.6989250353450294}"
            ]
          },
          "metadata": {},
          "execution_count": 41
        }
      ]
    },
    {
      "cell_type": "markdown",
      "source": [
        "# Model2 : Using TF_HUB Pretrained Feature Extractor\n",
        "\n",
        "- Using universal sentence encoder: https://tfhub.dev/google/universal-sentence-encoder/4"
      ],
      "metadata": {
        "id": "pSghO9vSgqHV"
      }
    },
    {
      "cell_type": "markdown",
      "source": [
        "Build and compile model"
      ],
      "metadata": {
        "id": "czBpO7Ym-3zs"
      }
    },
    {
      "cell_type": "code",
      "source": [
        "import tensorflow_hub as hub\n",
        "from tensorflow.keras import layers\n",
        "import tensorflow as tf\n",
        "#Build model\n",
        "feature_extractor = hub.KerasLayer(\"https://tfhub.dev/google/universal-sentence-encoder/4\",\n",
        "                                   trainable=False,\n",
        "                                   input_shape=[],\n",
        "                                   dtype=tf.string)\n",
        "#model_2 = tf.keras.Sequential([\n",
        "#    feature_extractor,\n",
        "#    layers.Dense(64,activation=\"relu\"),\n",
        "#    layers.Dense(5,activation=\"softmax\")\n",
        "#])\n",
        "\n",
        "inputs = layers.Input(shape=[],dtype=tf.string)\n",
        "x = feature_extractor(inputs)\n",
        "x=layers.Dense(128,activation=\"relu\")(x)\n",
        "outputs=layers.Dense(5,activation=\"softmax\")(x)\n",
        "model_2 = tf.keras.Model(inputs,outputs,name=\"MODEL_2_USE\")\n",
        "\n",
        "#Compile model\n",
        "model_2.compile(loss=\"categorical_crossentropy\",\n",
        "                optimizer=tf.keras.optimizers.Adam(),\n",
        "                metrics=[\"accuracy\"])\n",
        "#Summary\n",
        "model_2.summary()"
      ],
      "metadata": {
        "colab": {
          "base_uri": "https://localhost:8080/"
        },
        "id": "GKK1cnbuhS71",
        "outputId": "1d4cf622-f3f5-44b4-cb08-02c7a4721bae"
      },
      "execution_count": 42,
      "outputs": [
        {
          "output_type": "stream",
          "name": "stderr",
          "text": [
            "WARNING:tensorflow:Please fix your imports. Module tensorflow.python.training.tracking.data_structures has been moved to tensorflow.python.trackable.data_structures. The old module will be deleted in version 2.11.\n",
            "WARNING:tensorflow:From /usr/local/lib/python3.8/dist-packages/tensorflow/python/autograph/pyct/static_analysis/liveness.py:83: Analyzer.lamba_check (from tensorflow.python.autograph.pyct.static_analysis.liveness) is deprecated and will be removed after 2023-09-23.\n",
            "Instructions for updating:\n",
            "Lambda fuctions will be no more assumed to be used in the statement where they are used, or at least in the same block. https://github.com/tensorflow/tensorflow/issues/56089\n"
          ]
        },
        {
          "output_type": "stream",
          "name": "stdout",
          "text": [
            "Model: \"MODEL_2_USE\"\n",
            "_________________________________________________________________\n",
            " Layer (type)                Output Shape              Param #   \n",
            "=================================================================\n",
            " input_2 (InputLayer)        [(None,)]                 0         \n",
            "                                                                 \n",
            " keras_layer (KerasLayer)    (None, 512)               256797824 \n",
            "                                                                 \n",
            " dense_1 (Dense)             (None, 128)               65664     \n",
            "                                                                 \n",
            " dense_2 (Dense)             (None, 5)                 645       \n",
            "                                                                 \n",
            "=================================================================\n",
            "Total params: 256,864,133\n",
            "Trainable params: 66,309\n",
            "Non-trainable params: 256,797,824\n",
            "_________________________________________________________________\n"
          ]
        }
      ]
    },
    {
      "cell_type": "markdown",
      "source": [
        "Fit model"
      ],
      "metadata": {
        "id": "CiQMBbtW8ffb"
      }
    },
    {
      "cell_type": "code",
      "source": [
        "history_2 = model_2.fit(train_dataset,\n",
        "                        steps_per_epoch=int(0.1*len(train_dataset)),\n",
        "                        epochs=3,\n",
        "                        validation_data=valid_dataset,\n",
        "                        validation_steps=int(0.1*len(valid_dataset)),\n",
        "                        callbacks=[tensorboard_callback,model_checkpoint]\n",
        "                        )"
      ],
      "metadata": {
        "colab": {
          "base_uri": "https://localhost:8080/"
        },
        "id": "gNM4q1fP-6gH",
        "outputId": "064ca263-57ec-439b-be4c-92a5fe7222bd"
      },
      "execution_count": 43,
      "outputs": [
        {
          "output_type": "stream",
          "name": "stdout",
          "text": [
            "Epoch 1/3\n",
            "558/562 [============================>.] - ETA: 0s - loss: 0.9179 - accuracy: 0.6475\n",
            "Epoch 1: val_accuracy did not improve from 0.80519\n",
            "562/562 [==============================] - 12s 14ms/step - loss: 0.9168 - accuracy: 0.6480 - val_loss: 0.8001 - val_accuracy: 0.6918\n",
            "Epoch 2/3\n",
            "558/562 [============================>.] - ETA: 0s - loss: 0.7721 - accuracy: 0.6999\n",
            "Epoch 2: val_accuracy did not improve from 0.80519\n",
            "562/562 [==============================] - 8s 14ms/step - loss: 0.7718 - accuracy: 0.7000 - val_loss: 0.7592 - val_accuracy: 0.7011\n",
            "Epoch 3/3\n",
            "560/562 [============================>.] - ETA: 0s - loss: 0.7560 - accuracy: 0.7116\n",
            "Epoch 3: val_accuracy did not improve from 0.80519\n",
            "562/562 [==============================] - 7s 13ms/step - loss: 0.7559 - accuracy: 0.7116 - val_loss: 0.7430 - val_accuracy: 0.7114\n"
          ]
        }
      ]
    },
    {
      "cell_type": "markdown",
      "source": [
        "Evaluation"
      ],
      "metadata": {
        "id": "13yEhTHoDKvU"
      }
    },
    {
      "cell_type": "code",
      "source": [
        "model_2.evaluate(valid_dataset)"
      ],
      "metadata": {
        "colab": {
          "base_uri": "https://localhost:8080/"
        },
        "id": "Ex4aOA8Z_vRR",
        "outputId": "379ba827-5840-4c59-d30b-de769fc9665d"
      },
      "execution_count": 44,
      "outputs": [
        {
          "output_type": "stream",
          "name": "stdout",
          "text": [
            "945/945 [==============================] - 11s 11ms/step - loss: 0.7444 - accuracy: 0.7124\n"
          ]
        },
        {
          "output_type": "execute_result",
          "data": {
            "text/plain": [
              "[0.7443655729293823, 0.7124321460723877]"
            ]
          },
          "metadata": {},
          "execution_count": 44
        }
      ]
    },
    {
      "cell_type": "code",
      "source": [
        "model_2_predprobs=model_2.predict(val_sentences)\n",
        "model_2_predprobs[:4]"
      ],
      "metadata": {
        "colab": {
          "base_uri": "https://localhost:8080/"
        },
        "id": "WaVRD2p5ChKX",
        "outputId": "cdd5ffb2-7207-426c-8a6d-0fb1defd139c"
      },
      "execution_count": 45,
      "outputs": [
        {
          "output_type": "stream",
          "name": "stdout",
          "text": [
            "945/945 [==============================] - 11s 11ms/step\n"
          ]
        },
        {
          "output_type": "execute_result",
          "data": {
            "text/plain": [
              "array([[0.4356821 , 0.361562  , 0.00241662, 0.19214308, 0.00819628],\n",
              "       [0.3440036 , 0.4829589 , 0.00285053, 0.1674654 , 0.00272158],\n",
              "       [0.23261893, 0.17550507, 0.02316201, 0.52396107, 0.04475297],\n",
              "       [0.01520347, 0.04194587, 0.8191956 , 0.00794841, 0.1157067 ]],\n",
              "      dtype=float32)"
            ]
          },
          "metadata": {},
          "execution_count": 45
        }
      ]
    },
    {
      "cell_type": "code",
      "source": [
        "model_2_predicts = tf.argmax(model_2_predprobs,axis=1)\n",
        "model_2_predicts[:4]"
      ],
      "metadata": {
        "colab": {
          "base_uri": "https://localhost:8080/"
        },
        "id": "-P5ATCgGDRwo",
        "outputId": "ec58fa71-9788-48e0-e5e2-1f7d4153b73c"
      },
      "execution_count": 46,
      "outputs": [
        {
          "output_type": "execute_result",
          "data": {
            "text/plain": [
              "<tf.Tensor: shape=(4,), dtype=int64, numpy=array([0, 1, 3, 2])>"
            ]
          },
          "metadata": {},
          "execution_count": 46
        }
      ]
    },
    {
      "cell_type": "code",
      "source": [
        "#Calculate results\n",
        "model_2_results = hp.calculate_results(val_labels_encode,model_2_predicts)\n",
        "model_2_results"
      ],
      "metadata": {
        "colab": {
          "base_uri": "https://localhost:8080/"
        },
        "id": "HJi9_-1sDeVm",
        "outputId": "7c9fedb5-ddb5-4c54-bbdb-4a0cf0c032c7"
      },
      "execution_count": 47,
      "outputs": [
        {
          "output_type": "execute_result",
          "data": {
            "text/plain": [
              "{'accuracy': 71.2432146167086,\n",
              " 'precision': 0.7126312744512556,\n",
              " 'recall': 0.712432146167086,\n",
              " 'f1': 0.7093539069504288}"
            ]
          },
          "metadata": {},
          "execution_count": 47
        }
      ]
    },
    {
      "cell_type": "code",
      "source": [
        "model_0_results"
      ],
      "metadata": {
        "colab": {
          "base_uri": "https://localhost:8080/"
        },
        "id": "tXTZD-bcDsM0",
        "outputId": "58a71d2b-3490-45e0-9989-907342b5cc93"
      },
      "execution_count": 48,
      "outputs": [
        {
          "output_type": "execute_result",
          "data": {
            "text/plain": [
              "{'accuracy': 72.1832384482987,\n",
              " 'precision': 0.7186466952323352,\n",
              " 'recall': 0.7218323844829869,\n",
              " 'f1': 0.6989250353450294}"
            ]
          },
          "metadata": {},
          "execution_count": 48
        }
      ]
    },
    {
      "cell_type": "markdown",
      "source": [
        "# Model 3: Conv1D with character embeddings\n",
        "\n",
        "-To eventaully use concatenation of both token and character embedding as in paper shown at the beggining"
      ],
      "metadata": {
        "id": "tVjnLnTYDu9i"
      }
    },
    {
      "cell_type": "markdown",
      "source": [
        "Dealing with data for character embedding"
      ],
      "metadata": {
        "id": "g90a2roGPMuM"
      }
    },
    {
      "cell_type": "code",
      "source": [
        "#To use character embedding it is needed to change sentences from e.g. ['it is dog'] to ['i','t',' ','i'...]\n",
        "import random\n",
        "def text_to_char(text):\n",
        "  return \" \".join(list(text))\n",
        "text_to_char(random.choice(train_sentences))"
      ],
      "metadata": {
        "colab": {
          "base_uri": "https://localhost:8080/",
          "height": 54
        },
        "id": "c3LVq81REYmw",
        "outputId": "97d3c9ee-3952-4da5-8cce-f28dbade52a7"
      },
      "execution_count": 49,
      "outputs": [
        {
          "output_type": "execute_result",
          "data": {
            "text/plain": [
              "'d u l a g l u t i d e   @   m g   s h o w e d   t h e   g r e a t e s t   p l a c e b o - a d j u s t e d   m e a n   c h a n g e   i n   d b p   - l s b -   - @   (   - @   t o   @   )   m m h g   - r s b -   .'"
            ],
            "application/vnd.google.colaboratory.intrinsic+json": {
              "type": "string"
            }
          },
          "metadata": {},
          "execution_count": 49
        }
      ]
    },
    {
      "cell_type": "code",
      "source": [
        "#Split sequence-level data splits into character-level data splits\n",
        "train_chars = [text_to_char(sentence) for sentence in train_sentences]\n",
        "val_chars = [text_to_char(sentence) for sentence in val_sentences]\n",
        "test_chars = [text_to_char(sentence) for sentence in test_sentences]\n",
        "train_chars[:3]"
      ],
      "metadata": {
        "colab": {
          "base_uri": "https://localhost:8080/"
        },
        "id": "DZXaEi69Fq_p",
        "outputId": "0261474a-b7ad-4905-abbf-fd83a7d598a3"
      },
      "execution_count": 50,
      "outputs": [
        {
          "output_type": "execute_result",
          "data": {
            "text/plain": [
              "['t o   i n v e s t i g a t e   t h e   e f f i c a c y   o f   @   w e e k s   o f   d a i l y   l o w - d o s e   o r a l   p r e d n i s o l o n e   i n   i m p r o v i n g   p a i n   ,   m o b i l i t y   ,   a n d   s y s t e m i c   l o w - g r a d e   i n f l a m m a t i o n   i n   t h e   s h o r t   t e r m   a n d   w h e t h e r   t h e   e f f e c t   w o u l d   b e   s u s t a i n e d   a t   @   w e e k s   i n   o l d e r   a d u l t s   w i t h   m o d e r a t e   t o   s e v e r e   k n e e   o s t e o a r t h r i t i s   (   o a   )   .',\n",
              " 'a   t o t a l   o f   @   p a t i e n t s   w i t h   p r i m a r y   k n e e   o a   w e r e   r a n d o m i z e d   @ : @   ;   @   r e c e i v e d   @   m g / d a y   o f   p r e d n i s o l o n e   a n d   @   r e c e i v e d   p l a c e b o   f o r   @   w e e k s   .',\n",
              " 'o u t c o m e   m e a s u r e s   i n c l u d e d   p a i n   r e d u c t i o n   a n d   i m p r o v e m e n t   i n   f u n c t i o n   s c o r e s   a n d   s y s t e m i c   i n f l a m m a t i o n   m a r k e r s   .']"
            ]
          },
          "metadata": {},
          "execution_count": 50
        }
      ]
    },
    {
      "cell_type": "code",
      "source": [
        "#Average character lenght\n",
        "char_len = [len(sentence) for sentence in train_sentences]\n",
        "mean_char_len = np.mean(char_len)\n",
        "mean_char_len"
      ],
      "metadata": {
        "colab": {
          "base_uri": "https://localhost:8080/"
        },
        "id": "zSK6oT_NGY0B",
        "outputId": "870155e8-2aaa-42bd-fa23-50307721bbd7"
      },
      "execution_count": 51,
      "outputs": [
        {
          "output_type": "execute_result",
          "data": {
            "text/plain": [
              "149.3662574983337"
            ]
          },
          "metadata": {},
          "execution_count": 51
        }
      ]
    },
    {
      "cell_type": "code",
      "source": [
        "#Check the distribution\n",
        "import seaborn as sns \n",
        "sns.histplot(char_len,bins=30);"
      ],
      "metadata": {
        "colab": {
          "base_uri": "https://localhost:8080/",
          "height": 265
        },
        "id": "-_PwyIfMOUhD",
        "outputId": "2bb5dcb9-f3db-4cb6-fcf3-9cf9faca0c48"
      },
      "execution_count": 52,
      "outputs": [
        {
          "output_type": "display_data",
          "data": {
            "text/plain": [
              "<Figure size 432x288 with 1 Axes>"
            ],
            "image/png": "[encoded data removed]"
          },
          "metadata": {
            "needs_background": "light"
          }
        }
      ]
    },
    {
      "cell_type": "code",
      "source": [
        "#getting <95% of char length\n",
        "char_95_percentile = int(np.percentile(char_len,95))\n",
        "char_95_percentile"
      ],
      "metadata": {
        "colab": {
          "base_uri": "https://localhost:8080/"
        },
        "id": "-U4rX_RiOmOC",
        "outputId": "bd8531a9-50ea-46a3-c47d-aed90c01cb79"
      },
      "execution_count": 53,
      "outputs": [
        {
          "output_type": "execute_result",
          "data": {
            "text/plain": [
              "290"
            ]
          },
          "metadata": {},
          "execution_count": 53
        }
      ]
    },
    {
      "cell_type": "code",
      "source": [
        "#Getting all keyboard characters\n",
        "import string\n",
        "alphabet = string.ascii_lowercase+string.digits+string.punctuation\n",
        "alphabet"
      ],
      "metadata": {
        "colab": {
          "base_uri": "https://localhost:8080/",
          "height": 36
        },
        "id": "uS_1C8B3OzJ3",
        "outputId": "cfc35d67-7ec6-442d-976f-1967249d63d6"
      },
      "execution_count": 54,
      "outputs": [
        {
          "output_type": "execute_result",
          "data": {
            "text/plain": [
              "'abcdefghijklmnopqrstuvwxyz0123456789!\"#$%&\\'()*+,-./:;<=>?@[\\\\]^_`{|}~'"
            ],
            "application/vnd.google.colaboratory.intrinsic+json": {
              "type": "string"
            }
          },
          "metadata": {},
          "execution_count": 54
        }
      ]
    },
    {
      "cell_type": "markdown",
      "source": [
        "Creating character vectorizer instance and embedding layer"
      ],
      "metadata": {
        "id": "ZSpoMuEcP5_b"
      }
    },
    {
      "cell_type": "code",
      "source": [
        "num_char = len(alphabet)+2 # 1 for space, another for OOv - out of vocab\n",
        "char_vectorizer = TextVectorization(max_tokens = num_char,\n",
        "                                    output_mode=\"int\",\n",
        "                                    output_sequence_length=char_95_percentile)\n",
        "#Adapt Vectorizer\n",
        "char_vectorizer.adapt(train_chars)\n",
        "char_vocab = char_vectorizer.get_vocabulary()\n",
        "\n",
        "embedding_char_layer = tf.keras.layers.Embedding(input_dim=len(char_vocab),\n",
        "                                                 output_dim=25,\n",
        "                                                 mask_zero=True)"
      ],
      "metadata": {
        "id": "uXr_iAM_QDsV"
      },
      "execution_count": 55,
      "outputs": []
    },
    {
      "cell_type": "code",
      "source": [
        "len(char_vocab), char_vocab[:5], char_vocab[-5:]"
      ],
      "metadata": {
        "colab": {
          "base_uri": "https://localhost:8080/"
        },
        "id": "fgLKLV5TTxkX",
        "outputId": "5fc08f6a-e2a7-4c0b-cae0-3a546287540f"
      },
      "execution_count": 56,
      "outputs": [
        {
          "output_type": "execute_result",
          "data": {
            "text/plain": [
              "(28, ['', '[UNK]', 'e', 't', 'i'], ['k', 'x', 'z', 'q', 'j'])"
            ]
          },
          "metadata": {},
          "execution_count": 56
        }
      ]
    },
    {
      "cell_type": "code",
      "source": [
        "random_char_sentence = random.choice(train_chars)\n",
        "print(f\"Char sentence:\\n{random_char_sentence}\\n\")\n",
        "print(f\"Embeded char sentence:\\n{embedding_char_layer(char_vectorizer([random_char_sentence]))}\")\n",
        "print(f\"\\nEmbedded shape:{embedding_char_layer(char_vectorizer([random_char_sentence])).shape}\")"
      ],
      "metadata": {
        "colab": {
          "base_uri": "https://localhost:8080/"
        },
        "id": "QAjYiYtLRea8",
        "outputId": "b8b5051b-01fe-4bef-c2b4-95fba10616c7"
      },
      "execution_count": 57,
      "outputs": [
        {
          "output_type": "stream",
          "name": "stdout",
          "text": [
            "Char sentence:\n",
            "o f   t h e   @   p a t i e n t s   ,   @   %   w a s   h b e a g - p o s i t i v e   a n d   h b v   g e n o t y p e   a   a n d   d   w a s   o b s e r v e d   i n   @   %   a n d   @   %   ,   r e s p e c t i v e l y   .\n",
            "\n",
            "Embeded char sentence:\n",
            "[[[-0.01256775  0.00671327  0.02519358 ... -0.02999224  0.03322078\n",
            "   -0.03366144]\n",
            "  [-0.00671457 -0.01019788  0.03922476 ... -0.01065092  0.03669884\n",
            "   -0.00099603]\n",
            "  [-0.03029959  0.04386992  0.03192384 ...  0.01074991 -0.02732871\n",
            "    0.01796502]\n",
            "  ...\n",
            "  [-0.0180517  -0.01992377 -0.04965859 ... -0.0303333  -0.01217109\n",
            "   -0.00070189]\n",
            "  [-0.0180517  -0.01992377 -0.04965859 ... -0.0303333  -0.01217109\n",
            "   -0.00070189]\n",
            "  [-0.0180517  -0.01992377 -0.04965859 ... -0.0303333  -0.01217109\n",
            "   -0.00070189]]]\n",
            "\n",
            "Embedded shape:(1, 290, 25)\n"
          ]
        }
      ]
    },
    {
      "cell_type": "markdown",
      "source": [
        "Model 3: Conv1D - Character embedding"
      ],
      "metadata": {
        "id": "53-WkkNJRlZ0"
      }
    },
    {
      "cell_type": "markdown",
      "source": [
        "Build and compile model"
      ],
      "metadata": {
        "id": "84Zp4PYIYGzO"
      }
    },
    {
      "cell_type": "code",
      "source": [
        "from tensorflow.keras import layers\n",
        "#Build model\n",
        "inputs = layers.Input(shape=(1,),dtype=tf.string)\n",
        "vectorizer = char_vectorizer(inputs)\n",
        "embedding = embedding_char_layer(vectorizer)\n",
        "x = layers.Conv1D(filters=64,\n",
        "                  kernel_size=5,\n",
        "                  activation=\"relu\",\n",
        "                  padding=\"same\")(embedding)\n",
        "x = layers.GlobalMaxPool1D()(x)\n",
        "outputs = layers.Dense(5,activation=\"softmax\")(x)\n",
        "model_3 = tf.keras.Model(inputs,outputs,name=\"model_3_Conv1D_CharEmb\")\n",
        "\n",
        "#Compile model\n",
        "model_3.compile(loss=\"categorical_crossentropy\",\n",
        "                optimizer=tf.keras.optimizers.Adam(),\n",
        "                metrics=[\"accuracy\"])\n",
        "#Summary\n",
        "model_3.summary()"
      ],
      "metadata": {
        "colab": {
          "base_uri": "https://localhost:8080/"
        },
        "id": "00rTzPN5XLbJ",
        "outputId": "14bc5541-8406-40ae-95e1-0d82f439f39e"
      },
      "execution_count": 58,
      "outputs": [
        {
          "output_type": "stream",
          "name": "stdout",
          "text": [
            "Model: \"model_3_Conv1D_CharEmb\"\n",
            "_________________________________________________________________\n",
            " Layer (type)                Output Shape              Param #   \n",
            "=================================================================\n",
            " input_3 (InputLayer)        [(None, 1)]               0         \n",
            "                                                                 \n",
            " text_vectorization_1 (TextV  (None, 290)              0         \n",
            " ectorization)                                                   \n",
            "                                                                 \n",
            " embedding (Embedding)       (None, 290, 25)           700       \n",
            "                                                                 \n",
            " conv1d_1 (Conv1D)           (None, 290, 64)           8064      \n",
            "                                                                 \n",
            " global_max_pooling1d_1 (Glo  (None, 64)               0         \n",
            " balMaxPooling1D)                                                \n",
            "                                                                 \n",
            " dense_3 (Dense)             (None, 5)                 325       \n",
            "                                                                 \n",
            "=================================================================\n",
            "Total params: 9,089\n",
            "Trainable params: 9,089\n",
            "Non-trainable params: 0\n",
            "_________________________________________________________________\n"
          ]
        }
      ]
    },
    {
      "cell_type": "code",
      "source": [
        "#Getting data into tensorflow datasets\n",
        "train_chars_dataset = tf.data.Dataset.from_tensor_slices((train_chars,train_labels_oh)).batch(32).prefetch(tf.data.AUTOTUNE)\n",
        "valid_chars_dataset = tf.data.Dataset.from_tensor_slices((val_chars,val_labels_oh)).batch(32).prefetch(tf.data.AUTOTUNE)\n",
        "test_chars_dataset = tf.data.Dataset.from_tensor_slices((test_chars,test_labels_oh)).batch(32).prefetch(tf.data.AUTOTUNE)"
      ],
      "metadata": {
        "id": "OkQXDGjlacJf"
      },
      "execution_count": 59,
      "outputs": []
    },
    {
      "cell_type": "markdown",
      "source": [
        "Fit Model"
      ],
      "metadata": {
        "id": "PEKRpUIXYkzB"
      }
    },
    {
      "cell_type": "code",
      "source": [
        "#Fit model\n",
        "history_3 = model_3.fit(train_chars_dataset,\n",
        "                        steps_per_epoch=int(0.1*len(train_chars_dataset)),\n",
        "                        epochs=3,\n",
        "                        validation_data=valid_chars_dataset,\n",
        "                        validation_steps=int(0.1*len(valid_chars_dataset)),\n",
        "                        callbacks=[tensorboard_callback,model_checkpoint])\n"
      ],
      "metadata": {
        "colab": {
          "base_uri": "https://localhost:8080/"
        },
        "id": "VLFcCNmBYw9F",
        "outputId": "ce81d6ab-e978-441c-8513-bac4901df789"
      },
      "execution_count": 60,
      "outputs": [
        {
          "output_type": "stream",
          "name": "stdout",
          "text": [
            "Epoch 1/3\n",
            "557/562 [============================>.] - ETA: 0s - loss: 1.2625 - accuracy: 0.4881\n",
            "Epoch 1: val_accuracy did not improve from 0.80519\n",
            "562/562 [==============================] - 5s 7ms/step - loss: 1.2604 - accuracy: 0.4890 - val_loss: 1.0315 - val_accuracy: 0.5848\n",
            "Epoch 2/3\n",
            "558/562 [============================>.] - ETA: 0s - loss: 0.9951 - accuracy: 0.6018\n",
            "Epoch 2: val_accuracy did not improve from 0.80519\n",
            "562/562 [==============================] - 3s 5ms/step - loss: 0.9945 - accuracy: 0.6020 - val_loss: 0.9304 - val_accuracy: 0.6360\n",
            "Epoch 3/3\n",
            "553/562 [============================>.] - ETA: 0s - loss: 0.9146 - accuracy: 0.6392\n",
            "Epoch 3: val_accuracy did not improve from 0.80519\n",
            "562/562 [==============================] - 3s 5ms/step - loss: 0.9145 - accuracy: 0.6392 - val_loss: 0.8617 - val_accuracy: 0.6652\n"
          ]
        }
      ]
    },
    {
      "cell_type": "code",
      "source": [
        "pd.DataFrame(history_3.history).plot()"
      ],
      "metadata": {
        "colab": {
          "base_uri": "https://localhost:8080/",
          "height": 283
        },
        "id": "264Up1nGc5M9",
        "outputId": "4ef4b485-2208-4037-fcda-f695cd87130a"
      },
      "execution_count": 61,
      "outputs": [
        {
          "output_type": "execute_result",
          "data": {
            "text/plain": [
              "<matplotlib.axes._subplots.AxesSubplot at 0x7f6149ef1580>"
            ]
          },
          "metadata": {},
          "execution_count": 61
        },
        {
          "output_type": "display_data",
          "data": {
            "text/plain": [
              "<Figure size 432x288 with 1 Axes>"
            ],
            "image/png": "[encoded data removed]"
          },
          "metadata": {
            "needs_background": "light"
          }
        }
      ]
    },
    {
      "cell_type": "code",
      "source": [
        "model_3.evaluate(valid_chars_dataset)"
      ],
      "metadata": {
        "colab": {
          "base_uri": "https://localhost:8080/"
        },
        "id": "nbmxzY5QdGtJ",
        "outputId": "41c02426-2d8f-45e4-a1dd-a0f6b93901a8"
      },
      "execution_count": 62,
      "outputs": [
        {
          "output_type": "stream",
          "name": "stdout",
          "text": [
            "945/945 [==============================] - 3s 4ms/step - loss: 0.8768 - accuracy: 0.6603\n"
          ]
        },
        {
          "output_type": "execute_result",
          "data": {
            "text/plain": [
              "[0.8768468499183655, 0.6602674722671509]"
            ]
          },
          "metadata": {},
          "execution_count": 62
        }
      ]
    },
    {
      "cell_type": "code",
      "source": [
        "model_3_pred_probs = model_3.predict(val_chars)\n",
        "model_3_pred_probs[:3]"
      ],
      "metadata": {
        "colab": {
          "base_uri": "https://localhost:8080/"
        },
        "id": "WaDmatUAdNii",
        "outputId": "fe6d30ac-54c8-425d-8900-240406ddbe7c"
      },
      "execution_count": 63,
      "outputs": [
        {
          "output_type": "stream",
          "name": "stdout",
          "text": [
            "945/945 [==============================] - 3s 3ms/step\n"
          ]
        },
        {
          "output_type": "execute_result",
          "data": {
            "text/plain": [
              "array([[0.10488097, 0.36364636, 0.14662711, 0.25428954, 0.13055599],\n",
              "       [0.20434466, 0.620945  , 0.00822898, 0.15348823, 0.01299316],\n",
              "       [0.12739542, 0.25696108, 0.31510955, 0.24765468, 0.05287925]],\n",
              "      dtype=float32)"
            ]
          },
          "metadata": {},
          "execution_count": 63
        }
      ]
    },
    {
      "cell_type": "code",
      "source": [
        "model_3_predicts = tf.argmax(model_3_pred_probs,axis=1)\n",
        "model_3_predicts[:3]"
      ],
      "metadata": {
        "colab": {
          "base_uri": "https://localhost:8080/"
        },
        "id": "hJ75XUXZdWSs",
        "outputId": "71143da4-dfd4-45da-e7a6-76edbde8001a"
      },
      "execution_count": 64,
      "outputs": [
        {
          "output_type": "execute_result",
          "data": {
            "text/plain": [
              "<tf.Tensor: shape=(3,), dtype=int64, numpy=array([1, 1, 2])>"
            ]
          },
          "metadata": {},
          "execution_count": 64
        }
      ]
    },
    {
      "cell_type": "code",
      "source": [
        "#Calculate results of model 3\n",
        "model_3_results = hp.calculate_results(val_labels_encode,model_3_predicts)\n",
        "model_3_results"
      ],
      "metadata": {
        "colab": {
          "base_uri": "https://localhost:8080/"
        },
        "id": "PFBvRBtqdc_5",
        "outputId": "fffdd057-36c3-42e1-8e99-d459840f8503"
      },
      "execution_count": 66,
      "outputs": [
        {
          "output_type": "execute_result",
          "data": {
            "text/plain": [
              "{'accuracy': 66.02674433999735,\n",
              " 'precision': 0.6537841922701153,\n",
              " 'recall': 0.6602674433999736,\n",
              " 'f1': 0.650874811114498}"
            ]
          },
          "metadata": {},
          "execution_count": 66
        }
      ]
    },
    {
      "cell_type": "markdown",
      "source": [
        "# Model 4 : Combine pretrained token embeddings + character embeddings\n",
        "\n",
        "1. Create a token-level embedding Model\n",
        "2. Create a character-level model\n",
        "3. Combine both with concatenate layer (layers.Concatenate)\n",
        "4. Build a series of output layers on top of 3 similar to Figure 1 and 4.2 section of paper\n",
        "5. Construct model which takes both token and character embedding sequences as input and pred probas as output"
      ],
      "metadata": {
        "id": "pc-KlcTEdlrY"
      }
    },
    {
      "cell_type": "code",
      "source": [
        "#Dropout randomly exchanging to 0 values given part of inputs - for regularization - prevent overfitting\n",
        "from tensorflow.keras import layers\n",
        "import tensorflow as tf\n",
        "\n",
        "#1. Token-level embedding model\n",
        "token_inputs = layers.Input(shape=[],dtype=tf.string, name=\"token_input\")\n",
        "embedd_layer = feature_extractor(token_inputs)\n",
        "token_outputs = layers.Dense(128,activation=\"relu\")(embedd_layer)\n",
        "\n",
        "token_model = tf.keras.Model(token_inputs,token_outputs)\n",
        "\n",
        "#2. Character-level model\n",
        "char_inputs = layers.Input(shape=(1,),dtype=tf.string,name=\"char_input\")\n",
        "vectorization = char_vectorizer(char_inputs)\n",
        "embedding_chars = embedding_char_layer(vectorization)\n",
        "char_outputs = layers.Bidirectional(layers.LSTM(units=24))(embedding_chars)\n",
        "\n",
        "char_model = tf.keras.Model(char_inputs, char_outputs)\n",
        "\n",
        "#3.Combine both\n",
        "token_char_combine = layers.Concatenate(name=\"combine_char_token\")([token_model.output,char_model.output])\n",
        "\n",
        "#4. Build output layers\n",
        "dropout = layers.Dropout(0.5)(token_char_combine)\n",
        "x = layers.Dense(128,activation=\"relu\")(dropout)\n",
        "final_dropout = layers.Dropout(0.5)(x)\n",
        "end_outputs = layers.Dense(5,activation=\"softmax\")(final_dropout)\n",
        "\n",
        "model_4 = tf.keras.Model(inputs=[token_inputs,char_inputs],\n",
        "                         outputs=end_outputs,\n",
        "                         name=\"model_4_Combined\")\n",
        "\n",
        "model_4.summary()"
      ],
      "metadata": {
        "colab": {
          "base_uri": "https://localhost:8080/"
        },
        "id": "InFIgNh5eo9l",
        "outputId": "13fb32b1-770d-4244-ddff-fb436fa3371d"
      },
      "execution_count": 74,
      "outputs": [
        {
          "output_type": "stream",
          "name": "stdout",
          "text": [
            "Model: \"model_4_Combined\"\n",
            "__________________________________________________________________________________________________\n",
            " Layer (type)                   Output Shape         Param #     Connected to                     \n",
            "==================================================================================================\n",
            " char_input (InputLayer)        [(None, 1)]          0           []                               \n",
            "                                                                                                  \n",
            " token_input (InputLayer)       [(None,)]            0           []                               \n",
            "                                                                                                  \n",
            " text_vectorization_1 (TextVect  (None, 290)         0           ['char_input[0][0]']             \n",
            " orization)                                                                                       \n",
            "                                                                                                  \n",
            " keras_layer (KerasLayer)       (None, 512)          256797824   ['token_input[0][0]']            \n",
            "                                                                                                  \n",
            " embedding (Embedding)          (None, 290, 25)      700         ['text_vectorization_1[6][0]']   \n",
            "                                                                                                  \n",
            " dense_13 (Dense)               (None, 128)          65664       ['keras_layer[7][0]']            \n",
            "                                                                                                  \n",
            " bidirectional_5 (Bidirectional  (None, 48)          9600        ['embedding[6][0]']              \n",
            " )                                                                                                \n",
            "                                                                                                  \n",
            " combine_char_token (Concatenat  (None, 176)         0           ['dense_13[0][0]',               \n",
            " e)                                                               'bidirectional_5[0][0]']        \n",
            "                                                                                                  \n",
            " dropout_4 (Dropout)            (None, 176)          0           ['combine_char_token[0][0]']     \n",
            "                                                                                                  \n",
            " dense_14 (Dense)               (None, 128)          22656       ['dropout_4[0][0]']              \n",
            "                                                                                                  \n",
            " dropout_5 (Dropout)            (None, 128)          0           ['dense_14[0][0]']               \n",
            "                                                                                                  \n",
            " dense_15 (Dense)               (None, 5)            645         ['dropout_5[0][0]']              \n",
            "                                                                                                  \n",
            "==================================================================================================\n",
            "Total params: 256,897,089\n",
            "Trainable params: 99,265\n",
            "Non-trainable params: 256,797,824\n",
            "__________________________________________________________________________________________________\n"
          ]
        }
      ]
    },
    {
      "cell_type": "code",
      "source": [
        " from keras.utils import plot_model\n",
        " plot_model(model_4, show_shapes=True)"
      ],
      "metadata": {
        "colab": {
          "base_uri": "https://localhost:8080/",
          "height": 976
        },
        "id": "2xLFAu6XLmNN",
        "outputId": "14962576-a2ca-41da-a728-a70745ce047c"
      },
      "execution_count": 75,
      "outputs": [
        {
          "output_type": "execute_result",
          "data": {
            "image/png": "[encoded data removed]",
            "text/plain": [
              "<IPython.core.display.Image object>"
            ]
          },
          "metadata": {},
          "execution_count": 75
        }
      ]
    },
    {
      "cell_type": "markdown",
      "source": [
        "Compile Model"
      ],
      "metadata": {
        "id": "HkmdIEcuOrNQ"
      }
    },
    {
      "cell_type": "code",
      "source": [
        "model_4.compile(loss=\"categorical_crossentropy\",\n",
        "                optimizer=tf.keras.optimizers.Adam(),\n",
        "                metrics=[\"accuracy\"])"
      ],
      "metadata": {
        "id": "Gu-1VKuBOsoz"
      },
      "execution_count": 76,
      "outputs": []
    },
    {
      "cell_type": "markdown",
      "source": [
        "Preprocess data as multi-input tensorflow Datasets"
      ],
      "metadata": {
        "id": "6Mox-h3rMUax"
      }
    },
    {
      "cell_type": "code",
      "source": [
        "concatenated_train_data = tf.data.Dataset.from_tensor_slices((train_sentences,train_chars))\n",
        "concatenated_train_labels = tf.data.Dataset.from_tensor_slices((train_labels_oh))\n",
        "concatenated_train_dataset = tf.data.Dataset.zip((concatenated_train_data,concatenated_train_labels))#Combining tensorflow Datasets\n",
        "#Prefetch and make batches\n",
        "concatenated_train_dataset=concatenated_train_dataset.batch(32).prefetch(tf.data.AUTOTUNE)"
      ],
      "metadata": {
        "id": "GtUuh0dZM_w8"
      },
      "execution_count": 78,
      "outputs": []
    },
    {
      "cell_type": "code",
      "source": [
        "#Same for validation dataset\n",
        "concatenated_val_data = tf.data.Dataset.from_tensor_slices((val_sentences,val_chars))\n",
        "concatenated_val_labels = tf.data.Dataset.from_tensor_slices((val_labels_oh))\n",
        "concatenated_val_dataset = tf.data.Dataset.zip((concatenated_val_data,concatenated_val_labels))\n",
        "#Prefetch and make batches\n",
        "concatenated_val_dataset=concatenated_val_dataset.batch(32).prefetch(tf.data.AUTOTUNE)"
      ],
      "metadata": {
        "id": "K0jqO-AbP6AD"
      },
      "execution_count": 79,
      "outputs": []
    },
    {
      "cell_type": "code",
      "source": [
        "concatenated_train_dataset,concatenated_val_dataset"
      ],
      "metadata": {
        "colab": {
          "base_uri": "https://localhost:8080/"
        },
        "id": "NmWDcaJQQj7p",
        "outputId": "66ebd4e7-64ef-48f7-dc4d-b324d23e294b"
      },
      "execution_count": 80,
      "outputs": [
        {
          "output_type": "execute_result",
          "data": {
            "text/plain": [
              "(<PrefetchDataset element_spec=((TensorSpec(shape=(None,), dtype=tf.string, name=None), TensorSpec(shape=(None,), dtype=tf.string, name=None)), TensorSpec(shape=(None, 5), dtype=tf.float64, name=None))>,\n",
              " <PrefetchDataset element_spec=((TensorSpec(shape=(None,), dtype=tf.string, name=None), TensorSpec(shape=(None,), dtype=tf.string, name=None)), TensorSpec(shape=(None, 5), dtype=tf.float64, name=None))>)"
            ]
          },
          "metadata": {},
          "execution_count": 80
        }
      ]
    },
    {
      "cell_type": "markdown",
      "source": [
        "Fit the model"
      ],
      "metadata": {
        "id": "RuSGriOpQm_3"
      }
    },
    {
      "cell_type": "code",
      "source": [
        "history_4 = model_4.fit(concatenated_train_dataset,\n",
        "                        epochs=3,\n",
        "                        steps_per_epoch=int(0.1*len(concatenated_train_dataset)),\n",
        "                        validation_data=concatenated_val_dataset,\n",
        "                        validation_steps=int(0.1*len(concatenated_val_dataset)),\n",
        "                        callbacks=[tensorboard_callback,model_checkpoint])"
      ],
      "metadata": {
        "colab": {
          "base_uri": "https://localhost:8080/"
        },
        "id": "b5fOnCIOW16u",
        "outputId": "3c373429-90eb-47a0-9b3f-38b69545977b"
      },
      "execution_count": 84,
      "outputs": [
        {
          "output_type": "stream",
          "name": "stdout",
          "text": [
            "Epoch 1/3\n",
            "562/562 [==============================] - ETA: 0s - loss: 0.7987 - accuracy: 0.6947\n",
            "Epoch 1: val_accuracy did not improve from 0.80519\n",
            "562/562 [==============================] - 29s 51ms/step - loss: 0.7987 - accuracy: 0.6947 - val_loss: 0.7243 - val_accuracy: 0.7287\n",
            "Epoch 2/3\n",
            "562/562 [==============================] - ETA: 0s - loss: 0.7685 - accuracy: 0.7033\n",
            "Epoch 2: val_accuracy did not improve from 0.80519\n",
            "562/562 [==============================] - 29s 52ms/step - loss: 0.7685 - accuracy: 0.7033 - val_loss: 0.6935 - val_accuracy: 0.7327\n",
            "Epoch 3/3\n",
            "562/562 [==============================] - ETA: 0s - loss: 0.7554 - accuracy: 0.7105\n",
            "Epoch 3: val_accuracy did not improve from 0.80519\n",
            "562/562 [==============================] - 26s 47ms/step - loss: 0.7554 - accuracy: 0.7105 - val_loss: 0.6766 - val_accuracy: 0.7460\n"
          ]
        }
      ]
    },
    {
      "cell_type": "code",
      "source": [
        "model_4.evaluate(concatenated_val_dataset)"
      ],
      "metadata": {
        "colab": {
          "base_uri": "https://localhost:8080/"
        },
        "id": "EiNczYf_XPx4",
        "outputId": "28f3cf80-791b-4ad7-ee0c-5f51d81d30d1"
      },
      "execution_count": 86,
      "outputs": [
        {
          "output_type": "stream",
          "name": "stdout",
          "text": [
            "945/945 [==============================] - 21s 22ms/step - loss: 0.6805 - accuracy: 0.7422\n"
          ]
        },
        {
          "output_type": "execute_result",
          "data": {
            "text/plain": [
              "[0.6805249452590942, 0.7421554327011108]"
            ]
          },
          "metadata": {},
          "execution_count": 86
        }
      ]
    },
    {
      "cell_type": "code",
      "source": [
        "model_4_pred_probs=model_4.predict(concatenated_val_dataset) # ???????????????\n",
        "model_4_pred_probs"
      ],
      "metadata": {
        "colab": {
          "base_uri": "https://localhost:8080/"
        },
        "id": "kp9BmDUcYEF2",
        "outputId": "b78f4e68-5914-4dbd-a643-492965c80c23"
      },
      "execution_count": 88,
      "outputs": [
        {
          "output_type": "stream",
          "name": "stdout",
          "text": [
            "945/945 [==============================] - 22s 20ms/step\n"
          ]
        },
        {
          "output_type": "execute_result",
          "data": {
            "text/plain": [
              "array([[4.4122139e-01, 3.6761865e-01, 7.3298034e-03, 1.7486085e-01,\n",
              "        8.9694010e-03],\n",
              "       [3.7839827e-01, 4.8157936e-01, 3.7400282e-03, 1.3450138e-01,\n",
              "        1.7808923e-03],\n",
              "       [3.1655025e-01, 2.0348935e-01, 4.8855010e-02, 3.8364905e-01,\n",
              "        4.7456317e-02],\n",
              "       ...,\n",
              "       [3.1956896e-04, 4.7999159e-03, 3.8678616e-02, 2.1300574e-04,\n",
              "        9.5598894e-01],\n",
              "       [7.6643354e-03, 7.3098347e-02, 1.9274740e-01, 3.9447783e-03,\n",
              "        7.2254521e-01],\n",
              "       [3.0456677e-01, 5.5551124e-01, 8.8660955e-02, 2.7441654e-02,\n",
              "        2.3819346e-02]], dtype=float32)"
            ]
          },
          "metadata": {},
          "execution_count": 88
        }
      ]
    },
    {
      "cell_type": "code",
      "source": [
        "model_4_predicts = tf.argmax(model_4_pred_probs,axis=1)\n",
        "model_4_predicts[:5]"
      ],
      "metadata": {
        "colab": {
          "base_uri": "https://localhost:8080/"
        },
        "id": "wbibSjs2YTMH",
        "outputId": "f64fa924-7857-427e-a24b-ef2d5f165cd8"
      },
      "execution_count": 89,
      "outputs": [
        {
          "output_type": "execute_result",
          "data": {
            "text/plain": [
              "<tf.Tensor: shape=(5,), dtype=int64, numpy=array([0, 1, 3, 2, 2])>"
            ]
          },
          "metadata": {},
          "execution_count": 89
        }
      ]
    },
    {
      "cell_type": "code",
      "source": [
        "model_4_results = hp.calculate_results(val_labels_encode,model_4_predicts)\n",
        "model_4_results"
      ],
      "metadata": {
        "colab": {
          "base_uri": "https://localhost:8080/"
        },
        "id": "zDw4ACyyY6D4",
        "outputId": "25fd44f0-0ac3-475e-e9f0-e71577289088"
      },
      "execution_count": 91,
      "outputs": [
        {
          "output_type": "execute_result",
          "data": {
            "text/plain": [
              "{'accuracy': 74.21554349265193,\n",
              " 'precision': 0.7414971971880775,\n",
              " 'recall': 0.7421554349265193,\n",
              " 'f1': 0.7405509605708508}"
            ]
          },
          "metadata": {},
          "execution_count": 91
        }
      ]
    },
    {
      "cell_type": "code",
      "source": [],
      "metadata": {
        "id": "7HbMYU5DZdxJ"
      },
      "execution_count": null,
      "outputs": []
    }
  ]
}