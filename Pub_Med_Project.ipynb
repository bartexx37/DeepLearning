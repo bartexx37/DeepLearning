{
  "nbformat": 4,
  "nbformat_minor": 0,
  "metadata": {
    "colab": {
      "provenance": [],
      "authorship_tag": "ABX9TyPckzQThfs1IQIcINw6drUA",
      "include_colab_link": true
    },
    "kernelspec": {
      "name": "python3",
      "display_name": "Python 3"
    },
    "language_info": {
      "name": "python"
    },
    "accelerator": "GPU",
    "gpuClass": "standard"
  },
  "cells": [
    {
      "cell_type": "markdown",
      "metadata": {
        "id": "view-in-github",
        "colab_type": "text"
      },
      "source": [
        "<a href=\"https://colab.research.google.com/github/bartexx37/DeepLearning/blob/main/Pub_Med_Project.ipynb\" target=\"_parent\"><img src=\"https://colab.research.google.com/assets/colab-badge.svg\" alt=\"Open In Colab\"/></a>"
      ]
    },
    {
      "cell_type": "markdown",
      "source": [
        "#Sklimlit Project\n",
        "\n",
        "- Replicating paper : https://arxiv.org/pdf/1710.06071.pdf\n",
        "- Architecture for project : https://arxiv.org/pdf/1612.05251.pdf"
      ],
      "metadata": {
        "id": "z0-1_oXGF9eR"
      }
    },
    {
      "cell_type": "markdown",
      "source": [
        "#Confirm access to a GPU"
      ],
      "metadata": {
        "id": "xHZaWMZHGZQj"
      }
    },
    {
      "cell_type": "code",
      "source": [
        "!nvidia-smi -L"
      ],
      "metadata": {
        "colab": {
          "base_uri": "https://localhost:8080/"
        },
        "id": "wlePGMJnGsnW",
        "outputId": "94716182-b6d9-40eb-96e1-475c549ebec0"
      },
      "execution_count": 2,
      "outputs": [
        {
          "output_type": "stream",
          "name": "stdout",
          "text": [
            "NVIDIA-SMI has failed because it couldn't communicate with the NVIDIA driver. Make sure that the latest NVIDIA driver is installed and running.\n",
            "\n"
          ]
        }
      ]
    },
    {
      "cell_type": "code",
      "source": [
        "!wget https://raw.githubusercontent.com/mrdbourke/tensorflow-deep-learning/main/extras/helper_functions.py\n",
        "import helper_functions as hp"
      ],
      "metadata": {
        "colab": {
          "base_uri": "https://localhost:8080/"
        },
        "id": "Tk14QpXhW3XA",
        "outputId": "eafae1c5-fc2e-45a3-f54c-79556c592e82"
      },
      "execution_count": 3,
      "outputs": [
        {
          "output_type": "stream",
          "name": "stdout",
          "text": [
            "--2023-02-24 12:06:00--  https://raw.githubusercontent.com/mrdbourke/tensorflow-deep-learning/main/extras/helper_functions.py\n",
            "Resolving raw.githubusercontent.com (raw.githubusercontent.com)... 185.199.108.133, 185.199.109.133, 185.199.111.133, ...\n",
            "Connecting to raw.githubusercontent.com (raw.githubusercontent.com)|185.199.108.133|:443... connected.\n",
            "HTTP request sent, awaiting response... 200 OK\n",
            "Length: 10246 (10K) [text/plain]\n",
            "Saving to: ‘helper_functions.py’\n",
            "\n",
            "\rhelper_functions.py   0%[                    ]       0  --.-KB/s               \rhelper_functions.py 100%[===================>]  10.01K  --.-KB/s    in 0s      \n",
            "\n",
            "2023-02-24 12:06:00 (62.7 MB/s) - ‘helper_functions.py’ saved [10246/10246]\n",
            "\n"
          ]
        }
      ]
    },
    {
      "cell_type": "markdown",
      "source": [
        "# Get data\n",
        "\n",
        "- Dataset from PubMed 200k RCT, taking it from authors Github linked in paper: https://github.com/Franck-Dernoncourt/pubmed-rct\n",
        "\n",
        "- Dev.txt - another word in machine learning for calidation dataset\n"
      ],
      "metadata": {
        "id": "vwqxoImCGz0I"
      }
    },
    {
      "cell_type": "code",
      "source": [
        "!git clone https://github.com/Franck-Dernoncourt/pubmed-rct"
      ],
      "metadata": {
        "colab": {
          "base_uri": "https://localhost:8080/"
        },
        "id": "kiLUK9DxG-Gj",
        "outputId": "aeed3190-fd18-4710-ad60-4a779040d8cd"
      },
      "execution_count": 4,
      "outputs": [
        {
          "output_type": "stream",
          "name": "stdout",
          "text": [
            "Cloning into 'pubmed-rct'...\n",
            "remote: Enumerating objects: 33, done.\u001b[K\n",
            "remote: Counting objects: 100% (8/8), done.\u001b[K\n",
            "remote: Compressing objects: 100% (3/3), done.\u001b[K\n",
            "remote: Total 33 (delta 5), reused 5 (delta 5), pack-reused 25\u001b[K\n",
            "Unpacking objects: 100% (33/33), 177.08 MiB | 9.47 MiB/s, done.\n",
            "Updating files: 100% (13/13), done.\n"
          ]
        }
      ]
    },
    {
      "cell_type": "code",
      "source": [
        "!ls pubmed-rct"
      ],
      "metadata": {
        "colab": {
          "base_uri": "https://localhost:8080/"
        },
        "id": "8jWdVD_NO_ua",
        "outputId": "85c65de2-c613-4e7a-864e-5b1ce0265c99"
      },
      "execution_count": 5,
      "outputs": [
        {
          "output_type": "stream",
          "name": "stdout",
          "text": [
            "PubMed_200k_RCT\n",
            "PubMed_200k_RCT_numbers_replaced_with_at_sign\n",
            "PubMed_20k_RCT\n",
            "PubMed_20k_RCT_numbers_replaced_with_at_sign\n",
            "README.md\n"
          ]
        }
      ]
    },
    {
      "cell_type": "code",
      "source": [
        "!ls pubmed-rct/PubMed_20k_RCT_numbers_replaced_with_at_sign/\n",
        "'''\n",
        "There are 3 files:\n",
        "1. dev.txt - validation dataset\n",
        "2. test.txt - test dataset\n",
        "3. train.txt - train dataset\n",
        "'''"
      ],
      "metadata": {
        "colab": {
          "base_uri": "https://localhost:8080/",
          "height": 53
        },
        "id": "KdFrUiQ7PKaq",
        "outputId": "7617d62a-d932-43ed-9e16-d4ce34b21620"
      },
      "execution_count": 6,
      "outputs": [
        {
          "output_type": "stream",
          "name": "stdout",
          "text": [
            "dev.txt  test.txt  train.txt\n"
          ]
        },
        {
          "output_type": "execute_result",
          "data": {
            "text/plain": [
              "'\\nThere are 3 files:\\n1. dev.txt - validation dataset\\n2. test.txt - test dataset\\n3. train.txt - train dataset\\n'"
            ],
            "application/vnd.google.colaboratory.intrinsic+json": {
              "type": "string"
            }
          },
          "metadata": {},
          "execution_count": 6
        }
      ]
    },
    {
      "cell_type": "code",
      "source": [
        "import os\n",
        "data_dir = \"pubmed-rct/PubMed_20k_RCT_numbers_replaced_with_at_sign/\"\n",
        "filenames = [data_dir + filename for filename in os.listdir(data_dir)]\n",
        "filenames"
      ],
      "metadata": {
        "colab": {
          "base_uri": "https://localhost:8080/"
        },
        "id": "F490eODDPabN",
        "outputId": "862873f6-b9ea-4a61-d79a-e3392040899e"
      },
      "execution_count": 7,
      "outputs": [
        {
          "output_type": "execute_result",
          "data": {
            "text/plain": [
              "['pubmed-rct/PubMed_20k_RCT_numbers_replaced_with_at_sign/train.txt',\n",
              " 'pubmed-rct/PubMed_20k_RCT_numbers_replaced_with_at_sign/dev.txt',\n",
              " 'pubmed-rct/PubMed_20k_RCT_numbers_replaced_with_at_sign/test.txt']"
            ]
          },
          "metadata": {},
          "execution_count": 7
        }
      ]
    },
    {
      "cell_type": "markdown",
      "source": [
        "# Preprocessing Data"
      ],
      "metadata": {
        "id": "JNXCjmPkPzcQ"
      }
    },
    {
      "cell_type": "code",
      "source": [
        "def get_lines(filename):\n",
        "  '''\n",
        "  Reads filename (txt) returns list of lines\n",
        "\n",
        "  Args:\n",
        "    filename: a string containing target filepath\n",
        "  \n",
        "  Return: List of strings - one string per line\n",
        "  '''\n",
        "  with open(filename, \"r\") as f:\n",
        "    return f.readlines()"
      ],
      "metadata": {
        "id": "o3dtxUz4Rw3C"
      },
      "execution_count": 8,
      "outputs": []
    },
    {
      "cell_type": "markdown",
      "source": [
        "Get data in form of list of directories like :\n",
        "```\n",
        "[{'line_num': num,\n",
        "  'target': e.g. 'BACKGROUND',\n",
        "  'text': e.g  \"Pain was assessed using the visual analog pain scale ( @-@ mm ) .\\n\",\n",
        "  'num_of_lines': lines for one article},\n",
        "next sentences...]\n",
        "```"
      ],
      "metadata": {
        "id": "yXBr6ovVSYxU"
      }
    },
    {
      "cell_type": "code",
      "source": [
        "def preprocess_lines(filename):\n",
        "  lines = get_lines(filename) #Getting lines from filename\n",
        "  #Prepare text for learning\n",
        "  train_data=[]\n",
        "  j=0\n",
        "  for i,line in enumerate(lines):\n",
        "    if line.startswith(\"###\"):\n",
        "      for k,check_line in enumerate(lines[i:]):\n",
        "        if check_line.isspace():\n",
        "          break\n",
        "    elif line.isspace():\n",
        "      j=0\n",
        "    else:\n",
        "      train_data.append({'line_num': j,\n",
        "                        'target': line.split(\"\\t\")[0],\n",
        "                        'text': line.split(\"\\t\")[1][:-1].lower(),\n",
        "                        'num_of_lines':k-2})#Substracting 2 because of first ### line and last \"\\n\" line\n",
        "      j+=1\n",
        "  return train_data"
      ],
      "metadata": {
        "id": "rUUQOMXTUN5S"
      },
      "execution_count": 9,
      "outputs": []
    },
    {
      "cell_type": "code",
      "source": [
        "%%time\n",
        "\n",
        "train_samples = preprocess_lines(data_dir+\"train.txt\")\n",
        "val_samples = preprocess_lines(data_dir+\"dev.txt\")\n",
        "test_samples = preprocess_lines(data_dir+\"test.txt\")\n",
        "\n",
        "print(len(train_samples),len(val_samples),len(test_samples))"
      ],
      "metadata": {
        "colab": {
          "base_uri": "https://localhost:8080/"
        },
        "id": "WK7tboA32ekI",
        "outputId": "cadc5a0b-5008-41de-e226-51c3eb0c9386"
      },
      "execution_count": 10,
      "outputs": [
        {
          "output_type": "stream",
          "name": "stdout",
          "text": [
            "180040 30212 30135\n",
            "CPU times: user 25.5 s, sys: 306 ms, total: 25.8 s\n",
            "Wall time: 25.9 s\n"
          ]
        }
      ]
    },
    {
      "cell_type": "code",
      "source": [
        "train_samples[:14]"
      ],
      "metadata": {
        "colab": {
          "base_uri": "https://localhost:8080/"
        },
        "id": "YOISe5CSGRk4",
        "outputId": "4612d66e-6926-4397-d2a3-d85106ca0598"
      },
      "execution_count": 11,
      "outputs": [
        {
          "output_type": "execute_result",
          "data": {
            "text/plain": [
              "[{'line_num': 0,\n",
              "  'target': 'OBJECTIVE',\n",
              "  'text': 'to investigate the efficacy of @ weeks of daily low-dose oral prednisolone in improving pain , mobility , and systemic low-grade inflammation in the short term and whether the effect would be sustained at @ weeks in older adults with moderate to severe knee osteoarthritis ( oa ) .',\n",
              "  'num_of_lines': 11},\n",
              " {'line_num': 1,\n",
              "  'target': 'METHODS',\n",
              "  'text': 'a total of @ patients with primary knee oa were randomized @:@ ; @ received @ mg/day of prednisolone and @ received placebo for @ weeks .',\n",
              "  'num_of_lines': 11},\n",
              " {'line_num': 2,\n",
              "  'target': 'METHODS',\n",
              "  'text': 'outcome measures included pain reduction and improvement in function scores and systemic inflammation markers .',\n",
              "  'num_of_lines': 11},\n",
              " {'line_num': 3,\n",
              "  'target': 'METHODS',\n",
              "  'text': 'pain was assessed using the visual analog pain scale ( @-@ mm ) .',\n",
              "  'num_of_lines': 11},\n",
              " {'line_num': 4,\n",
              "  'target': 'METHODS',\n",
              "  'text': 'secondary outcome measures included the western ontario and mcmaster universities osteoarthritis index scores , patient global assessment ( pga ) of the severity of knee oa , and @-min walk distance ( @mwd ) .',\n",
              "  'num_of_lines': 11},\n",
              " {'line_num': 5,\n",
              "  'target': 'METHODS',\n",
              "  'text': 'serum levels of interleukin @ ( il-@ ) , il-@ , tumor necrosis factor ( tnf ) - , and high-sensitivity c-reactive protein ( hscrp ) were measured .',\n",
              "  'num_of_lines': 11},\n",
              " {'line_num': 6,\n",
              "  'target': 'RESULTS',\n",
              "  'text': 'there was a clinically relevant reduction in the intervention group compared to the placebo group for knee pain , physical function , pga , and @mwd at @ weeks .',\n",
              "  'num_of_lines': 11},\n",
              " {'line_num': 7,\n",
              "  'target': 'RESULTS',\n",
              "  'text': 'the mean difference between treatment arms ( @ % ci ) was @ ( @-@ @ ) , p < @ ; @ ( @-@ @ ) , p < @ ; @ ( @-@ @ ) , p < @ ; and @ ( @-@ @ ) , p < @ , respectively .',\n",
              "  'num_of_lines': 11},\n",
              " {'line_num': 8,\n",
              "  'target': 'RESULTS',\n",
              "  'text': 'further , there was a clinically relevant reduction in the serum levels of il-@ , il-@ , tnf - , and hscrp at @ weeks in the intervention group when compared to the placebo group .',\n",
              "  'num_of_lines': 11},\n",
              " {'line_num': 9,\n",
              "  'target': 'RESULTS',\n",
              "  'text': 'these differences remained significant at @ weeks .',\n",
              "  'num_of_lines': 11},\n",
              " {'line_num': 10,\n",
              "  'target': 'RESULTS',\n",
              "  'text': 'the outcome measures in rheumatology clinical trials-osteoarthritis research society international responder rate was @ % in the intervention group and @ % in the placebo group ( p < @ ) .',\n",
              "  'num_of_lines': 11},\n",
              " {'line_num': 11,\n",
              "  'target': 'CONCLUSIONS',\n",
              "  'text': 'low-dose oral prednisolone had both a short-term and a longer sustained effect resulting in less knee pain , better physical function , and attenuation of systemic inflammation in older patients with knee oa ( clinicaltrials.gov identifier nct@ ) .',\n",
              "  'num_of_lines': 11},\n",
              " {'line_num': 0,\n",
              "  'target': 'BACKGROUND',\n",
              "  'text': 'emotional eating is associated with overeating and the development of obesity .',\n",
              "  'num_of_lines': 10},\n",
              " {'line_num': 1,\n",
              "  'target': 'BACKGROUND',\n",
              "  'text': 'yet , empirical evidence for individual ( trait ) differences in emotional eating and cognitive mechanisms that contribute to eating during sad mood remain equivocal .',\n",
              "  'num_of_lines': 10}]"
            ]
          },
          "metadata": {},
          "execution_count": 11
        }
      ]
    },
    {
      "cell_type": "code",
      "source": [
        "import pandas as pd\n",
        "train_df = pd.DataFrame(train_samples)\n",
        "val_df = pd.DataFrame(val_samples)\n",
        "test_df = pd.DataFrame(test_samples)\n",
        "train_df.head(14)"
      ],
      "metadata": {
        "colab": {
          "base_uri": "https://localhost:8080/",
          "height": 488
        },
        "id": "WJC7_tI8IvHb",
        "outputId": "d3818f07-707d-4577-b9c8-82258e1c86be"
      },
      "execution_count": 12,
      "outputs": [
        {
          "output_type": "execute_result",
          "data": {
            "text/plain": [
              "    line_num       target                                               text  \\\n",
              "0          0    OBJECTIVE  to investigate the efficacy of @ weeks of dail...   \n",
              "1          1      METHODS  a total of @ patients with primary knee oa wer...   \n",
              "2          2      METHODS  outcome measures included pain reduction and i...   \n",
              "3          3      METHODS  pain was assessed using the visual analog pain...   \n",
              "4          4      METHODS  secondary outcome measures included the wester...   \n",
              "5          5      METHODS  serum levels of interleukin @ ( il-@ ) , il-@ ...   \n",
              "6          6      RESULTS  there was a clinically relevant reduction in t...   \n",
              "7          7      RESULTS  the mean difference between treatment arms ( @...   \n",
              "8          8      RESULTS  further , there was a clinically relevant redu...   \n",
              "9          9      RESULTS  these differences remained significant at @ we...   \n",
              "10        10      RESULTS  the outcome measures in rheumatology clinical ...   \n",
              "11        11  CONCLUSIONS  low-dose oral prednisolone had both a short-te...   \n",
              "12         0   BACKGROUND  emotional eating is associated with overeating...   \n",
              "13         1   BACKGROUND  yet , empirical evidence for individual ( trai...   \n",
              "\n",
              "    num_of_lines  \n",
              "0             11  \n",
              "1             11  \n",
              "2             11  \n",
              "3             11  \n",
              "4             11  \n",
              "5             11  \n",
              "6             11  \n",
              "7             11  \n",
              "8             11  \n",
              "9             11  \n",
              "10            11  \n",
              "11            11  \n",
              "12            10  \n",
              "13            10  "
            ],
            "text/html": [
              "\n",
              "  <div id=\"df-64e7a2b0-058b-45c2-a136-7f7dc6f18c14\">\n",
              "    <div class=\"colab-df-container\">\n",
              "      <div>\n",
              "<style scoped>\n",
              "    .dataframe tbody tr th:only-of-type {\n",
              "        vertical-align: middle;\n",
              "    }\n",
              "\n",
              "    .dataframe tbody tr th {\n",
              "        vertical-align: top;\n",
              "    }\n",
              "\n",
              "    .dataframe thead th {\n",
              "        text-align: right;\n",
              "    }\n",
              "</style>\n",
              "<table border=\"1\" class=\"dataframe\">\n",
              "  <thead>\n",
              "    <tr style=\"text-align: right;\">\n",
              "      <th></th>\n",
              "      <th>line_num</th>\n",
              "      <th>target</th>\n",
              "      <th>text</th>\n",
              "      <th>num_of_lines</th>\n",
              "    </tr>\n",
              "  </thead>\n",
              "  <tbody>\n",
              "    <tr>\n",
              "      <th>0</th>\n",
              "      <td>0</td>\n",
              "      <td>OBJECTIVE</td>\n",
              "      <td>to investigate the efficacy of @ weeks of dail...</td>\n",
              "      <td>11</td>\n",
              "    </tr>\n",
              "    <tr>\n",
              "      <th>1</th>\n",
              "      <td>1</td>\n",
              "      <td>METHODS</td>\n",
              "      <td>a total of @ patients with primary knee oa wer...</td>\n",
              "      <td>11</td>\n",
              "    </tr>\n",
              "    <tr>\n",
              "      <th>2</th>\n",
              "      <td>2</td>\n",
              "      <td>METHODS</td>\n",
              "      <td>outcome measures included pain reduction and i...</td>\n",
              "      <td>11</td>\n",
              "    </tr>\n",
              "    <tr>\n",
              "      <th>3</th>\n",
              "      <td>3</td>\n",
              "      <td>METHODS</td>\n",
              "      <td>pain was assessed using the visual analog pain...</td>\n",
              "      <td>11</td>\n",
              "    </tr>\n",
              "    <tr>\n",
              "      <th>4</th>\n",
              "      <td>4</td>\n",
              "      <td>METHODS</td>\n",
              "      <td>secondary outcome measures included the wester...</td>\n",
              "      <td>11</td>\n",
              "    </tr>\n",
              "    <tr>\n",
              "      <th>5</th>\n",
              "      <td>5</td>\n",
              "      <td>METHODS</td>\n",
              "      <td>serum levels of interleukin @ ( il-@ ) , il-@ ...</td>\n",
              "      <td>11</td>\n",
              "    </tr>\n",
              "    <tr>\n",
              "      <th>6</th>\n",
              "      <td>6</td>\n",
              "      <td>RESULTS</td>\n",
              "      <td>there was a clinically relevant reduction in t...</td>\n",
              "      <td>11</td>\n",
              "    </tr>\n",
              "    <tr>\n",
              "      <th>7</th>\n",
              "      <td>7</td>\n",
              "      <td>RESULTS</td>\n",
              "      <td>the mean difference between treatment arms ( @...</td>\n",
              "      <td>11</td>\n",
              "    </tr>\n",
              "    <tr>\n",
              "      <th>8</th>\n",
              "      <td>8</td>\n",
              "      <td>RESULTS</td>\n",
              "      <td>further , there was a clinically relevant redu...</td>\n",
              "      <td>11</td>\n",
              "    </tr>\n",
              "    <tr>\n",
              "      <th>9</th>\n",
              "      <td>9</td>\n",
              "      <td>RESULTS</td>\n",
              "      <td>these differences remained significant at @ we...</td>\n",
              "      <td>11</td>\n",
              "    </tr>\n",
              "    <tr>\n",
              "      <th>10</th>\n",
              "      <td>10</td>\n",
              "      <td>RESULTS</td>\n",
              "      <td>the outcome measures in rheumatology clinical ...</td>\n",
              "      <td>11</td>\n",
              "    </tr>\n",
              "    <tr>\n",
              "      <th>11</th>\n",
              "      <td>11</td>\n",
              "      <td>CONCLUSIONS</td>\n",
              "      <td>low-dose oral prednisolone had both a short-te...</td>\n",
              "      <td>11</td>\n",
              "    </tr>\n",
              "    <tr>\n",
              "      <th>12</th>\n",
              "      <td>0</td>\n",
              "      <td>BACKGROUND</td>\n",
              "      <td>emotional eating is associated with overeating...</td>\n",
              "      <td>10</td>\n",
              "    </tr>\n",
              "    <tr>\n",
              "      <th>13</th>\n",
              "      <td>1</td>\n",
              "      <td>BACKGROUND</td>\n",
              "      <td>yet , empirical evidence for individual ( trai...</td>\n",
              "      <td>10</td>\n",
              "    </tr>\n",
              "  </tbody>\n",
              "</table>\n",
              "</div>\n",
              "      <button class=\"colab-df-convert\" onclick=\"convertToInteractive('df-64e7a2b0-058b-45c2-a136-7f7dc6f18c14')\"\n",
              "              title=\"Convert this dataframe to an interactive table.\"\n",
              "              style=\"display:none;\">\n",
              "        \n",
              "  <svg xmlns=\"http://www.w3.org/2000/svg\" height=\"24px\"viewBox=\"0 0 24 24\"\n",
              "       width=\"24px\">\n",
              "    <path d=\"M0 0h24v24H0V0z\" fill=\"none\"/>\n",
              "    <path d=\"M18.56 5.44l.94 2.06.94-2.06 2.06-.94-2.06-.94-.94-2.06-.94 2.06-2.06.94zm-11 1L8.5 8.5l.94-2.06 2.06-.94-2.06-.94L8.5 2.5l-.94 2.06-2.06.94zm10 10l.94 2.06.94-2.06 2.06-.94-2.06-.94-.94-2.06-.94 2.06-2.06.94z\"/><path d=\"M17.41 7.96l-1.37-1.37c-.4-.4-.92-.59-1.43-.59-.52 0-1.04.2-1.43.59L10.3 9.45l-7.72 7.72c-.78.78-.78 2.05 0 2.83L4 21.41c.39.39.9.59 1.41.59.51 0 1.02-.2 1.41-.59l7.78-7.78 2.81-2.81c.8-.78.8-2.07 0-2.86zM5.41 20L4 18.59l7.72-7.72 1.47 1.35L5.41 20z\"/>\n",
              "  </svg>\n",
              "      </button>\n",
              "      \n",
              "  <style>\n",
              "    .colab-df-container {\n",
              "      display:flex;\n",
              "      flex-wrap:wrap;\n",
              "      gap: 12px;\n",
              "    }\n",
              "\n",
              "    .colab-df-convert {\n",
              "      background-color: #E8F0FE;\n",
              "      border: none;\n",
              "      border-radius: 50%;\n",
              "      cursor: pointer;\n",
              "      display: none;\n",
              "      fill: #1967D2;\n",
              "      height: 32px;\n",
              "      padding: 0 0 0 0;\n",
              "      width: 32px;\n",
              "    }\n",
              "\n",
              "    .colab-df-convert:hover {\n",
              "      background-color: #E2EBFA;\n",
              "      box-shadow: 0px 1px 2px rgba(60, 64, 67, 0.3), 0px 1px 3px 1px rgba(60, 64, 67, 0.15);\n",
              "      fill: #174EA6;\n",
              "    }\n",
              "\n",
              "    [theme=dark] .colab-df-convert {\n",
              "      background-color: #3B4455;\n",
              "      fill: #D2E3FC;\n",
              "    }\n",
              "\n",
              "    [theme=dark] .colab-df-convert:hover {\n",
              "      background-color: #434B5C;\n",
              "      box-shadow: 0px 1px 3px 1px rgba(0, 0, 0, 0.15);\n",
              "      filter: drop-shadow(0px 1px 2px rgba(0, 0, 0, 0.3));\n",
              "      fill: #FFFFFF;\n",
              "    }\n",
              "  </style>\n",
              "\n",
              "      <script>\n",
              "        const buttonEl =\n",
              "          document.querySelector('#df-64e7a2b0-058b-45c2-a136-7f7dc6f18c14 button.colab-df-convert');\n",
              "        buttonEl.style.display =\n",
              "          google.colab.kernel.accessAllowed ? 'block' : 'none';\n",
              "\n",
              "        async function convertToInteractive(key) {\n",
              "          const element = document.querySelector('#df-64e7a2b0-058b-45c2-a136-7f7dc6f18c14');\n",
              "          const dataTable =\n",
              "            await google.colab.kernel.invokeFunction('convertToInteractive',\n",
              "                                                     [key], {});\n",
              "          if (!dataTable) return;\n",
              "\n",
              "          const docLinkHtml = 'Like what you see? Visit the ' +\n",
              "            '<a target=\"_blank\" href=https://colab.research.google.com/notebooks/data_table.ipynb>data table notebook</a>'\n",
              "            + ' to learn more about interactive tables.';\n",
              "          element.innerHTML = '';\n",
              "          dataTable['output_type'] = 'display_data';\n",
              "          await google.colab.output.renderOutput(dataTable, element);\n",
              "          const docLink = document.createElement('div');\n",
              "          docLink.innerHTML = docLinkHtml;\n",
              "          element.appendChild(docLink);\n",
              "        }\n",
              "      </script>\n",
              "    </div>\n",
              "  </div>\n",
              "  "
            ]
          },
          "metadata": {},
          "execution_count": 12
        }
      ]
    },
    {
      "cell_type": "code",
      "source": [
        "#Distribution of labels\n",
        "train_df.target.value_counts()"
      ],
      "metadata": {
        "colab": {
          "base_uri": "https://localhost:8080/"
        },
        "id": "kG7rpjy9KQRp",
        "outputId": "20a07ded-ece8-4e65-ed14-e52c41e9b5d0"
      },
      "execution_count": 13,
      "outputs": [
        {
          "output_type": "execute_result",
          "data": {
            "text/plain": [
              "METHODS        59353\n",
              "RESULTS        57953\n",
              "CONCLUSIONS    27168\n",
              "BACKGROUND     21727\n",
              "OBJECTIVE      13839\n",
              "Name: target, dtype: int64"
            ]
          },
          "metadata": {},
          "execution_count": 13
        }
      ]
    },
    {
      "cell_type": "code",
      "source": [
        "#Distribution of lenght of different lines\n",
        "train_df.num_of_lines.plot.hist();"
      ],
      "metadata": {
        "colab": {
          "base_uri": "https://localhost:8080/",
          "height": 267
        },
        "id": "3R2l-FcmK7OT",
        "outputId": "64db5334-d22c-44ea-81da-401cefcf0285"
      },
      "execution_count": 14,
      "outputs": [
        {
          "output_type": "display_data",
          "data": {
            "text/plain": [
              "<Figure size 432x288 with 1 Axes>"
            ],
            "image/png": "[encoded data removed]"
          },
          "metadata": {
            "needs_background": "light"
          }
        }
      ]
    },
    {
      "cell_type": "markdown",
      "source": [
        "#List of sentences"
      ],
      "metadata": {
        "id": "Yq36dvEILM2Y"
      }
    },
    {
      "cell_type": "code",
      "source": [
        "#Making data ready to learning\n",
        "train_sentences = train_df[\"text\"].tolist()\n",
        "val_sentences=val_df[\"text\"].tolist()\n",
        "test_sentences=test_df[\"text\"].tolist()\n",
        "len(train_sentences),len(val_sentences),len(test_sentences)"
      ],
      "metadata": {
        "colab": {
          "base_uri": "https://localhost:8080/"
        },
        "id": "KNazW2gULajz",
        "outputId": "734cc73b-8e93-4198-b430-b7f7c3eb5d4c"
      },
      "execution_count": 15,
      "outputs": [
        {
          "output_type": "execute_result",
          "data": {
            "text/plain": [
              "(180040, 30212, 30135)"
            ]
          },
          "metadata": {},
          "execution_count": 15
        }
      ]
    },
    {
      "cell_type": "code",
      "source": [
        "# Make labels numeric for ML models\n",
        "import tensorflow as tf\n",
        "from sklearn.preprocessing import OneHotEncoder\n",
        "ohc = OneHotEncoder(sparse=False)\n",
        "train_labels_oh = tf.constant(ohc.fit_transform(train_df[\"target\"].to_numpy().reshape(-1,1)))#Fit only to train data\n",
        "val_labels_oh = tf.constant(ohc.transform(val_df[\"target\"].to_numpy().reshape(-1,1)))\n",
        "test_labels_oh = tf.constant(ohc.transform(test_df[\"target\"].to_numpy().reshape(-1,1)))\n",
        "train_labels_oh, len(train_labels_oh)"
      ],
      "metadata": {
        "colab": {
          "base_uri": "https://localhost:8080/"
        },
        "id": "_Sv5IoT6Lybt",
        "outputId": "53f24f5d-1efa-45b9-be03-a92383afa2aa"
      },
      "execution_count": 16,
      "outputs": [
        {
          "output_type": "execute_result",
          "data": {
            "text/plain": [
              "(<tf.Tensor: shape=(180040, 5), dtype=float64, numpy=\n",
              " array([[0., 0., 0., 1., 0.],\n",
              "        [0., 0., 1., 0., 0.],\n",
              "        [0., 0., 1., 0., 0.],\n",
              "        ...,\n",
              "        [0., 0., 0., 0., 1.],\n",
              "        [0., 1., 0., 0., 0.],\n",
              "        [0., 1., 0., 0., 0.]])>, 180040)"
            ]
          },
          "metadata": {},
          "execution_count": 16
        }
      ]
    },
    {
      "cell_type": "code",
      "source": [
        "#Cand also encode labels\n",
        "from sklearn.preprocessing import LabelEncoder\n",
        "label_encoder = LabelEncoder()\n",
        "train_labels_encode = label_encoder.fit_transform(train_df[\"target\"].to_numpy())\n",
        "val_labels_encode = label_encoder.transform(val_df[\"target\"].to_numpy())\n",
        "test_labels_encode = label_encoder.transform(test_df[\"target\"].to_numpy())\n",
        "train_labels_encode,len(train_labels_encode)"
      ],
      "metadata": {
        "colab": {
          "base_uri": "https://localhost:8080/"
        },
        "id": "U2Z6gyW-RQKB",
        "outputId": "1283876a-15ea-4337-d720-2f8bc4da2157"
      },
      "execution_count": 17,
      "outputs": [
        {
          "output_type": "execute_result",
          "data": {
            "text/plain": [
              "(array([3, 2, 2, ..., 4, 1, 1]), 180040)"
            ]
          },
          "metadata": {},
          "execution_count": 17
        }
      ]
    },
    {
      "cell_type": "code",
      "source": [
        "#Get class names and number of them\n",
        "num_classes = len(label_encoder.classes_)\n",
        "class_names = label_encoder.classes_\n",
        "num_classes, class_names\n"
      ],
      "metadata": {
        "colab": {
          "base_uri": "https://localhost:8080/"
        },
        "id": "YYtTf9LHRR-o",
        "outputId": "1a237eb0-35de-481a-dc64-1c37483ce30e"
      },
      "execution_count": 18,
      "outputs": [
        {
          "output_type": "execute_result",
          "data": {
            "text/plain": [
              "(5, array(['BACKGROUND', 'CONCLUSIONS', 'METHODS', 'OBJECTIVE', 'RESULTS'],\n",
              "       dtype=object))"
            ]
          },
          "metadata": {},
          "execution_count": 18
        }
      ]
    },
    {
      "cell_type": "markdown",
      "source": [
        "## MODEL 0 - Naive Bayes as baseline\n",
        "\n",
        "-  Multinomial"
      ],
      "metadata": {
        "id": "VU2J3YTNTjrJ"
      }
    },
    {
      "cell_type": "code",
      "source": [
        "from sklearn.naive_bayes import MultinomialNB, GaussianNB\n",
        "from sklearn.pipeline import Pipeline\n",
        "from sklearn.feature_extraction.text import TfidfVectorizer\n",
        "#Build\n",
        "model_0 = Pipeline([('tf-idf', TfidfVectorizer()),\n",
        "                    ('clf', MultinomialNB())])\n",
        "model_0.fit(train_sentences,train_labels_encode)"
      ],
      "metadata": {
        "colab": {
          "base_uri": "https://localhost:8080/"
        },
        "id": "y683sST7UT7n",
        "outputId": "b727ab18-ebe9-447c-a72b-9d33405a873b"
      },
      "execution_count": null,
      "outputs": [
        {
          "output_type": "execute_result",
          "data": {
            "text/plain": [
              "Pipeline(steps=[('tf-idf', TfidfVectorizer()), ('clf', MultinomialNB())])"
            ]
          },
          "metadata": {},
          "execution_count": 21
        }
      ]
    },
    {
      "cell_type": "code",
      "source": [
        "#Evaluate\n",
        "model_0.score(X=val_sentences,y=val_labels_encode)"
      ],
      "metadata": {
        "colab": {
          "base_uri": "https://localhost:8080/"
        },
        "id": "Inr5m2WCVDSv",
        "outputId": "3667693b-afe3-42ce-9698-b387419946f5"
      },
      "execution_count": null,
      "outputs": [
        {
          "output_type": "execute_result",
          "data": {
            "text/plain": [
              "0.7218323844829869"
            ]
          },
          "metadata": {},
          "execution_count": 22
        }
      ]
    },
    {
      "cell_type": "code",
      "source": [
        "#Making predictions and gettign evaluation metrics\n",
        "model_0_predictions = model_0.predict(val_sentences)\n",
        "model_0_results = hp.calculate_results(val_labels_encode,model_0_predictions)\n",
        "model_0_results"
      ],
      "metadata": {
        "colab": {
          "base_uri": "https://localhost:8080/"
        },
        "id": "Yyl_zCtdWU8e",
        "outputId": "d4866f73-6ae8-43e5-eee0-17152765bd64"
      },
      "execution_count": null,
      "outputs": [
        {
          "output_type": "execute_result",
          "data": {
            "text/plain": [
              "{'accuracy': 72.1832384482987,\n",
              " 'precision': 0.7186466952323352,\n",
              " 'recall': 0.7218323844829869,\n",
              " 'f1': 0.6989250353450294}"
            ]
          },
          "metadata": {},
          "execution_count": 23
        }
      ]
    },
    {
      "cell_type": "markdown",
      "source": [
        "# Preparing data for deep learning\n",
        "\n",
        "- Tokenization, Word Embedding"
      ],
      "metadata": {
        "id": "AYQ8UocgXzul"
      }
    },
    {
      "cell_type": "code",
      "source": [
        "#Length of sentences average\n",
        "import numpy as np\n",
        "sentence_lengths =  [len(sentence.split()) for sentence in train_sentences]\n",
        "avg_length = np.mean(sentence_lengths)\n",
        "max_length = np.max(sentence_lengths)\n",
        "avg_length, max_length "
      ],
      "metadata": {
        "colab": {
          "base_uri": "https://localhost:8080/"
        },
        "id": "XI-aT8_uFGRp",
        "outputId": "6cd9a10b-da73-4752-e785-4557859f46bf"
      },
      "execution_count": 19,
      "outputs": [
        {
          "output_type": "execute_result",
          "data": {
            "text/plain": [
              "(26.338269273494777, 296)"
            ]
          },
          "metadata": {},
          "execution_count": 19
        }
      ]
    },
    {
      "cell_type": "code",
      "source": [
        "import matplotlib.pyplot as plt\n",
        "plt.hist(sentence_lengths,bins=25);"
      ],
      "metadata": {
        "colab": {
          "base_uri": "https://localhost:8080/",
          "height": 265
        },
        "id": "fwMjGX83GJbq",
        "outputId": "a3f524a1-f141-48dd-a746-16eaf5eea57f"
      },
      "execution_count": 20,
      "outputs": [
        {
          "output_type": "display_data",
          "data": {
            "text/plain": [
              "<Figure size 432x288 with 1 Axes>"
            ],
            "image/png": "[encoded data removed]"
          },
          "metadata": {
            "needs_background": "light"
          }
        }
      ]
    },
    {
      "cell_type": "code",
      "source": [
        "percentile_sent = int(np.percentile(sentence_lengths,95))\n",
        "percentile_sent\n",
        "#95% is under 55 length"
      ],
      "metadata": {
        "colab": {
          "base_uri": "https://localhost:8080/"
        },
        "id": "nHKZyTiVGUpD",
        "outputId": "660a9364-3f99-42cc-efb5-8362d8e07161"
      },
      "execution_count": 21,
      "outputs": [
        {
          "output_type": "execute_result",
          "data": {
            "text/plain": [
              "55"
            ]
          },
          "metadata": {},
          "execution_count": 21
        }
      ]
    },
    {
      "cell_type": "markdown",
      "source": [
        "Use length of 55 then as length of sequences for vectorization and embedding\n",
        "\n",
        "Also taking from paper given at the beggining, max tokens will be set as an amount of words in 20K PubMed DataSet"
      ],
      "metadata": {
        "id": "5lUw09CNHGfn"
      }
    },
    {
      "cell_type": "code",
      "source": [
        "import tensorflow as tf\n",
        "from tensorflow.keras.layers.experimental.preprocessing import TextVectorization\n",
        "from tensorflow.keras.layers import Embedding\n",
        "\n",
        "max_tokens = 68000\n",
        "sequence_length = percentile_sent\n",
        "\n",
        "#Text Vectorizer layer \n",
        "text_vectorizer = TextVectorization(max_tokens = max_tokens,\n",
        "                                    output_mode = \"int\",\n",
        "                                    output_sequence_length=sequence_length)"
      ],
      "metadata": {
        "id": "xG0ES-KBD06T"
      },
      "execution_count": 22,
      "outputs": []
    },
    {
      "cell_type": "code",
      "source": [
        "#Adapt text vectorizer to train_data\n",
        "text_vectorizer.adapt(train_sentences)"
      ],
      "metadata": {
        "id": "Sffoe2CFEZOz"
      },
      "execution_count": 23,
      "outputs": []
    },
    {
      "cell_type": "code",
      "source": [
        "#Test text vectorizer\n",
        "import random\n",
        "target_sentence = random.choice(train_sentences)\n",
        "print(f\"Text:\\n{target_sentence}\")\n",
        "print(f\"\\nlength = {len(target_sentence.split())}\")\n",
        "print(f\"\\nText:\\n{text_vectorizer([target_sentence])}\")"
      ],
      "metadata": {
        "colab": {
          "base_uri": "https://localhost:8080/"
        },
        "id": "kNLF_fLeJHOT",
        "outputId": "6beeb1e2-e87a-4766-be6e-6763298828d2"
      },
      "execution_count": 24,
      "outputs": [
        {
          "output_type": "stream",
          "name": "stdout",
          "text": [
            "Text:\n",
            "this randomized , double-blind phase @ trial compared apf@ and palonosetron in preventing acute and delayed cinv after moderately ( mec ) or highly emetogenic chemotherapy ( hec ) .\n",
            "\n",
            "length = 30\n",
            "\n",
            "Text:\n",
            "[[   23    29   236   209    32    34 10875     3  7818     5  1126   229\n",
            "      3  1013  8961    21  2820 15773    16   862 12148   415 13269     0\n",
            "      0     0     0     0     0     0     0     0     0     0     0     0\n",
            "      0     0     0     0     0     0     0     0     0     0     0     0\n",
            "      0     0     0     0     0     0     0]]\n"
          ]
        }
      ]
    },
    {
      "cell_type": "code",
      "source": [
        "pubMed_20k_vocab = text_vectorizer.get_vocabulary()\n",
        "print(f\"Len of Vocabulary: {len(pubMed_20k_vocab)}\\n\")\n",
        "print(f\"Most Common:\\n{pubMed_20k_vocab[:5]}\")\n",
        "print(f\"\\nRare:\\n{pubMed_20k_vocab[-5:]}\")"
      ],
      "metadata": {
        "colab": {
          "base_uri": "https://localhost:8080/"
        },
        "id": "mvMxBK23T4eZ",
        "outputId": "488fc7ee-e54c-4847-fb82-d84c92d65e78"
      },
      "execution_count": 25,
      "outputs": [
        {
          "output_type": "stream",
          "name": "stdout",
          "text": [
            "Len of Vocabulary: 64841\n",
            "\n",
            "Most Common:\n",
            "['', '[UNK]', 'the', 'and', 'of']\n",
            "\n",
            "Rare:\n",
            "['aainduced', 'aaigroup', 'aachener', 'aachen', 'aaacp']\n"
          ]
        }
      ]
    },
    {
      "cell_type": "code",
      "source": [
        "embedding_layer = Embedding(input_dim=len(pubMed_20k_vocab),\n",
        "                            output_dim=128,\n",
        "                            mask_zero=True, #It will mask out zeros - A lot of special 'padding' - thank to this - more efficient,\n",
        "                            name=\"embedding_layer\" \n",
        "                            )"
      ],
      "metadata": {
        "id": "5M1Vf8J8Ju00"
      },
      "execution_count": 26,
      "outputs": []
    },
    {
      "cell_type": "code",
      "source": [
        "#Check random samples going through embedding\n",
        "import random\n",
        "target_sentence = random.choice(train_sentences)\n",
        "print(f\"Text:\\n{target_sentence}\")\n",
        "print(f\"\\nVectorized Text:\\n{text_vectorizer([target_sentence])}\")\n",
        "print(f\"\\nEmbedded Text{embedding_layer(text_vectorizer([target_sentence]))}\")\n",
        "print(f\"\\nShape of embedded text:{embedding_layer(text_vectorizer([target_sentence])).shape} \")"
      ],
      "metadata": {
        "colab": {
          "base_uri": "https://localhost:8080/"
        },
        "id": "rqXxE2fjUlsa",
        "outputId": "31476284-68fa-490b-bdd5-c2d26ebcd8d6"
      },
      "execution_count": null,
      "outputs": [
        {
          "output_type": "stream",
          "name": "stdout",
          "text": [
            "Text:\n",
            "the trial is registered with clinical trial registry-india ( ctri/@/@ / @ ) and clinicaltrials.gov ( nct@ ) .\n",
            "\n",
            "Vectorized Text:\n",
            "[[    2    32    20   394     7    47    32 19744  7246     3   275   176\n",
            "      0     0     0     0     0     0     0     0     0     0     0     0\n",
            "      0     0     0     0     0     0     0     0     0     0     0     0\n",
            "      0     0     0     0     0     0     0     0     0     0     0     0\n",
            "      0     0     0     0     0     0     0]]\n",
            "\n",
            "Embedded Text[[[-0.02745211  0.04366327 -0.01287667 ...  0.04601804 -0.04724169\n",
            "   -0.0485201 ]\n",
            "  [-0.02836732  0.04168599  0.0405564  ... -0.04337115  0.0387206\n",
            "    0.01289013]\n",
            "  [-0.03209452  0.01228761  0.0237206  ... -0.00418018 -0.01968961\n",
            "    0.02943346]\n",
            "  ...\n",
            "  [ 0.00424714  0.04387765  0.03675172 ... -0.04776631 -0.04390858\n",
            "    0.01003446]\n",
            "  [ 0.00424714  0.04387765  0.03675172 ... -0.04776631 -0.04390858\n",
            "    0.01003446]\n",
            "  [ 0.00424714  0.04387765  0.03675172 ... -0.04776631 -0.04390858\n",
            "    0.01003446]]]\n",
            "\n",
            "Shape of embedded text:(1, 55, 128) \n"
          ]
        }
      ]
    },
    {
      "cell_type": "markdown",
      "source": [
        "## Creating dataset - using tf.data APi\n",
        "- making as efficient as possible\n",
        "\n",
        "https://www.tensorflow.org/guide/data?hl=pl\n",
        "\n"
      ],
      "metadata": {
        "id": "ZUdUcpedVTmt"
      }
    },
    {
      "cell_type": "code",
      "source": [
        "#Turn list and numpy array to TensorflowSliceDataset\n",
        "train_dataset = tf.data.Dataset.from_tensor_slices((train_sentences,train_labels_oh))\n",
        "valid_dataset = tf.data.Dataset.from_tensor_slices((val_sentences,val_labels_oh))\n",
        "test_dataset = tf.data.Dataset.from_tensor_slices((test_sentences,test_labels_oh))\n",
        "train_dataset"
      ],
      "metadata": {
        "colab": {
          "base_uri": "https://localhost:8080/"
        },
        "id": "COUoPas5WXvq",
        "outputId": "5013f3ec-8224-4be5-d721-93282e802eea"
      },
      "execution_count": 27,
      "outputs": [
        {
          "output_type": "execute_result",
          "data": {
            "text/plain": [
              "<TensorSliceDataset element_spec=(TensorSpec(shape=(), dtype=tf.string, name=None), TensorSpec(shape=(5,), dtype=tf.float64, name=None))>"
            ]
          },
          "metadata": {},
          "execution_count": 27
        }
      ]
    },
    {
      "cell_type": "code",
      "source": [
        "train_labels_oh.shape"
      ],
      "metadata": {
        "colab": {
          "base_uri": "https://localhost:8080/"
        },
        "id": "wmE6O6AGXLhr",
        "outputId": "b02d2bce-e461-4255-9911-77b9d1972c12"
      },
      "execution_count": 28,
      "outputs": [
        {
          "output_type": "execute_result",
          "data": {
            "text/plain": [
              "TensorShape([180040, 5])"
            ]
          },
          "metadata": {},
          "execution_count": 28
        }
      ]
    },
    {
      "cell_type": "code",
      "source": [
        "#Turn to prefeched Datasets\n",
        "train_dataset = train_dataset.batch(32).prefetch(tf.data.AUTOTUNE)#Don't shuffle, because order in this case is crucial\n",
        "valid_dataset = valid_dataset.batch(32).prefetch(tf.data.AUTOTUNE)\n",
        "test_dataset = test_dataset.batch(32).prefetch(tf.data.AUTOTUNE)\n",
        "train_dataset"
      ],
      "metadata": {
        "colab": {
          "base_uri": "https://localhost:8080/"
        },
        "id": "2g9qH2t8XaE1",
        "outputId": "9375d44e-11cd-4988-e75a-7f51d821e6dc"
      },
      "execution_count": 29,
      "outputs": [
        {
          "output_type": "execute_result",
          "data": {
            "text/plain": [
              "<PrefetchDataset element_spec=(TensorSpec(shape=(None,), dtype=tf.string, name=None), TensorSpec(shape=(None, 5), dtype=tf.float64, name=None))>"
            ]
          },
          "metadata": {},
          "execution_count": 29
        }
      ]
    },
    {
      "cell_type": "markdown",
      "source": [
        "# Model1 : Conv1D"
      ],
      "metadata": {
        "id": "lQkkDlOVYeUv"
      }
    },
    {
      "cell_type": "markdown",
      "source": [
        "Build and compile model"
      ],
      "metadata": {
        "id": "baZOxphGbxah"
      }
    },
    {
      "cell_type": "code",
      "source": [
        "from tensorflow.keras import layers\n",
        "#Build model\n",
        "inputs = layers.Input(shape=(1,),dtype=tf.string) # One sequence at the time\n",
        "x = text_vectorizer(inputs)\n",
        "x = embedding_layer(x)\n",
        "x = layers.Conv1D(filters=64,\n",
        "                  kernel_size=5,\n",
        "                  padding=\"same\",\n",
        "                  activation=\"relu\",\n",
        "                  )(x)\n",
        "x = layers.GlobalMaxPool1D()(x)\n",
        "outputs = layers.Dense(5,activation=\"softmax\")(x)\n",
        "model_1 = tf.keras.Model(inputs,outputs,name=\"model_1_conv1D\")\n",
        "\n",
        "#Compile model\n",
        "model_1.compile(loss=\"categorical_crossentropy\",\n",
        "                optimizer=tf.keras.optimizers.Adam(),\n",
        "                metrics=[\"accuracy\"])\n",
        "#Summary\n",
        "model_1.summary()"
      ],
      "metadata": {
        "colab": {
          "base_uri": "https://localhost:8080/"
        },
        "id": "obyneabGZRjM",
        "outputId": "44f3bf26-4a1b-438b-b6d8-e0b309a15cc7"
      },
      "execution_count": null,
      "outputs": [
        {
          "output_type": "stream",
          "name": "stdout",
          "text": [
            "Model: \"model_1_conv1D\"\n",
            "_________________________________________________________________\n",
            " Layer (type)                Output Shape              Param #   \n",
            "=================================================================\n",
            " input_1 (InputLayer)        [(None, 1)]               0         \n",
            "                                                                 \n",
            " text_vectorization (TextVec  (None, 55)               0         \n",
            " torization)                                                     \n",
            "                                                                 \n",
            " embedding_layer (Embedding)  (None, 55, 128)          8299648   \n",
            "                                                                 \n",
            " conv1d (Conv1D)             (None, 55, 64)            41024     \n",
            "                                                                 \n",
            " global_max_pooling1d (Globa  (None, 64)               0         \n",
            " lMaxPooling1D)                                                  \n",
            "                                                                 \n",
            " dense (Dense)               (None, 5)                 325       \n",
            "                                                                 \n",
            "=================================================================\n",
            "Total params: 8,340,997\n",
            "Trainable params: 8,340,997\n",
            "Non-trainable params: 0\n",
            "_________________________________________________________________\n"
          ]
        }
      ]
    },
    {
      "cell_type": "markdown",
      "source": [
        "Create callbacks"
      ],
      "metadata": {
        "id": "ZI_awyBWZZ3m"
      }
    },
    {
      "cell_type": "code",
      "source": [
        "SAVE_DIR = \"models/\"\n",
        "tensorboard_callback = hp.create_tensorboard_callback(SAVE_DIR,\n",
        "                                                      \"model_1\")\n",
        "model_checkpoint = tf.keras.callbacks.ModelCheckpoint(\"Model_1_Checkpoint\",\n",
        "                                                      monitor=\"val_accuracy\",\n",
        "                                                      save_best_only=True,\n",
        "                                                      save_weights_only=True,\n",
        "                                                      verbose=1)\n"
      ],
      "metadata": {
        "colab": {
          "base_uri": "https://localhost:8080/"
        },
        "id": "z0_SoBKdbKMp",
        "outputId": "fdaa190d-27cc-467c-bb72-3224dd6174d3"
      },
      "execution_count": 79,
      "outputs": [
        {
          "output_type": "stream",
          "name": "stdout",
          "text": [
            "Saving TensorBoard log files to: models//model_1/20230224-121213\n"
          ]
        }
      ]
    },
    {
      "cell_type": "markdown",
      "source": [
        "Fit model"
      ],
      "metadata": {
        "id": "rWp3MdehbjTN"
      }
    },
    {
      "cell_type": "code",
      "source": [
        "history_1=model_1.fit(train_dataset,\n",
        "                      steps_per_epoch=int(0.1*len(train_dataset)),#Train on 10% of data\n",
        "                      epochs=3,\n",
        "                      validation_data=valid_dataset,\n",
        "                      validation_steps=int(0.1*len(valid_dataset)),\n",
        "                      callbacks=[tensorboard_callback,model_checkpoint])  "
      ],
      "metadata": {
        "colab": {
          "base_uri": "https://localhost:8080/"
        },
        "id": "X1iSiPuCbvge",
        "outputId": "642971e2-cc75-48f7-e2ad-c4f1a8efed25"
      },
      "execution_count": null,
      "outputs": [
        {
          "output_type": "stream",
          "name": "stdout",
          "text": [
            "Epoch 1/3\n",
            "562/562 [==============================] - ETA: 0s - loss: 0.8285 - accuracy: 0.6852\n",
            "Epoch 1: val_accuracy improved from -inf to 0.78092, saving model to Model_1_Checkpoint\n",
            "562/562 [==============================] - 35s 45ms/step - loss: 0.8285 - accuracy: 0.6852 - val_loss: 0.5821 - val_accuracy: 0.7809\n",
            "Epoch 2/3\n",
            "560/562 [============================>.] - ETA: 0s - loss: 0.5763 - accuracy: 0.7895\n",
            "Epoch 2: val_accuracy improved from 0.78092 to 0.79953, saving model to Model_1_Checkpoint\n",
            "562/562 [==============================] - 7s 13ms/step - loss: 0.5760 - accuracy: 0.7898 - val_loss: 0.5375 - val_accuracy: 0.7995\n",
            "Epoch 3/3\n",
            "555/562 [============================>.] - ETA: 0s - loss: 0.5432 - accuracy: 0.7990\n",
            "Epoch 3: val_accuracy improved from 0.79953 to 0.81316, saving model to Model_1_Checkpoint\n",
            "562/562 [==============================] - 5s 9ms/step - loss: 0.5432 - accuracy: 0.7987 - val_loss: 0.5208 - val_accuracy: 0.8132\n"
          ]
        }
      ]
    },
    {
      "cell_type": "markdown",
      "source": [
        "Evaluation"
      ],
      "metadata": {
        "id": "xWmWkyFhglqG"
      }
    },
    {
      "cell_type": "code",
      "source": [
        "model_1.evaluate(valid_dataset)"
      ],
      "metadata": {
        "colab": {
          "base_uri": "https://localhost:8080/"
        },
        "id": "Dl_AnlXrd3nF",
        "outputId": "c9c7f3bd-dbdc-4bd5-b047-6910a93a2f37"
      },
      "execution_count": null,
      "outputs": [
        {
          "output_type": "stream",
          "name": "stdout",
          "text": [
            "945/945 [==============================] - 4s 4ms/step - loss: 0.5229 - accuracy: 0.8073\n"
          ]
        },
        {
          "output_type": "execute_result",
          "data": {
            "text/plain": [
              "[0.5228847861289978, 0.8072951436042786]"
            ]
          },
          "metadata": {},
          "execution_count": 39
        }
      ]
    },
    {
      "cell_type": "code",
      "source": [
        "model_1_pred_probs = model_1.predict(val_sentences)\n",
        "model_1_pred_probs[:4]"
      ],
      "metadata": {
        "colab": {
          "base_uri": "https://localhost:8080/"
        },
        "id": "wia7OpWYfywr",
        "outputId": "0a850979-e60d-4c2b-c7ea-41f7e02a2aa3"
      },
      "execution_count": null,
      "outputs": [
        {
          "output_type": "stream",
          "name": "stdout",
          "text": [
            "945/945 [==============================] - 3s 3ms/step\n"
          ]
        },
        {
          "output_type": "execute_result",
          "data": {
            "text/plain": [
              "array([[5.9450775e-01, 6.7739017e-02, 1.2370958e-03, 3.3225143e-01,\n",
              "        4.2646928e-03],\n",
              "       [2.2376755e-01, 6.3442773e-01, 8.3782524e-04, 1.3773049e-01,\n",
              "        3.2363897e-03],\n",
              "       [1.9643961e-01, 1.0450406e-02, 3.2206681e-03, 7.8958547e-01,\n",
              "        3.0386684e-04],\n",
              "       [4.0103844e-03, 8.2931481e-03, 9.1769475e-01, 3.4203299e-03,\n",
              "        6.6581465e-02]], dtype=float32)"
            ]
          },
          "metadata": {},
          "execution_count": 40
        }
      ]
    },
    {
      "cell_type": "code",
      "source": [
        "model_1_predictions = tf.argmax(model_1_pred_probs,axis=1)\n",
        "model_1_predictions[:4]"
      ],
      "metadata": {
        "colab": {
          "base_uri": "https://localhost:8080/"
        },
        "id": "8Fn-8al8f6ow",
        "outputId": "5c0d0ccf-494a-435e-cf1f-8bc375daaf7e"
      },
      "execution_count": null,
      "outputs": [
        {
          "output_type": "execute_result",
          "data": {
            "text/plain": [
              "<tf.Tensor: shape=(4,), dtype=int64, numpy=array([0, 1, 3, 2])>"
            ]
          },
          "metadata": {},
          "execution_count": 41
        }
      ]
    },
    {
      "cell_type": "code",
      "source": [
        "class_names"
      ],
      "metadata": {
        "colab": {
          "base_uri": "https://localhost:8080/"
        },
        "id": "uFYuGLyJgh9a",
        "outputId": "cd040eb7-f9c2-4947-88c8-30d241209cd1"
      },
      "execution_count": null,
      "outputs": [
        {
          "output_type": "execute_result",
          "data": {
            "text/plain": [
              "array(['BACKGROUND', 'CONCLUSIONS', 'METHODS', 'OBJECTIVE', 'RESULTS'],\n",
              "      dtype=object)"
            ]
          },
          "metadata": {},
          "execution_count": 42
        }
      ]
    },
    {
      "cell_type": "code",
      "source": [
        "model_1_results = hp.calculate_results(val_labels_encode,model_1_predictions)\n",
        "model_1_results"
      ],
      "metadata": {
        "colab": {
          "base_uri": "https://localhost:8080/"
        },
        "id": "oRTUk7JcgOp8",
        "outputId": "c5257c82-e321-4a2f-9a68-bffd122dbd45"
      },
      "execution_count": null,
      "outputs": [
        {
          "output_type": "execute_result",
          "data": {
            "text/plain": [
              "{'accuracy': 80.72951145240302,\n",
              " 'precision': 0.8055887844050444,\n",
              " 'recall': 0.8072951145240301,\n",
              " 'f1': 0.8056079599829649}"
            ]
          },
          "metadata": {},
          "execution_count": 43
        }
      ]
    },
    {
      "cell_type": "code",
      "source": [
        "model_0_results"
      ],
      "metadata": {
        "colab": {
          "base_uri": "https://localhost:8080/"
        },
        "id": "J0NnWwNTggqR",
        "outputId": "02798b8e-7b9a-4a96-fe40-a8548e785943"
      },
      "execution_count": null,
      "outputs": [
        {
          "output_type": "execute_result",
          "data": {
            "text/plain": [
              "{'accuracy': 72.1832384482987,\n",
              " 'precision': 0.7186466952323352,\n",
              " 'recall': 0.7218323844829869,\n",
              " 'f1': 0.6989250353450294}"
            ]
          },
          "metadata": {},
          "execution_count": 44
        }
      ]
    },
    {
      "cell_type": "markdown",
      "source": [
        "# Model2 : Using TF_HUB Pretrained Feature Extractor\n",
        "\n",
        "- Using universal sentence encoder: https://tfhub.dev/google/universal-sentence-encoder/4"
      ],
      "metadata": {
        "id": "pSghO9vSgqHV"
      }
    },
    {
      "cell_type": "markdown",
      "source": [
        "Build and compile model"
      ],
      "metadata": {
        "id": "czBpO7Ym-3zs"
      }
    },
    {
      "cell_type": "code",
      "source": [
        "import tensorflow_hub as hub\n",
        "from tensorflow.keras import layers\n",
        "import tensorflow as tf\n",
        "#Build model\n",
        "feature_extractor = hub.KerasLayer(\"https://tfhub.dev/google/universal-sentence-encoder/4\",\n",
        "                                   trainable=False,\n",
        "                                   input_shape=[],\n",
        "                                   dtype=tf.string)\n",
        "#model_2 = tf.keras.Sequential([\n",
        "#    feature_extractor,\n",
        "#    layers.Dense(64,activation=\"relu\"),\n",
        "#    layers.Dense(5,activation=\"softmax\")\n",
        "#])\n",
        "\n",
        "inputs = layers.Input(shape=[],dtype=tf.string)\n",
        "x = feature_extractor(inputs)\n",
        "x=layers.Dense(128,activation=\"relu\")(x)\n",
        "outputs=layers.Dense(5,activation=\"softmax\")(x)\n",
        "model_2 = tf.keras.Model(inputs,outputs,name=\"MODEL_2_USE\")\n",
        "\n",
        "#Compile model\n",
        "model_2.compile(loss=\"categorical_crossentropy\",\n",
        "                optimizer=tf.keras.optimizers.Adam(),\n",
        "                metrics=[\"accuracy\"])\n",
        "#Summary\n",
        "model_2.summary()"
      ],
      "metadata": {
        "colab": {
          "base_uri": "https://localhost:8080/"
        },
        "id": "GKK1cnbuhS71",
        "outputId": "c81f8550-d1db-4513-9a68-bbb0aa90de0b"
      },
      "execution_count": 41,
      "outputs": [
        {
          "output_type": "stream",
          "name": "stderr",
          "text": [
            "WARNING:tensorflow:Please fix your imports. Module tensorflow.python.training.tracking.data_structures has been moved to tensorflow.python.trackable.data_structures. The old module will be deleted in version 2.11.\n",
            "WARNING:tensorflow:From /usr/local/lib/python3.8/dist-packages/tensorflow/python/autograph/pyct/static_analysis/liveness.py:83: Analyzer.lamba_check (from tensorflow.python.autograph.pyct.static_analysis.liveness) is deprecated and will be removed after 2023-09-23.\n",
            "Instructions for updating:\n",
            "Lambda fuctions will be no more assumed to be used in the statement where they are used, or at least in the same block. https://github.com/tensorflow/tensorflow/issues/56089\n"
          ]
        },
        {
          "output_type": "stream",
          "name": "stdout",
          "text": [
            "Model: \"MODEL_2_USE\"\n",
            "_________________________________________________________________\n",
            " Layer (type)                Output Shape              Param #   \n",
            "=================================================================\n",
            " input_1 (InputLayer)        [(None,)]                 0         \n",
            "                                                                 \n",
            " keras_layer (KerasLayer)    (None, 512)               256797824 \n",
            "                                                                 \n",
            " dense (Dense)               (None, 128)               65664     \n",
            "                                                                 \n",
            " dense_1 (Dense)             (None, 5)                 645       \n",
            "                                                                 \n",
            "=================================================================\n",
            "Total params: 256,864,133\n",
            "Trainable params: 66,309\n",
            "Non-trainable params: 256,797,824\n",
            "_________________________________________________________________\n"
          ]
        }
      ]
    },
    {
      "cell_type": "markdown",
      "source": [
        "Fit model"
      ],
      "metadata": {
        "id": "CiQMBbtW8ffb"
      }
    },
    {
      "cell_type": "code",
      "source": [
        "history_2 = model_2.fit(train_dataset,\n",
        "                        steps_per_epoch=int(0.1*len(train_dataset)),\n",
        "                        epochs=3,\n",
        "                        validation_data=valid_dataset,\n",
        "                        validation_steps=int(0.1*len(valid_dataset)),\n",
        "                        callbacks=[tensorboard_callback,model_checkpoint]\n",
        "                        )"
      ],
      "metadata": {
        "colab": {
          "base_uri": "https://localhost:8080/"
        },
        "id": "gNM4q1fP-6gH",
        "outputId": "9a010b60-a7d5-4d0b-ffca-b8294495ae17"
      },
      "execution_count": null,
      "outputs": [
        {
          "output_type": "stream",
          "name": "stdout",
          "text": [
            "Epoch 1/3\n",
            "562/562 [==============================] - ETA: 0s - loss: 0.9168 - accuracy: 0.6480\n",
            "Epoch 1: val_accuracy did not improve from 0.81316\n",
            "562/562 [==============================] - 13s 16ms/step - loss: 0.9168 - accuracy: 0.6480 - val_loss: 0.7975 - val_accuracy: 0.6888\n",
            "Epoch 2/3\n",
            "560/562 [============================>.] - ETA: 0s - loss: 0.7697 - accuracy: 0.7017\n",
            "Epoch 2: val_accuracy did not improve from 0.81316\n",
            "562/562 [==============================] - 7s 13ms/step - loss: 0.7698 - accuracy: 0.7015 - val_loss: 0.7573 - val_accuracy: 0.7031\n",
            "Epoch 3/3\n",
            "561/562 [============================>.] - ETA: 0s - loss: 0.7540 - accuracy: 0.7124\n",
            "Epoch 3: val_accuracy did not improve from 0.81316\n",
            "562/562 [==============================] - 8s 15ms/step - loss: 0.7540 - accuracy: 0.7125 - val_loss: 0.7404 - val_accuracy: 0.7111\n"
          ]
        }
      ]
    },
    {
      "cell_type": "markdown",
      "source": [
        "Evaluation"
      ],
      "metadata": {
        "id": "13yEhTHoDKvU"
      }
    },
    {
      "cell_type": "code",
      "source": [
        "model_2.evaluate(valid_dataset)"
      ],
      "metadata": {
        "colab": {
          "base_uri": "https://localhost:8080/"
        },
        "id": "Ex4aOA8Z_vRR",
        "outputId": "278d10e9-0a90-48d5-8c04-a4e3c6440bae"
      },
      "execution_count": null,
      "outputs": [
        {
          "output_type": "stream",
          "name": "stdout",
          "text": [
            "945/945 [==============================] - 11s 12ms/step - loss: 0.7419 - accuracy: 0.7135\n"
          ]
        },
        {
          "output_type": "execute_result",
          "data": {
            "text/plain": [
              "[0.7418671250343323, 0.713458240032196]"
            ]
          },
          "metadata": {},
          "execution_count": 47
        }
      ]
    },
    {
      "cell_type": "code",
      "source": [
        "model_2_predprobs=model_2.predict(val_sentences)\n",
        "model_2_predprobs[:4]"
      ],
      "metadata": {
        "colab": {
          "base_uri": "https://localhost:8080/"
        },
        "id": "WaVRD2p5ChKX",
        "outputId": "e9f4ffac-75a6-4448-a041-7268a0d6165c"
      },
      "execution_count": null,
      "outputs": [
        {
          "output_type": "stream",
          "name": "stdout",
          "text": [
            "945/945 [==============================] - 11s 11ms/step\n"
          ]
        },
        {
          "output_type": "execute_result",
          "data": {
            "text/plain": [
              "array([[0.4339981 , 0.34113204, 0.00214479, 0.21593563, 0.00678944],\n",
              "       [0.32664734, 0.5213859 , 0.00389831, 0.14452025, 0.0035482 ],\n",
              "       [0.21870892, 0.13150698, 0.01641509, 0.5926829 , 0.04068604],\n",
              "       [0.01206359, 0.04928122, 0.80447406, 0.00888797, 0.12529318]],\n",
              "      dtype=float32)"
            ]
          },
          "metadata": {},
          "execution_count": 48
        }
      ]
    },
    {
      "cell_type": "code",
      "source": [
        "model_2_predicts = tf.argmax(model_2_predprobs,axis=1)\n",
        "model_2_predicts[:4]"
      ],
      "metadata": {
        "colab": {
          "base_uri": "https://localhost:8080/"
        },
        "id": "-P5ATCgGDRwo",
        "outputId": "6d54f772-e800-464a-935c-6accbeee3f62"
      },
      "execution_count": null,
      "outputs": [
        {
          "output_type": "execute_result",
          "data": {
            "text/plain": [
              "<tf.Tensor: shape=(4,), dtype=int64, numpy=array([0, 1, 3, 2])>"
            ]
          },
          "metadata": {},
          "execution_count": 49
        }
      ]
    },
    {
      "cell_type": "code",
      "source": [
        "#Calculate results\n",
        "model_2_results = hp.calculate_results(val_labels_encode,model_2_predicts)\n",
        "model_2_results"
      ],
      "metadata": {
        "colab": {
          "base_uri": "https://localhost:8080/"
        },
        "id": "HJi9_-1sDeVm",
        "outputId": "03f851f7-949c-4e7a-cc3e-cc0a4970be63"
      },
      "execution_count": null,
      "outputs": [
        {
          "output_type": "execute_result",
          "data": {
            "text/plain": [
              "{'accuracy': 71.34582285184695,\n",
              " 'precision': 0.7137912185386411,\n",
              " 'recall': 0.7134582285184695,\n",
              " 'f1': 0.7105491797931515}"
            ]
          },
          "metadata": {},
          "execution_count": 50
        }
      ]
    },
    {
      "cell_type": "code",
      "source": [
        "model_0_results"
      ],
      "metadata": {
        "colab": {
          "base_uri": "https://localhost:8080/"
        },
        "id": "tXTZD-bcDsM0",
        "outputId": "624eab03-6295-4ce8-c4dd-a646821d1807"
      },
      "execution_count": null,
      "outputs": [
        {
          "output_type": "execute_result",
          "data": {
            "text/plain": [
              "{'accuracy': 72.1832384482987,\n",
              " 'precision': 0.7186466952323352,\n",
              " 'recall': 0.7218323844829869,\n",
              " 'f1': 0.6989250353450294}"
            ]
          },
          "metadata": {},
          "execution_count": 51
        }
      ]
    },
    {
      "cell_type": "markdown",
      "source": [
        "# Model 3: Conv1D with character embeddings\n",
        "\n",
        "-To eventaully use concatenation of both token and character embedding as in paper shown at the beggining"
      ],
      "metadata": {
        "id": "tVjnLnTYDu9i"
      }
    },
    {
      "cell_type": "markdown",
      "source": [
        "Dealing with data for character embedding"
      ],
      "metadata": {
        "id": "g90a2roGPMuM"
      }
    },
    {
      "cell_type": "code",
      "source": [
        "#To use character embedding it is needed to change sentences from e.g. ['it is dog'] to ['i','t',' ','i'...]\n",
        "import random\n",
        "def text_to_char(text):\n",
        "  return \" \".join(list(text))\n",
        "text_to_char(random.choice(train_sentences))"
      ],
      "metadata": {
        "colab": {
          "base_uri": "https://localhost:8080/",
          "height": 53
        },
        "id": "c3LVq81REYmw",
        "outputId": "28175a6a-2039-41cb-8a81-ba287c9fd890"
      },
      "execution_count": 62,
      "outputs": [
        {
          "output_type": "execute_result",
          "data": {
            "text/plain": [
              "'c b s p p   i s   a   f e a s i b l e   i n t e r v e n t i o n   w h i c h   h a s   t h e   p o t e n t i a l   t o   r e d u c e   p r o x y   m e a s u r e s   o f   s u i c i d e   i n   p s y c h o t i c   p a t i e n t s   .'"
            ],
            "application/vnd.google.colaboratory.intrinsic+json": {
              "type": "string"
            }
          },
          "metadata": {},
          "execution_count": 62
        }
      ]
    },
    {
      "cell_type": "code",
      "source": [
        "#Split sequence-level data splits into character-level data splits\n",
        "train_chars = [text_to_char(sentence) for sentence in train_sentences]\n",
        "val_chars = [text_to_char(sentence) for sentence in val_sentences]\n",
        "test_chars = [text_to_char(sentence) for sentence in test_sentences]\n",
        "train_chars[:3]"
      ],
      "metadata": {
        "colab": {
          "base_uri": "https://localhost:8080/"
        },
        "id": "DZXaEi69Fq_p",
        "outputId": "2ae93138-abce-490a-8c03-3083034d09aa"
      },
      "execution_count": 63,
      "outputs": [
        {
          "output_type": "execute_result",
          "data": {
            "text/plain": [
              "['t o   i n v e s t i g a t e   t h e   e f f i c a c y   o f   @   w e e k s   o f   d a i l y   l o w - d o s e   o r a l   p r e d n i s o l o n e   i n   i m p r o v i n g   p a i n   ,   m o b i l i t y   ,   a n d   s y s t e m i c   l o w - g r a d e   i n f l a m m a t i o n   i n   t h e   s h o r t   t e r m   a n d   w h e t h e r   t h e   e f f e c t   w o u l d   b e   s u s t a i n e d   a t   @   w e e k s   i n   o l d e r   a d u l t s   w i t h   m o d e r a t e   t o   s e v e r e   k n e e   o s t e o a r t h r i t i s   (   o a   )   .',\n",
              " 'a   t o t a l   o f   @   p a t i e n t s   w i t h   p r i m a r y   k n e e   o a   w e r e   r a n d o m i z e d   @ : @   ;   @   r e c e i v e d   @   m g / d a y   o f   p r e d n i s o l o n e   a n d   @   r e c e i v e d   p l a c e b o   f o r   @   w e e k s   .',\n",
              " 'o u t c o m e   m e a s u r e s   i n c l u d e d   p a i n   r e d u c t i o n   a n d   i m p r o v e m e n t   i n   f u n c t i o n   s c o r e s   a n d   s y s t e m i c   i n f l a m m a t i o n   m a r k e r s   .']"
            ]
          },
          "metadata": {},
          "execution_count": 63
        }
      ]
    },
    {
      "cell_type": "code",
      "source": [
        "#Average character lenght\n",
        "char_len = [len(sentence) for sentence in train_sentences]\n",
        "mean_char_len = np.mean(char_len)\n",
        "mean_char_len"
      ],
      "metadata": {
        "colab": {
          "base_uri": "https://localhost:8080/"
        },
        "id": "zSK6oT_NGY0B",
        "outputId": "0b65f868-d74f-4ebf-9da1-035c491693b9"
      },
      "execution_count": 64,
      "outputs": [
        {
          "output_type": "execute_result",
          "data": {
            "text/plain": [
              "149.3662574983337"
            ]
          },
          "metadata": {},
          "execution_count": 64
        }
      ]
    },
    {
      "cell_type": "code",
      "source": [
        "#Check the distribution\n",
        "import seaborn as sns \n",
        "sns.histplot(char_len,bins=30);"
      ],
      "metadata": {
        "colab": {
          "base_uri": "https://localhost:8080/",
          "height": 265
        },
        "id": "-_PwyIfMOUhD",
        "outputId": "3f844d13-11b4-4321-9193-4d32c9dd3d47"
      },
      "execution_count": 65,
      "outputs": [
        {
          "output_type": "display_data",
          "data": {
            "text/plain": [
              "<Figure size 432x288 with 1 Axes>"
            ],
            "image/png": "[encoded data removed]"
          },
          "metadata": {
            "needs_background": "light"
          }
        }
      ]
    },
    {
      "cell_type": "code",
      "source": [
        "#getting <95% of char length\n",
        "char_95_percentile = int(np.percentile(char_len,95))\n",
        "char_95_percentile"
      ],
      "metadata": {
        "colab": {
          "base_uri": "https://localhost:8080/"
        },
        "id": "-U4rX_RiOmOC",
        "outputId": "57ad8f18-bad9-4d91-c637-bfa544efd547"
      },
      "execution_count": 66,
      "outputs": [
        {
          "output_type": "execute_result",
          "data": {
            "text/plain": [
              "290"
            ]
          },
          "metadata": {},
          "execution_count": 66
        }
      ]
    },
    {
      "cell_type": "code",
      "source": [
        "#Getting all keyboard characters\n",
        "import string\n",
        "alphabet = string.ascii_lowercase+string.digits+string.punctuation\n",
        "alphabet"
      ],
      "metadata": {
        "colab": {
          "base_uri": "https://localhost:8080/",
          "height": 35
        },
        "id": "uS_1C8B3OzJ3",
        "outputId": "0dd01138-b2d6-4df3-c4ec-38b462f9cdf5"
      },
      "execution_count": 67,
      "outputs": [
        {
          "output_type": "execute_result",
          "data": {
            "text/plain": [
              "'abcdefghijklmnopqrstuvwxyz0123456789!\"#$%&\\'()*+,-./:;<=>?@[\\\\]^_`{|}~'"
            ],
            "application/vnd.google.colaboratory.intrinsic+json": {
              "type": "string"
            }
          },
          "metadata": {},
          "execution_count": 67
        }
      ]
    },
    {
      "cell_type": "markdown",
      "source": [
        "Creating character vectorizer instance and embedding layer"
      ],
      "metadata": {
        "id": "ZSpoMuEcP5_b"
      }
    },
    {
      "cell_type": "code",
      "source": [
        "num_char = len(alphabet)+2 # 1 for space, another for OOv - out of vocab\n",
        "char_vectorizer = TextVectorization(max_tokens = num_char,\n",
        "                                    output_mode=\"int\",\n",
        "                                    output_sequence_length=char_95_percentile)\n",
        "#Adapt Vectorizer\n",
        "char_vectorizer.adapt(train_chars)\n",
        "char_vocab = char_vectorizer.get_vocabulary()\n",
        "\n",
        "embedding_char_layer = tf.keras.layers.Embedding(input_dim=len(char_vocab),\n",
        "                                                 output_dim=25,\n",
        "                                                 mask_zero=True)"
      ],
      "metadata": {
        "id": "uXr_iAM_QDsV"
      },
      "execution_count": 68,
      "outputs": []
    },
    {
      "cell_type": "code",
      "source": [
        "len(char_vocab), char_vocab[:5], char_vocab[-5:]"
      ],
      "metadata": {
        "colab": {
          "base_uri": "https://localhost:8080/"
        },
        "id": "fgLKLV5TTxkX",
        "outputId": "011abd5b-e48f-4bff-d4bc-01242f2f4480"
      },
      "execution_count": 69,
      "outputs": [
        {
          "output_type": "execute_result",
          "data": {
            "text/plain": [
              "(28, ['', '[UNK]', 'e', 't', 'i'], ['k', 'x', 'z', 'q', 'j'])"
            ]
          },
          "metadata": {},
          "execution_count": 69
        }
      ]
    },
    {
      "cell_type": "code",
      "source": [
        "random_char_sentence = random.choice(train_chars)\n",
        "print(f\"Char sentence:\\n{random_char_sentence}\\n\")\n",
        "print(f\"Embeded char sentence:\\n{embedding_char_layer(char_vectorizer([random_char_sentence]))}\")\n",
        "print(f\"\\nEmbedded shape:{embedding_char_layer(char_vectorizer([random_char_sentence])).shape}\")"
      ],
      "metadata": {
        "colab": {
          "base_uri": "https://localhost:8080/"
        },
        "id": "QAjYiYtLRea8",
        "outputId": "87b6d11c-39b7-4433-f549-96c722b8caf5"
      },
      "execution_count": 70,
      "outputs": [
        {
          "output_type": "stream",
          "name": "stdout",
          "text": [
            "Char sentence:\n",
            "i n   t h e   a c u p u n c t u r e   g r o u p   ,   a c u p u n c t u r e   w a s   a p p l i e d   a t   t h r e e - n o s e   p o i n t s   - l s b -   y i n g x i a n g   (   l i   @   )   ,   s h a n g y i n g x i a n g   (   e x - h n   @   )   a n d   y i n t a n g   (   g v   @   )   ;   c u a n z h u   (   b l   @   )   w a s   a d d e d   f o r   f r o n t a l   h e a d a c h e   - r s b -   a n d   t h r e e - b a c k   p o i n t s   - l s b -   d a z h u   (   b l   @   )   ,   f e n g m e n   (   b l   @   )   a n d   f e i s h u   (   b l   @   )   - r s b -   ,   o n c e   e v e r y   d a y   .\n",
            "\n",
            "Embeded char sentence:\n",
            "[[[ 0.00273013  0.00223935  0.02574987 ... -0.03951895  0.04627874\n",
            "   -0.004667  ]\n",
            "  [ 0.03319727  0.02989718  0.01495986 ...  0.0016472   0.01801689\n",
            "    0.01080859]\n",
            "  [ 0.00690709  0.03738416  0.01829201 ...  0.04759574 -0.02302748\n",
            "   -0.03347186]\n",
            "  ...\n",
            "  [ 0.0047037  -0.01559623  0.04426334 ... -0.02391998  0.02321247\n",
            "   -0.01297009]\n",
            "  [ 0.0047037  -0.01559623  0.04426334 ... -0.02391998  0.02321247\n",
            "   -0.01297009]\n",
            "  [ 0.0047037  -0.01559623  0.04426334 ... -0.02391998  0.02321247\n",
            "   -0.01297009]]]\n",
            "\n",
            "Embedded shape:(1, 290, 25)\n"
          ]
        }
      ]
    },
    {
      "cell_type": "markdown",
      "source": [
        "Model 3: Conv1D - Character embedding"
      ],
      "metadata": {
        "id": "53-WkkNJRlZ0"
      }
    },
    {
      "cell_type": "markdown",
      "source": [
        "Build and compile model"
      ],
      "metadata": {
        "id": "84Zp4PYIYGzO"
      }
    },
    {
      "cell_type": "code",
      "source": [
        "from tensorflow.keras import layers\n",
        "#Build model\n",
        "inputs = layers.Input(shape=(1,),dtype=tf.string)\n",
        "vectorizer = char_vectorizer(inputs)\n",
        "embedding = embedding_char_layer(vectorizer)\n",
        "x = layers.Conv1D(filters=64,\n",
        "                  kernel_size=5,\n",
        "                  activation=\"relu\",\n",
        "                  padding=\"same\")(embedding)\n",
        "x = layers.GlobalMaxPool1D()(x)\n",
        "outputs = layers.Dense(5,activation=\"softmax\")(x)\n",
        "model_3 = tf.keras.Model(inputs,outputs,name=\"model_3_Conv1D_CharEmb\")\n",
        "\n",
        "#Compile model\n",
        "model_3.compile(loss=\"categorical_crossentropy\",\n",
        "                optimizer=tf.keras.optimizers.Adam(),\n",
        "                metrics=[\"accuracy\"])\n",
        "#Summary\n",
        "model_3.summary()"
      ],
      "metadata": {
        "colab": {
          "base_uri": "https://localhost:8080/"
        },
        "id": "00rTzPN5XLbJ",
        "outputId": "da2323a4-3bc5-4fed-d4ad-66bf4de62266"
      },
      "execution_count": null,
      "outputs": [
        {
          "output_type": "stream",
          "name": "stdout",
          "text": [
            "Model: \"model_3_Conv1D_CharEmb\"\n",
            "_________________________________________________________________\n",
            " Layer (type)                Output Shape              Param #   \n",
            "=================================================================\n",
            " input_3 (InputLayer)        [(None, 1)]               0         \n",
            "                                                                 \n",
            " text_vectorization_1 (TextV  (None, 290)              0         \n",
            " ectorization)                                                   \n",
            "                                                                 \n",
            " embedding (Embedding)       (None, 290, 25)           700       \n",
            "                                                                 \n",
            " conv1d_1 (Conv1D)           (None, 290, 64)           8064      \n",
            "                                                                 \n",
            " global_max_pooling1d_1 (Glo  (None, 64)               0         \n",
            " balMaxPooling1D)                                                \n",
            "                                                                 \n",
            " dense_3 (Dense)             (None, 5)                 325       \n",
            "                                                                 \n",
            "=================================================================\n",
            "Total params: 9,089\n",
            "Trainable params: 9,089\n",
            "Non-trainable params: 0\n",
            "_________________________________________________________________\n"
          ]
        }
      ]
    },
    {
      "cell_type": "code",
      "source": [
        "#Getting data into tensorflow datasets\n",
        "train_chars_dataset = tf.data.Dataset.from_tensor_slices((train_chars,train_labels_oh)).batch(32).prefetch(tf.data.AUTOTUNE)\n",
        "valid_chars_dataset = tf.data.Dataset.from_tensor_slices((val_chars,val_labels_oh)).batch(32).prefetch(tf.data.AUTOTUNE)\n",
        "test_chars_dataset = tf.data.Dataset.from_tensor_slices((test_chars,test_labels_oh)).batch(32).prefetch(tf.data.AUTOTUNE)"
      ],
      "metadata": {
        "id": "OkQXDGjlacJf"
      },
      "execution_count": null,
      "outputs": []
    },
    {
      "cell_type": "markdown",
      "source": [
        "Fit Model"
      ],
      "metadata": {
        "id": "PEKRpUIXYkzB"
      }
    },
    {
      "cell_type": "code",
      "source": [
        "#Fit model\n",
        "history_3 = model_3.fit(train_chars_dataset,\n",
        "                        steps_per_epoch=int(0.1*len(train_chars_dataset)),\n",
        "                        epochs=3,\n",
        "                        validation_data=valid_chars_dataset,\n",
        "                        validation_steps=int(0.1*len(valid_chars_dataset)),\n",
        "                        callbacks=[tensorboard_callback,model_checkpoint])\n"
      ],
      "metadata": {
        "colab": {
          "base_uri": "https://localhost:8080/"
        },
        "id": "VLFcCNmBYw9F",
        "outputId": "abeb2797-22b9-45cc-cbeb-fb48c41c5ed8"
      },
      "execution_count": null,
      "outputs": [
        {
          "output_type": "stream",
          "name": "stdout",
          "text": [
            "Epoch 1/3\n",
            "555/562 [============================>.] - ETA: 0s - loss: 1.2539 - accuracy: 0.4862\n",
            "Epoch 1: val_accuracy did not improve from 0.81316\n",
            "562/562 [==============================] - 5s 7ms/step - loss: 1.2505 - accuracy: 0.4877 - val_loss: 1.0391 - val_accuracy: 0.5888\n",
            "Epoch 2/3\n",
            "555/562 [============================>.] - ETA: 0s - loss: 1.0017 - accuracy: 0.6021\n",
            "Epoch 2: val_accuracy did not improve from 0.81316\n",
            "562/562 [==============================] - 3s 6ms/step - loss: 1.0001 - accuracy: 0.6026 - val_loss: 0.9428 - val_accuracy: 0.6287\n",
            "Epoch 3/3\n",
            "561/562 [============================>.] - ETA: 0s - loss: 0.9186 - accuracy: 0.6392\n",
            "Epoch 3: val_accuracy did not improve from 0.81316\n",
            "562/562 [==============================] - 4s 7ms/step - loss: 0.9185 - accuracy: 0.6391 - val_loss: 0.8716 - val_accuracy: 0.6659\n"
          ]
        }
      ]
    },
    {
      "cell_type": "code",
      "source": [
        "pd.DataFrame(history_3.history).plot()"
      ],
      "metadata": {
        "colab": {
          "base_uri": "https://localhost:8080/",
          "height": 282
        },
        "id": "264Up1nGc5M9",
        "outputId": "8601fc9c-44e3-4185-8bc0-4a58319ca3ca"
      },
      "execution_count": null,
      "outputs": [
        {
          "output_type": "execute_result",
          "data": {
            "text/plain": [
              "<AxesSubplot:>"
            ]
          },
          "metadata": {},
          "execution_count": 64
        },
        {
          "output_type": "display_data",
          "data": {
            "text/plain": [
              "<Figure size 432x288 with 1 Axes>"
            ],
            "image/png": "[encoded data removed]"
          },
          "metadata": {
            "needs_background": "light"
          }
        }
      ]
    },
    {
      "cell_type": "code",
      "source": [
        "model_3.evaluate(valid_chars_dataset)"
      ],
      "metadata": {
        "colab": {
          "base_uri": "https://localhost:8080/"
        },
        "id": "nbmxzY5QdGtJ",
        "outputId": "1fb4d4ba-3690-43a8-812b-0563842725e0"
      },
      "execution_count": null,
      "outputs": [
        {
          "output_type": "stream",
          "name": "stdout",
          "text": [
            "945/945 [==============================] - 4s 4ms/step - loss: 0.8830 - accuracy: 0.6581\n"
          ]
        },
        {
          "output_type": "execute_result",
          "data": {
            "text/plain": [
              "[0.8829777240753174, 0.6581490635871887]"
            ]
          },
          "metadata": {},
          "execution_count": 65
        }
      ]
    },
    {
      "cell_type": "code",
      "source": [
        "model_3_pred_probs = model_3.predict(val_chars)\n",
        "model_3_pred_probs[:3]"
      ],
      "metadata": {
        "colab": {
          "base_uri": "https://localhost:8080/"
        },
        "id": "WaDmatUAdNii",
        "outputId": "636909cf-f152-46d7-e255-39cb0a1867bd"
      },
      "execution_count": null,
      "outputs": [
        {
          "output_type": "stream",
          "name": "stdout",
          "text": [
            "945/945 [==============================] - 3s 3ms/step\n"
          ]
        },
        {
          "output_type": "execute_result",
          "data": {
            "text/plain": [
              "array([[0.11132216, 0.48394305, 0.06590797, 0.21946514, 0.11936165],\n",
              "       [0.17544235, 0.4487555 , 0.04371643, 0.1975152 , 0.13457051],\n",
              "       [0.13624683, 0.26351392, 0.07512798, 0.49021798, 0.03489324]],\n",
              "      dtype=float32)"
            ]
          },
          "metadata": {},
          "execution_count": 66
        }
      ]
    },
    {
      "cell_type": "code",
      "source": [
        "model_3_predicts = tf.argmax(model_3_pred_probs,axis=1)\n",
        "model_3_predicts[:3]"
      ],
      "metadata": {
        "colab": {
          "base_uri": "https://localhost:8080/"
        },
        "id": "hJ75XUXZdWSs",
        "outputId": "3ff45ea0-e64a-434f-f2fb-dce890f62627"
      },
      "execution_count": null,
      "outputs": [
        {
          "output_type": "execute_result",
          "data": {
            "text/plain": [
              "<tf.Tensor: shape=(3,), dtype=int64, numpy=array([1, 1, 3])>"
            ]
          },
          "metadata": {},
          "execution_count": 67
        }
      ]
    },
    {
      "cell_type": "code",
      "source": [
        "#Calculate results of model 3\n",
        "model_3_results = hp.calculate_results(val_labels_encode,model_3_predicts)\n",
        "model_3_results"
      ],
      "metadata": {
        "colab": {
          "base_uri": "https://localhost:8080/"
        },
        "id": "PFBvRBtqdc_5",
        "outputId": "9136f461-d94a-4627-aa2a-442dc78f0702"
      },
      "execution_count": null,
      "outputs": [
        {
          "output_type": "execute_result",
          "data": {
            "text/plain": [
              "{'accuracy': 65.81490798358269,\n",
              " 'precision': 0.6526051425989488,\n",
              " 'recall': 0.6581490798358268,\n",
              " 'f1': 0.6510524726394785}"
            ]
          },
          "metadata": {},
          "execution_count": 68
        }
      ]
    },
    {
      "cell_type": "markdown",
      "source": [
        "# Model 4 : Combine pretrained token embeddings + character embeddings\n",
        "\n",
        "1. Create a token-level embedding Model\n",
        "2. Create a character-level model\n",
        "3. Combine both with concatenate layer (layers.Concatenate)\n",
        "4. Build a series of output layers on top of 3 similar to Figure 1 and 4.2 section of paper\n",
        "5. Construct model which takes both token and character embedding sequences as input and pred probas as output"
      ],
      "metadata": {
        "id": "pc-KlcTEdlrY"
      }
    },
    {
      "cell_type": "code",
      "source": [
        "#Dropout randomly exchanging to 0 values given part of inputs - for regularization - prevent overfitting\n",
        "from tensorflow.keras import layers\n",
        "import tensorflow as tf\n",
        "\n",
        "#1. Token-level embedding model\n",
        "token_inputs = layers.Input(shape=[],dtype=tf.string, name=\"token_input\")\n",
        "embedd_layer = feature_extractor(token_inputs)\n",
        "token_outputs = layers.Dense(128,activation=\"relu\")(embedd_layer)\n",
        "\n",
        "token_model = tf.keras.Model(token_inputs,token_outputs)\n",
        "\n",
        "#2. Character-level model\n",
        "char_inputs = layers.Input(shape=(1,),dtype=tf.string,name=\"char_input\")\n",
        "vectorization = char_vectorizer(char_inputs)\n",
        "embedding_chars = embedding_char_layer(vectorization)\n",
        "char_outputs = layers.Bidirectional(layers.LSTM(units=24))(embedding_chars)\n",
        "\n",
        "char_model = tf.keras.Model(char_inputs, char_outputs)\n",
        "\n",
        "#3.Combine both\n",
        "token_char_combine = layers.Concatenate(name=\"combine_char_token\")([token_model.output,char_model.output])\n",
        "\n",
        "#4. Build output layers\n",
        "dropout = layers.Dropout(0.5)(token_char_combine)\n",
        "x = layers.Dense(128,activation=\"relu\")(dropout)\n",
        "final_dropout = layers.Dropout(0.5)(x)\n",
        "end_outputs = layers.Dense(5,activation=\"softmax\")(final_dropout)\n",
        "\n",
        "model_4 = tf.keras.Model(inputs=[token_inputs,char_inputs],\n",
        "                         outputs=end_outputs,\n",
        "                         name=\"model_4_Combined\")\n",
        "\n",
        "model_4.summary()"
      ],
      "metadata": {
        "colab": {
          "base_uri": "https://localhost:8080/"
        },
        "id": "InFIgNh5eo9l",
        "outputId": "9af9418c-4dc0-4a92-fbcb-8597f59b9a94"
      },
      "execution_count": null,
      "outputs": [
        {
          "output_type": "stream",
          "name": "stdout",
          "text": [
            "Model: \"model_4_Combined\"\n",
            "__________________________________________________________________________________________________\n",
            " Layer (type)                   Output Shape         Param #     Connected to                     \n",
            "==================================================================================================\n",
            " char_input (InputLayer)        [(None, 1)]          0           []                               \n",
            "                                                                                                  \n",
            " token_input (InputLayer)       [(None,)]            0           []                               \n",
            "                                                                                                  \n",
            " text_vectorization_1 (TextVect  (None, 290)         0           ['char_input[0][0]']             \n",
            " orization)                                                                                       \n",
            "                                                                                                  \n",
            " keras_layer (KerasLayer)       (None, 512)          256797824   ['token_input[0][0]']            \n",
            "                                                                                                  \n",
            " embedding (Embedding)          (None, 290, 25)      700         ['text_vectorization_1[1][0]']   \n",
            "                                                                                                  \n",
            " dense_4 (Dense)                (None, 128)          65664       ['keras_layer[1][0]']            \n",
            "                                                                                                  \n",
            " bidirectional (Bidirectional)  (None, 48)           9600        ['embedding[1][0]']              \n",
            "                                                                                                  \n",
            " combine_char_token (Concatenat  (None, 176)         0           ['dense_4[0][0]',                \n",
            " e)                                                               'bidirectional[0][0]']          \n",
            "                                                                                                  \n",
            " dropout (Dropout)              (None, 176)          0           ['combine_char_token[0][0]']     \n",
            "                                                                                                  \n",
            " dense_5 (Dense)                (None, 128)          22656       ['dropout[0][0]']                \n",
            "                                                                                                  \n",
            " dropout_1 (Dropout)            (None, 128)          0           ['dense_5[0][0]']                \n",
            "                                                                                                  \n",
            " dense_6 (Dense)                (None, 5)            645         ['dropout_1[0][0]']              \n",
            "                                                                                                  \n",
            "==================================================================================================\n",
            "Total params: 256,897,089\n",
            "Trainable params: 99,265\n",
            "Non-trainable params: 256,797,824\n",
            "__________________________________________________________________________________________________\n"
          ]
        }
      ]
    },
    {
      "cell_type": "code",
      "source": [
        " from keras.utils import plot_model\n",
        " plot_model(model_4, show_shapes=True)"
      ],
      "metadata": {
        "colab": {
          "base_uri": "https://localhost:8080/",
          "height": 976
        },
        "id": "2xLFAu6XLmNN",
        "outputId": "dbf271d6-0619-4ab2-fb95-f1b701d5650d"
      },
      "execution_count": null,
      "outputs": [
        {
          "output_type": "execute_result",
          "data": {
            "image/png": "[encoded data removed]",
            "text/plain": [
              "<IPython.core.display.Image object>"
            ]
          },
          "metadata": {},
          "execution_count": 70
        }
      ]
    },
    {
      "cell_type": "markdown",
      "source": [
        "Compile Model"
      ],
      "metadata": {
        "id": "HkmdIEcuOrNQ"
      }
    },
    {
      "cell_type": "code",
      "source": [
        "model_4.compile(loss=\"categorical_crossentropy\",\n",
        "                optimizer=tf.keras.optimizers.Adam(),\n",
        "                metrics=[\"accuracy\"])"
      ],
      "metadata": {
        "id": "Gu-1VKuBOsoz"
      },
      "execution_count": null,
      "outputs": []
    },
    {
      "cell_type": "markdown",
      "source": [
        "Preprocess data as multi-input tensorflow Datasets"
      ],
      "metadata": {
        "id": "6Mox-h3rMUax"
      }
    },
    {
      "cell_type": "code",
      "source": [
        "concatenated_train_data = tf.data.Dataset.from_tensor_slices((train_sentences,train_chars))\n",
        "concatenated_train_labels = tf.data.Dataset.from_tensor_slices((train_labels_oh))\n",
        "concatenated_train_dataset = tf.data.Dataset.zip((concatenated_train_data,concatenated_train_labels))#Combining tensorflow Datasets\n",
        "#Prefetch and make batches\n",
        "concatenated_train_dataset=concatenated_train_dataset.batch(32).prefetch(tf.data.AUTOTUNE)"
      ],
      "metadata": {
        "id": "GtUuh0dZM_w8"
      },
      "execution_count": null,
      "outputs": []
    },
    {
      "cell_type": "code",
      "source": [
        "#Same for validation dataset\n",
        "concatenated_val_data = tf.data.Dataset.from_tensor_slices((val_sentences,val_chars))\n",
        "concatenated_val_labels = tf.data.Dataset.from_tensor_slices((val_labels_oh))\n",
        "concatenated_val_dataset = tf.data.Dataset.zip((concatenated_val_data,concatenated_val_labels))\n",
        "#Prefetch and make batches\n",
        "concatenated_val_dataset=concatenated_val_dataset.batch(32).prefetch(tf.data.AUTOTUNE)"
      ],
      "metadata": {
        "id": "K0jqO-AbP6AD"
      },
      "execution_count": null,
      "outputs": []
    },
    {
      "cell_type": "code",
      "source": [
        "concatenated_train_dataset,concatenated_val_dataset"
      ],
      "metadata": {
        "colab": {
          "base_uri": "https://localhost:8080/"
        },
        "id": "NmWDcaJQQj7p",
        "outputId": "d16f8b1b-09fa-4159-ff64-debd18d61c52"
      },
      "execution_count": null,
      "outputs": [
        {
          "output_type": "execute_result",
          "data": {
            "text/plain": [
              "(<PrefetchDataset element_spec=((TensorSpec(shape=(None,), dtype=tf.string, name=None), TensorSpec(shape=(None,), dtype=tf.string, name=None)), TensorSpec(shape=(None, 5), dtype=tf.float64, name=None))>,\n",
              " <PrefetchDataset element_spec=((TensorSpec(shape=(None,), dtype=tf.string, name=None), TensorSpec(shape=(None,), dtype=tf.string, name=None)), TensorSpec(shape=(None, 5), dtype=tf.float64, name=None))>)"
            ]
          },
          "metadata": {},
          "execution_count": 74
        }
      ]
    },
    {
      "cell_type": "markdown",
      "source": [
        "Fit the model"
      ],
      "metadata": {
        "id": "RuSGriOpQm_3"
      }
    },
    {
      "cell_type": "code",
      "source": [
        "history_4 = model_4.fit(concatenated_train_dataset,\n",
        "                        epochs=3,\n",
        "                        steps_per_epoch=int(0.1*len(concatenated_train_dataset)),\n",
        "                        validation_data=concatenated_val_dataset,\n",
        "                        validation_steps=int(0.1*len(concatenated_val_dataset)),\n",
        "                        callbacks=[tensorboard_callback,model_checkpoint])"
      ],
      "metadata": {
        "colab": {
          "base_uri": "https://localhost:8080/"
        },
        "id": "b5fOnCIOW16u",
        "outputId": "1ce2f51e-23b4-4c69-9899-306b387d457e"
      },
      "execution_count": null,
      "outputs": [
        {
          "output_type": "stream",
          "name": "stdout",
          "text": [
            "Epoch 1/3\n",
            "562/562 [==============================] - ETA: 0s - loss: 0.9851 - accuracy: 0.6029\n",
            "Epoch 1: val_accuracy did not improve from 0.81316\n",
            "562/562 [==============================] - 41s 54ms/step - loss: 0.9851 - accuracy: 0.6029 - val_loss: 0.7831 - val_accuracy: 0.6945\n",
            "Epoch 2/3\n",
            "562/562 [==============================] - ETA: 0s - loss: 0.8041 - accuracy: 0.6873\n",
            "Epoch 2: val_accuracy did not improve from 0.81316\n",
            "562/562 [==============================] - 28s 51ms/step - loss: 0.8041 - accuracy: 0.6873 - val_loss: 0.7182 - val_accuracy: 0.7264\n",
            "Epoch 3/3\n",
            "562/562 [==============================] - ETA: 0s - loss: 0.7789 - accuracy: 0.7028\n",
            "Epoch 3: val_accuracy did not improve from 0.81316\n",
            "562/562 [==============================] - 25s 45ms/step - loss: 0.7789 - accuracy: 0.7028 - val_loss: 0.6933 - val_accuracy: 0.7360\n"
          ]
        }
      ]
    },
    {
      "cell_type": "code",
      "source": [
        "model_4.evaluate(concatenated_val_dataset)"
      ],
      "metadata": {
        "colab": {
          "base_uri": "https://localhost:8080/"
        },
        "id": "EiNczYf_XPx4",
        "outputId": "01108b43-c4c7-42af-e1d2-6d138bbeeac4"
      },
      "execution_count": null,
      "outputs": [
        {
          "output_type": "stream",
          "name": "stdout",
          "text": [
            "945/945 [==============================] - 20s 22ms/step - loss: 0.6980 - accuracy: 0.7335\n"
          ]
        },
        {
          "output_type": "execute_result",
          "data": {
            "text/plain": [
              "[0.6980135440826416, 0.7335164546966553]"
            ]
          },
          "metadata": {},
          "execution_count": 76
        }
      ]
    },
    {
      "cell_type": "code",
      "source": [
        "model_4_pred_probs=model_4.predict(concatenated_val_dataset) # ???????????????\n",
        "model_4_pred_probs"
      ],
      "metadata": {
        "colab": {
          "base_uri": "https://localhost:8080/"
        },
        "id": "kp9BmDUcYEF2",
        "outputId": "9360a3b0-2cce-42e7-8894-b5f324eb6b86"
      },
      "execution_count": null,
      "outputs": [
        {
          "output_type": "stream",
          "name": "stdout",
          "text": [
            "945/945 [==============================] - 22s 20ms/step\n"
          ]
        },
        {
          "output_type": "execute_result",
          "data": {
            "text/plain": [
              "array([[4.5459077e-01, 3.4858426e-01, 4.0932037e-03, 1.8535857e-01,\n",
              "        7.3731928e-03],\n",
              "       [3.0006593e-01, 5.3569180e-01, 3.1404807e-03, 1.5933275e-01,\n",
              "        1.7690486e-03],\n",
              "       [3.0382472e-01, 1.7844084e-01, 4.8142787e-02, 4.2675704e-01,\n",
              "        4.2834543e-02],\n",
              "       ...,\n",
              "       [3.4271338e-04, 5.8712820e-03, 6.0145259e-02, 1.3389514e-04,\n",
              "        9.3350679e-01],\n",
              "       [9.8602409e-03, 6.7108884e-02, 2.3354451e-01, 4.0907850e-03,\n",
              "        6.8539560e-01],\n",
              "       [2.3109172e-01, 4.7365531e-01, 2.2558418e-01, 1.9074155e-02,\n",
              "        5.0594687e-02]], dtype=float32)"
            ]
          },
          "metadata": {},
          "execution_count": 77
        }
      ]
    },
    {
      "cell_type": "code",
      "source": [
        "model_4_predicts = tf.argmax(model_4_pred_probs,axis=1)\n",
        "model_4_predicts[:5]"
      ],
      "metadata": {
        "colab": {
          "base_uri": "https://localhost:8080/"
        },
        "id": "wbibSjs2YTMH",
        "outputId": "cc2f7862-f376-4f30-ff1f-2601e17474dd"
      },
      "execution_count": null,
      "outputs": [
        {
          "output_type": "execute_result",
          "data": {
            "text/plain": [
              "<tf.Tensor: shape=(5,), dtype=int64, numpy=array([0, 1, 3, 2, 2])>"
            ]
          },
          "metadata": {},
          "execution_count": 78
        }
      ]
    },
    {
      "cell_type": "code",
      "source": [
        "model_4_results = hp.calculate_results(val_labels_encode,model_4_predicts)\n",
        "model_4_results"
      ],
      "metadata": {
        "colab": {
          "base_uri": "https://localhost:8080/"
        },
        "id": "zDw4ACyyY6D4",
        "outputId": "dc84653d-88ca-4fc2-91ad-bf09f60a32fc"
      },
      "execution_count": null,
      "outputs": [
        {
          "output_type": "execute_result",
          "data": {
            "text/plain": [
              "{'accuracy': 73.35164835164835,\n",
              " 'precision': 0.734785682423711,\n",
              " 'recall': 0.7335164835164835,\n",
              " 'f1': 0.7305987364508678}"
            ]
          },
          "metadata": {},
          "execution_count": 79
        }
      ]
    },
    {
      "cell_type": "markdown",
      "source": [
        "# Model 5 : Both embeddings + positional embedding"
      ],
      "metadata": {
        "id": "kK04SxJZMJpc"
      }
    },
    {
      "cell_type": "markdown",
      "source": [
        "Preparing data for the model fitting"
      ],
      "metadata": {
        "id": "A9hudNE9Oga6"
      }
    },
    {
      "cell_type": "code",
      "source": [
        "train_df[\"line_num\"].value_counts()\n"
      ],
      "metadata": {
        "colab": {
          "base_uri": "https://localhost:8080/"
        },
        "id": "7HbMYU5DZdxJ",
        "outputId": "7e05e8d8-6181-4344-e300-303fb627e82e"
      },
      "execution_count": 42,
      "outputs": [
        {
          "output_type": "execute_result",
          "data": {
            "text/plain": [
              "0     15000\n",
              "1     15000\n",
              "2     15000\n",
              "3     15000\n",
              "4     14992\n",
              "5     14949\n",
              "6     14758\n",
              "7     14279\n",
              "8     13346\n",
              "9     11981\n",
              "10    10041\n",
              "11     7892\n",
              "12     5853\n",
              "13     4152\n",
              "14     2835\n",
              "15     1861\n",
              "16     1188\n",
              "17      751\n",
              "18      462\n",
              "19      286\n",
              "20      162\n",
              "21      101\n",
              "22       66\n",
              "23       33\n",
              "24       22\n",
              "25       14\n",
              "26        7\n",
              "27        4\n",
              "28        3\n",
              "29        1\n",
              "30        1\n",
              "Name: line_num, dtype: int64"
            ]
          },
          "metadata": {},
          "execution_count": 42
        }
      ]
    },
    {
      "cell_type": "code",
      "source": [
        "#Plot \n",
        "import seaborn as sns\n",
        "sns.histplot(data=train_df,x=\"line_num\",bins=15);"
      ],
      "metadata": {
        "colab": {
          "base_uri": "https://localhost:8080/",
          "height": 280
        },
        "id": "rC4fHJ5wJB_K",
        "outputId": "58566df9-1119-454d-e5a1-2afaf5c34153"
      },
      "execution_count": 43,
      "outputs": [
        {
          "output_type": "display_data",
          "data": {
            "text/plain": [
              "<Figure size 432x288 with 1 Axes>"
            ],
            "image/png": "[encoded data removed]"
          },
          "metadata": {
            "needs_background": "light"
          }
        }
      ]
    },
    {
      "cell_type": "code",
      "source": [
        "import numpy as np \n",
        "np.percentile(train_df[\"line_num\"],98)"
      ],
      "metadata": {
        "colab": {
          "base_uri": "https://localhost:8080/"
        },
        "id": "ZIWd9v_cId0s",
        "outputId": "c28c819a-f315-4aa4-d59f-5ee0c81a2d41"
      },
      "execution_count": 44,
      "outputs": [
        {
          "output_type": "execute_result",
          "data": {
            "text/plain": [
              "15.0"
            ]
          },
          "metadata": {},
          "execution_count": 44
        }
      ]
    },
    {
      "cell_type": "code",
      "source": [
        "#Because of the fact that up to 15 is about 98% of all of the train data, then one_hot will be performed with depth=15\n",
        "#To decrease size 2 times\n",
        "train_line_num_oh = tf.one_hot(train_df[\"line_num\"].to_numpy(),depth=15)\n",
        "val_line_num_oh = tf.one_hot(val_df[\"line_num\"].to_numpy(),depth=15)\n",
        "test_line_num_oh = tf.one_hot(test_df[\"line_num\"].to_numpy(),depth=15)\n",
        "train_line_num_oh[:5]"
      ],
      "metadata": {
        "colab": {
          "base_uri": "https://localhost:8080/"
        },
        "id": "kMRr5GCnIyfa",
        "outputId": "21b23ee3-a2d3-4db7-ea6e-09bb9405b9e2"
      },
      "execution_count": 45,
      "outputs": [
        {
          "output_type": "execute_result",
          "data": {
            "text/plain": [
              "<tf.Tensor: shape=(5, 15), dtype=float32, numpy=\n",
              "array([[1., 0., 0., 0., 0., 0., 0., 0., 0., 0., 0., 0., 0., 0., 0.],\n",
              "       [0., 1., 0., 0., 0., 0., 0., 0., 0., 0., 0., 0., 0., 0., 0.],\n",
              "       [0., 0., 1., 0., 0., 0., 0., 0., 0., 0., 0., 0., 0., 0., 0.],\n",
              "       [0., 0., 0., 1., 0., 0., 0., 0., 0., 0., 0., 0., 0., 0., 0.],\n",
              "       [0., 0., 0., 0., 1., 0., 0., 0., 0., 0., 0., 0., 0., 0., 0.]],\n",
              "      dtype=float32)>"
            ]
          },
          "metadata": {},
          "execution_count": 45
        }
      ]
    },
    {
      "cell_type": "code",
      "source": [
        "train_df[\"num_of_lines\"].value_counts()"
      ],
      "metadata": {
        "colab": {
          "base_uri": "https://localhost:8080/"
        },
        "id": "JlGBpNVxKS7F",
        "outputId": "69b43ae1-4d8f-462f-adb6-d176e30f5d10"
      },
      "execution_count": 46,
      "outputs": [
        {
          "output_type": "execute_result",
          "data": {
            "text/plain": [
              "11    24468\n",
              "10    23639\n",
              "12    22113\n",
              "9     19400\n",
              "13    18438\n",
              "14    14610\n",
              "8     12285\n",
              "15    10768\n",
              "7      7464\n",
              "16     7429\n",
              "17     5202\n",
              "6      3353\n",
              "18     3344\n",
              "19     2480\n",
              "20     1281\n",
              "5      1146\n",
              "21      770\n",
              "22      759\n",
              "23      264\n",
              "4       215\n",
              "24      200\n",
              "25      182\n",
              "26       81\n",
              "28       58\n",
              "3        32\n",
              "30       31\n",
              "27       28\n",
              "Name: num_of_lines, dtype: int64"
            ]
          },
          "metadata": {},
          "execution_count": 46
        }
      ]
    },
    {
      "cell_type": "code",
      "source": [
        "sns.histplot(data=train_df,x=\"num_of_lines\",bins=10);"
      ],
      "metadata": {
        "colab": {
          "base_uri": "https://localhost:8080/",
          "height": 282
        },
        "id": "hofV7N0hKWPo",
        "outputId": "99a4315c-14b5-48f7-d677-885084546043"
      },
      "execution_count": 47,
      "outputs": [
        {
          "output_type": "display_data",
          "data": {
            "text/plain": [
              "<Figure size 432x288 with 1 Axes>"
            ],
            "image/png": "[encoded data removed]"
          },
          "metadata": {
            "needs_background": "light"
          }
        }
      ]
    },
    {
      "cell_type": "code",
      "source": [
        "sum=0\n",
        "for i in range(3,20):\n",
        "  sum = sum + train_df[\"num_of_lines\"].value_counts()[i]\n",
        "sum"
      ],
      "metadata": {
        "colab": {
          "base_uri": "https://localhost:8080/"
        },
        "id": "c8UII8yFKXol",
        "outputId": "e51f47fa-4fd6-4ef0-d00c-3cfc32f4b33a"
      },
      "execution_count": 48,
      "outputs": [
        {
          "output_type": "execute_result",
          "data": {
            "text/plain": [
              "176386"
            ]
          },
          "metadata": {},
          "execution_count": 48
        }
      ]
    },
    {
      "cell_type": "code",
      "source": [
        "#Calculate percent\n",
        "perc = sum/len(train_df)*100\n",
        "perc"
      ],
      "metadata": {
        "colab": {
          "base_uri": "https://localhost:8080/"
        },
        "id": "XIDMMKDXK82b",
        "outputId": "c37a38de-b8d5-45fd-b728-154439e4b208"
      },
      "execution_count": 49,
      "outputs": [
        {
          "output_type": "execute_result",
          "data": {
            "text/plain": [
              "97.97045101088648"
            ]
          },
          "metadata": {},
          "execution_count": 49
        }
      ]
    },
    {
      "cell_type": "code",
      "source": [
        "#Due to the same fact as before - now depth will be 20\n",
        "train_total_lines_oh = tf.one_hot(train_df[\"num_of_lines\"].to_numpy(),depth=20)\n",
        "val_total_lines_oh = tf.one_hot(val_df[\"num_of_lines\"].to_numpy(),depth=20)\n",
        "test_total_lines_oh = tf.one_hot(test_df[\"num_of_lines\"].to_numpy(),depth=20)\n",
        "#Of course any abstract above 20 will have vector covered with zeros\n",
        "val_total_lines_oh[:2], val_total_lines_oh.shape"
      ],
      "metadata": {
        "colab": {
          "base_uri": "https://localhost:8080/"
        },
        "id": "whBec6VxLqBq",
        "outputId": "f7230383-1405-49f5-ee78-81b6eed4cc78"
      },
      "execution_count": 50,
      "outputs": [
        {
          "output_type": "execute_result",
          "data": {
            "text/plain": [
              "(<tf.Tensor: shape=(2, 20), dtype=float32, numpy=\n",
              " array([[0., 0., 0., 0., 0., 0., 0., 0., 0., 1., 0., 0., 0., 0., 0., 0.,\n",
              "         0., 0., 0., 0.],\n",
              "        [0., 0., 0., 0., 0., 0., 0., 0., 0., 1., 0., 0., 0., 0., 0., 0.,\n",
              "         0., 0., 0., 0.]], dtype=float32)>, TensorShape([30212, 20]))"
            ]
          },
          "metadata": {},
          "execution_count": 50
        }
      ]
    },
    {
      "cell_type": "markdown",
      "source": [
        "##  Building model 5\n",
        "\n",
        "1. Create token-level model\n",
        "2. Create character-level model\n",
        "3. Create model for number of line \n",
        "4. Create model for all lines of abstracts\n",
        "5. Combine models 1 and 2\n",
        "6. Combine models 5 with 3,4\n",
        "7. Output layer after combined models\n",
        "8. Combine all four inputs"
      ],
      "metadata": {
        "id": "3nP3GJ4QNwzK"
      }
    },
    {
      "cell_type": "code",
      "source": [
        "from tensorflow.keras import layers\n",
        "#1. Token-level model\n",
        "token_inputs = layers.Input(shape=[], dtype=tf.string,name=\"Token_input\")\n",
        "token_vectorizer = feature_extractor(token_inputs)\n",
        "token_output = layers.Dense(units=128,activation=\"relu\")(token_vectorizer)\n",
        "token_model_5 = tf.keras.Model(token_inputs,token_output)\n",
        "\n",
        "#2. Character-level model\n",
        "character_inputs = layers.Input(shape=(1,),\n",
        "                               dtype=tf.string,\n",
        "                               name=\"Char_input\",\n",
        "                               )\n",
        "character_vectorizer = char_vectorizer(character_inputs)\n",
        "character_embedding = embedding_char_layer(character_vectorizer)\n",
        "character_ouputs = layers.Bidirectional(layers.LSTM(32))(character_embedding)\n",
        "character_model_5 = tf.keras.Model(character_inputs,character_ouputs)\n",
        "\n",
        "#3. Num of lines model\n",
        "num_lines_inputs = layers.Input(shape=(15,),\n",
        "                                dtype=tf.float32,\n",
        "                                name=\"num_lines_input\")\n",
        "num_lines_outputs = layers.Dense(32,activation=\"relu\")(num_lines_inputs)\n",
        "num_lines_model_5 = tf.keras.Model(num_lines_inputs,\n",
        "                                   num_lines_outputs)\n",
        "\n",
        "#4. All lines of abstract model\n",
        "all_line_inputs = layers.Input(shape=(20,),\n",
        "                               dtype=tf.float32,\n",
        "                               name=\"all_lines_input\")\n",
        "all_line_outputs = layers.Dense(32,activation=\"relu\")(all_line_inputs)\n",
        "all_line_model_5 = tf.keras.Model(all_line_inputs,\n",
        "                                  all_line_outputs)\n",
        "#5. Concatenate model from 1/2\n",
        "Concat_model_12 = layers.Concatenate(name=\"Concat_model_12\")([token_model_5.output,\n",
        "                                                              character_model_5.output])\n",
        "\n",
        "\n",
        "a = layers.Dense(256,activation=\"relu\")(Concat_model_12)\n",
        "dropout_5 = layers.Dropout(0.5)(a) # Regularization\n",
        "\n",
        "#6. Concatenate model from 3/4/5 \n",
        "Concat_model_345 = layers.Concatenate(name=\"Concat_model_345\")([num_lines_model_5.output,\n",
        "                                                                all_line_model_5.output,\n",
        "                                                                dropout_5])\n",
        "\n",
        "#7. Output layer for all concatenated models\n",
        "output_layer = layers.Dense(5,activation=\"softmax\",name=\"output_layer\")(Concat_model_345)\n",
        "\n",
        "#8. Create end model\n",
        "model_5 = tf.keras.Model(inputs=[num_lines_model_5.input,\n",
        "                                 all_line_model_5.input,\n",
        "                                 token_model_5.input,\n",
        "                                 character_model_5.input],\n",
        "                         outputs=output_layer,\n",
        "                         name=\"model_5_tribrid\")"
      ],
      "metadata": {
        "id": "NTJ5nn9WPS3J"
      },
      "execution_count": 71,
      "outputs": []
    },
    {
      "cell_type": "code",
      "source": [
        "#Summary\n",
        "model_5.summary()"
      ],
      "metadata": {
        "colab": {
          "base_uri": "https://localhost:8080/"
        },
        "id": "sWnu6dkHdcH3",
        "outputId": "3dcdaba2-deab-40df-b938-3e307214e98c"
      },
      "execution_count": 72,
      "outputs": [
        {
          "output_type": "stream",
          "name": "stdout",
          "text": [
            "Model: \"model_5_tribrid\"\n",
            "__________________________________________________________________________________________________\n",
            " Layer (type)                   Output Shape         Param #     Connected to                     \n",
            "==================================================================================================\n",
            " Char_input (InputLayer)        [(None, 1)]          0           []                               \n",
            "                                                                                                  \n",
            " Token_input (InputLayer)       [(None,)]            0           []                               \n",
            "                                                                                                  \n",
            " text_vectorization_2 (TextVect  (None, 290)         0           ['Char_input[0][0]']             \n",
            " orization)                                                                                       \n",
            "                                                                                                  \n",
            " keras_layer (KerasLayer)       (None, 512)          256797824   ['Token_input[0][0]']            \n",
            "                                                                                                  \n",
            " embedding (Embedding)          (None, 290, 25)      700         ['text_vectorization_2[0][0]']   \n",
            "                                                                                                  \n",
            " dense_3 (Dense)                (None, 128)          65664       ['keras_layer[2][0]']            \n",
            "                                                                                                  \n",
            " bidirectional (Bidirectional)  (None, 64)           14848       ['embedding[0][0]']              \n",
            "                                                                                                  \n",
            " Concat_model_12 (Concatenate)  (None, 192)          0           ['dense_3[0][0]',                \n",
            "                                                                  'bidirectional[0][0]']          \n",
            "                                                                                                  \n",
            " num_lines_input (InputLayer)   [(None, 15)]         0           []                               \n",
            "                                                                                                  \n",
            " all_lines_input (InputLayer)   [(None, 20)]         0           []                               \n",
            "                                                                                                  \n",
            " dense_6 (Dense)                (None, 256)          49408       ['Concat_model_12[0][0]']        \n",
            "                                                                                                  \n",
            " dense_4 (Dense)                (None, 32)           512         ['num_lines_input[0][0]']        \n",
            "                                                                                                  \n",
            " dense_5 (Dense)                (None, 32)           672         ['all_lines_input[0][0]']        \n",
            "                                                                                                  \n",
            " dropout (Dropout)              (None, 256)          0           ['dense_6[0][0]']                \n",
            "                                                                                                  \n",
            " Concat_model_345 (Concatenate)  (None, 320)         0           ['dense_4[0][0]',                \n",
            "                                                                  'dense_5[0][0]',                \n",
            "                                                                  'dropout[0][0]']                \n",
            "                                                                                                  \n",
            " output_layer (Dense)           (None, 5)            1605        ['Concat_model_345[0][0]']       \n",
            "                                                                                                  \n",
            "==================================================================================================\n",
            "Total params: 256,931,233\n",
            "Trainable params: 133,409\n",
            "Non-trainable params: 256,797,824\n",
            "__________________________________________________________________________________________________\n"
          ]
        }
      ]
    },
    {
      "cell_type": "code",
      "source": [
        "#Visualize model 5\n",
        "from keras.utils import plot_model\n",
        "plot_model(model_5)"
      ],
      "metadata": {
        "colab": {
          "base_uri": "https://localhost:8080/",
          "height": 856
        },
        "id": "iB7gRZ3MeLxi",
        "outputId": "4070665c-3ea2-4c14-9444-601918c4e0b3"
      },
      "execution_count": 73,
      "outputs": [
        {
          "output_type": "execute_result",
          "data": {
            "image/png": "[encoded data removed]",
            "text/plain": [
              "<IPython.core.display.Image object>"
            ]
          },
          "metadata": {},
          "execution_count": 73
        }
      ]
    },
    {
      "cell_type": "markdown",
      "source": [
        "Compile the Model"
      ],
      "metadata": {
        "id": "WF-25l9fegUr"
      }
    },
    {
      "cell_type": "code",
      "source": [
        "model_5.compile(loss=tf.keras.losses.CategoricalCrossentropy(label_smoothing=0.2),\n",
        "                optimizer=tf.keras.optimizers.Adam(),\n",
        "                metrics=[\"accuracy\"])"
      ],
      "metadata": {
        "id": "gdcSHah-fXET"
      },
      "execution_count": 74,
      "outputs": []
    },
    {
      "cell_type": "markdown",
      "source": [
        "Make train dataset\n"
      ],
      "metadata": {
        "id": "JD2uFvfFmUPL"
      }
    },
    {
      "cell_type": "code",
      "source": [
        "train_all__sentence_dataset = tf.data.Dataset.from_tensor_slices((train_line_num_oh,\n",
        "                                                                  train_total_lines_oh,\n",
        "                                                                  train_sentences,\n",
        "                                                                  train_chars))\n",
        "                                                  \n",
        "train_all_labels_dataset = tf.data.Dataset.from_tensor_slices((train_labels_oh))\n",
        "train_all_dataset = tf.data.Dataset.zip((train_all__sentence_dataset , train_all_labels_dataset)).batch(32).prefetch(tf.data.AUTOTUNE)"
      ],
      "metadata": {
        "id": "HA4yNipNhRnx"
      },
      "execution_count": 75,
      "outputs": []
    },
    {
      "cell_type": "markdown",
      "source": [
        "Make validation dataset"
      ],
      "metadata": {
        "id": "pw--DtgymXjN"
      }
    },
    {
      "cell_type": "code",
      "source": [
        "val_all__sentence_dataset = tf.data.Dataset.from_tensor_slices((val_line_num_oh,\n",
        "                                                                  val_total_lines_oh,\n",
        "                                                                  val_sentences,\n",
        "                                                                  val_chars))\n",
        "                                                  \n",
        "val_all_labels_dataset = tf.data.Dataset.from_tensor_slices((val_labels_oh))\n",
        "val_all_dataset = tf.data.Dataset.zip((val_all__sentence_dataset , val_all_labels_dataset)).batch(32).prefetch(tf.data.AUTOTUNE)"
      ],
      "metadata": {
        "id": "9ZnwbLS6mbao"
      },
      "execution_count": 76,
      "outputs": []
    },
    {
      "cell_type": "markdown",
      "source": [
        "Fit model5"
      ],
      "metadata": {
        "id": "qni5wZvPnHKh"
      }
    },
    {
      "cell_type": "code",
      "source": [
        "train_all__sentence_dataset, val_all__sentence_dataset"
      ],
      "metadata": {
        "colab": {
          "base_uri": "https://localhost:8080/"
        },
        "id": "v58__jninI6r",
        "outputId": "41390125-e44b-4189-8a62-861e11f05e35"
      },
      "execution_count": 77,
      "outputs": [
        {
          "output_type": "execute_result",
          "data": {
            "text/plain": [
              "(<TensorSliceDataset element_spec=(TensorSpec(shape=(15,), dtype=tf.float32, name=None), TensorSpec(shape=(20,), dtype=tf.float32, name=None), TensorSpec(shape=(), dtype=tf.string, name=None), TensorSpec(shape=(), dtype=tf.string, name=None))>,\n",
              " <TensorSliceDataset element_spec=(TensorSpec(shape=(15,), dtype=tf.float32, name=None), TensorSpec(shape=(20,), dtype=tf.float32, name=None), TensorSpec(shape=(), dtype=tf.string, name=None), TensorSpec(shape=(), dtype=tf.string, name=None))>)"
            ]
          },
          "metadata": {},
          "execution_count": 77
        }
      ]
    },
    {
      "cell_type": "code",
      "source": [
        "history_5 = model_5.fit(train_all_dataset,\n",
        "                        epochs=3,\n",
        "                        steps_per_epoch=int(0.1*len(train_all_dataset)),\n",
        "                        validation_data=val_all_dataset,\n",
        "                        validation_steps=int(0.1*len(val_all_dataset)),\n",
        "                        callbacks=[tensorboard_callback,model_checkpoint])"
      ],
      "metadata": {
        "colab": {
          "base_uri": "https://localhost:8080/"
        },
        "id": "TVQi_hxfnrEc",
        "outputId": "c0b18799-eedc-4bdf-f465-705ae1c64014"
      },
      "execution_count": 83,
      "outputs": [
        {
          "output_type": "stream",
          "name": "stdout",
          "text": [
            "Epoch 1/3\n",
            "562/562 [==============================] - ETA: 0s - loss: 0.9036 - accuracy: 0.8635\n",
            "Epoch 1: val_accuracy did not improve from 0.84707\n",
            "562/562 [==============================] - 222s 394ms/step - loss: 0.9036 - accuracy: 0.8635 - val_loss: 0.9132 - val_accuracy: 0.8438\n",
            "Epoch 2/3\n",
            "562/562 [==============================] - ETA: 0s - loss: 0.8885 - accuracy: 0.8720\n",
            "Epoch 2: val_accuracy did not improve from 0.84707\n",
            "562/562 [==============================] - 223s 397ms/step - loss: 0.8885 - accuracy: 0.8720 - val_loss: 0.9155 - val_accuracy: 0.8461\n",
            "Epoch 3/3\n",
            "562/562 [==============================] - ETA: 0s - loss: 0.8881 - accuracy: 0.8691\n",
            "Epoch 3: val_accuracy did not improve from 0.84707\n",
            "562/562 [==============================] - 223s 397ms/step - loss: 0.8881 - accuracy: 0.8691 - val_loss: 0.9209 - val_accuracy: 0.8391\n"
          ]
        }
      ]
    },
    {
      "cell_type": "markdown",
      "source": [
        "#Evaluation - Compare models"
      ],
      "metadata": {
        "id": "ZbYu0bXi1sEL"
      }
    },
    {
      "cell_type": "code",
      "source": [
        "model_5_pred_probs = model_5.predict(val_all_dataset)\n",
        "model_5_predicts = tf.argmax(model_5_pred_probs,axis=1)\n",
        "model_5_predicts"
      ],
      "metadata": {
        "colab": {
          "base_uri": "https://localhost:8080/"
        },
        "id": "s4Ehrwa0pVmz",
        "outputId": "fa9a84fe-1b1f-4281-b366-030e6c72df2e"
      },
      "execution_count": 84,
      "outputs": [
        {
          "output_type": "stream",
          "name": "stdout",
          "text": [
            "945/945 [==============================] - 80s 81ms/step\n"
          ]
        },
        {
          "output_type": "execute_result",
          "data": {
            "text/plain": [
              "<tf.Tensor: shape=(30212,), dtype=int64, numpy=array([0, 0, 3, ..., 4, 4, 1])>"
            ]
          },
          "metadata": {},
          "execution_count": 84
        }
      ]
    },
    {
      "cell_type": "code",
      "source": [
        "model_5_results = hp.calculate_results(val_labels_encode,model_5_predicts)\n",
        "model_5_results"
      ],
      "metadata": {
        "colab": {
          "base_uri": "https://localhost:8080/"
        },
        "id": "9STh_J-lvCzR",
        "outputId": "d534b9d8-c672-400c-e4ee-29cbb9e1f36d"
      },
      "execution_count": 85,
      "outputs": [
        {
          "output_type": "execute_result",
          "data": {
            "text/plain": [
              "{'accuracy': 84.33734939759037,\n",
              " 'precision': 0.8426940079202772,\n",
              " 'recall': 0.8433734939759037,\n",
              " 'f1': 0.8428140402838205}"
            ]
          },
          "metadata": {},
          "execution_count": 85
        }
      ]
    },
    {
      "cell_type": "code",
      "source": [
        "#Model results \n",
        "import pandas as pd\n",
        "model_results = pd.DataFrame({\"model_0\": model_0_results,\n",
        "                             \"model_1_Conv1D\":model_1_results,\n",
        "                             \"model_2_TF_HUB\":model_2_results,\n",
        "                             \"model_3_Conv1D_Char\":model_3_results,\n",
        "                             \"model_4_Char_Token\":model_4_results,\n",
        "                             \"model_5_char_token_pos\":model_5_results}).transpose()\n",
        "model_results[\"accuracy\"] = model_results[\"accuracy\"]/100\n",
        "model_results"
      ],
      "metadata": {
        "colab": {
          "base_uri": "https://localhost:8080/",
          "height": 235
        },
        "id": "7Y6dLG9x1iAa",
        "outputId": "7b0dfbf9-efc6-4f3d-9b29-b19d020965a3"
      },
      "execution_count": 86,
      "outputs": [
        {
          "output_type": "error",
          "ename": "NameError",
          "evalue": "ignored",
          "traceback": [
            "\u001b[0;31m---------------------------------------------------------------------------\u001b[0m",
            "\u001b[0;31mNameError\u001b[0m                                 Traceback (most recent call last)",
            "\u001b[0;32m<ipython-input-86-f6d36d1212e0>\u001b[0m in \u001b[0;36m<module>\u001b[0;34m\u001b[0m\n\u001b[1;32m      1\u001b[0m \u001b[0;31m#Model results\u001b[0m\u001b[0;34m\u001b[0m\u001b[0;34m\u001b[0m\u001b[0;34m\u001b[0m\u001b[0m\n\u001b[1;32m      2\u001b[0m \u001b[0;32mimport\u001b[0m \u001b[0mpandas\u001b[0m \u001b[0;32mas\u001b[0m \u001b[0mpd\u001b[0m\u001b[0;34m\u001b[0m\u001b[0;34m\u001b[0m\u001b[0m\n\u001b[0;32m----> 3\u001b[0;31m model_results = pd.DataFrame({\"model_0\": model_0_results,\n\u001b[0m\u001b[1;32m      4\u001b[0m                              \u001b[0;34m\"model_1_Conv1D\"\u001b[0m\u001b[0;34m:\u001b[0m\u001b[0mmodel_1_results\u001b[0m\u001b[0;34m,\u001b[0m\u001b[0;34m\u001b[0m\u001b[0;34m\u001b[0m\u001b[0m\n\u001b[1;32m      5\u001b[0m                              \u001b[0;34m\"model_2_TF_HUB\"\u001b[0m\u001b[0;34m:\u001b[0m\u001b[0mmodel_2_results\u001b[0m\u001b[0;34m,\u001b[0m\u001b[0;34m\u001b[0m\u001b[0;34m\u001b[0m\u001b[0m\n",
            "\u001b[0;31mNameError\u001b[0m: name 'model_0_results' is not defined"
          ]
        }
      ]
    },
    {
      "cell_type": "code",
      "source": [
        "model_results.plot(kind=\"bar\", figsize=(8,6)).legend(bbox_to_anchor=(1.0,1.0));"
      ],
      "metadata": {
        "id": "HXZWoywn5MeK"
      },
      "execution_count": null,
      "outputs": []
    },
    {
      "cell_type": "code",
      "source": [
        "model_results[\"f1\"].sort_values(ascending=True).plot(kind=\"bar\")"
      ],
      "metadata": {
        "id": "hzNtES7Y6Bhh"
      },
      "execution_count": null,
      "outputs": []
    },
    {
      "cell_type": "markdown",
      "source": [
        "#Save model 5"
      ],
      "metadata": {
        "id": "Ku5ci8ILAaAl"
      }
    },
    {
      "cell_type": "code",
      "source": [
        "model_5.save(\"model_5\")"
      ],
      "metadata": {
        "colab": {
          "base_uri": "https://localhost:8080/"
        },
        "id": "IN1Rqp8TAepN",
        "outputId": "f519b914-9181-4419-e50d-4aac5a2ac3ee"
      },
      "execution_count": 87,
      "outputs": [
        {
          "output_type": "stream",
          "name": "stderr",
          "text": [
            "WARNING:absl:Function `_wrapped_model` contains input name(s) Token_input, Char_input with unsupported characters which will be renamed to token_input, char_input in the SavedModel.\n",
            "WARNING:absl:Found untraced functions such as _update_step_xla, lstm_cell_1_layer_call_fn, lstm_cell_1_layer_call_and_return_conditional_losses, lstm_cell_2_layer_call_fn, lstm_cell_2_layer_call_and_return_conditional_losses while saving (showing 5 of 5). These functions will not be directly callable after loading.\n"
          ]
        }
      ]
    },
    {
      "cell_type": "code",
      "source": [
        "loaded_model5 = tf.keras.models.load_model(\"model_5\")"
      ],
      "metadata": {
        "id": "Fz6lIfnwAjo3"
      },
      "execution_count": 88,
      "outputs": []
    },
    {
      "cell_type": "code",
      "source": [
        "loaded_model5.evaluate(val_all_dataset)"
      ],
      "metadata": {
        "colab": {
          "base_uri": "https://localhost:8080/"
        },
        "id": "WQ9XXjOoA1Jr",
        "outputId": "ac469237-a702-49f0-8191-610173e49413"
      },
      "execution_count": 89,
      "outputs": [
        {
          "output_type": "stream",
          "name": "stdout",
          "text": [
            "945/945 [==============================] - 81s 81ms/step - loss: 0.9180 - accuracy: 0.8434\n"
          ]
        },
        {
          "output_type": "execute_result",
          "data": {
            "text/plain": [
              "[0.9180305004119873, 0.8433734774589539]"
            ]
          },
          "metadata": {},
          "execution_count": 89
        }
      ]
    },
    {
      "cell_type": "code",
      "source": [
        "test_line_num_oh,test_labels_oh,test_total_lines_oh,test_sentences"
      ],
      "metadata": {
        "id": "US_SqcujVjqh"
      },
      "execution_count": null,
      "outputs": []
    },
    {
      "cell_type": "code",
      "source": [
        "import tensorflow as tf\n",
        "test_sentece_dataset = tf.data.Dataset.from_tensor_slices((test_line_num_oh,\n",
        "                                                           test_total_lines_oh,\n",
        "                                                           test_sentences,\n",
        "                                                           test_chars))\n",
        "\n",
        "test_labels_dataset = tf.data.Dataset.from_tensor_slices((test_labels_oh))\n",
        "test_all_dataset = tf.data.Dataset.zip((test_sentece_dataset,test_labels_dataset)).batch(32).prefetch(tf.data.AUTOTUNE)\n",
        "test_all_dataset"
      ],
      "metadata": {
        "colab": {
          "base_uri": "https://localhost:8080/"
        },
        "id": "AdLPBgm5mqw3",
        "outputId": "b21811c7-470e-40e0-adb1-a2253156c8a9"
      },
      "execution_count": 92,
      "outputs": [
        {
          "output_type": "execute_result",
          "data": {
            "text/plain": [
              "<PrefetchDataset element_spec=((TensorSpec(shape=(None, 15), dtype=tf.float32, name=None), TensorSpec(shape=(None, 20), dtype=tf.float32, name=None), TensorSpec(shape=(None,), dtype=tf.string, name=None), TensorSpec(shape=(None,), dtype=tf.string, name=None)), TensorSpec(shape=(None, 5), dtype=tf.float64, name=None))>"
            ]
          },
          "metadata": {},
          "execution_count": 92
        }
      ]
    },
    {
      "cell_type": "markdown",
      "source": [
        "# MODEL 5 EVALUATION\n",
        "\n",
        "- Looking for the worst predicted labels"
      ],
      "metadata": {
        "id": "GyytK5VTqoWG"
      }
    },
    {
      "cell_type": "code",
      "source": [
        "model_5.evaluate(test_all_dataset)"
      ],
      "metadata": {
        "colab": {
          "base_uri": "https://localhost:8080/"
        },
        "id": "sgJhGNcpnc2D",
        "outputId": "ca35512b-75eb-4ca7-ae6a-6173f8bbe8d0"
      },
      "execution_count": 131,
      "outputs": [
        {
          "output_type": "stream",
          "name": "stdout",
          "text": [
            "942/942 [==============================] - 78s 83ms/step - loss: 0.9253 - accuracy: 0.8396\n"
          ]
        },
        {
          "output_type": "execute_result",
          "data": {
            "text/plain": [
              "[0.9253462553024292, 0.8395553231239319]"
            ]
          },
          "metadata": {},
          "execution_count": 131
        }
      ]
    },
    {
      "cell_type": "code",
      "source": [
        "model_5_pred_probs = model_5.predict(test_all_dataset)"
      ],
      "metadata": {
        "colab": {
          "base_uri": "https://localhost:8080/"
        },
        "id": "DjFWg8NCnhTo",
        "outputId": "bae1e3ce-7511-498b-9147-daf293a5cd46"
      },
      "execution_count": 94,
      "outputs": [
        {
          "output_type": "stream",
          "name": "stdout",
          "text": [
            "942/942 [==============================] - 78s 82ms/step\n"
          ]
        }
      ]
    },
    {
      "cell_type": "code",
      "source": [
        "model_5_predicts = tf.argmax(model_5_pred_probs, axis=1)\n",
        "model_5_predicts[:5]"
      ],
      "metadata": {
        "colab": {
          "base_uri": "https://localhost:8080/"
        },
        "id": "Ga9KYKh3n80U",
        "outputId": "f2782444-304d-4abe-e26d-386bc0fbceaa"
      },
      "execution_count": 95,
      "outputs": [
        {
          "output_type": "execute_result",
          "data": {
            "text/plain": [
              "<tf.Tensor: shape=(5,), dtype=int64, numpy=array([3, 0, 2, 2, 4])>"
            ]
          },
          "metadata": {},
          "execution_count": 95
        }
      ]
    },
    {
      "cell_type": "code",
      "source": [
        "train_labels_encode[:5]"
      ],
      "metadata": {
        "colab": {
          "base_uri": "https://localhost:8080/"
        },
        "id": "v730SDd2oEfs",
        "outputId": "e12d6b1c-0195-48c3-addb-35c23d918dee"
      },
      "execution_count": 96,
      "outputs": [
        {
          "output_type": "execute_result",
          "data": {
            "text/plain": [
              "array([3, 2, 2, 2, 2])"
            ]
          },
          "metadata": {},
          "execution_count": 96
        }
      ]
    },
    {
      "cell_type": "code",
      "source": [
        "import pandas as pd\n",
        "train_pred_df = pd.DataFrame({'true labels':test_labels_encode,\n",
        "                              'predicted':model_5_predicts,\n",
        "                              'probability':tf.reduce_max(model_5_pred_probs,axis=1),\n",
        "                              'sentence':test_sentences,\n",
        "                              'class_name':[label_encoder.classes_[i] for i in test_labels_encode],\n",
        "                              'predicted_class_name':[label_encoder.classes_[j] for j in model_5_predicts]})\n",
        "train_pred_df"
      ],
      "metadata": {
        "colab": {
          "base_uri": "https://localhost:8080/",
          "height": 424
        },
        "id": "3HJkw2hKoRyQ",
        "outputId": "b47a39cd-fc17-48ca-cbfb-0d905e52dcee"
      },
      "execution_count": 112,
      "outputs": [
        {
          "output_type": "execute_result",
          "data": {
            "text/plain": [
              "       true labels  predicted  probability  \\\n",
              "0                0          3     0.512653   \n",
              "1                4          0     0.356111   \n",
              "2                4          2     0.794711   \n",
              "3                4          2     0.473863   \n",
              "4                4          4     0.778014   \n",
              "...            ...        ...          ...   \n",
              "30130            4          4     0.820945   \n",
              "30131            4          4     0.715138   \n",
              "30132            4          4     0.681510   \n",
              "30133            4          4     0.800157   \n",
              "30134            1          1     0.723720   \n",
              "\n",
              "                                                sentence   class_name  \\\n",
              "0      this study analyzed liver function abnormaliti...   BACKGROUND   \n",
              "1      a post hoc analysis was conducted with the use...      RESULTS   \n",
              "2      liver function tests ( lfts ) were measured at...      RESULTS   \n",
              "3      survival analyses were used to assess the asso...      RESULTS   \n",
              "4      the percentage of patients with abnormal lfts ...      RESULTS   \n",
              "...                                                  ...          ...   \n",
              "30130  there was a statistically significant between-...      RESULTS   \n",
              "30131  there were no statistically significant betwee...      RESULTS   \n",
              "30132  there was no significant association between s...      RESULTS   \n",
              "30133                 no adverse effects were reported .      RESULTS   \n",
              "30134  performing a @-week do-as-tolerated program of...  CONCLUSIONS   \n",
              "\n",
              "      predicted_class_name  \n",
              "0                OBJECTIVE  \n",
              "1               BACKGROUND  \n",
              "2                  METHODS  \n",
              "3                  METHODS  \n",
              "4                  RESULTS  \n",
              "...                    ...  \n",
              "30130              RESULTS  \n",
              "30131              RESULTS  \n",
              "30132              RESULTS  \n",
              "30133              RESULTS  \n",
              "30134          CONCLUSIONS  \n",
              "\n",
              "[30135 rows x 6 columns]"
            ],
            "text/html": [
              "\n",
              "  <div id=\"df-b0f9e8ab-fcf8-4849-a397-c45d2456526d\">\n",
              "    <div class=\"colab-df-container\">\n",
              "      <div>\n",
              "<style scoped>\n",
              "    .dataframe tbody tr th:only-of-type {\n",
              "        vertical-align: middle;\n",
              "    }\n",
              "\n",
              "    .dataframe tbody tr th {\n",
              "        vertical-align: top;\n",
              "    }\n",
              "\n",
              "    .dataframe thead th {\n",
              "        text-align: right;\n",
              "    }\n",
              "</style>\n",
              "<table border=\"1\" class=\"dataframe\">\n",
              "  <thead>\n",
              "    <tr style=\"text-align: right;\">\n",
              "      <th></th>\n",
              "      <th>true labels</th>\n",
              "      <th>predicted</th>\n",
              "      <th>probability</th>\n",
              "      <th>sentence</th>\n",
              "      <th>class_name</th>\n",
              "      <th>predicted_class_name</th>\n",
              "    </tr>\n",
              "  </thead>\n",
              "  <tbody>\n",
              "    <tr>\n",
              "      <th>0</th>\n",
              "      <td>0</td>\n",
              "      <td>3</td>\n",
              "      <td>0.512653</td>\n",
              "      <td>this study analyzed liver function abnormaliti...</td>\n",
              "      <td>BACKGROUND</td>\n",
              "      <td>OBJECTIVE</td>\n",
              "    </tr>\n",
              "    <tr>\n",
              "      <th>1</th>\n",
              "      <td>4</td>\n",
              "      <td>0</td>\n",
              "      <td>0.356111</td>\n",
              "      <td>a post hoc analysis was conducted with the use...</td>\n",
              "      <td>RESULTS</td>\n",
              "      <td>BACKGROUND</td>\n",
              "    </tr>\n",
              "    <tr>\n",
              "      <th>2</th>\n",
              "      <td>4</td>\n",
              "      <td>2</td>\n",
              "      <td>0.794711</td>\n",
              "      <td>liver function tests ( lfts ) were measured at...</td>\n",
              "      <td>RESULTS</td>\n",
              "      <td>METHODS</td>\n",
              "    </tr>\n",
              "    <tr>\n",
              "      <th>3</th>\n",
              "      <td>4</td>\n",
              "      <td>2</td>\n",
              "      <td>0.473863</td>\n",
              "      <td>survival analyses were used to assess the asso...</td>\n",
              "      <td>RESULTS</td>\n",
              "      <td>METHODS</td>\n",
              "    </tr>\n",
              "    <tr>\n",
              "      <th>4</th>\n",
              "      <td>4</td>\n",
              "      <td>4</td>\n",
              "      <td>0.778014</td>\n",
              "      <td>the percentage of patients with abnormal lfts ...</td>\n",
              "      <td>RESULTS</td>\n",
              "      <td>RESULTS</td>\n",
              "    </tr>\n",
              "    <tr>\n",
              "      <th>...</th>\n",
              "      <td>...</td>\n",
              "      <td>...</td>\n",
              "      <td>...</td>\n",
              "      <td>...</td>\n",
              "      <td>...</td>\n",
              "      <td>...</td>\n",
              "    </tr>\n",
              "    <tr>\n",
              "      <th>30130</th>\n",
              "      <td>4</td>\n",
              "      <td>4</td>\n",
              "      <td>0.820945</td>\n",
              "      <td>there was a statistically significant between-...</td>\n",
              "      <td>RESULTS</td>\n",
              "      <td>RESULTS</td>\n",
              "    </tr>\n",
              "    <tr>\n",
              "      <th>30131</th>\n",
              "      <td>4</td>\n",
              "      <td>4</td>\n",
              "      <td>0.715138</td>\n",
              "      <td>there were no statistically significant betwee...</td>\n",
              "      <td>RESULTS</td>\n",
              "      <td>RESULTS</td>\n",
              "    </tr>\n",
              "    <tr>\n",
              "      <th>30132</th>\n",
              "      <td>4</td>\n",
              "      <td>4</td>\n",
              "      <td>0.681510</td>\n",
              "      <td>there was no significant association between s...</td>\n",
              "      <td>RESULTS</td>\n",
              "      <td>RESULTS</td>\n",
              "    </tr>\n",
              "    <tr>\n",
              "      <th>30133</th>\n",
              "      <td>4</td>\n",
              "      <td>4</td>\n",
              "      <td>0.800157</td>\n",
              "      <td>no adverse effects were reported .</td>\n",
              "      <td>RESULTS</td>\n",
              "      <td>RESULTS</td>\n",
              "    </tr>\n",
              "    <tr>\n",
              "      <th>30134</th>\n",
              "      <td>1</td>\n",
              "      <td>1</td>\n",
              "      <td>0.723720</td>\n",
              "      <td>performing a @-week do-as-tolerated program of...</td>\n",
              "      <td>CONCLUSIONS</td>\n",
              "      <td>CONCLUSIONS</td>\n",
              "    </tr>\n",
              "  </tbody>\n",
              "</table>\n",
              "<p>30135 rows × 6 columns</p>\n",
              "</div>\n",
              "      <button class=\"colab-df-convert\" onclick=\"convertToInteractive('df-b0f9e8ab-fcf8-4849-a397-c45d2456526d')\"\n",
              "              title=\"Convert this dataframe to an interactive table.\"\n",
              "              style=\"display:none;\">\n",
              "        \n",
              "  <svg xmlns=\"http://www.w3.org/2000/svg\" height=\"24px\"viewBox=\"0 0 24 24\"\n",
              "       width=\"24px\">\n",
              "    <path d=\"M0 0h24v24H0V0z\" fill=\"none\"/>\n",
              "    <path d=\"M18.56 5.44l.94 2.06.94-2.06 2.06-.94-2.06-.94-.94-2.06-.94 2.06-2.06.94zm-11 1L8.5 8.5l.94-2.06 2.06-.94-2.06-.94L8.5 2.5l-.94 2.06-2.06.94zm10 10l.94 2.06.94-2.06 2.06-.94-2.06-.94-.94-2.06-.94 2.06-2.06.94z\"/><path d=\"M17.41 7.96l-1.37-1.37c-.4-.4-.92-.59-1.43-.59-.52 0-1.04.2-1.43.59L10.3 9.45l-7.72 7.72c-.78.78-.78 2.05 0 2.83L4 21.41c.39.39.9.59 1.41.59.51 0 1.02-.2 1.41-.59l7.78-7.78 2.81-2.81c.8-.78.8-2.07 0-2.86zM5.41 20L4 18.59l7.72-7.72 1.47 1.35L5.41 20z\"/>\n",
              "  </svg>\n",
              "      </button>\n",
              "      \n",
              "  <style>\n",
              "    .colab-df-container {\n",
              "      display:flex;\n",
              "      flex-wrap:wrap;\n",
              "      gap: 12px;\n",
              "    }\n",
              "\n",
              "    .colab-df-convert {\n",
              "      background-color: #E8F0FE;\n",
              "      border: none;\n",
              "      border-radius: 50%;\n",
              "      cursor: pointer;\n",
              "      display: none;\n",
              "      fill: #1967D2;\n",
              "      height: 32px;\n",
              "      padding: 0 0 0 0;\n",
              "      width: 32px;\n",
              "    }\n",
              "\n",
              "    .colab-df-convert:hover {\n",
              "      background-color: #E2EBFA;\n",
              "      box-shadow: 0px 1px 2px rgba(60, 64, 67, 0.3), 0px 1px 3px 1px rgba(60, 64, 67, 0.15);\n",
              "      fill: #174EA6;\n",
              "    }\n",
              "\n",
              "    [theme=dark] .colab-df-convert {\n",
              "      background-color: #3B4455;\n",
              "      fill: #D2E3FC;\n",
              "    }\n",
              "\n",
              "    [theme=dark] .colab-df-convert:hover {\n",
              "      background-color: #434B5C;\n",
              "      box-shadow: 0px 1px 3px 1px rgba(0, 0, 0, 0.15);\n",
              "      filter: drop-shadow(0px 1px 2px rgba(0, 0, 0, 0.3));\n",
              "      fill: #FFFFFF;\n",
              "    }\n",
              "  </style>\n",
              "\n",
              "      <script>\n",
              "        const buttonEl =\n",
              "          document.querySelector('#df-b0f9e8ab-fcf8-4849-a397-c45d2456526d button.colab-df-convert');\n",
              "        buttonEl.style.display =\n",
              "          google.colab.kernel.accessAllowed ? 'block' : 'none';\n",
              "\n",
              "        async function convertToInteractive(key) {\n",
              "          const element = document.querySelector('#df-b0f9e8ab-fcf8-4849-a397-c45d2456526d');\n",
              "          const dataTable =\n",
              "            await google.colab.kernel.invokeFunction('convertToInteractive',\n",
              "                                                     [key], {});\n",
              "          if (!dataTable) return;\n",
              "\n",
              "          const docLinkHtml = 'Like what you see? Visit the ' +\n",
              "            '<a target=\"_blank\" href=https://colab.research.google.com/notebooks/data_table.ipynb>data table notebook</a>'\n",
              "            + ' to learn more about interactive tables.';\n",
              "          element.innerHTML = '';\n",
              "          dataTable['output_type'] = 'display_data';\n",
              "          await google.colab.output.renderOutput(dataTable, element);\n",
              "          const docLink = document.createElement('div');\n",
              "          docLink.innerHTML = docLinkHtml;\n",
              "          element.appendChild(docLink);\n",
              "        }\n",
              "      </script>\n",
              "    </div>\n",
              "  </div>\n",
              "  "
            ]
          },
          "metadata": {},
          "execution_count": 112
        }
      ]
    },
    {
      "cell_type": "code",
      "source": [
        "train_pred_df[\"is correct?\"] = train_pred_df[\"true labels\"] == train_pred_df[\"predicted\"]\n",
        "train_pred_df.head()"
      ],
      "metadata": {
        "colab": {
          "base_uri": "https://localhost:8080/",
          "height": 206
        },
        "id": "iRPmwcbTostU",
        "outputId": "0b7fc2a7-f29f-41eb-f7e4-75903c37f417"
      },
      "execution_count": 115,
      "outputs": [
        {
          "output_type": "execute_result",
          "data": {
            "text/plain": [
              "   true labels  predicted  probability  \\\n",
              "0            0          3     0.512653   \n",
              "1            4          0     0.356111   \n",
              "2            4          2     0.794711   \n",
              "3            4          2     0.473863   \n",
              "4            4          4     0.778014   \n",
              "\n",
              "                                            sentence  class_name  \\\n",
              "0  this study analyzed liver function abnormaliti...  BACKGROUND   \n",
              "1  a post hoc analysis was conducted with the use...     RESULTS   \n",
              "2  liver function tests ( lfts ) were measured at...     RESULTS   \n",
              "3  survival analyses were used to assess the asso...     RESULTS   \n",
              "4  the percentage of patients with abnormal lfts ...     RESULTS   \n",
              "\n",
              "  predicted_class_name  is correct?  \n",
              "0            OBJECTIVE        False  \n",
              "1           BACKGROUND        False  \n",
              "2              METHODS        False  \n",
              "3              METHODS        False  \n",
              "4              RESULTS         True  "
            ],
            "text/html": [
              "\n",
              "  <div id=\"df-1606662c-7f36-41d6-8e0e-48bf1516779e\">\n",
              "    <div class=\"colab-df-container\">\n",
              "      <div>\n",
              "<style scoped>\n",
              "    .dataframe tbody tr th:only-of-type {\n",
              "        vertical-align: middle;\n",
              "    }\n",
              "\n",
              "    .dataframe tbody tr th {\n",
              "        vertical-align: top;\n",
              "    }\n",
              "\n",
              "    .dataframe thead th {\n",
              "        text-align: right;\n",
              "    }\n",
              "</style>\n",
              "<table border=\"1\" class=\"dataframe\">\n",
              "  <thead>\n",
              "    <tr style=\"text-align: right;\">\n",
              "      <th></th>\n",
              "      <th>true labels</th>\n",
              "      <th>predicted</th>\n",
              "      <th>probability</th>\n",
              "      <th>sentence</th>\n",
              "      <th>class_name</th>\n",
              "      <th>predicted_class_name</th>\n",
              "      <th>is correct?</th>\n",
              "    </tr>\n",
              "  </thead>\n",
              "  <tbody>\n",
              "    <tr>\n",
              "      <th>0</th>\n",
              "      <td>0</td>\n",
              "      <td>3</td>\n",
              "      <td>0.512653</td>\n",
              "      <td>this study analyzed liver function abnormaliti...</td>\n",
              "      <td>BACKGROUND</td>\n",
              "      <td>OBJECTIVE</td>\n",
              "      <td>False</td>\n",
              "    </tr>\n",
              "    <tr>\n",
              "      <th>1</th>\n",
              "      <td>4</td>\n",
              "      <td>0</td>\n",
              "      <td>0.356111</td>\n",
              "      <td>a post hoc analysis was conducted with the use...</td>\n",
              "      <td>RESULTS</td>\n",
              "      <td>BACKGROUND</td>\n",
              "      <td>False</td>\n",
              "    </tr>\n",
              "    <tr>\n",
              "      <th>2</th>\n",
              "      <td>4</td>\n",
              "      <td>2</td>\n",
              "      <td>0.794711</td>\n",
              "      <td>liver function tests ( lfts ) were measured at...</td>\n",
              "      <td>RESULTS</td>\n",
              "      <td>METHODS</td>\n",
              "      <td>False</td>\n",
              "    </tr>\n",
              "    <tr>\n",
              "      <th>3</th>\n",
              "      <td>4</td>\n",
              "      <td>2</td>\n",
              "      <td>0.473863</td>\n",
              "      <td>survival analyses were used to assess the asso...</td>\n",
              "      <td>RESULTS</td>\n",
              "      <td>METHODS</td>\n",
              "      <td>False</td>\n",
              "    </tr>\n",
              "    <tr>\n",
              "      <th>4</th>\n",
              "      <td>4</td>\n",
              "      <td>4</td>\n",
              "      <td>0.778014</td>\n",
              "      <td>the percentage of patients with abnormal lfts ...</td>\n",
              "      <td>RESULTS</td>\n",
              "      <td>RESULTS</td>\n",
              "      <td>True</td>\n",
              "    </tr>\n",
              "  </tbody>\n",
              "</table>\n",
              "</div>\n",
              "      <button class=\"colab-df-convert\" onclick=\"convertToInteractive('df-1606662c-7f36-41d6-8e0e-48bf1516779e')\"\n",
              "              title=\"Convert this dataframe to an interactive table.\"\n",
              "              style=\"display:none;\">\n",
              "        \n",
              "  <svg xmlns=\"http://www.w3.org/2000/svg\" height=\"24px\"viewBox=\"0 0 24 24\"\n",
              "       width=\"24px\">\n",
              "    <path d=\"M0 0h24v24H0V0z\" fill=\"none\"/>\n",
              "    <path d=\"M18.56 5.44l.94 2.06.94-2.06 2.06-.94-2.06-.94-.94-2.06-.94 2.06-2.06.94zm-11 1L8.5 8.5l.94-2.06 2.06-.94-2.06-.94L8.5 2.5l-.94 2.06-2.06.94zm10 10l.94 2.06.94-2.06 2.06-.94-2.06-.94-.94-2.06-.94 2.06-2.06.94z\"/><path d=\"M17.41 7.96l-1.37-1.37c-.4-.4-.92-.59-1.43-.59-.52 0-1.04.2-1.43.59L10.3 9.45l-7.72 7.72c-.78.78-.78 2.05 0 2.83L4 21.41c.39.39.9.59 1.41.59.51 0 1.02-.2 1.41-.59l7.78-7.78 2.81-2.81c.8-.78.8-2.07 0-2.86zM5.41 20L4 18.59l7.72-7.72 1.47 1.35L5.41 20z\"/>\n",
              "  </svg>\n",
              "      </button>\n",
              "      \n",
              "  <style>\n",
              "    .colab-df-container {\n",
              "      display:flex;\n",
              "      flex-wrap:wrap;\n",
              "      gap: 12px;\n",
              "    }\n",
              "\n",
              "    .colab-df-convert {\n",
              "      background-color: #E8F0FE;\n",
              "      border: none;\n",
              "      border-radius: 50%;\n",
              "      cursor: pointer;\n",
              "      display: none;\n",
              "      fill: #1967D2;\n",
              "      height: 32px;\n",
              "      padding: 0 0 0 0;\n",
              "      width: 32px;\n",
              "    }\n",
              "\n",
              "    .colab-df-convert:hover {\n",
              "      background-color: #E2EBFA;\n",
              "      box-shadow: 0px 1px 2px rgba(60, 64, 67, 0.3), 0px 1px 3px 1px rgba(60, 64, 67, 0.15);\n",
              "      fill: #174EA6;\n",
              "    }\n",
              "\n",
              "    [theme=dark] .colab-df-convert {\n",
              "      background-color: #3B4455;\n",
              "      fill: #D2E3FC;\n",
              "    }\n",
              "\n",
              "    [theme=dark] .colab-df-convert:hover {\n",
              "      background-color: #434B5C;\n",
              "      box-shadow: 0px 1px 3px 1px rgba(0, 0, 0, 0.15);\n",
              "      filter: drop-shadow(0px 1px 2px rgba(0, 0, 0, 0.3));\n",
              "      fill: #FFFFFF;\n",
              "    }\n",
              "  </style>\n",
              "\n",
              "      <script>\n",
              "        const buttonEl =\n",
              "          document.querySelector('#df-1606662c-7f36-41d6-8e0e-48bf1516779e button.colab-df-convert');\n",
              "        buttonEl.style.display =\n",
              "          google.colab.kernel.accessAllowed ? 'block' : 'none';\n",
              "\n",
              "        async function convertToInteractive(key) {\n",
              "          const element = document.querySelector('#df-1606662c-7f36-41d6-8e0e-48bf1516779e');\n",
              "          const dataTable =\n",
              "            await google.colab.kernel.invokeFunction('convertToInteractive',\n",
              "                                                     [key], {});\n",
              "          if (!dataTable) return;\n",
              "\n",
              "          const docLinkHtml = 'Like what you see? Visit the ' +\n",
              "            '<a target=\"_blank\" href=https://colab.research.google.com/notebooks/data_table.ipynb>data table notebook</a>'\n",
              "            + ' to learn more about interactive tables.';\n",
              "          element.innerHTML = '';\n",
              "          dataTable['output_type'] = 'display_data';\n",
              "          await google.colab.output.renderOutput(dataTable, element);\n",
              "          const docLink = document.createElement('div');\n",
              "          docLink.innerHTML = docLinkHtml;\n",
              "          element.appendChild(docLink);\n",
              "        }\n",
              "      </script>\n",
              "    </div>\n",
              "  </div>\n",
              "  "
            ]
          },
          "metadata": {},
          "execution_count": 115
        }
      ]
    },
    {
      "cell_type": "markdown",
      "source": [
        "Take only wrong predictions and then sort them"
      ],
      "metadata": {
        "id": "guyFfpaqoznN"
      }
    },
    {
      "cell_type": "code",
      "source": [
        "wrong_pred_df = train_pred_df[train_pred_df[\"is correct?\"]==False].sort_values(\"probability\",ascending=False)\n",
        "wrong_pred_df.head(10)"
      ],
      "metadata": {
        "colab": {
          "base_uri": "https://localhost:8080/",
          "height": 363
        },
        "id": "qnMGlNUkre-f",
        "outputId": "92929d49-0077-433a-d4c3-0ea8b3a51526"
      },
      "execution_count": 120,
      "outputs": [
        {
          "output_type": "execute_result",
          "data": {
            "text/plain": [
              "       true labels  predicted  probability  \\\n",
              "16347            0          3     0.965632   \n",
              "1827             1          0     0.960404   \n",
              "8545             2          0     0.955471   \n",
              "18720            4          0     0.954697   \n",
              "16580            3          2     0.954034   \n",
              "2388             4          2     0.951658   \n",
              "14108            1          0     0.945147   \n",
              "13874            1          2     0.943630   \n",
              "10452            0          3     0.943448   \n",
              "671              2          3     0.939408   \n",
              "\n",
              "                                                sentence   class_name  \\\n",
              "16347  to evaluate the effects of the lactic acid bac...   BACKGROUND   \n",
              "1827                       nct@ ( clinicaltrials.gov ) .  CONCLUSIONS   \n",
              "8545                                  pretest-posttest .      METHODS   \n",
              "18720                       non-diffuse-trickling '' ) .      RESULTS   \n",
              "16580  second , we collected patient-reported outcome...    OBJECTIVE   \n",
              "2388   the primary endpoint is the cumulative three-y...      RESULTS   \n",
              "14108                         unique identifier : nct@ .  CONCLUSIONS   \n",
              "13874  symptom outcomes will be assessed and estimate...  CONCLUSIONS   \n",
              "10452  to validate the association between accommodat...   BACKGROUND   \n",
              "671    to determine whether the insulin resistance th...      METHODS   \n",
              "\n",
              "      predicted_class_name  is correct?  \n",
              "16347            OBJECTIVE        False  \n",
              "1827            BACKGROUND        False  \n",
              "8545            BACKGROUND        False  \n",
              "18720           BACKGROUND        False  \n",
              "16580              METHODS        False  \n",
              "2388               METHODS        False  \n",
              "14108           BACKGROUND        False  \n",
              "13874              METHODS        False  \n",
              "10452            OBJECTIVE        False  \n",
              "671              OBJECTIVE        False  "
            ],
            "text/html": [
              "\n",
              "  <div id=\"df-9c6bb400-e52c-4aba-95db-c77cc73e5868\">\n",
              "    <div class=\"colab-df-container\">\n",
              "      <div>\n",
              "<style scoped>\n",
              "    .dataframe tbody tr th:only-of-type {\n",
              "        vertical-align: middle;\n",
              "    }\n",
              "\n",
              "    .dataframe tbody tr th {\n",
              "        vertical-align: top;\n",
              "    }\n",
              "\n",
              "    .dataframe thead th {\n",
              "        text-align: right;\n",
              "    }\n",
              "</style>\n",
              "<table border=\"1\" class=\"dataframe\">\n",
              "  <thead>\n",
              "    <tr style=\"text-align: right;\">\n",
              "      <th></th>\n",
              "      <th>true labels</th>\n",
              "      <th>predicted</th>\n",
              "      <th>probability</th>\n",
              "      <th>sentence</th>\n",
              "      <th>class_name</th>\n",
              "      <th>predicted_class_name</th>\n",
              "      <th>is correct?</th>\n",
              "    </tr>\n",
              "  </thead>\n",
              "  <tbody>\n",
              "    <tr>\n",
              "      <th>16347</th>\n",
              "      <td>0</td>\n",
              "      <td>3</td>\n",
              "      <td>0.965632</td>\n",
              "      <td>to evaluate the effects of the lactic acid bac...</td>\n",
              "      <td>BACKGROUND</td>\n",
              "      <td>OBJECTIVE</td>\n",
              "      <td>False</td>\n",
              "    </tr>\n",
              "    <tr>\n",
              "      <th>1827</th>\n",
              "      <td>1</td>\n",
              "      <td>0</td>\n",
              "      <td>0.960404</td>\n",
              "      <td>nct@ ( clinicaltrials.gov ) .</td>\n",
              "      <td>CONCLUSIONS</td>\n",
              "      <td>BACKGROUND</td>\n",
              "      <td>False</td>\n",
              "    </tr>\n",
              "    <tr>\n",
              "      <th>8545</th>\n",
              "      <td>2</td>\n",
              "      <td>0</td>\n",
              "      <td>0.955471</td>\n",
              "      <td>pretest-posttest .</td>\n",
              "      <td>METHODS</td>\n",
              "      <td>BACKGROUND</td>\n",
              "      <td>False</td>\n",
              "    </tr>\n",
              "    <tr>\n",
              "      <th>18720</th>\n",
              "      <td>4</td>\n",
              "      <td>0</td>\n",
              "      <td>0.954697</td>\n",
              "      <td>non-diffuse-trickling '' ) .</td>\n",
              "      <td>RESULTS</td>\n",
              "      <td>BACKGROUND</td>\n",
              "      <td>False</td>\n",
              "    </tr>\n",
              "    <tr>\n",
              "      <th>16580</th>\n",
              "      <td>3</td>\n",
              "      <td>2</td>\n",
              "      <td>0.954034</td>\n",
              "      <td>second , we collected patient-reported outcome...</td>\n",
              "      <td>OBJECTIVE</td>\n",
              "      <td>METHODS</td>\n",
              "      <td>False</td>\n",
              "    </tr>\n",
              "    <tr>\n",
              "      <th>2388</th>\n",
              "      <td>4</td>\n",
              "      <td>2</td>\n",
              "      <td>0.951658</td>\n",
              "      <td>the primary endpoint is the cumulative three-y...</td>\n",
              "      <td>RESULTS</td>\n",
              "      <td>METHODS</td>\n",
              "      <td>False</td>\n",
              "    </tr>\n",
              "    <tr>\n",
              "      <th>14108</th>\n",
              "      <td>1</td>\n",
              "      <td>0</td>\n",
              "      <td>0.945147</td>\n",
              "      <td>unique identifier : nct@ .</td>\n",
              "      <td>CONCLUSIONS</td>\n",
              "      <td>BACKGROUND</td>\n",
              "      <td>False</td>\n",
              "    </tr>\n",
              "    <tr>\n",
              "      <th>13874</th>\n",
              "      <td>1</td>\n",
              "      <td>2</td>\n",
              "      <td>0.943630</td>\n",
              "      <td>symptom outcomes will be assessed and estimate...</td>\n",
              "      <td>CONCLUSIONS</td>\n",
              "      <td>METHODS</td>\n",
              "      <td>False</td>\n",
              "    </tr>\n",
              "    <tr>\n",
              "      <th>10452</th>\n",
              "      <td>0</td>\n",
              "      <td>3</td>\n",
              "      <td>0.943448</td>\n",
              "      <td>to validate the association between accommodat...</td>\n",
              "      <td>BACKGROUND</td>\n",
              "      <td>OBJECTIVE</td>\n",
              "      <td>False</td>\n",
              "    </tr>\n",
              "    <tr>\n",
              "      <th>671</th>\n",
              "      <td>2</td>\n",
              "      <td>3</td>\n",
              "      <td>0.939408</td>\n",
              "      <td>to determine whether the insulin resistance th...</td>\n",
              "      <td>METHODS</td>\n",
              "      <td>OBJECTIVE</td>\n",
              "      <td>False</td>\n",
              "    </tr>\n",
              "  </tbody>\n",
              "</table>\n",
              "</div>\n",
              "      <button class=\"colab-df-convert\" onclick=\"convertToInteractive('df-9c6bb400-e52c-4aba-95db-c77cc73e5868')\"\n",
              "              title=\"Convert this dataframe to an interactive table.\"\n",
              "              style=\"display:none;\">\n",
              "        \n",
              "  <svg xmlns=\"http://www.w3.org/2000/svg\" height=\"24px\"viewBox=\"0 0 24 24\"\n",
              "       width=\"24px\">\n",
              "    <path d=\"M0 0h24v24H0V0z\" fill=\"none\"/>\n",
              "    <path d=\"M18.56 5.44l.94 2.06.94-2.06 2.06-.94-2.06-.94-.94-2.06-.94 2.06-2.06.94zm-11 1L8.5 8.5l.94-2.06 2.06-.94-2.06-.94L8.5 2.5l-.94 2.06-2.06.94zm10 10l.94 2.06.94-2.06 2.06-.94-2.06-.94-.94-2.06-.94 2.06-2.06.94z\"/><path d=\"M17.41 7.96l-1.37-1.37c-.4-.4-.92-.59-1.43-.59-.52 0-1.04.2-1.43.59L10.3 9.45l-7.72 7.72c-.78.78-.78 2.05 0 2.83L4 21.41c.39.39.9.59 1.41.59.51 0 1.02-.2 1.41-.59l7.78-7.78 2.81-2.81c.8-.78.8-2.07 0-2.86zM5.41 20L4 18.59l7.72-7.72 1.47 1.35L5.41 20z\"/>\n",
              "  </svg>\n",
              "      </button>\n",
              "      \n",
              "  <style>\n",
              "    .colab-df-container {\n",
              "      display:flex;\n",
              "      flex-wrap:wrap;\n",
              "      gap: 12px;\n",
              "    }\n",
              "\n",
              "    .colab-df-convert {\n",
              "      background-color: #E8F0FE;\n",
              "      border: none;\n",
              "      border-radius: 50%;\n",
              "      cursor: pointer;\n",
              "      display: none;\n",
              "      fill: #1967D2;\n",
              "      height: 32px;\n",
              "      padding: 0 0 0 0;\n",
              "      width: 32px;\n",
              "    }\n",
              "\n",
              "    .colab-df-convert:hover {\n",
              "      background-color: #E2EBFA;\n",
              "      box-shadow: 0px 1px 2px rgba(60, 64, 67, 0.3), 0px 1px 3px 1px rgba(60, 64, 67, 0.15);\n",
              "      fill: #174EA6;\n",
              "    }\n",
              "\n",
              "    [theme=dark] .colab-df-convert {\n",
              "      background-color: #3B4455;\n",
              "      fill: #D2E3FC;\n",
              "    }\n",
              "\n",
              "    [theme=dark] .colab-df-convert:hover {\n",
              "      background-color: #434B5C;\n",
              "      box-shadow: 0px 1px 3px 1px rgba(0, 0, 0, 0.15);\n",
              "      filter: drop-shadow(0px 1px 2px rgba(0, 0, 0, 0.3));\n",
              "      fill: #FFFFFF;\n",
              "    }\n",
              "  </style>\n",
              "\n",
              "      <script>\n",
              "        const buttonEl =\n",
              "          document.querySelector('#df-9c6bb400-e52c-4aba-95db-c77cc73e5868 button.colab-df-convert');\n",
              "        buttonEl.style.display =\n",
              "          google.colab.kernel.accessAllowed ? 'block' : 'none';\n",
              "\n",
              "        async function convertToInteractive(key) {\n",
              "          const element = document.querySelector('#df-9c6bb400-e52c-4aba-95db-c77cc73e5868');\n",
              "          const dataTable =\n",
              "            await google.colab.kernel.invokeFunction('convertToInteractive',\n",
              "                                                     [key], {});\n",
              "          if (!dataTable) return;\n",
              "\n",
              "          const docLinkHtml = 'Like what you see? Visit the ' +\n",
              "            '<a target=\"_blank\" href=https://colab.research.google.com/notebooks/data_table.ipynb>data table notebook</a>'\n",
              "            + ' to learn more about interactive tables.';\n",
              "          element.innerHTML = '';\n",
              "          dataTable['output_type'] = 'display_data';\n",
              "          await google.colab.output.renderOutput(dataTable, element);\n",
              "          const docLink = document.createElement('div');\n",
              "          docLink.innerHTML = docLinkHtml;\n",
              "          element.appendChild(docLink);\n",
              "        }\n",
              "      </script>\n",
              "    </div>\n",
              "  </div>\n",
              "  "
            ]
          },
          "metadata": {},
          "execution_count": 120
        }
      ]
    },
    {
      "cell_type": "code",
      "source": [
        "wrong_pred_df[wrong_pred_df[\"probability\"].between(0.8,1)][\"class_name\"].value_counts()"
      ],
      "metadata": {
        "colab": {
          "base_uri": "https://localhost:8080/"
        },
        "id": "Z7cIM6cErkC3",
        "outputId": "1b11efe5-dd2f-43ff-fdf0-7b17201552c8"
      },
      "execution_count": 124,
      "outputs": [
        {
          "output_type": "execute_result",
          "data": {
            "text/plain": [
              "RESULTS        97\n",
              "METHODS        60\n",
              "CONCLUSIONS    52\n",
              "BACKGROUND     48\n",
              "OBJECTIVE      21\n",
              "Name: class_name, dtype: int64"
            ]
          },
          "metadata": {},
          "execution_count": 124
        }
      ]
    },
    {
      "cell_type": "markdown",
      "source": [
        "It can be seen which class is the hardest for model to learn..."
      ],
      "metadata": {
        "id": "Pg0BMtYcswct"
      }
    },
    {
      "cell_type": "markdown",
      "source": [
        "Experimenting with real data from PubMed website\n",
        "- to make it easy to use - make function for the whole preprocessing process"
      ],
      "metadata": {
        "id": "2UCktiJttIO8"
      }
    },
    {
      "cell_type": "code",
      "source": [
        "#Taken example from PubMed website\n",
        "tekst = \"Renal tubular cell (RTC) death and inflammation contribute to the progression of obstructive nephropathy, but its underlying mechanisms have not been fully elucidated. Here, we showed that Gasdermin E (GSDME) expression level and GSDME-N domain generation determined the RTC fate response to TNFα under the condition of oxygen-glucose-serum deprivation. Deletion of Caspase-3 (Casp3) or Gsdme alleviated renal tubule damage and inflammation and finally prevented the development of hydronephrosis and kidney fibrosis after ureteral obstruction. Using bone marrow transplantation and cell type-specific Casp3 knockout mice, we demonstrated that Casp3/GSDME-mediated pyroptosis in renal parenchymal cells, but not in hematopoietic cells, played predominant roles in this process. We further showed that HMGB1 released from pyroptotic RTCs amplified inflammatory responses, which critically contributed to renal fibrogenesis. Specific deletion of Hmgb1 in RTCs alleviated caspase11 and IL-1β activation in macrophages. Collectively, our results uncovered that TNFα/Casp3/GSDME-mediated pyroptosis is responsible for the initiation of ureteral obstruction-induced renal tubule injury, which subsequentially contributes to the late-stage progression of hydronephrosis, inflammation, and fibrosis. This novel mechanism will provide valuable therapeutic insights for the treatment of obstructive nephropathy.\""
      ],
      "metadata": {
        "id": "S0eE2mi8uFJF"
      },
      "execution_count": 155,
      "outputs": []
    },
    {
      "cell_type": "code",
      "source": [
        "#Making list of sentences\n",
        "raw_text=[]\n",
        "j=0\n",
        "for i,ele in enumerate(tekst):\n",
        "  if ele == \".\":\n",
        "    raw_text.append(tekst[j:i+1])\n",
        "    j=i+1+1 # Second 1 if To delete space\n",
        "raw_text, len(raw_text)"
      ],
      "metadata": {
        "colab": {
          "base_uri": "https://localhost:8080/"
        },
        "id": "n8r-xVuy-V47",
        "outputId": "f845c996-bebd-4e05-98db-0b4535c3d8e6"
      },
      "execution_count": 161,
      "outputs": [
        {
          "output_type": "execute_result",
          "data": {
            "text/plain": [
              "(['Renal tubular cell (RTC) death and inflammation contribute to the progression of obstructive nephropathy, but its underlying mechanisms have not been fully elucidated.',\n",
              "  'Here, we showed that Gasdermin E (GSDME) expression level and GSDME-N domain generation determined the RTC fate response to TNFα under the condition of oxygen-glucose-serum deprivation.',\n",
              "  'Deletion of Caspase-3 (Casp3) or Gsdme alleviated renal tubule damage and inflammation and finally prevented the development of hydronephrosis and kidney fibrosis after ureteral obstruction.',\n",
              "  'Using bone marrow transplantation and cell type-specific Casp3 knockout mice, we demonstrated that Casp3/GSDME-mediated pyroptosis in renal parenchymal cells, but not in hematopoietic cells, played predominant roles in this process.',\n",
              "  'We further showed that HMGB1 released from pyroptotic RTCs amplified inflammatory responses, which critically contributed to renal fibrogenesis.',\n",
              "  'Specific deletion of Hmgb1 in RTCs alleviated caspase11 and IL-1β activation in macrophages.',\n",
              "  'Collectively, our results uncovered that TNFα/Casp3/GSDME-mediated pyroptosis is responsible for the initiation of ureteral obstruction-induced renal tubule injury, which subsequentially contributes to the late-stage progression of hydronephrosis, inflammation, and fibrosis.',\n",
              "  'This novel mechanism will provide valuable therapeutic insights for the treatment of obstructive nephropathy.'],\n",
              " 8)"
            ]
          },
          "metadata": {},
          "execution_count": 161
        }
      ]
    },
    {
      "cell_type": "code",
      "source": [
        "#Making directory\n",
        "raw_data=[]\n",
        "\n",
        "for i,line in enumerate(raw_text):\n",
        "    raw_data.append({'line_num': i,\n",
        "                        'text': line,\n",
        "                        'num_of_lines':len(raw_text)-1})#Due to calculating from 0\n",
        "raw_data"
      ],
      "metadata": {
        "id": "W0SXixs2ABgE"
      },
      "execution_count": null,
      "outputs": []
    },
    {
      "cell_type": "code",
      "source": [
        "raw_data_df = pd.DataFrame(raw_data)\n",
        "raw_data_df"
      ],
      "metadata": {
        "colab": {
          "base_uri": "https://localhost:8080/",
          "height": 300
        },
        "id": "LM0SWYr_Clp4",
        "outputId": "47d75cc3-9577-4ee9-f348-dbd364d5616c"
      },
      "execution_count": 165,
      "outputs": [
        {
          "output_type": "execute_result",
          "data": {
            "text/plain": [
              "   line_num                                               text  num_of_lines\n",
              "0         0  Renal tubular cell (RTC) death and inflammatio...             7\n",
              "1         1  Here, we showed that Gasdermin E (GSDME) expre...             7\n",
              "2         2  Deletion of Caspase-3 (Casp3) or Gsdme allevia...             7\n",
              "3         3  Using bone marrow transplantation and cell typ...             7\n",
              "4         4  We further showed that HMGB1 released from pyr...             7\n",
              "5         5  Specific deletion of Hmgb1 in RTCs alleviated ...             7\n",
              "6         6  Collectively, our results uncovered that TNFα/...             7\n",
              "7         7  This novel mechanism will provide valuable the...             7"
            ],
            "text/html": [
              "\n",
              "  <div id=\"df-4a0dac62-8507-45b7-bd67-8379ed1da002\">\n",
              "    <div class=\"colab-df-container\">\n",
              "      <div>\n",
              "<style scoped>\n",
              "    .dataframe tbody tr th:only-of-type {\n",
              "        vertical-align: middle;\n",
              "    }\n",
              "\n",
              "    .dataframe tbody tr th {\n",
              "        vertical-align: top;\n",
              "    }\n",
              "\n",
              "    .dataframe thead th {\n",
              "        text-align: right;\n",
              "    }\n",
              "</style>\n",
              "<table border=\"1\" class=\"dataframe\">\n",
              "  <thead>\n",
              "    <tr style=\"text-align: right;\">\n",
              "      <th></th>\n",
              "      <th>line_num</th>\n",
              "      <th>text</th>\n",
              "      <th>num_of_lines</th>\n",
              "    </tr>\n",
              "  </thead>\n",
              "  <tbody>\n",
              "    <tr>\n",
              "      <th>0</th>\n",
              "      <td>0</td>\n",
              "      <td>Renal tubular cell (RTC) death and inflammatio...</td>\n",
              "      <td>7</td>\n",
              "    </tr>\n",
              "    <tr>\n",
              "      <th>1</th>\n",
              "      <td>1</td>\n",
              "      <td>Here, we showed that Gasdermin E (GSDME) expre...</td>\n",
              "      <td>7</td>\n",
              "    </tr>\n",
              "    <tr>\n",
              "      <th>2</th>\n",
              "      <td>2</td>\n",
              "      <td>Deletion of Caspase-3 (Casp3) or Gsdme allevia...</td>\n",
              "      <td>7</td>\n",
              "    </tr>\n",
              "    <tr>\n",
              "      <th>3</th>\n",
              "      <td>3</td>\n",
              "      <td>Using bone marrow transplantation and cell typ...</td>\n",
              "      <td>7</td>\n",
              "    </tr>\n",
              "    <tr>\n",
              "      <th>4</th>\n",
              "      <td>4</td>\n",
              "      <td>We further showed that HMGB1 released from pyr...</td>\n",
              "      <td>7</td>\n",
              "    </tr>\n",
              "    <tr>\n",
              "      <th>5</th>\n",
              "      <td>5</td>\n",
              "      <td>Specific deletion of Hmgb1 in RTCs alleviated ...</td>\n",
              "      <td>7</td>\n",
              "    </tr>\n",
              "    <tr>\n",
              "      <th>6</th>\n",
              "      <td>6</td>\n",
              "      <td>Collectively, our results uncovered that TNFα/...</td>\n",
              "      <td>7</td>\n",
              "    </tr>\n",
              "    <tr>\n",
              "      <th>7</th>\n",
              "      <td>7</td>\n",
              "      <td>This novel mechanism will provide valuable the...</td>\n",
              "      <td>7</td>\n",
              "    </tr>\n",
              "  </tbody>\n",
              "</table>\n",
              "</div>\n",
              "      <button class=\"colab-df-convert\" onclick=\"convertToInteractive('df-4a0dac62-8507-45b7-bd67-8379ed1da002')\"\n",
              "              title=\"Convert this dataframe to an interactive table.\"\n",
              "              style=\"display:none;\">\n",
              "        \n",
              "  <svg xmlns=\"http://www.w3.org/2000/svg\" height=\"24px\"viewBox=\"0 0 24 24\"\n",
              "       width=\"24px\">\n",
              "    <path d=\"M0 0h24v24H0V0z\" fill=\"none\"/>\n",
              "    <path d=\"M18.56 5.44l.94 2.06.94-2.06 2.06-.94-2.06-.94-.94-2.06-.94 2.06-2.06.94zm-11 1L8.5 8.5l.94-2.06 2.06-.94-2.06-.94L8.5 2.5l-.94 2.06-2.06.94zm10 10l.94 2.06.94-2.06 2.06-.94-2.06-.94-.94-2.06-.94 2.06-2.06.94z\"/><path d=\"M17.41 7.96l-1.37-1.37c-.4-.4-.92-.59-1.43-.59-.52 0-1.04.2-1.43.59L10.3 9.45l-7.72 7.72c-.78.78-.78 2.05 0 2.83L4 21.41c.39.39.9.59 1.41.59.51 0 1.02-.2 1.41-.59l7.78-7.78 2.81-2.81c.8-.78.8-2.07 0-2.86zM5.41 20L4 18.59l7.72-7.72 1.47 1.35L5.41 20z\"/>\n",
              "  </svg>\n",
              "      </button>\n",
              "      \n",
              "  <style>\n",
              "    .colab-df-container {\n",
              "      display:flex;\n",
              "      flex-wrap:wrap;\n",
              "      gap: 12px;\n",
              "    }\n",
              "\n",
              "    .colab-df-convert {\n",
              "      background-color: #E8F0FE;\n",
              "      border: none;\n",
              "      border-radius: 50%;\n",
              "      cursor: pointer;\n",
              "      display: none;\n",
              "      fill: #1967D2;\n",
              "      height: 32px;\n",
              "      padding: 0 0 0 0;\n",
              "      width: 32px;\n",
              "    }\n",
              "\n",
              "    .colab-df-convert:hover {\n",
              "      background-color: #E2EBFA;\n",
              "      box-shadow: 0px 1px 2px rgba(60, 64, 67, 0.3), 0px 1px 3px 1px rgba(60, 64, 67, 0.15);\n",
              "      fill: #174EA6;\n",
              "    }\n",
              "\n",
              "    [theme=dark] .colab-df-convert {\n",
              "      background-color: #3B4455;\n",
              "      fill: #D2E3FC;\n",
              "    }\n",
              "\n",
              "    [theme=dark] .colab-df-convert:hover {\n",
              "      background-color: #434B5C;\n",
              "      box-shadow: 0px 1px 3px 1px rgba(0, 0, 0, 0.15);\n",
              "      filter: drop-shadow(0px 1px 2px rgba(0, 0, 0, 0.3));\n",
              "      fill: #FFFFFF;\n",
              "    }\n",
              "  </style>\n",
              "\n",
              "      <script>\n",
              "        const buttonEl =\n",
              "          document.querySelector('#df-4a0dac62-8507-45b7-bd67-8379ed1da002 button.colab-df-convert');\n",
              "        buttonEl.style.display =\n",
              "          google.colab.kernel.accessAllowed ? 'block' : 'none';\n",
              "\n",
              "        async function convertToInteractive(key) {\n",
              "          const element = document.querySelector('#df-4a0dac62-8507-45b7-bd67-8379ed1da002');\n",
              "          const dataTable =\n",
              "            await google.colab.kernel.invokeFunction('convertToInteractive',\n",
              "                                                     [key], {});\n",
              "          if (!dataTable) return;\n",
              "\n",
              "          const docLinkHtml = 'Like what you see? Visit the ' +\n",
              "            '<a target=\"_blank\" href=https://colab.research.google.com/notebooks/data_table.ipynb>data table notebook</a>'\n",
              "            + ' to learn more about interactive tables.';\n",
              "          element.innerHTML = '';\n",
              "          dataTable['output_type'] = 'display_data';\n",
              "          await google.colab.output.renderOutput(dataTable, element);\n",
              "          const docLink = document.createElement('div');\n",
              "          docLink.innerHTML = docLinkHtml;\n",
              "          element.appendChild(docLink);\n",
              "        }\n",
              "      </script>\n",
              "    </div>\n",
              "  </div>\n",
              "  "
            ]
          },
          "metadata": {},
          "execution_count": 165
        }
      ]
    },
    {
      "cell_type": "code",
      "source": [
        "#Preparing num of lines and line_num for predicting\n",
        "raw_line_num_oh = tf.one_hot(raw_data_df[\"line_num\"],depth=15)\n",
        "raw_all_lines_oh = tf.one_hot(raw_data_df[\"num_of_lines\"],depth=20)\n",
        "raw_line_num_oh,raw_all_lines_oh"
      ],
      "metadata": {
        "id": "oAqCKGlHDZnZ"
      },
      "execution_count": null,
      "outputs": []
    },
    {
      "cell_type": "code",
      "source": [
        "#Sentences \n",
        "raw_sentences = raw_data_df[\"text\"].tolist()\n",
        "raw_sentences"
      ],
      "metadata": {
        "id": "sdkhNEUdEsf2"
      },
      "execution_count": null,
      "outputs": []
    },
    {
      "cell_type": "code",
      "source": [
        "#Chars\n",
        "raw_chars = [\" \".join(list(raw)) for raw in raw_sentences]\n",
        "raw_chars"
      ],
      "metadata": {
        "id": "bsRWFc3oE3N_"
      },
      "execution_count": null,
      "outputs": []
    },
    {
      "cell_type": "code",
      "source": [
        "raw_pred_probs = model_5.predict(x=(raw_line_num_oh,\n",
        "                                  raw_all_lines_oh,\n",
        "                                  tf.constant(raw_sentences),\n",
        "                                  tf.constant(raw_chars)))\n",
        "raw_pred_probs"
      ],
      "metadata": {
        "colab": {
          "base_uri": "https://localhost:8080/"
        },
        "id": "HusKZLYBFNFx",
        "outputId": "f3fa28c9-ea98-4643-9ee6-23ca13d0a06d"
      },
      "execution_count": 174,
      "outputs": [
        {
          "output_type": "stream",
          "name": "stdout",
          "text": [
            "1/1 [==============================] - 0s 83ms/step\n"
          ]
        },
        {
          "output_type": "execute_result",
          "data": {
            "text/plain": [
              "array([[0.45271283, 0.15069623, 0.01473869, 0.35019082, 0.03166133],\n",
              "       [0.3332355 , 0.03999442, 0.22368827, 0.33308205, 0.06999978],\n",
              "       [0.10874722, 0.09973676, 0.6414101 , 0.09702257, 0.05308331],\n",
              "       [0.2195475 , 0.29856455, 0.1901099 , 0.13079983, 0.1609782 ],\n",
              "       [0.11445572, 0.23494819, 0.09653026, 0.09158796, 0.46247786],\n",
              "       [0.04580196, 0.31185088, 0.15553582, 0.08825558, 0.39855573],\n",
              "       [0.08823626, 0.4754172 , 0.16414739, 0.08212224, 0.19007678],\n",
              "       [0.044699  , 0.78805935, 0.01771859, 0.08643444, 0.06308869]],\n",
              "      dtype=float32)"
            ]
          },
          "metadata": {},
          "execution_count": 174
        }
      ]
    },
    {
      "cell_type": "code",
      "source": [
        "raw_predicts = tf.argmax(raw_pred_probs,axis=1)\n",
        "raw_predicts"
      ],
      "metadata": {
        "colab": {
          "base_uri": "https://localhost:8080/"
        },
        "id": "ZM9heQSDFvfc",
        "outputId": "5c9c7039-1442-44e2-b769-ebc29b50d3ae"
      },
      "execution_count": 175,
      "outputs": [
        {
          "output_type": "execute_result",
          "data": {
            "text/plain": [
              "<tf.Tensor: shape=(8,), dtype=int64, numpy=array([0, 0, 2, 1, 4, 4, 1, 1])>"
            ]
          },
          "metadata": {},
          "execution_count": 175
        }
      ]
    },
    {
      "cell_type": "code",
      "source": [
        "label_encoder.classes_"
      ],
      "metadata": {
        "colab": {
          "base_uri": "https://localhost:8080/"
        },
        "id": "qyovBR32F-zk",
        "outputId": "263f16e0-ca0f-434c-f2f1-adea368009a9"
      },
      "execution_count": 176,
      "outputs": [
        {
          "output_type": "execute_result",
          "data": {
            "text/plain": [
              "array(['BACKGROUND', 'CONCLUSIONS', 'METHODS', 'OBJECTIVE', 'RESULTS'],\n",
              "      dtype=object)"
            ]
          },
          "metadata": {},
          "execution_count": 176
        }
      ]
    },
    {
      "cell_type": "code",
      "source": [
        "pred_classes=[label_encoder.classes_[i] for i in raw_predicts]\n",
        "pred_classes"
      ],
      "metadata": {
        "colab": {
          "base_uri": "https://localhost:8080/"
        },
        "id": "qRHa6iWeGEQn",
        "outputId": "01007e4c-33e4-4d98-f570-19c7c29ef28b"
      },
      "execution_count": 177,
      "outputs": [
        {
          "output_type": "execute_result",
          "data": {
            "text/plain": [
              "['BACKGROUND',\n",
              " 'BACKGROUND',\n",
              " 'METHODS',\n",
              " 'CONCLUSIONS',\n",
              " 'RESULTS',\n",
              " 'RESULTS',\n",
              " 'CONCLUSIONS',\n",
              " 'CONCLUSIONS']"
            ]
          },
          "metadata": {},
          "execution_count": 177
        }
      ]
    },
    {
      "cell_type": "markdown",
      "source": [
        "#VISUALIZE RAW PREDICTIONS"
      ],
      "metadata": {
        "id": "_hVISSBGGd-l"
      }
    },
    {
      "cell_type": "code",
      "source": [
        "result =[pred_classes[i]+\": \"+ele for i,ele in enumerate(raw_sentences)]\n",
        "result"
      ],
      "metadata": {
        "colab": {
          "base_uri": "https://localhost:8080/"
        },
        "id": "pV0GR0cdGiEb",
        "outputId": "40ef7723-7a5a-42d8-fa06-3c56600a079f"
      },
      "execution_count": 180,
      "outputs": [
        {
          "output_type": "execute_result",
          "data": {
            "text/plain": [
              "['BACKGROUND: Renal tubular cell (RTC) death and inflammation contribute to the progression of obstructive nephropathy, but its underlying mechanisms have not been fully elucidated.',\n",
              " 'BACKGROUND: Here, we showed that Gasdermin E (GSDME) expression level and GSDME-N domain generation determined the RTC fate response to TNFα under the condition of oxygen-glucose-serum deprivation.',\n",
              " 'METHODS: Deletion of Caspase-3 (Casp3) or Gsdme alleviated renal tubule damage and inflammation and finally prevented the development of hydronephrosis and kidney fibrosis after ureteral obstruction.',\n",
              " 'CONCLUSIONS: Using bone marrow transplantation and cell type-specific Casp3 knockout mice, we demonstrated that Casp3/GSDME-mediated pyroptosis in renal parenchymal cells, but not in hematopoietic cells, played predominant roles in this process.',\n",
              " 'RESULTS: We further showed that HMGB1 released from pyroptotic RTCs amplified inflammatory responses, which critically contributed to renal fibrogenesis.',\n",
              " 'RESULTS: Specific deletion of Hmgb1 in RTCs alleviated caspase11 and IL-1β activation in macrophages.',\n",
              " 'CONCLUSIONS: Collectively, our results uncovered that TNFα/Casp3/GSDME-mediated pyroptosis is responsible for the initiation of ureteral obstruction-induced renal tubule injury, which subsequentially contributes to the late-stage progression of hydronephrosis, inflammation, and fibrosis.',\n",
              " 'CONCLUSIONS: This novel mechanism will provide valuable therapeutic insights for the treatment of obstructive nephropathy.']"
            ]
          },
          "metadata": {},
          "execution_count": 180
        }
      ]
    },
    {
      "cell_type": "code",
      "source": [
        "for ele in result:\n",
        "  PubMedText = PubMedText + ele+\"\\n\"\n",
        "PubMedText"
      ],
      "metadata": {
        "colab": {
          "base_uri": "https://localhost:8080/",
          "height": 122
        },
        "id": "Sn-r9S43GxXc",
        "outputId": "14de05c5-3ac9-48ed-a95e-7261fb6cbe32"
      },
      "execution_count": 183,
      "outputs": [
        {
          "output_type": "execute_result",
          "data": {
            "text/plain": [
              "'CONCLUSIONS: This novel mechanism will provide valuable therapeutic insights for the treatment of obstructive nephropathy.\\nBACKGROUND: Renal tubular cell (RTC) death and inflammation contribute to the progression of obstructive nephropathy, but its underlying mechanisms have not been fully elucidated.\\nBACKGROUND: Here, we showed that Gasdermin E (GSDME) expression level and GSDME-N domain generation determined the RTC fate response to TNFα under the condition of oxygen-glucose-serum deprivation.\\nMETHODS: Deletion of Caspase-3 (Casp3) or Gsdme alleviated renal tubule damage and inflammation and finally prevented the development of hydronephrosis and kidney fibrosis after ureteral obstruction.\\nCONCLUSIONS: Using bone marrow transplantation and cell type-specific Casp3 knockout mice, we demonstrated that Casp3/GSDME-mediated pyroptosis in renal parenchymal cells, but not in hematopoietic cells, played predominant roles in this process.\\nRESULTS: We further showed that HMGB1 released from pyroptotic RTCs amplified inflammatory responses, which critically contributed to renal fibrogenesis.\\nRESULTS: Specific deletion of Hmgb1 in RTCs alleviated caspase11 and IL-1β activation in macrophages.\\nCONCLUSIONS: Collectively, our results uncovered that TNFα/Casp3/GSDME-mediated pyroptosis is responsible for the initiation of ureteral obstruction-induced renal tubule injury, which subsequentially contributes to the late-stage progression of hydronephrosis, inflammation, and fibrosis.\\nCONCLUSIONS: This novel mechanism will provide valuable therapeutic insights for the treatment of obstructive nephropathy.\\n'"
            ],
            "application/vnd.google.colaboratory.intrinsic+json": {
              "type": "string"
            }
          },
          "metadata": {},
          "execution_count": 183
        }
      ]
    },
    {
      "cell_type": "code",
      "source": [
        "with open(\"cos.txt\",\"r+\") as f:\n",
        "  f.write(PubMedText)\n",
        "  "
      ],
      "metadata": {
        "id": "M_6T_MVGHxHn"
      },
      "execution_count": 184,
      "outputs": []
    },
    {
      "cell_type": "code",
      "source": [],
      "metadata": {
        "id": "SMYcyS-hIB4B"
      },
      "execution_count": null,
      "outputs": []
    }
  ]
}