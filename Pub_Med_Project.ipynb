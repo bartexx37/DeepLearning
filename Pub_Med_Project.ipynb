{
  "nbformat": 4,
  "nbformat_minor": 0,
  "metadata": {
    "colab": {
      "provenance": [],
      "toc_visible": true,
      "authorship_tag": "ABX9TyOmavprUjJpyxIquP0vi6Gd",
      "include_colab_link": true
    },
    "kernelspec": {
      "name": "python3",
      "display_name": "Python 3"
    },
    "language_info": {
      "name": "python"
    },
    "accelerator": "GPU",
    "gpuClass": "standard"
  },
  "cells": [
    {
      "cell_type": "markdown",
      "metadata": {
        "id": "view-in-github",
        "colab_type": "text"
      },
      "source": [
        "<a href=\"https://colab.research.google.com/github/bartexx37/DeepLearning/blob/main/Pub_Med_Project.ipynb\" target=\"_parent\"><img src=\"https://colab.research.google.com/assets/colab-badge.svg\" alt=\"Open In Colab\"/></a>"
      ]
    },
    {
      "cell_type": "markdown",
      "source": [
        "#Sklimlit Project\n",
        "\n",
        "- Replicating paper : https://arxiv.org/pdf/1710.06071.pdf\n",
        "- Architecture for project : https://arxiv.org/pdf/1612.05251.pdf"
      ],
      "metadata": {
        "id": "z0-1_oXGF9eR"
      }
    },
    {
      "cell_type": "markdown",
      "source": [
        "#Confirm access to a GPU"
      ],
      "metadata": {
        "id": "xHZaWMZHGZQj"
      }
    },
    {
      "cell_type": "code",
      "source": [
        "!nvidia-smi -L"
      ],
      "metadata": {
        "colab": {
          "base_uri": "https://localhost:8080/"
        },
        "id": "wlePGMJnGsnW",
        "outputId": "672f2e11-ccfa-4c8e-8ea6-a534e8f25f74"
      },
      "execution_count": 4,
      "outputs": [
        {
          "output_type": "stream",
          "name": "stdout",
          "text": [
            "GPU 0: Tesla T4 (UUID: GPU-51bba58b-28f7-7e4c-7864-4de13e3f2651)\n"
          ]
        }
      ]
    },
    {
      "cell_type": "code",
      "source": [
        "!wget https://raw.githubusercontent.com/mrdbourke/tensorflow-deep-learning/main/extras/helper_functions.py\n",
        "import helper_functions as hp"
      ],
      "metadata": {
        "colab": {
          "base_uri": "https://localhost:8080/"
        },
        "id": "Tk14QpXhW3XA",
        "outputId": "15014581-11c7-48df-8b58-22f695696d65"
      },
      "execution_count": 5,
      "outputs": [
        {
          "output_type": "stream",
          "name": "stdout",
          "text": [
            "--2023-02-23 20:17:04--  https://raw.githubusercontent.com/mrdbourke/tensorflow-deep-learning/main/extras/helper_functions.py\n",
            "Resolving raw.githubusercontent.com (raw.githubusercontent.com)... 185.199.109.133, 185.199.108.133, 185.199.110.133, ...\n",
            "Connecting to raw.githubusercontent.com (raw.githubusercontent.com)|185.199.109.133|:443... connected.\n",
            "HTTP request sent, awaiting response... 200 OK\n",
            "Length: 10246 (10K) [text/plain]\n",
            "Saving to: ‘helper_functions.py’\n",
            "\n",
            "\rhelper_functions.py   0%[                    ]       0  --.-KB/s               \rhelper_functions.py 100%[===================>]  10.01K  --.-KB/s    in 0s      \n",
            "\n",
            "2023-02-23 20:17:05 (105 MB/s) - ‘helper_functions.py’ saved [10246/10246]\n",
            "\n"
          ]
        }
      ]
    },
    {
      "cell_type": "markdown",
      "source": [
        "# Get data\n",
        "\n",
        "- Dataset from PubMed 200k RCT, taking it from authors Github linked in paper: https://github.com/Franck-Dernoncourt/pubmed-rct\n",
        "\n",
        "- Dev.txt - another word in machine learning for calidation dataset\n"
      ],
      "metadata": {
        "id": "vwqxoImCGz0I"
      }
    },
    {
      "cell_type": "code",
      "source": [
        "!git clone https://github.com/Franck-Dernoncourt/pubmed-rct"
      ],
      "metadata": {
        "colab": {
          "base_uri": "https://localhost:8080/"
        },
        "id": "kiLUK9DxG-Gj",
        "outputId": "015c415e-0bde-4151-b0ab-d6415d78b832"
      },
      "execution_count": 6,
      "outputs": [
        {
          "output_type": "stream",
          "name": "stdout",
          "text": [
            "Cloning into 'pubmed-rct'...\n",
            "remote: Enumerating objects: 33, done.\u001b[K\n",
            "remote: Counting objects: 100% (8/8), done.\u001b[K\n",
            "remote: Compressing objects: 100% (3/3), done.\u001b[K\n",
            "remote: Total 33 (delta 5), reused 5 (delta 5), pack-reused 25\u001b[K\n",
            "Unpacking objects: 100% (33/33), 177.08 MiB | 10.41 MiB/s, done.\n"
          ]
        }
      ]
    },
    {
      "cell_type": "code",
      "source": [
        "!ls pubmed-rct"
      ],
      "metadata": {
        "colab": {
          "base_uri": "https://localhost:8080/"
        },
        "id": "8jWdVD_NO_ua",
        "outputId": "f449ac26-2405-4f04-a389-e5ec775df593"
      },
      "execution_count": 7,
      "outputs": [
        {
          "output_type": "stream",
          "name": "stdout",
          "text": [
            "PubMed_200k_RCT\n",
            "PubMed_200k_RCT_numbers_replaced_with_at_sign\n",
            "PubMed_20k_RCT\n",
            "PubMed_20k_RCT_numbers_replaced_with_at_sign\n",
            "README.md\n"
          ]
        }
      ]
    },
    {
      "cell_type": "code",
      "source": [
        "!ls pubmed-rct/PubMed_20k_RCT_numbers_replaced_with_at_sign/\n",
        "'''\n",
        "There are 3 files:\n",
        "1. dev.txt - validation dataset\n",
        "2. test.txt - test dataset\n",
        "3. train.txt - train dataset\n",
        "'''"
      ],
      "metadata": {
        "colab": {
          "base_uri": "https://localhost:8080/",
          "height": 54
        },
        "id": "KdFrUiQ7PKaq",
        "outputId": "86667bd4-e39c-4fff-e0c2-53c21511ff25"
      },
      "execution_count": 8,
      "outputs": [
        {
          "output_type": "stream",
          "name": "stdout",
          "text": [
            "dev.txt  test.txt  train.txt\n"
          ]
        },
        {
          "output_type": "execute_result",
          "data": {
            "text/plain": [
              "'\\nThere are 3 files:\\n1. dev.txt - validation dataset\\n2. test.txt - test dataset\\n3. train.txt - train dataset\\n'"
            ],
            "application/vnd.google.colaboratory.intrinsic+json": {
              "type": "string"
            }
          },
          "metadata": {},
          "execution_count": 8
        }
      ]
    },
    {
      "cell_type": "code",
      "source": [
        "import os\n",
        "data_dir = \"pubmed-rct/PubMed_20k_RCT_numbers_replaced_with_at_sign/\"\n",
        "filenames = [data_dir + filename for filename in os.listdir(data_dir)]\n",
        "filenames"
      ],
      "metadata": {
        "colab": {
          "base_uri": "https://localhost:8080/"
        },
        "id": "F490eODDPabN",
        "outputId": "e30506cc-f251-44d7-9255-d3f93f5388a9"
      },
      "execution_count": 9,
      "outputs": [
        {
          "output_type": "execute_result",
          "data": {
            "text/plain": [
              "['pubmed-rct/PubMed_20k_RCT_numbers_replaced_with_at_sign/test.txt',\n",
              " 'pubmed-rct/PubMed_20k_RCT_numbers_replaced_with_at_sign/dev.txt',\n",
              " 'pubmed-rct/PubMed_20k_RCT_numbers_replaced_with_at_sign/train.txt']"
            ]
          },
          "metadata": {},
          "execution_count": 9
        }
      ]
    },
    {
      "cell_type": "markdown",
      "source": [
        "# Preprocessing Data"
      ],
      "metadata": {
        "id": "JNXCjmPkPzcQ"
      }
    },
    {
      "cell_type": "code",
      "source": [
        "def get_lines(filename):\n",
        "  '''\n",
        "  Reads filename (txt) returns list of lines\n",
        "\n",
        "  Args:\n",
        "    filename: a string containing target filepath\n",
        "  \n",
        "  Return: List of strings - one string per line\n",
        "  '''\n",
        "  with open(filename, \"r\") as f:\n",
        "    return f.readlines()"
      ],
      "metadata": {
        "id": "o3dtxUz4Rw3C"
      },
      "execution_count": 10,
      "outputs": []
    },
    {
      "cell_type": "markdown",
      "source": [
        "Get data in form of list of directories like :\n",
        "```\n",
        "[{'line_num': num,\n",
        "  'target': e.g. 'BACKGROUND',\n",
        "  'text': e.g  \"Pain was assessed using the visual analog pain scale ( @-@ mm ) .\\n\",\n",
        "  'num_of_lines': lines for one article},\n",
        "next sentences...]\n",
        "```"
      ],
      "metadata": {
        "id": "yXBr6ovVSYxU"
      }
    },
    {
      "cell_type": "code",
      "source": [
        "def preprocess_lines(filename):\n",
        "  lines = get_lines(filename) #Getting lines from filename\n",
        "  #Prepare text for learning\n",
        "  train_data=[]\n",
        "  j=0\n",
        "  for i,line in enumerate(lines):\n",
        "    if line.startswith(\"###\"):\n",
        "      for k,check_line in enumerate(lines[i:]):\n",
        "        if check_line.isspace():\n",
        "          break\n",
        "    elif line.isspace():\n",
        "      j=0\n",
        "    else:\n",
        "      train_data.append({'line_num': j,\n",
        "                        'target': line.split(\"\\t\")[0],\n",
        "                        'text': line.split(\"\\t\")[1][:-1].lower(),\n",
        "                        'num_of_lines':k-2})#Substracting 2 because of first ### line and last \"\\n\" line\n",
        "      j+=1\n",
        "  return train_data"
      ],
      "metadata": {
        "id": "rUUQOMXTUN5S"
      },
      "execution_count": 11,
      "outputs": []
    },
    {
      "cell_type": "code",
      "source": [
        "%%time\n",
        "\n",
        "train_samples = preprocess_lines(data_dir+\"train.txt\")\n",
        "val_samples = preprocess_lines(data_dir+\"dev.txt\")\n",
        "test_samples = preprocess_lines(data_dir+\"test.txt\")\n",
        "\n",
        "print(len(train_samples),len(val_samples),len(test_samples))"
      ],
      "metadata": {
        "colab": {
          "base_uri": "https://localhost:8080/"
        },
        "id": "WK7tboA32ekI",
        "outputId": "5ba869be-6c7f-4d11-8ebd-2ee0c90446eb"
      },
      "execution_count": 12,
      "outputs": [
        {
          "output_type": "stream",
          "name": "stdout",
          "text": [
            "180040 30212 30135\n",
            "CPU times: user 13.5 s, sys: 177 ms, total: 13.6 s\n",
            "Wall time: 13.7 s\n"
          ]
        }
      ]
    },
    {
      "cell_type": "code",
      "source": [
        "train_samples[:14]"
      ],
      "metadata": {
        "colab": {
          "base_uri": "https://localhost:8080/"
        },
        "id": "YOISe5CSGRk4",
        "outputId": "d071ef99-e752-4d9b-d7b5-d35725a7a4c6"
      },
      "execution_count": 13,
      "outputs": [
        {
          "output_type": "execute_result",
          "data": {
            "text/plain": [
              "[{'line_num': 0,\n",
              "  'target': 'OBJECTIVE',\n",
              "  'text': 'to investigate the efficacy of @ weeks of daily low-dose oral prednisolone in improving pain , mobility , and systemic low-grade inflammation in the short term and whether the effect would be sustained at @ weeks in older adults with moderate to severe knee osteoarthritis ( oa ) .',\n",
              "  'num_of_lines': 11},\n",
              " {'line_num': 1,\n",
              "  'target': 'METHODS',\n",
              "  'text': 'a total of @ patients with primary knee oa were randomized @:@ ; @ received @ mg/day of prednisolone and @ received placebo for @ weeks .',\n",
              "  'num_of_lines': 11},\n",
              " {'line_num': 2,\n",
              "  'target': 'METHODS',\n",
              "  'text': 'outcome measures included pain reduction and improvement in function scores and systemic inflammation markers .',\n",
              "  'num_of_lines': 11},\n",
              " {'line_num': 3,\n",
              "  'target': 'METHODS',\n",
              "  'text': 'pain was assessed using the visual analog pain scale ( @-@ mm ) .',\n",
              "  'num_of_lines': 11},\n",
              " {'line_num': 4,\n",
              "  'target': 'METHODS',\n",
              "  'text': 'secondary outcome measures included the western ontario and mcmaster universities osteoarthritis index scores , patient global assessment ( pga ) of the severity of knee oa , and @-min walk distance ( @mwd ) .',\n",
              "  'num_of_lines': 11},\n",
              " {'line_num': 5,\n",
              "  'target': 'METHODS',\n",
              "  'text': 'serum levels of interleukin @ ( il-@ ) , il-@ , tumor necrosis factor ( tnf ) - , and high-sensitivity c-reactive protein ( hscrp ) were measured .',\n",
              "  'num_of_lines': 11},\n",
              " {'line_num': 6,\n",
              "  'target': 'RESULTS',\n",
              "  'text': 'there was a clinically relevant reduction in the intervention group compared to the placebo group for knee pain , physical function , pga , and @mwd at @ weeks .',\n",
              "  'num_of_lines': 11},\n",
              " {'line_num': 7,\n",
              "  'target': 'RESULTS',\n",
              "  'text': 'the mean difference between treatment arms ( @ % ci ) was @ ( @-@ @ ) , p < @ ; @ ( @-@ @ ) , p < @ ; @ ( @-@ @ ) , p < @ ; and @ ( @-@ @ ) , p < @ , respectively .',\n",
              "  'num_of_lines': 11},\n",
              " {'line_num': 8,\n",
              "  'target': 'RESULTS',\n",
              "  'text': 'further , there was a clinically relevant reduction in the serum levels of il-@ , il-@ , tnf - , and hscrp at @ weeks in the intervention group when compared to the placebo group .',\n",
              "  'num_of_lines': 11},\n",
              " {'line_num': 9,\n",
              "  'target': 'RESULTS',\n",
              "  'text': 'these differences remained significant at @ weeks .',\n",
              "  'num_of_lines': 11},\n",
              " {'line_num': 10,\n",
              "  'target': 'RESULTS',\n",
              "  'text': 'the outcome measures in rheumatology clinical trials-osteoarthritis research society international responder rate was @ % in the intervention group and @ % in the placebo group ( p < @ ) .',\n",
              "  'num_of_lines': 11},\n",
              " {'line_num': 11,\n",
              "  'target': 'CONCLUSIONS',\n",
              "  'text': 'low-dose oral prednisolone had both a short-term and a longer sustained effect resulting in less knee pain , better physical function , and attenuation of systemic inflammation in older patients with knee oa ( clinicaltrials.gov identifier nct@ ) .',\n",
              "  'num_of_lines': 11},\n",
              " {'line_num': 0,\n",
              "  'target': 'BACKGROUND',\n",
              "  'text': 'emotional eating is associated with overeating and the development of obesity .',\n",
              "  'num_of_lines': 10},\n",
              " {'line_num': 1,\n",
              "  'target': 'BACKGROUND',\n",
              "  'text': 'yet , empirical evidence for individual ( trait ) differences in emotional eating and cognitive mechanisms that contribute to eating during sad mood remain equivocal .',\n",
              "  'num_of_lines': 10}]"
            ]
          },
          "metadata": {},
          "execution_count": 13
        }
      ]
    },
    {
      "cell_type": "code",
      "source": [
        "import pandas as pd\n",
        "train_df = pd.DataFrame(train_samples)\n",
        "val_df = pd.DataFrame(val_samples)\n",
        "test_df = pd.DataFrame(test_samples)\n",
        "train_df.head(14)"
      ],
      "metadata": {
        "colab": {
          "base_uri": "https://localhost:8080/",
          "height": 488
        },
        "id": "WJC7_tI8IvHb",
        "outputId": "e53903ce-b29b-4096-a2fa-9f15610382a0"
      },
      "execution_count": 14,
      "outputs": [
        {
          "output_type": "execute_result",
          "data": {
            "text/plain": [
              "    line_num       target                                               text  \\\n",
              "0          0    OBJECTIVE  to investigate the efficacy of @ weeks of dail...   \n",
              "1          1      METHODS  a total of @ patients with primary knee oa wer...   \n",
              "2          2      METHODS  outcome measures included pain reduction and i...   \n",
              "3          3      METHODS  pain was assessed using the visual analog pain...   \n",
              "4          4      METHODS  secondary outcome measures included the wester...   \n",
              "5          5      METHODS  serum levels of interleukin @ ( il-@ ) , il-@ ...   \n",
              "6          6      RESULTS  there was a clinically relevant reduction in t...   \n",
              "7          7      RESULTS  the mean difference between treatment arms ( @...   \n",
              "8          8      RESULTS  further , there was a clinically relevant redu...   \n",
              "9          9      RESULTS  these differences remained significant at @ we...   \n",
              "10        10      RESULTS  the outcome measures in rheumatology clinical ...   \n",
              "11        11  CONCLUSIONS  low-dose oral prednisolone had both a short-te...   \n",
              "12         0   BACKGROUND  emotional eating is associated with overeating...   \n",
              "13         1   BACKGROUND  yet , empirical evidence for individual ( trai...   \n",
              "\n",
              "    num_of_lines  \n",
              "0             11  \n",
              "1             11  \n",
              "2             11  \n",
              "3             11  \n",
              "4             11  \n",
              "5             11  \n",
              "6             11  \n",
              "7             11  \n",
              "8             11  \n",
              "9             11  \n",
              "10            11  \n",
              "11            11  \n",
              "12            10  \n",
              "13            10  "
            ],
            "text/html": [
              "\n",
              "  <div id=\"df-a2c1d1f0-b16f-4cd3-9d89-48674cdaa936\">\n",
              "    <div class=\"colab-df-container\">\n",
              "      <div>\n",
              "<style scoped>\n",
              "    .dataframe tbody tr th:only-of-type {\n",
              "        vertical-align: middle;\n",
              "    }\n",
              "\n",
              "    .dataframe tbody tr th {\n",
              "        vertical-align: top;\n",
              "    }\n",
              "\n",
              "    .dataframe thead th {\n",
              "        text-align: right;\n",
              "    }\n",
              "</style>\n",
              "<table border=\"1\" class=\"dataframe\">\n",
              "  <thead>\n",
              "    <tr style=\"text-align: right;\">\n",
              "      <th></th>\n",
              "      <th>line_num</th>\n",
              "      <th>target</th>\n",
              "      <th>text</th>\n",
              "      <th>num_of_lines</th>\n",
              "    </tr>\n",
              "  </thead>\n",
              "  <tbody>\n",
              "    <tr>\n",
              "      <th>0</th>\n",
              "      <td>0</td>\n",
              "      <td>OBJECTIVE</td>\n",
              "      <td>to investigate the efficacy of @ weeks of dail...</td>\n",
              "      <td>11</td>\n",
              "    </tr>\n",
              "    <tr>\n",
              "      <th>1</th>\n",
              "      <td>1</td>\n",
              "      <td>METHODS</td>\n",
              "      <td>a total of @ patients with primary knee oa wer...</td>\n",
              "      <td>11</td>\n",
              "    </tr>\n",
              "    <tr>\n",
              "      <th>2</th>\n",
              "      <td>2</td>\n",
              "      <td>METHODS</td>\n",
              "      <td>outcome measures included pain reduction and i...</td>\n",
              "      <td>11</td>\n",
              "    </tr>\n",
              "    <tr>\n",
              "      <th>3</th>\n",
              "      <td>3</td>\n",
              "      <td>METHODS</td>\n",
              "      <td>pain was assessed using the visual analog pain...</td>\n",
              "      <td>11</td>\n",
              "    </tr>\n",
              "    <tr>\n",
              "      <th>4</th>\n",
              "      <td>4</td>\n",
              "      <td>METHODS</td>\n",
              "      <td>secondary outcome measures included the wester...</td>\n",
              "      <td>11</td>\n",
              "    </tr>\n",
              "    <tr>\n",
              "      <th>5</th>\n",
              "      <td>5</td>\n",
              "      <td>METHODS</td>\n",
              "      <td>serum levels of interleukin @ ( il-@ ) , il-@ ...</td>\n",
              "      <td>11</td>\n",
              "    </tr>\n",
              "    <tr>\n",
              "      <th>6</th>\n",
              "      <td>6</td>\n",
              "      <td>RESULTS</td>\n",
              "      <td>there was a clinically relevant reduction in t...</td>\n",
              "      <td>11</td>\n",
              "    </tr>\n",
              "    <tr>\n",
              "      <th>7</th>\n",
              "      <td>7</td>\n",
              "      <td>RESULTS</td>\n",
              "      <td>the mean difference between treatment arms ( @...</td>\n",
              "      <td>11</td>\n",
              "    </tr>\n",
              "    <tr>\n",
              "      <th>8</th>\n",
              "      <td>8</td>\n",
              "      <td>RESULTS</td>\n",
              "      <td>further , there was a clinically relevant redu...</td>\n",
              "      <td>11</td>\n",
              "    </tr>\n",
              "    <tr>\n",
              "      <th>9</th>\n",
              "      <td>9</td>\n",
              "      <td>RESULTS</td>\n",
              "      <td>these differences remained significant at @ we...</td>\n",
              "      <td>11</td>\n",
              "    </tr>\n",
              "    <tr>\n",
              "      <th>10</th>\n",
              "      <td>10</td>\n",
              "      <td>RESULTS</td>\n",
              "      <td>the outcome measures in rheumatology clinical ...</td>\n",
              "      <td>11</td>\n",
              "    </tr>\n",
              "    <tr>\n",
              "      <th>11</th>\n",
              "      <td>11</td>\n",
              "      <td>CONCLUSIONS</td>\n",
              "      <td>low-dose oral prednisolone had both a short-te...</td>\n",
              "      <td>11</td>\n",
              "    </tr>\n",
              "    <tr>\n",
              "      <th>12</th>\n",
              "      <td>0</td>\n",
              "      <td>BACKGROUND</td>\n",
              "      <td>emotional eating is associated with overeating...</td>\n",
              "      <td>10</td>\n",
              "    </tr>\n",
              "    <tr>\n",
              "      <th>13</th>\n",
              "      <td>1</td>\n",
              "      <td>BACKGROUND</td>\n",
              "      <td>yet , empirical evidence for individual ( trai...</td>\n",
              "      <td>10</td>\n",
              "    </tr>\n",
              "  </tbody>\n",
              "</table>\n",
              "</div>\n",
              "      <button class=\"colab-df-convert\" onclick=\"convertToInteractive('df-a2c1d1f0-b16f-4cd3-9d89-48674cdaa936')\"\n",
              "              title=\"Convert this dataframe to an interactive table.\"\n",
              "              style=\"display:none;\">\n",
              "        \n",
              "  <svg xmlns=\"http://www.w3.org/2000/svg\" height=\"24px\"viewBox=\"0 0 24 24\"\n",
              "       width=\"24px\">\n",
              "    <path d=\"M0 0h24v24H0V0z\" fill=\"none\"/>\n",
              "    <path d=\"M18.56 5.44l.94 2.06.94-2.06 2.06-.94-2.06-.94-.94-2.06-.94 2.06-2.06.94zm-11 1L8.5 8.5l.94-2.06 2.06-.94-2.06-.94L8.5 2.5l-.94 2.06-2.06.94zm10 10l.94 2.06.94-2.06 2.06-.94-2.06-.94-.94-2.06-.94 2.06-2.06.94z\"/><path d=\"M17.41 7.96l-1.37-1.37c-.4-.4-.92-.59-1.43-.59-.52 0-1.04.2-1.43.59L10.3 9.45l-7.72 7.72c-.78.78-.78 2.05 0 2.83L4 21.41c.39.39.9.59 1.41.59.51 0 1.02-.2 1.41-.59l7.78-7.78 2.81-2.81c.8-.78.8-2.07 0-2.86zM5.41 20L4 18.59l7.72-7.72 1.47 1.35L5.41 20z\"/>\n",
              "  </svg>\n",
              "      </button>\n",
              "      \n",
              "  <style>\n",
              "    .colab-df-container {\n",
              "      display:flex;\n",
              "      flex-wrap:wrap;\n",
              "      gap: 12px;\n",
              "    }\n",
              "\n",
              "    .colab-df-convert {\n",
              "      background-color: #E8F0FE;\n",
              "      border: none;\n",
              "      border-radius: 50%;\n",
              "      cursor: pointer;\n",
              "      display: none;\n",
              "      fill: #1967D2;\n",
              "      height: 32px;\n",
              "      padding: 0 0 0 0;\n",
              "      width: 32px;\n",
              "    }\n",
              "\n",
              "    .colab-df-convert:hover {\n",
              "      background-color: #E2EBFA;\n",
              "      box-shadow: 0px 1px 2px rgba(60, 64, 67, 0.3), 0px 1px 3px 1px rgba(60, 64, 67, 0.15);\n",
              "      fill: #174EA6;\n",
              "    }\n",
              "\n",
              "    [theme=dark] .colab-df-convert {\n",
              "      background-color: #3B4455;\n",
              "      fill: #D2E3FC;\n",
              "    }\n",
              "\n",
              "    [theme=dark] .colab-df-convert:hover {\n",
              "      background-color: #434B5C;\n",
              "      box-shadow: 0px 1px 3px 1px rgba(0, 0, 0, 0.15);\n",
              "      filter: drop-shadow(0px 1px 2px rgba(0, 0, 0, 0.3));\n",
              "      fill: #FFFFFF;\n",
              "    }\n",
              "  </style>\n",
              "\n",
              "      <script>\n",
              "        const buttonEl =\n",
              "          document.querySelector('#df-a2c1d1f0-b16f-4cd3-9d89-48674cdaa936 button.colab-df-convert');\n",
              "        buttonEl.style.display =\n",
              "          google.colab.kernel.accessAllowed ? 'block' : 'none';\n",
              "\n",
              "        async function convertToInteractive(key) {\n",
              "          const element = document.querySelector('#df-a2c1d1f0-b16f-4cd3-9d89-48674cdaa936');\n",
              "          const dataTable =\n",
              "            await google.colab.kernel.invokeFunction('convertToInteractive',\n",
              "                                                     [key], {});\n",
              "          if (!dataTable) return;\n",
              "\n",
              "          const docLinkHtml = 'Like what you see? Visit the ' +\n",
              "            '<a target=\"_blank\" href=https://colab.research.google.com/notebooks/data_table.ipynb>data table notebook</a>'\n",
              "            + ' to learn more about interactive tables.';\n",
              "          element.innerHTML = '';\n",
              "          dataTable['output_type'] = 'display_data';\n",
              "          await google.colab.output.renderOutput(dataTable, element);\n",
              "          const docLink = document.createElement('div');\n",
              "          docLink.innerHTML = docLinkHtml;\n",
              "          element.appendChild(docLink);\n",
              "        }\n",
              "      </script>\n",
              "    </div>\n",
              "  </div>\n",
              "  "
            ]
          },
          "metadata": {},
          "execution_count": 14
        }
      ]
    },
    {
      "cell_type": "code",
      "source": [
        "#Distribution of labels\n",
        "train_df.target.value_counts()"
      ],
      "metadata": {
        "colab": {
          "base_uri": "https://localhost:8080/"
        },
        "id": "kG7rpjy9KQRp",
        "outputId": "79e13814-7f9c-46e9-c7da-9fd6a4470fa3"
      },
      "execution_count": 15,
      "outputs": [
        {
          "output_type": "execute_result",
          "data": {
            "text/plain": [
              "METHODS        59353\n",
              "RESULTS        57953\n",
              "CONCLUSIONS    27168\n",
              "BACKGROUND     21727\n",
              "OBJECTIVE      13839\n",
              "Name: target, dtype: int64"
            ]
          },
          "metadata": {},
          "execution_count": 15
        }
      ]
    },
    {
      "cell_type": "code",
      "source": [
        "#Distribution of lenght of different lines\n",
        "train_df.num_of_lines.plot.hist();"
      ],
      "metadata": {
        "colab": {
          "base_uri": "https://localhost:8080/",
          "height": 267
        },
        "id": "3R2l-FcmK7OT",
        "outputId": "0bf179a8-f8b2-4cef-9a7e-76a9fb081760"
      },
      "execution_count": 16,
      "outputs": [
        {
          "output_type": "display_data",
          "data": {
            "text/plain": [
              "<Figure size 432x288 with 1 Axes>"
            ],
            "image/png": "[encoded data removed]"
          },
          "metadata": {
            "needs_background": "light"
          }
        }
      ]
    },
    {
      "cell_type": "markdown",
      "source": [
        "#List of sentences"
      ],
      "metadata": {
        "id": "Yq36dvEILM2Y"
      }
    },
    {
      "cell_type": "code",
      "source": [
        "#Making data ready to learning\n",
        "train_sentences = train_df[\"text\"].tolist()\n",
        "val_sentences=val_df[\"text\"].tolist()\n",
        "test_sentences=test_df[\"text\"].tolist()\n",
        "len(train_sentences),len(val_sentences),len(test_sentences)"
      ],
      "metadata": {
        "colab": {
          "base_uri": "https://localhost:8080/"
        },
        "id": "KNazW2gULajz",
        "outputId": "be87fd9d-b3db-4b29-9f30-04deaf5dcf3d"
      },
      "execution_count": 17,
      "outputs": [
        {
          "output_type": "execute_result",
          "data": {
            "text/plain": [
              "(180040, 30212, 30135)"
            ]
          },
          "metadata": {},
          "execution_count": 17
        }
      ]
    },
    {
      "cell_type": "code",
      "source": [
        "# Make labels numeric for ML models\n",
        "import tensorflow as tf\n",
        "from sklearn.preprocessing import OneHotEncoder\n",
        "ohc = OneHotEncoder(sparse=False)\n",
        "train_labels_oh = tf.constant(ohc.fit_transform(train_df[\"target\"].to_numpy().reshape(-1,1)))#Fit only to train data\n",
        "val_labels_oh = tf.constant(ohc.transform(val_df[\"target\"].to_numpy().reshape(-1,1)))\n",
        "test_labels_oh = tf.constant(ohc.transform(test_df[\"target\"].to_numpy().reshape(-1,1)))\n",
        "train_labels_oh, len(train_labels_oh)"
      ],
      "metadata": {
        "colab": {
          "base_uri": "https://localhost:8080/"
        },
        "id": "_Sv5IoT6Lybt",
        "outputId": "4f303bd4-6338-4cd0-c659-990f3c52cecc"
      },
      "execution_count": 18,
      "outputs": [
        {
          "output_type": "execute_result",
          "data": {
            "text/plain": [
              "(<tf.Tensor: shape=(180040, 5), dtype=float64, numpy=\n",
              " array([[0., 0., 0., 1., 0.],\n",
              "        [0., 0., 1., 0., 0.],\n",
              "        [0., 0., 1., 0., 0.],\n",
              "        ...,\n",
              "        [0., 0., 0., 0., 1.],\n",
              "        [0., 1., 0., 0., 0.],\n",
              "        [0., 1., 0., 0., 0.]])>, 180040)"
            ]
          },
          "metadata": {},
          "execution_count": 18
        }
      ]
    },
    {
      "cell_type": "code",
      "source": [
        "#Cand also encode labels\n",
        "from sklearn.preprocessing import LabelEncoder\n",
        "label_encoder = LabelEncoder()\n",
        "train_labels_encode = label_encoder.fit_transform(train_df[\"target\"].to_numpy())\n",
        "val_labels_encode = label_encoder.transform(val_df[\"target\"].to_numpy())\n",
        "test_labels_encode = label_encoder.transform(test_df[\"target\"].to_numpy())\n",
        "train_labels_encode,len(train_labels_encode)"
      ],
      "metadata": {
        "colab": {
          "base_uri": "https://localhost:8080/"
        },
        "id": "U2Z6gyW-RQKB",
        "outputId": "1230f710-aa54-46a0-9596-7d4a1d8eb2d3"
      },
      "execution_count": 19,
      "outputs": [
        {
          "output_type": "execute_result",
          "data": {
            "text/plain": [
              "(array([3, 2, 2, ..., 4, 1, 1]), 180040)"
            ]
          },
          "metadata": {},
          "execution_count": 19
        }
      ]
    },
    {
      "cell_type": "code",
      "source": [
        "#Get class names and number of them\n",
        "num_classes = len(label_encoder.classes_)\n",
        "class_names = label_encoder.classes_\n",
        "num_classes, class_names\n"
      ],
      "metadata": {
        "colab": {
          "base_uri": "https://localhost:8080/"
        },
        "id": "YYtTf9LHRR-o",
        "outputId": "96f45009-5270-4fb0-cf42-cf2efb998f26"
      },
      "execution_count": 20,
      "outputs": [
        {
          "output_type": "execute_result",
          "data": {
            "text/plain": [
              "(5, array(['BACKGROUND', 'CONCLUSIONS', 'METHODS', 'OBJECTIVE', 'RESULTS'],\n",
              "       dtype=object))"
            ]
          },
          "metadata": {},
          "execution_count": 20
        }
      ]
    },
    {
      "cell_type": "markdown",
      "source": [
        "## MODEL 0 - Naive Bayes as baseline\n",
        "\n",
        "-  Multinomial"
      ],
      "metadata": {
        "id": "VU2J3YTNTjrJ"
      }
    },
    {
      "cell_type": "code",
      "source": [
        "from sklearn.naive_bayes import MultinomialNB, GaussianNB\n",
        "from sklearn.pipeline import Pipeline\n",
        "from sklearn.feature_extraction.text import TfidfVectorizer\n",
        "#Build\n",
        "model_0 = Pipeline([('tf-idf', TfidfVectorizer()),\n",
        "                    ('clf', MultinomialNB())])\n",
        "model_0.fit(train_sentences,train_labels_encode)"
      ],
      "metadata": {
        "colab": {
          "base_uri": "https://localhost:8080/"
        },
        "id": "y683sST7UT7n",
        "outputId": "b727ab18-ebe9-447c-a72b-9d33405a873b"
      },
      "execution_count": 21,
      "outputs": [
        {
          "output_type": "execute_result",
          "data": {
            "text/plain": [
              "Pipeline(steps=[('tf-idf', TfidfVectorizer()), ('clf', MultinomialNB())])"
            ]
          },
          "metadata": {},
          "execution_count": 21
        }
      ]
    },
    {
      "cell_type": "code",
      "source": [
        "#Evaluate\n",
        "model_0.score(X=val_sentences,y=val_labels_encode)"
      ],
      "metadata": {
        "colab": {
          "base_uri": "https://localhost:8080/"
        },
        "id": "Inr5m2WCVDSv",
        "outputId": "3667693b-afe3-42ce-9698-b387419946f5"
      },
      "execution_count": 22,
      "outputs": [
        {
          "output_type": "execute_result",
          "data": {
            "text/plain": [
              "0.7218323844829869"
            ]
          },
          "metadata": {},
          "execution_count": 22
        }
      ]
    },
    {
      "cell_type": "code",
      "source": [
        "#Making predictions and gettign evaluation metrics\n",
        "model_0_predictions = model_0.predict(val_sentences)\n",
        "model_0_results = hp.calculate_results(val_labels_encode,model_0_predictions)\n",
        "model_0_results"
      ],
      "metadata": {
        "colab": {
          "base_uri": "https://localhost:8080/"
        },
        "id": "Yyl_zCtdWU8e",
        "outputId": "d4866f73-6ae8-43e5-eee0-17152765bd64"
      },
      "execution_count": 23,
      "outputs": [
        {
          "output_type": "execute_result",
          "data": {
            "text/plain": [
              "{'accuracy': 72.1832384482987,\n",
              " 'precision': 0.7186466952323352,\n",
              " 'recall': 0.7218323844829869,\n",
              " 'f1': 0.6989250353450294}"
            ]
          },
          "metadata": {},
          "execution_count": 23
        }
      ]
    },
    {
      "cell_type": "markdown",
      "source": [
        "# Preparing data for deep learning\n",
        "\n",
        "- Tokenization, Word Embedding"
      ],
      "metadata": {
        "id": "AYQ8UocgXzul"
      }
    },
    {
      "cell_type": "code",
      "source": [
        "#Length of sentences average\n",
        "import numpy as np\n",
        "sentence_lengths =  [len(sentence.split()) for sentence in train_sentences]\n",
        "avg_length = np.mean(sentence_lengths)\n",
        "max_length = np.max(sentence_lengths)\n",
        "avg_length, max_length "
      ],
      "metadata": {
        "colab": {
          "base_uri": "https://localhost:8080/"
        },
        "id": "XI-aT8_uFGRp",
        "outputId": "d24f8eb7-46f9-430f-84d4-59a2936e6c2e"
      },
      "execution_count": 24,
      "outputs": [
        {
          "output_type": "execute_result",
          "data": {
            "text/plain": [
              "(26.338269273494777, 296)"
            ]
          },
          "metadata": {},
          "execution_count": 24
        }
      ]
    },
    {
      "cell_type": "code",
      "source": [
        "import matplotlib.pyplot as plt\n",
        "plt.hist(sentence_lengths,bins=25);"
      ],
      "metadata": {
        "colab": {
          "base_uri": "https://localhost:8080/",
          "height": 265
        },
        "id": "fwMjGX83GJbq",
        "outputId": "0d725daa-87c1-49a8-ae7b-8d9d1a3a2e05"
      },
      "execution_count": 25,
      "outputs": [
        {
          "output_type": "display_data",
          "data": {
            "text/plain": [
              "<Figure size 432x288 with 1 Axes>"
            ],
            "image/png": "[encoded data removed]"
          },
          "metadata": {
            "needs_background": "light"
          }
        }
      ]
    },
    {
      "cell_type": "code",
      "source": [
        "percentile_sent = int(np.percentile(sentence_lengths,95))\n",
        "percentile_sent\n",
        "#95% is under 55 length"
      ],
      "metadata": {
        "colab": {
          "base_uri": "https://localhost:8080/"
        },
        "id": "nHKZyTiVGUpD",
        "outputId": "5198873a-7dfc-48ae-cdcd-5f494ef766ab"
      },
      "execution_count": 26,
      "outputs": [
        {
          "output_type": "execute_result",
          "data": {
            "text/plain": [
              "55"
            ]
          },
          "metadata": {},
          "execution_count": 26
        }
      ]
    },
    {
      "cell_type": "markdown",
      "source": [
        "Use length of 55 then as length of sequences for vectorization and embedding\n",
        "\n",
        "Also taking from paper given at the beggining, max tokens will be set as an amount of words in 20K PubMed DataSet"
      ],
      "metadata": {
        "id": "5lUw09CNHGfn"
      }
    },
    {
      "cell_type": "code",
      "source": [
        "import tensorflow as tf\n",
        "from tensorflow.keras.layers.experimental.preprocessing import TextVectorization\n",
        "from tensorflow.keras.layers import Embedding\n",
        "\n",
        "max_tokens = 68000\n",
        "sequence_length = percentile_sent\n",
        "\n",
        "#Text Vectorizer layer \n",
        "text_vectorizer = TextVectorization(max_tokens = max_tokens,\n",
        "                                    output_mode = \"int\",\n",
        "                                    output_sequence_length=sequence_length)"
      ],
      "metadata": {
        "id": "xG0ES-KBD06T"
      },
      "execution_count": 27,
      "outputs": []
    },
    {
      "cell_type": "code",
      "source": [
        "#Adapt text vectorizer to train_data\n",
        "text_vectorizer.adapt(train_sentences)"
      ],
      "metadata": {
        "id": "Sffoe2CFEZOz"
      },
      "execution_count": 28,
      "outputs": []
    },
    {
      "cell_type": "code",
      "source": [
        "#Test text vectorizer\n",
        "import random\n",
        "target_sentence = random.choice(train_sentences)\n",
        "print(f\"Text:\\n{target_sentence}\")\n",
        "print(f\"\\nlength = {len(target_sentence.split())}\")\n",
        "print(f\"\\nText:\\n{text_vectorizer([target_sentence])}\")"
      ],
      "metadata": {
        "colab": {
          "base_uri": "https://localhost:8080/"
        },
        "id": "kNLF_fLeJHOT",
        "outputId": "691f844d-f088-4818-f977-ddf723dcf1b2"
      },
      "execution_count": 29,
      "outputs": [
        {
          "output_type": "stream",
          "name": "stdout",
          "text": [
            "Text:\n",
            "both children ( p = @ ) and adults ( p @ ) preferred hebi .\n",
            "\n",
            "length = 16\n",
            "\n",
            "Text:\n",
            "[[   54   109    14     3   266    14  1955 18665     0     0     0     0\n",
            "      0     0     0     0     0     0     0     0     0     0     0     0\n",
            "      0     0     0     0     0     0     0     0     0     0     0     0\n",
            "      0     0     0     0     0     0     0     0     0     0     0     0\n",
            "      0     0     0     0     0     0     0]]\n"
          ]
        }
      ]
    },
    {
      "cell_type": "code",
      "source": [
        "pubMed_20k_vocab = text_vectorizer.get_vocabulary()\n",
        "print(f\"Len of Vocabulary: {len(pubMed_20k_vocab)}\\n\")\n",
        "print(f\"Most Common:\\n{pubMed_20k_vocab[:5]}\")\n",
        "print(f\"\\nRare:\\n{pubMed_20k_vocab[-5:]}\")"
      ],
      "metadata": {
        "colab": {
          "base_uri": "https://localhost:8080/"
        },
        "id": "mvMxBK23T4eZ",
        "outputId": "fbf45100-619b-49db-f8a5-c3c1b96a590c"
      },
      "execution_count": 30,
      "outputs": [
        {
          "output_type": "stream",
          "name": "stdout",
          "text": [
            "Len of Vocabulary: 64841\n",
            "\n",
            "Most Common:\n",
            "['', '[UNK]', 'the', 'and', 'of']\n",
            "\n",
            "Rare:\n",
            "['aainduced', 'aaigroup', 'aachener', 'aachen', 'aaacp']\n"
          ]
        }
      ]
    },
    {
      "cell_type": "code",
      "source": [
        "embedding_layer = Embedding(input_dim=len(pubMed_20k_vocab),\n",
        "                            output_dim=128,\n",
        "                            mask_zero=True, #It will mask out zeros - A lot of special 'padding' - thank to this - more efficient,\n",
        "                            name=\"embedding_layer\" \n",
        "                            )"
      ],
      "metadata": {
        "id": "5M1Vf8J8Ju00"
      },
      "execution_count": 31,
      "outputs": []
    },
    {
      "cell_type": "code",
      "source": [
        "#Check random samples going through embedding\n",
        "import random\n",
        "target_sentence = random.choice(train_sentences)\n",
        "print(f\"Text:\\n{target_sentence}\")\n",
        "print(f\"\\nVectorized Text:\\n{text_vectorizer([target_sentence])}\")\n",
        "print(f\"\\nEmbedded Text{embedding_layer(text_vectorizer([target_sentence]))}\")\n",
        "print(f\"\\nShape of embedded text:{embedding_layer(text_vectorizer([target_sentence])).shape} \")"
      ],
      "metadata": {
        "colab": {
          "base_uri": "https://localhost:8080/"
        },
        "id": "rqXxE2fjUlsa",
        "outputId": "31476284-68fa-490b-bdd5-c2d26ebcd8d6"
      },
      "execution_count": 32,
      "outputs": [
        {
          "output_type": "stream",
          "name": "stdout",
          "text": [
            "Text:\n",
            "the trial is registered with clinical trial registry-india ( ctri/@/@ / @ ) and clinicaltrials.gov ( nct@ ) .\n",
            "\n",
            "Vectorized Text:\n",
            "[[    2    32    20   394     7    47    32 19744  7246     3   275   176\n",
            "      0     0     0     0     0     0     0     0     0     0     0     0\n",
            "      0     0     0     0     0     0     0     0     0     0     0     0\n",
            "      0     0     0     0     0     0     0     0     0     0     0     0\n",
            "      0     0     0     0     0     0     0]]\n",
            "\n",
            "Embedded Text[[[-0.02745211  0.04366327 -0.01287667 ...  0.04601804 -0.04724169\n",
            "   -0.0485201 ]\n",
            "  [-0.02836732  0.04168599  0.0405564  ... -0.04337115  0.0387206\n",
            "    0.01289013]\n",
            "  [-0.03209452  0.01228761  0.0237206  ... -0.00418018 -0.01968961\n",
            "    0.02943346]\n",
            "  ...\n",
            "  [ 0.00424714  0.04387765  0.03675172 ... -0.04776631 -0.04390858\n",
            "    0.01003446]\n",
            "  [ 0.00424714  0.04387765  0.03675172 ... -0.04776631 -0.04390858\n",
            "    0.01003446]\n",
            "  [ 0.00424714  0.04387765  0.03675172 ... -0.04776631 -0.04390858\n",
            "    0.01003446]]]\n",
            "\n",
            "Shape of embedded text:(1, 55, 128) \n"
          ]
        }
      ]
    },
    {
      "cell_type": "markdown",
      "source": [
        "## Creating dataset - using tf.data APi\n",
        "- making as efficient as possible\n",
        "\n",
        "https://www.tensorflow.org/guide/data?hl=pl\n",
        "\n"
      ],
      "metadata": {
        "id": "ZUdUcpedVTmt"
      }
    },
    {
      "cell_type": "code",
      "source": [
        "#Turn list and numpy array to TensorflowSliceDataset\n",
        "train_dataset = tf.data.Dataset.from_tensor_slices((train_sentences,train_labels_oh))\n",
        "valid_dataset = tf.data.Dataset.from_tensor_slices((val_sentences,val_labels_oh))\n",
        "test_dataset = tf.data.Dataset.from_tensor_slices((test_sentences,test_labels_oh))\n",
        "train_dataset"
      ],
      "metadata": {
        "colab": {
          "base_uri": "https://localhost:8080/"
        },
        "id": "COUoPas5WXvq",
        "outputId": "8b494791-b119-46ce-bff1-ca6d06892313"
      },
      "execution_count": 33,
      "outputs": [
        {
          "output_type": "execute_result",
          "data": {
            "text/plain": [
              "<TensorSliceDataset element_spec=(TensorSpec(shape=(), dtype=tf.string, name=None), TensorSpec(shape=(5,), dtype=tf.float64, name=None))>"
            ]
          },
          "metadata": {},
          "execution_count": 33
        }
      ]
    },
    {
      "cell_type": "code",
      "source": [
        "train_labels_oh.shape"
      ],
      "metadata": {
        "colab": {
          "base_uri": "https://localhost:8080/"
        },
        "id": "wmE6O6AGXLhr",
        "outputId": "5d41ea8d-47c6-41a4-9d28-053288e082e8"
      },
      "execution_count": 34,
      "outputs": [
        {
          "output_type": "execute_result",
          "data": {
            "text/plain": [
              "TensorShape([180040, 5])"
            ]
          },
          "metadata": {},
          "execution_count": 34
        }
      ]
    },
    {
      "cell_type": "code",
      "source": [
        "#Turn to prefeched Datasets\n",
        "train_dataset = train_dataset.batch(32).prefetch(tf.data.AUTOTUNE)#Don't shuffle, because order in this case is crucial\n",
        "valid_dataset = valid_dataset.batch(32).prefetch(tf.data.AUTOTUNE)\n",
        "test_dataset = test_dataset.batch(32).prefetch(tf.data.AUTOTUNE)\n",
        "train_dataset"
      ],
      "metadata": {
        "colab": {
          "base_uri": "https://localhost:8080/"
        },
        "id": "2g9qH2t8XaE1",
        "outputId": "a58f21e0-4760-4e33-a52f-23e411d327a3"
      },
      "execution_count": 35,
      "outputs": [
        {
          "output_type": "execute_result",
          "data": {
            "text/plain": [
              "<PrefetchDataset element_spec=(TensorSpec(shape=(None,), dtype=tf.string, name=None), TensorSpec(shape=(None, 5), dtype=tf.float64, name=None))>"
            ]
          },
          "metadata": {},
          "execution_count": 35
        }
      ]
    },
    {
      "cell_type": "markdown",
      "source": [
        "# Model1 : Conv1D"
      ],
      "metadata": {
        "id": "lQkkDlOVYeUv"
      }
    },
    {
      "cell_type": "markdown",
      "source": [
        "Build and compile model"
      ],
      "metadata": {
        "id": "baZOxphGbxah"
      }
    },
    {
      "cell_type": "code",
      "source": [
        "from tensorflow.keras import layers\n",
        "#Build model\n",
        "inputs = layers.Input(shape=(1,),dtype=tf.string) # One sequence at the time\n",
        "x = text_vectorizer(inputs)\n",
        "x = embedding_layer(x)\n",
        "x = layers.Conv1D(filters=64,\n",
        "                  kernel_size=5,\n",
        "                  padding=\"same\",\n",
        "                  activation=\"relu\",\n",
        "                  )(x)\n",
        "x = layers.GlobalMaxPool1D()(x)\n",
        "outputs = layers.Dense(5,activation=\"softmax\")(x)\n",
        "model_1 = tf.keras.Model(inputs,outputs,name=\"model_1_conv1D\")\n",
        "\n",
        "#Compile model\n",
        "model_1.compile(loss=\"categorical_crossentropy\",\n",
        "                optimizer=tf.keras.optimizers.Adam(),\n",
        "                metrics=[\"accuracy\"])\n",
        "#Summary\n",
        "model_1.summary()"
      ],
      "metadata": {
        "colab": {
          "base_uri": "https://localhost:8080/"
        },
        "id": "obyneabGZRjM",
        "outputId": "44f3bf26-4a1b-438b-b6d8-e0b309a15cc7"
      },
      "execution_count": 36,
      "outputs": [
        {
          "output_type": "stream",
          "name": "stdout",
          "text": [
            "Model: \"model_1_conv1D\"\n",
            "_________________________________________________________________\n",
            " Layer (type)                Output Shape              Param #   \n",
            "=================================================================\n",
            " input_1 (InputLayer)        [(None, 1)]               0         \n",
            "                                                                 \n",
            " text_vectorization (TextVec  (None, 55)               0         \n",
            " torization)                                                     \n",
            "                                                                 \n",
            " embedding_layer (Embedding)  (None, 55, 128)          8299648   \n",
            "                                                                 \n",
            " conv1d (Conv1D)             (None, 55, 64)            41024     \n",
            "                                                                 \n",
            " global_max_pooling1d (Globa  (None, 64)               0         \n",
            " lMaxPooling1D)                                                  \n",
            "                                                                 \n",
            " dense (Dense)               (None, 5)                 325       \n",
            "                                                                 \n",
            "=================================================================\n",
            "Total params: 8,340,997\n",
            "Trainable params: 8,340,997\n",
            "Non-trainable params: 0\n",
            "_________________________________________________________________\n"
          ]
        }
      ]
    },
    {
      "cell_type": "markdown",
      "source": [
        "Create callbacks"
      ],
      "metadata": {
        "id": "ZI_awyBWZZ3m"
      }
    },
    {
      "cell_type": "code",
      "source": [
        "SAVE_DIR = \"models/\"\n",
        "tensorboard_callback = hp.create_tensorboard_callback(SAVE_DIR,\n",
        "                                                      \"model_1\")\n",
        "model_checkpoint = tf.keras.callbacks.ModelCheckpoint(\"Model_1_Checkpoint\",\n",
        "                                                      monitor=\"val_accuracy\",\n",
        "                                                      save_best_only=True,\n",
        "                                                      save_weights_only=True,\n",
        "                                                      verbose=1)\n"
      ],
      "metadata": {
        "colab": {
          "base_uri": "https://localhost:8080/"
        },
        "id": "z0_SoBKdbKMp",
        "outputId": "c949a476-af54-4b8d-94aa-287cf8b42540"
      },
      "execution_count": 37,
      "outputs": [
        {
          "output_type": "stream",
          "name": "stdout",
          "text": [
            "Saving TensorBoard log files to: models//model_1/20230223-201804\n"
          ]
        }
      ]
    },
    {
      "cell_type": "markdown",
      "source": [
        "Fit model"
      ],
      "metadata": {
        "id": "rWp3MdehbjTN"
      }
    },
    {
      "cell_type": "code",
      "source": [
        "history_1=model_1.fit(train_dataset,\n",
        "                      steps_per_epoch=int(0.1*len(train_dataset)),#Train on 10% of data\n",
        "                      epochs=3,\n",
        "                      validation_data=valid_dataset,\n",
        "                      validation_steps=int(0.1*len(valid_dataset)),\n",
        "                      callbacks=[tensorboard_callback,model_checkpoint])  "
      ],
      "metadata": {
        "colab": {
          "base_uri": "https://localhost:8080/"
        },
        "id": "X1iSiPuCbvge",
        "outputId": "642971e2-cc75-48f7-e2ad-c4f1a8efed25"
      },
      "execution_count": 38,
      "outputs": [
        {
          "output_type": "stream",
          "name": "stdout",
          "text": [
            "Epoch 1/3\n",
            "562/562 [==============================] - ETA: 0s - loss: 0.8285 - accuracy: 0.6852\n",
            "Epoch 1: val_accuracy improved from -inf to 0.78092, saving model to Model_1_Checkpoint\n",
            "562/562 [==============================] - 35s 45ms/step - loss: 0.8285 - accuracy: 0.6852 - val_loss: 0.5821 - val_accuracy: 0.7809\n",
            "Epoch 2/3\n",
            "560/562 [============================>.] - ETA: 0s - loss: 0.5763 - accuracy: 0.7895\n",
            "Epoch 2: val_accuracy improved from 0.78092 to 0.79953, saving model to Model_1_Checkpoint\n",
            "562/562 [==============================] - 7s 13ms/step - loss: 0.5760 - accuracy: 0.7898 - val_loss: 0.5375 - val_accuracy: 0.7995\n",
            "Epoch 3/3\n",
            "555/562 [============================>.] - ETA: 0s - loss: 0.5432 - accuracy: 0.7990\n",
            "Epoch 3: val_accuracy improved from 0.79953 to 0.81316, saving model to Model_1_Checkpoint\n",
            "562/562 [==============================] - 5s 9ms/step - loss: 0.5432 - accuracy: 0.7987 - val_loss: 0.5208 - val_accuracy: 0.8132\n"
          ]
        }
      ]
    },
    {
      "cell_type": "markdown",
      "source": [
        "Evaluation"
      ],
      "metadata": {
        "id": "xWmWkyFhglqG"
      }
    },
    {
      "cell_type": "code",
      "source": [
        "model_1.evaluate(valid_dataset)"
      ],
      "metadata": {
        "colab": {
          "base_uri": "https://localhost:8080/"
        },
        "id": "Dl_AnlXrd3nF",
        "outputId": "c9c7f3bd-dbdc-4bd5-b047-6910a93a2f37"
      },
      "execution_count": 39,
      "outputs": [
        {
          "output_type": "stream",
          "name": "stdout",
          "text": [
            "945/945 [==============================] - 4s 4ms/step - loss: 0.5229 - accuracy: 0.8073\n"
          ]
        },
        {
          "output_type": "execute_result",
          "data": {
            "text/plain": [
              "[0.5228847861289978, 0.8072951436042786]"
            ]
          },
          "metadata": {},
          "execution_count": 39
        }
      ]
    },
    {
      "cell_type": "code",
      "source": [
        "model_1_pred_probs = model_1.predict(val_sentences)\n",
        "model_1_pred_probs[:4]"
      ],
      "metadata": {
        "colab": {
          "base_uri": "https://localhost:8080/"
        },
        "id": "wia7OpWYfywr",
        "outputId": "0a850979-e60d-4c2b-c7ea-41f7e02a2aa3"
      },
      "execution_count": 40,
      "outputs": [
        {
          "output_type": "stream",
          "name": "stdout",
          "text": [
            "945/945 [==============================] - 3s 3ms/step\n"
          ]
        },
        {
          "output_type": "execute_result",
          "data": {
            "text/plain": [
              "array([[5.9450775e-01, 6.7739017e-02, 1.2370958e-03, 3.3225143e-01,\n",
              "        4.2646928e-03],\n",
              "       [2.2376755e-01, 6.3442773e-01, 8.3782524e-04, 1.3773049e-01,\n",
              "        3.2363897e-03],\n",
              "       [1.9643961e-01, 1.0450406e-02, 3.2206681e-03, 7.8958547e-01,\n",
              "        3.0386684e-04],\n",
              "       [4.0103844e-03, 8.2931481e-03, 9.1769475e-01, 3.4203299e-03,\n",
              "        6.6581465e-02]], dtype=float32)"
            ]
          },
          "metadata": {},
          "execution_count": 40
        }
      ]
    },
    {
      "cell_type": "code",
      "source": [
        "model_1_predictions = tf.argmax(model_1_pred_probs,axis=1)\n",
        "model_1_predictions[:4]"
      ],
      "metadata": {
        "colab": {
          "base_uri": "https://localhost:8080/"
        },
        "id": "8Fn-8al8f6ow",
        "outputId": "5c0d0ccf-494a-435e-cf1f-8bc375daaf7e"
      },
      "execution_count": 41,
      "outputs": [
        {
          "output_type": "execute_result",
          "data": {
            "text/plain": [
              "<tf.Tensor: shape=(4,), dtype=int64, numpy=array([0, 1, 3, 2])>"
            ]
          },
          "metadata": {},
          "execution_count": 41
        }
      ]
    },
    {
      "cell_type": "code",
      "source": [
        "class_names"
      ],
      "metadata": {
        "colab": {
          "base_uri": "https://localhost:8080/"
        },
        "id": "uFYuGLyJgh9a",
        "outputId": "cd040eb7-f9c2-4947-88c8-30d241209cd1"
      },
      "execution_count": 42,
      "outputs": [
        {
          "output_type": "execute_result",
          "data": {
            "text/plain": [
              "array(['BACKGROUND', 'CONCLUSIONS', 'METHODS', 'OBJECTIVE', 'RESULTS'],\n",
              "      dtype=object)"
            ]
          },
          "metadata": {},
          "execution_count": 42
        }
      ]
    },
    {
      "cell_type": "code",
      "source": [
        "model_1_results = hp.calculate_results(val_labels_encode,model_1_predictions)\n",
        "model_1_results"
      ],
      "metadata": {
        "colab": {
          "base_uri": "https://localhost:8080/"
        },
        "id": "oRTUk7JcgOp8",
        "outputId": "c5257c82-e321-4a2f-9a68-bffd122dbd45"
      },
      "execution_count": 43,
      "outputs": [
        {
          "output_type": "execute_result",
          "data": {
            "text/plain": [
              "{'accuracy': 80.72951145240302,\n",
              " 'precision': 0.8055887844050444,\n",
              " 'recall': 0.8072951145240301,\n",
              " 'f1': 0.8056079599829649}"
            ]
          },
          "metadata": {},
          "execution_count": 43
        }
      ]
    },
    {
      "cell_type": "code",
      "source": [
        "model_0_results"
      ],
      "metadata": {
        "colab": {
          "base_uri": "https://localhost:8080/"
        },
        "id": "J0NnWwNTggqR",
        "outputId": "02798b8e-7b9a-4a96-fe40-a8548e785943"
      },
      "execution_count": 44,
      "outputs": [
        {
          "output_type": "execute_result",
          "data": {
            "text/plain": [
              "{'accuracy': 72.1832384482987,\n",
              " 'precision': 0.7186466952323352,\n",
              " 'recall': 0.7218323844829869,\n",
              " 'f1': 0.6989250353450294}"
            ]
          },
          "metadata": {},
          "execution_count": 44
        }
      ]
    },
    {
      "cell_type": "markdown",
      "source": [
        "# Model2 : Using TF_HUB Pretrained Feature Extractor\n",
        "\n",
        "- Using universal sentence encoder: https://tfhub.dev/google/universal-sentence-encoder/4"
      ],
      "metadata": {
        "id": "pSghO9vSgqHV"
      }
    },
    {
      "cell_type": "markdown",
      "source": [
        "Build and compile model"
      ],
      "metadata": {
        "id": "czBpO7Ym-3zs"
      }
    },
    {
      "cell_type": "code",
      "source": [
        "import tensorflow_hub as hub\n",
        "from tensorflow.keras import layers\n",
        "import tensorflow as tf\n",
        "#Build model\n",
        "feature_extractor = hub.KerasLayer(\"https://tfhub.dev/google/universal-sentence-encoder/4\",\n",
        "                                   trainable=False,\n",
        "                                   input_shape=[],\n",
        "                                   dtype=tf.string)\n",
        "#model_2 = tf.keras.Sequential([\n",
        "#    feature_extractor,\n",
        "#    layers.Dense(64,activation=\"relu\"),\n",
        "#    layers.Dense(5,activation=\"softmax\")\n",
        "#])\n",
        "\n",
        "inputs = layers.Input(shape=[],dtype=tf.string)\n",
        "x = feature_extractor(inputs)\n",
        "x=layers.Dense(128,activation=\"relu\")(x)\n",
        "outputs=layers.Dense(5,activation=\"softmax\")(x)\n",
        "model_2 = tf.keras.Model(inputs,outputs,name=\"MODEL_2_USE\")\n",
        "\n",
        "#Compile model\n",
        "model_2.compile(loss=\"categorical_crossentropy\",\n",
        "                optimizer=tf.keras.optimizers.Adam(),\n",
        "                metrics=[\"accuracy\"])\n",
        "#Summary\n",
        "model_2.summary()"
      ],
      "metadata": {
        "colab": {
          "base_uri": "https://localhost:8080/"
        },
        "id": "GKK1cnbuhS71",
        "outputId": "7e5f24c3-a577-44eb-995f-6c9cee52e025"
      },
      "execution_count": 45,
      "outputs": [
        {
          "output_type": "stream",
          "name": "stderr",
          "text": [
            "WARNING:tensorflow:Please fix your imports. Module tensorflow.python.training.tracking.data_structures has been moved to tensorflow.python.trackable.data_structures. The old module will be deleted in version 2.11.\n",
            "WARNING:tensorflow:From /usr/local/lib/python3.8/dist-packages/tensorflow/python/autograph/pyct/static_analysis/liveness.py:83: Analyzer.lamba_check (from tensorflow.python.autograph.pyct.static_analysis.liveness) is deprecated and will be removed after 2023-09-23.\n",
            "Instructions for updating:\n",
            "Lambda fuctions will be no more assumed to be used in the statement where they are used, or at least in the same block. https://github.com/tensorflow/tensorflow/issues/56089\n"
          ]
        },
        {
          "output_type": "stream",
          "name": "stdout",
          "text": [
            "Model: \"MODEL_2_USE\"\n",
            "_________________________________________________________________\n",
            " Layer (type)                Output Shape              Param #   \n",
            "=================================================================\n",
            " input_2 (InputLayer)        [(None,)]                 0         \n",
            "                                                                 \n",
            " keras_layer (KerasLayer)    (None, 512)               256797824 \n",
            "                                                                 \n",
            " dense_1 (Dense)             (None, 128)               65664     \n",
            "                                                                 \n",
            " dense_2 (Dense)             (None, 5)                 645       \n",
            "                                                                 \n",
            "=================================================================\n",
            "Total params: 256,864,133\n",
            "Trainable params: 66,309\n",
            "Non-trainable params: 256,797,824\n",
            "_________________________________________________________________\n"
          ]
        }
      ]
    },
    {
      "cell_type": "markdown",
      "source": [
        "Fit model"
      ],
      "metadata": {
        "id": "CiQMBbtW8ffb"
      }
    },
    {
      "cell_type": "code",
      "source": [
        "history_2 = model_2.fit(train_dataset,\n",
        "                        steps_per_epoch=int(0.1*len(train_dataset)),\n",
        "                        epochs=3,\n",
        "                        validation_data=valid_dataset,\n",
        "                        validation_steps=int(0.1*len(valid_dataset)),\n",
        "                        callbacks=[tensorboard_callback,model_checkpoint]\n",
        "                        )"
      ],
      "metadata": {
        "colab": {
          "base_uri": "https://localhost:8080/"
        },
        "id": "gNM4q1fP-6gH",
        "outputId": "9a010b60-a7d5-4d0b-ffca-b8294495ae17"
      },
      "execution_count": 46,
      "outputs": [
        {
          "output_type": "stream",
          "name": "stdout",
          "text": [
            "Epoch 1/3\n",
            "562/562 [==============================] - ETA: 0s - loss: 0.9168 - accuracy: 0.6480\n",
            "Epoch 1: val_accuracy did not improve from 0.81316\n",
            "562/562 [==============================] - 13s 16ms/step - loss: 0.9168 - accuracy: 0.6480 - val_loss: 0.7975 - val_accuracy: 0.6888\n",
            "Epoch 2/3\n",
            "560/562 [============================>.] - ETA: 0s - loss: 0.7697 - accuracy: 0.7017\n",
            "Epoch 2: val_accuracy did not improve from 0.81316\n",
            "562/562 [==============================] - 7s 13ms/step - loss: 0.7698 - accuracy: 0.7015 - val_loss: 0.7573 - val_accuracy: 0.7031\n",
            "Epoch 3/3\n",
            "561/562 [============================>.] - ETA: 0s - loss: 0.7540 - accuracy: 0.7124\n",
            "Epoch 3: val_accuracy did not improve from 0.81316\n",
            "562/562 [==============================] - 8s 15ms/step - loss: 0.7540 - accuracy: 0.7125 - val_loss: 0.7404 - val_accuracy: 0.7111\n"
          ]
        }
      ]
    },
    {
      "cell_type": "markdown",
      "source": [
        "Evaluation"
      ],
      "metadata": {
        "id": "13yEhTHoDKvU"
      }
    },
    {
      "cell_type": "code",
      "source": [
        "model_2.evaluate(valid_dataset)"
      ],
      "metadata": {
        "colab": {
          "base_uri": "https://localhost:8080/"
        },
        "id": "Ex4aOA8Z_vRR",
        "outputId": "278d10e9-0a90-48d5-8c04-a4e3c6440bae"
      },
      "execution_count": 47,
      "outputs": [
        {
          "output_type": "stream",
          "name": "stdout",
          "text": [
            "945/945 [==============================] - 11s 12ms/step - loss: 0.7419 - accuracy: 0.7135\n"
          ]
        },
        {
          "output_type": "execute_result",
          "data": {
            "text/plain": [
              "[0.7418671250343323, 0.713458240032196]"
            ]
          },
          "metadata": {},
          "execution_count": 47
        }
      ]
    },
    {
      "cell_type": "code",
      "source": [
        "model_2_predprobs=model_2.predict(val_sentences)\n",
        "model_2_predprobs[:4]"
      ],
      "metadata": {
        "colab": {
          "base_uri": "https://localhost:8080/"
        },
        "id": "WaVRD2p5ChKX",
        "outputId": "e9f4ffac-75a6-4448-a041-7268a0d6165c"
      },
      "execution_count": 48,
      "outputs": [
        {
          "output_type": "stream",
          "name": "stdout",
          "text": [
            "945/945 [==============================] - 11s 11ms/step\n"
          ]
        },
        {
          "output_type": "execute_result",
          "data": {
            "text/plain": [
              "array([[0.4339981 , 0.34113204, 0.00214479, 0.21593563, 0.00678944],\n",
              "       [0.32664734, 0.5213859 , 0.00389831, 0.14452025, 0.0035482 ],\n",
              "       [0.21870892, 0.13150698, 0.01641509, 0.5926829 , 0.04068604],\n",
              "       [0.01206359, 0.04928122, 0.80447406, 0.00888797, 0.12529318]],\n",
              "      dtype=float32)"
            ]
          },
          "metadata": {},
          "execution_count": 48
        }
      ]
    },
    {
      "cell_type": "code",
      "source": [
        "model_2_predicts = tf.argmax(model_2_predprobs,axis=1)\n",
        "model_2_predicts[:4]"
      ],
      "metadata": {
        "colab": {
          "base_uri": "https://localhost:8080/"
        },
        "id": "-P5ATCgGDRwo",
        "outputId": "6d54f772-e800-464a-935c-6accbeee3f62"
      },
      "execution_count": 49,
      "outputs": [
        {
          "output_type": "execute_result",
          "data": {
            "text/plain": [
              "<tf.Tensor: shape=(4,), dtype=int64, numpy=array([0, 1, 3, 2])>"
            ]
          },
          "metadata": {},
          "execution_count": 49
        }
      ]
    },
    {
      "cell_type": "code",
      "source": [
        "#Calculate results\n",
        "model_2_results = hp.calculate_results(val_labels_encode,model_2_predicts)\n",
        "model_2_results"
      ],
      "metadata": {
        "colab": {
          "base_uri": "https://localhost:8080/"
        },
        "id": "HJi9_-1sDeVm",
        "outputId": "03f851f7-949c-4e7a-cc3e-cc0a4970be63"
      },
      "execution_count": 50,
      "outputs": [
        {
          "output_type": "execute_result",
          "data": {
            "text/plain": [
              "{'accuracy': 71.34582285184695,\n",
              " 'precision': 0.7137912185386411,\n",
              " 'recall': 0.7134582285184695,\n",
              " 'f1': 0.7105491797931515}"
            ]
          },
          "metadata": {},
          "execution_count": 50
        }
      ]
    },
    {
      "cell_type": "code",
      "source": [
        "model_0_results"
      ],
      "metadata": {
        "colab": {
          "base_uri": "https://localhost:8080/"
        },
        "id": "tXTZD-bcDsM0",
        "outputId": "624eab03-6295-4ce8-c4dd-a646821d1807"
      },
      "execution_count": 51,
      "outputs": [
        {
          "output_type": "execute_result",
          "data": {
            "text/plain": [
              "{'accuracy': 72.1832384482987,\n",
              " 'precision': 0.7186466952323352,\n",
              " 'recall': 0.7218323844829869,\n",
              " 'f1': 0.6989250353450294}"
            ]
          },
          "metadata": {},
          "execution_count": 51
        }
      ]
    },
    {
      "cell_type": "markdown",
      "source": [
        "# Model 3: Conv1D with character embeddings\n",
        "\n",
        "-To eventaully use concatenation of both token and character embedding as in paper shown at the beggining"
      ],
      "metadata": {
        "id": "tVjnLnTYDu9i"
      }
    },
    {
      "cell_type": "markdown",
      "source": [
        "Dealing with data for character embedding"
      ],
      "metadata": {
        "id": "g90a2roGPMuM"
      }
    },
    {
      "cell_type": "code",
      "source": [
        "#To use character embedding it is needed to change sentences from e.g. ['it is dog'] to ['i','t',' ','i'...]\n",
        "import random\n",
        "def text_to_char(text):\n",
        "  return \" \".join(list(text))\n",
        "text_to_char(random.choice(train_sentences))"
      ],
      "metadata": {
        "colab": {
          "base_uri": "https://localhost:8080/",
          "height": 54
        },
        "id": "c3LVq81REYmw",
        "outputId": "89e5ccf0-fab9-4e60-ecda-a5299d4d37eb"
      },
      "execution_count": 52,
      "outputs": [
        {
          "output_type": "execute_result",
          "data": {
            "text/plain": [
              "'b i o e q u i v a l e n c e   b e t w e e n   @   x   @   g   a n d   a   n e w   @ , @   g   t a b l e t   w a s   e v a l u a t e d   a t   s t e a d y   s t a t e   i n   h e a l t h y   m a l e   s u b j e c t s   .'"
            ],
            "application/vnd.google.colaboratory.intrinsic+json": {
              "type": "string"
            }
          },
          "metadata": {},
          "execution_count": 52
        }
      ]
    },
    {
      "cell_type": "code",
      "source": [
        "#Split sequence-level data splits into character-level data splits\n",
        "train_chars = [text_to_char(sentence) for sentence in train_sentences]\n",
        "val_chars = [text_to_char(sentence) for sentence in val_sentences]\n",
        "test_chars = [text_to_char(sentence) for sentence in test_sentences]\n",
        "train_chars[:3]"
      ],
      "metadata": {
        "colab": {
          "base_uri": "https://localhost:8080/"
        },
        "id": "DZXaEi69Fq_p",
        "outputId": "7c69e460-bacf-41d1-b632-47d699cace4b"
      },
      "execution_count": 53,
      "outputs": [
        {
          "output_type": "execute_result",
          "data": {
            "text/plain": [
              "['t o   i n v e s t i g a t e   t h e   e f f i c a c y   o f   @   w e e k s   o f   d a i l y   l o w - d o s e   o r a l   p r e d n i s o l o n e   i n   i m p r o v i n g   p a i n   ,   m o b i l i t y   ,   a n d   s y s t e m i c   l o w - g r a d e   i n f l a m m a t i o n   i n   t h e   s h o r t   t e r m   a n d   w h e t h e r   t h e   e f f e c t   w o u l d   b e   s u s t a i n e d   a t   @   w e e k s   i n   o l d e r   a d u l t s   w i t h   m o d e r a t e   t o   s e v e r e   k n e e   o s t e o a r t h r i t i s   (   o a   )   .',\n",
              " 'a   t o t a l   o f   @   p a t i e n t s   w i t h   p r i m a r y   k n e e   o a   w e r e   r a n d o m i z e d   @ : @   ;   @   r e c e i v e d   @   m g / d a y   o f   p r e d n i s o l o n e   a n d   @   r e c e i v e d   p l a c e b o   f o r   @   w e e k s   .',\n",
              " 'o u t c o m e   m e a s u r e s   i n c l u d e d   p a i n   r e d u c t i o n   a n d   i m p r o v e m e n t   i n   f u n c t i o n   s c o r e s   a n d   s y s t e m i c   i n f l a m m a t i o n   m a r k e r s   .']"
            ]
          },
          "metadata": {},
          "execution_count": 53
        }
      ]
    },
    {
      "cell_type": "code",
      "source": [
        "#Average character lenght\n",
        "char_len = [len(sentence) for sentence in train_sentences]\n",
        "mean_char_len = np.mean(char_len)\n",
        "mean_char_len"
      ],
      "metadata": {
        "colab": {
          "base_uri": "https://localhost:8080/"
        },
        "id": "zSK6oT_NGY0B",
        "outputId": "8585b410-9d2f-42ef-899b-13153ff1c324"
      },
      "execution_count": 54,
      "outputs": [
        {
          "output_type": "execute_result",
          "data": {
            "text/plain": [
              "149.3662574983337"
            ]
          },
          "metadata": {},
          "execution_count": 54
        }
      ]
    },
    {
      "cell_type": "code",
      "source": [
        "#Check the distribution\n",
        "import seaborn as sns \n",
        "sns.histplot(char_len,bins=30);"
      ],
      "metadata": {
        "colab": {
          "base_uri": "https://localhost:8080/",
          "height": 265
        },
        "id": "-_PwyIfMOUhD",
        "outputId": "55e62442-0959-4673-fccb-e63eec4088c4"
      },
      "execution_count": 55,
      "outputs": [
        {
          "output_type": "display_data",
          "data": {
            "text/plain": [
              "<Figure size 432x288 with 1 Axes>"
            ],
            "image/png": "[encoded data removed]"
          },
          "metadata": {
            "needs_background": "light"
          }
        }
      ]
    },
    {
      "cell_type": "code",
      "source": [
        "#getting <95% of char length\n",
        "char_95_percentile = int(np.percentile(char_len,95))\n",
        "char_95_percentile"
      ],
      "metadata": {
        "colab": {
          "base_uri": "https://localhost:8080/"
        },
        "id": "-U4rX_RiOmOC",
        "outputId": "1a43fe7d-d716-4f2d-f263-b36e402a47df"
      },
      "execution_count": 56,
      "outputs": [
        {
          "output_type": "execute_result",
          "data": {
            "text/plain": [
              "290"
            ]
          },
          "metadata": {},
          "execution_count": 56
        }
      ]
    },
    {
      "cell_type": "code",
      "source": [
        "#Getting all keyboard characters\n",
        "import string\n",
        "alphabet = string.ascii_lowercase+string.digits+string.punctuation\n",
        "alphabet"
      ],
      "metadata": {
        "colab": {
          "base_uri": "https://localhost:8080/",
          "height": 36
        },
        "id": "uS_1C8B3OzJ3",
        "outputId": "649581ea-da3d-43c4-e58e-22b2fda8b310"
      },
      "execution_count": 57,
      "outputs": [
        {
          "output_type": "execute_result",
          "data": {
            "text/plain": [
              "'abcdefghijklmnopqrstuvwxyz0123456789!\"#$%&\\'()*+,-./:;<=>?@[\\\\]^_`{|}~'"
            ],
            "application/vnd.google.colaboratory.intrinsic+json": {
              "type": "string"
            }
          },
          "metadata": {},
          "execution_count": 57
        }
      ]
    },
    {
      "cell_type": "markdown",
      "source": [
        "Creating character vectorizer instance and embedding layer"
      ],
      "metadata": {
        "id": "ZSpoMuEcP5_b"
      }
    },
    {
      "cell_type": "code",
      "source": [
        "num_char = len(alphabet)+2 # 1 for space, another for OOv - out of vocab\n",
        "char_vectorizer = TextVectorization(max_tokens = num_char,\n",
        "                                    output_mode=\"int\",\n",
        "                                    output_sequence_length=char_95_percentile)\n",
        "#Adapt Vectorizer\n",
        "char_vectorizer.adapt(train_chars)\n",
        "char_vocab = char_vectorizer.get_vocabulary()\n",
        "\n",
        "embedding_char_layer = tf.keras.layers.Embedding(input_dim=len(char_vocab),\n",
        "                                                 output_dim=25,\n",
        "                                                 mask_zero=True)"
      ],
      "metadata": {
        "id": "uXr_iAM_QDsV"
      },
      "execution_count": 58,
      "outputs": []
    },
    {
      "cell_type": "code",
      "source": [
        "len(char_vocab), char_vocab[:5], char_vocab[-5:]"
      ],
      "metadata": {
        "colab": {
          "base_uri": "https://localhost:8080/"
        },
        "id": "fgLKLV5TTxkX",
        "outputId": "33e9ad05-8eb2-4547-be88-edc59f488211"
      },
      "execution_count": 59,
      "outputs": [
        {
          "output_type": "execute_result",
          "data": {
            "text/plain": [
              "(28, ['', '[UNK]', 'e', 't', 'i'], ['k', 'x', 'z', 'q', 'j'])"
            ]
          },
          "metadata": {},
          "execution_count": 59
        }
      ]
    },
    {
      "cell_type": "code",
      "source": [
        "random_char_sentence = random.choice(train_chars)\n",
        "print(f\"Char sentence:\\n{random_char_sentence}\\n\")\n",
        "print(f\"Embeded char sentence:\\n{embedding_char_layer(char_vectorizer([random_char_sentence]))}\")\n",
        "print(f\"\\nEmbedded shape:{embedding_char_layer(char_vectorizer([random_char_sentence])).shape}\")"
      ],
      "metadata": {
        "colab": {
          "base_uri": "https://localhost:8080/"
        },
        "id": "QAjYiYtLRea8",
        "outputId": "562ed4f4-2232-483f-9347-b60c12b30bf8"
      },
      "execution_count": 60,
      "outputs": [
        {
          "output_type": "stream",
          "name": "stdout",
          "text": [
            "Char sentence:\n",
            "m o t h e r   a n d   i n f a n t   c o r t i s o l   l e v e l s   w e r e   m e a s u r e d   b e f o r e   h o l d i n g   a n d   a t   @   a n d   @ m i n   a f t e r   h o l d i n g   b e g a n   d u r i n g   t h r e e   h o l d i n g   s e s s i o n s   (   b a s e l i n e   a n d   a t   t w o   a n d   e i g h t   w e e k s   a f t e r   s t u d y   i n i t i a t i o n   )   .\n",
            "\n",
            "Embeded char sentence:\n",
            "[[[-0.04886553 -0.04572487 -0.02489603 ... -0.04801418  0.01031287\n",
            "    0.00368555]\n",
            "  [-0.03461472  0.03990811  0.0371809  ...  0.01390937  0.04972093\n",
            "    0.026602  ]\n",
            "  [-0.00903509  0.04771619 -0.01423533 ...  0.01698783 -0.01747022\n",
            "   -0.00069826]\n",
            "  ...\n",
            "  [-0.00910498  0.0461198  -0.03571079 ... -0.02760962  0.00856776\n",
            "    0.02750884]\n",
            "  [-0.00910498  0.0461198  -0.03571079 ... -0.02760962  0.00856776\n",
            "    0.02750884]\n",
            "  [-0.00910498  0.0461198  -0.03571079 ... -0.02760962  0.00856776\n",
            "    0.02750884]]]\n",
            "\n",
            "Embedded shape:(1, 290, 25)\n"
          ]
        }
      ]
    },
    {
      "cell_type": "markdown",
      "source": [
        "Model 3: Conv1D - Character embedding"
      ],
      "metadata": {
        "id": "53-WkkNJRlZ0"
      }
    },
    {
      "cell_type": "markdown",
      "source": [
        "Build and compile model"
      ],
      "metadata": {
        "id": "84Zp4PYIYGzO"
      }
    },
    {
      "cell_type": "code",
      "source": [
        "from tensorflow.keras import layers\n",
        "#Build model\n",
        "inputs = layers.Input(shape=(1,),dtype=tf.string)\n",
        "vectorizer = char_vectorizer(inputs)\n",
        "embedding = embedding_char_layer(vectorizer)\n",
        "x = layers.Conv1D(filters=64,\n",
        "                  kernel_size=5,\n",
        "                  activation=\"relu\",\n",
        "                  padding=\"same\")(embedding)\n",
        "x = layers.GlobalMaxPool1D()(x)\n",
        "outputs = layers.Dense(5,activation=\"softmax\")(x)\n",
        "model_3 = tf.keras.Model(inputs,outputs,name=\"model_3_Conv1D_CharEmb\")\n",
        "\n",
        "#Compile model\n",
        "model_3.compile(loss=\"categorical_crossentropy\",\n",
        "                optimizer=tf.keras.optimizers.Adam(),\n",
        "                metrics=[\"accuracy\"])\n",
        "#Summary\n",
        "model_3.summary()"
      ],
      "metadata": {
        "colab": {
          "base_uri": "https://localhost:8080/"
        },
        "id": "00rTzPN5XLbJ",
        "outputId": "da2323a4-3bc5-4fed-d4ad-66bf4de62266"
      },
      "execution_count": 61,
      "outputs": [
        {
          "output_type": "stream",
          "name": "stdout",
          "text": [
            "Model: \"model_3_Conv1D_CharEmb\"\n",
            "_________________________________________________________________\n",
            " Layer (type)                Output Shape              Param #   \n",
            "=================================================================\n",
            " input_3 (InputLayer)        [(None, 1)]               0         \n",
            "                                                                 \n",
            " text_vectorization_1 (TextV  (None, 290)              0         \n",
            " ectorization)                                                   \n",
            "                                                                 \n",
            " embedding (Embedding)       (None, 290, 25)           700       \n",
            "                                                                 \n",
            " conv1d_1 (Conv1D)           (None, 290, 64)           8064      \n",
            "                                                                 \n",
            " global_max_pooling1d_1 (Glo  (None, 64)               0         \n",
            " balMaxPooling1D)                                                \n",
            "                                                                 \n",
            " dense_3 (Dense)             (None, 5)                 325       \n",
            "                                                                 \n",
            "=================================================================\n",
            "Total params: 9,089\n",
            "Trainable params: 9,089\n",
            "Non-trainable params: 0\n",
            "_________________________________________________________________\n"
          ]
        }
      ]
    },
    {
      "cell_type": "code",
      "source": [
        "#Getting data into tensorflow datasets\n",
        "train_chars_dataset = tf.data.Dataset.from_tensor_slices((train_chars,train_labels_oh)).batch(32).prefetch(tf.data.AUTOTUNE)\n",
        "valid_chars_dataset = tf.data.Dataset.from_tensor_slices((val_chars,val_labels_oh)).batch(32).prefetch(tf.data.AUTOTUNE)\n",
        "test_chars_dataset = tf.data.Dataset.from_tensor_slices((test_chars,test_labels_oh)).batch(32).prefetch(tf.data.AUTOTUNE)"
      ],
      "metadata": {
        "id": "OkQXDGjlacJf"
      },
      "execution_count": 62,
      "outputs": []
    },
    {
      "cell_type": "markdown",
      "source": [
        "Fit Model"
      ],
      "metadata": {
        "id": "PEKRpUIXYkzB"
      }
    },
    {
      "cell_type": "code",
      "source": [
        "#Fit model\n",
        "history_3 = model_3.fit(train_chars_dataset,\n",
        "                        steps_per_epoch=int(0.1*len(train_chars_dataset)),\n",
        "                        epochs=3,\n",
        "                        validation_data=valid_chars_dataset,\n",
        "                        validation_steps=int(0.1*len(valid_chars_dataset)),\n",
        "                        callbacks=[tensorboard_callback,model_checkpoint])\n"
      ],
      "metadata": {
        "colab": {
          "base_uri": "https://localhost:8080/"
        },
        "id": "VLFcCNmBYw9F",
        "outputId": "abeb2797-22b9-45cc-cbeb-fb48c41c5ed8"
      },
      "execution_count": 63,
      "outputs": [
        {
          "output_type": "stream",
          "name": "stdout",
          "text": [
            "Epoch 1/3\n",
            "555/562 [============================>.] - ETA: 0s - loss: 1.2539 - accuracy: 0.4862\n",
            "Epoch 1: val_accuracy did not improve from 0.81316\n",
            "562/562 [==============================] - 5s 7ms/step - loss: 1.2505 - accuracy: 0.4877 - val_loss: 1.0391 - val_accuracy: 0.5888\n",
            "Epoch 2/3\n",
            "555/562 [============================>.] - ETA: 0s - loss: 1.0017 - accuracy: 0.6021\n",
            "Epoch 2: val_accuracy did not improve from 0.81316\n",
            "562/562 [==============================] - 3s 6ms/step - loss: 1.0001 - accuracy: 0.6026 - val_loss: 0.9428 - val_accuracy: 0.6287\n",
            "Epoch 3/3\n",
            "561/562 [============================>.] - ETA: 0s - loss: 0.9186 - accuracy: 0.6392\n",
            "Epoch 3: val_accuracy did not improve from 0.81316\n",
            "562/562 [==============================] - 4s 7ms/step - loss: 0.9185 - accuracy: 0.6391 - val_loss: 0.8716 - val_accuracy: 0.6659\n"
          ]
        }
      ]
    },
    {
      "cell_type": "code",
      "source": [
        "pd.DataFrame(history_3.history).plot()"
      ],
      "metadata": {
        "colab": {
          "base_uri": "https://localhost:8080/",
          "height": 283
        },
        "id": "264Up1nGc5M9",
        "outputId": "8601fc9c-44e3-4185-8bc0-4a58319ca3ca"
      },
      "execution_count": 64,
      "outputs": [
        {
          "output_type": "execute_result",
          "data": {
            "text/plain": [
              "<AxesSubplot:>"
            ]
          },
          "metadata": {},
          "execution_count": 64
        },
        {
          "output_type": "display_data",
          "data": {
            "text/plain": [
              "<Figure size 432x288 with 1 Axes>"
            ],
            "image/png": "[encoded data removed]"
          },
          "metadata": {
            "needs_background": "light"
          }
        }
      ]
    },
    {
      "cell_type": "code",
      "source": [
        "model_3.evaluate(valid_chars_dataset)"
      ],
      "metadata": {
        "colab": {
          "base_uri": "https://localhost:8080/"
        },
        "id": "nbmxzY5QdGtJ",
        "outputId": "1fb4d4ba-3690-43a8-812b-0563842725e0"
      },
      "execution_count": 65,
      "outputs": [
        {
          "output_type": "stream",
          "name": "stdout",
          "text": [
            "945/945 [==============================] - 4s 4ms/step - loss: 0.8830 - accuracy: 0.6581\n"
          ]
        },
        {
          "output_type": "execute_result",
          "data": {
            "text/plain": [
              "[0.8829777240753174, 0.6581490635871887]"
            ]
          },
          "metadata": {},
          "execution_count": 65
        }
      ]
    },
    {
      "cell_type": "code",
      "source": [
        "model_3_pred_probs = model_3.predict(val_chars)\n",
        "model_3_pred_probs[:3]"
      ],
      "metadata": {
        "colab": {
          "base_uri": "https://localhost:8080/"
        },
        "id": "WaDmatUAdNii",
        "outputId": "636909cf-f152-46d7-e255-39cb0a1867bd"
      },
      "execution_count": 66,
      "outputs": [
        {
          "output_type": "stream",
          "name": "stdout",
          "text": [
            "945/945 [==============================] - 3s 3ms/step\n"
          ]
        },
        {
          "output_type": "execute_result",
          "data": {
            "text/plain": [
              "array([[0.11132216, 0.48394305, 0.06590797, 0.21946514, 0.11936165],\n",
              "       [0.17544235, 0.4487555 , 0.04371643, 0.1975152 , 0.13457051],\n",
              "       [0.13624683, 0.26351392, 0.07512798, 0.49021798, 0.03489324]],\n",
              "      dtype=float32)"
            ]
          },
          "metadata": {},
          "execution_count": 66
        }
      ]
    },
    {
      "cell_type": "code",
      "source": [
        "model_3_predicts = tf.argmax(model_3_pred_probs,axis=1)\n",
        "model_3_predicts[:3]"
      ],
      "metadata": {
        "colab": {
          "base_uri": "https://localhost:8080/"
        },
        "id": "hJ75XUXZdWSs",
        "outputId": "3ff45ea0-e64a-434f-f2fb-dce890f62627"
      },
      "execution_count": 67,
      "outputs": [
        {
          "output_type": "execute_result",
          "data": {
            "text/plain": [
              "<tf.Tensor: shape=(3,), dtype=int64, numpy=array([1, 1, 3])>"
            ]
          },
          "metadata": {},
          "execution_count": 67
        }
      ]
    },
    {
      "cell_type": "code",
      "source": [
        "#Calculate results of model 3\n",
        "model_3_results = hp.calculate_results(val_labels_encode,model_3_predicts)\n",
        "model_3_results"
      ],
      "metadata": {
        "colab": {
          "base_uri": "https://localhost:8080/"
        },
        "id": "PFBvRBtqdc_5",
        "outputId": "9136f461-d94a-4627-aa2a-442dc78f0702"
      },
      "execution_count": 68,
      "outputs": [
        {
          "output_type": "execute_result",
          "data": {
            "text/plain": [
              "{'accuracy': 65.81490798358269,\n",
              " 'precision': 0.6526051425989488,\n",
              " 'recall': 0.6581490798358268,\n",
              " 'f1': 0.6510524726394785}"
            ]
          },
          "metadata": {},
          "execution_count": 68
        }
      ]
    },
    {
      "cell_type": "markdown",
      "source": [
        "# Model 4 : Combine pretrained token embeddings + character embeddings\n",
        "\n",
        "1. Create a token-level embedding Model\n",
        "2. Create a character-level model\n",
        "3. Combine both with concatenate layer (layers.Concatenate)\n",
        "4. Build a series of output layers on top of 3 similar to Figure 1 and 4.2 section of paper\n",
        "5. Construct model which takes both token and character embedding sequences as input and pred probas as output"
      ],
      "metadata": {
        "id": "pc-KlcTEdlrY"
      }
    },
    {
      "cell_type": "code",
      "source": [
        "#Dropout randomly exchanging to 0 values given part of inputs - for regularization - prevent overfitting\n",
        "from tensorflow.keras import layers\n",
        "import tensorflow as tf\n",
        "\n",
        "#1. Token-level embedding model\n",
        "token_inputs = layers.Input(shape=[],dtype=tf.string, name=\"token_input\")\n",
        "embedd_layer = feature_extractor(token_inputs)\n",
        "token_outputs = layers.Dense(128,activation=\"relu\")(embedd_layer)\n",
        "\n",
        "token_model = tf.keras.Model(token_inputs,token_outputs)\n",
        "\n",
        "#2. Character-level model\n",
        "char_inputs = layers.Input(shape=(1,),dtype=tf.string,name=\"char_input\")\n",
        "vectorization = char_vectorizer(char_inputs)\n",
        "embedding_chars = embedding_char_layer(vectorization)\n",
        "char_outputs = layers.Bidirectional(layers.LSTM(units=24))(embedding_chars)\n",
        "\n",
        "char_model = tf.keras.Model(char_inputs, char_outputs)\n",
        "\n",
        "#3.Combine both\n",
        "token_char_combine = layers.Concatenate(name=\"combine_char_token\")([token_model.output,char_model.output])\n",
        "\n",
        "#4. Build output layers\n",
        "dropout = layers.Dropout(0.5)(token_char_combine)\n",
        "x = layers.Dense(128,activation=\"relu\")(dropout)\n",
        "final_dropout = layers.Dropout(0.5)(x)\n",
        "end_outputs = layers.Dense(5,activation=\"softmax\")(final_dropout)\n",
        "\n",
        "model_4 = tf.keras.Model(inputs=[token_inputs,char_inputs],\n",
        "                         outputs=end_outputs,\n",
        "                         name=\"model_4_Combined\")\n",
        "\n",
        "model_4.summary()"
      ],
      "metadata": {
        "colab": {
          "base_uri": "https://localhost:8080/"
        },
        "id": "InFIgNh5eo9l",
        "outputId": "9af9418c-4dc0-4a92-fbcb-8597f59b9a94"
      },
      "execution_count": 69,
      "outputs": [
        {
          "output_type": "stream",
          "name": "stdout",
          "text": [
            "Model: \"model_4_Combined\"\n",
            "__________________________________________________________________________________________________\n",
            " Layer (type)                   Output Shape         Param #     Connected to                     \n",
            "==================================================================================================\n",
            " char_input (InputLayer)        [(None, 1)]          0           []                               \n",
            "                                                                                                  \n",
            " token_input (InputLayer)       [(None,)]            0           []                               \n",
            "                                                                                                  \n",
            " text_vectorization_1 (TextVect  (None, 290)         0           ['char_input[0][0]']             \n",
            " orization)                                                                                       \n",
            "                                                                                                  \n",
            " keras_layer (KerasLayer)       (None, 512)          256797824   ['token_input[0][0]']            \n",
            "                                                                                                  \n",
            " embedding (Embedding)          (None, 290, 25)      700         ['text_vectorization_1[1][0]']   \n",
            "                                                                                                  \n",
            " dense_4 (Dense)                (None, 128)          65664       ['keras_layer[1][0]']            \n",
            "                                                                                                  \n",
            " bidirectional (Bidirectional)  (None, 48)           9600        ['embedding[1][0]']              \n",
            "                                                                                                  \n",
            " combine_char_token (Concatenat  (None, 176)         0           ['dense_4[0][0]',                \n",
            " e)                                                               'bidirectional[0][0]']          \n",
            "                                                                                                  \n",
            " dropout (Dropout)              (None, 176)          0           ['combine_char_token[0][0]']     \n",
            "                                                                                                  \n",
            " dense_5 (Dense)                (None, 128)          22656       ['dropout[0][0]']                \n",
            "                                                                                                  \n",
            " dropout_1 (Dropout)            (None, 128)          0           ['dense_5[0][0]']                \n",
            "                                                                                                  \n",
            " dense_6 (Dense)                (None, 5)            645         ['dropout_1[0][0]']              \n",
            "                                                                                                  \n",
            "==================================================================================================\n",
            "Total params: 256,897,089\n",
            "Trainable params: 99,265\n",
            "Non-trainable params: 256,797,824\n",
            "__________________________________________________________________________________________________\n"
          ]
        }
      ]
    },
    {
      "cell_type": "code",
      "source": [
        " from keras.utils import plot_model\n",
        " plot_model(model_4, show_shapes=True)"
      ],
      "metadata": {
        "colab": {
          "base_uri": "https://localhost:8080/",
          "height": 976
        },
        "id": "2xLFAu6XLmNN",
        "outputId": "dbf271d6-0619-4ab2-fb95-f1b701d5650d"
      },
      "execution_count": 70,
      "outputs": [
        {
          "output_type": "execute_result",
          "data": {
            "image/png": "[encoded data removed]",
            "text/plain": [
              "<IPython.core.display.Image object>"
            ]
          },
          "metadata": {},
          "execution_count": 70
        }
      ]
    },
    {
      "cell_type": "markdown",
      "source": [
        "Compile Model"
      ],
      "metadata": {
        "id": "HkmdIEcuOrNQ"
      }
    },
    {
      "cell_type": "code",
      "source": [
        "model_4.compile(loss=\"categorical_crossentropy\",\n",
        "                optimizer=tf.keras.optimizers.Adam(),\n",
        "                metrics=[\"accuracy\"])"
      ],
      "metadata": {
        "id": "Gu-1VKuBOsoz"
      },
      "execution_count": 71,
      "outputs": []
    },
    {
      "cell_type": "markdown",
      "source": [
        "Preprocess data as multi-input tensorflow Datasets"
      ],
      "metadata": {
        "id": "6Mox-h3rMUax"
      }
    },
    {
      "cell_type": "code",
      "source": [
        "concatenated_train_data = tf.data.Dataset.from_tensor_slices((train_sentences,train_chars))\n",
        "concatenated_train_labels = tf.data.Dataset.from_tensor_slices((train_labels_oh))\n",
        "concatenated_train_dataset = tf.data.Dataset.zip((concatenated_train_data,concatenated_train_labels))#Combining tensorflow Datasets\n",
        "#Prefetch and make batches\n",
        "concatenated_train_dataset=concatenated_train_dataset.batch(32).prefetch(tf.data.AUTOTUNE)"
      ],
      "metadata": {
        "id": "GtUuh0dZM_w8"
      },
      "execution_count": 72,
      "outputs": []
    },
    {
      "cell_type": "code",
      "source": [
        "#Same for validation dataset\n",
        "concatenated_val_data = tf.data.Dataset.from_tensor_slices((val_sentences,val_chars))\n",
        "concatenated_val_labels = tf.data.Dataset.from_tensor_slices((val_labels_oh))\n",
        "concatenated_val_dataset = tf.data.Dataset.zip((concatenated_val_data,concatenated_val_labels))\n",
        "#Prefetch and make batches\n",
        "concatenated_val_dataset=concatenated_val_dataset.batch(32).prefetch(tf.data.AUTOTUNE)"
      ],
      "metadata": {
        "id": "K0jqO-AbP6AD"
      },
      "execution_count": 73,
      "outputs": []
    },
    {
      "cell_type": "code",
      "source": [
        "concatenated_train_dataset,concatenated_val_dataset"
      ],
      "metadata": {
        "colab": {
          "base_uri": "https://localhost:8080/"
        },
        "id": "NmWDcaJQQj7p",
        "outputId": "d16f8b1b-09fa-4159-ff64-debd18d61c52"
      },
      "execution_count": 74,
      "outputs": [
        {
          "output_type": "execute_result",
          "data": {
            "text/plain": [
              "(<PrefetchDataset element_spec=((TensorSpec(shape=(None,), dtype=tf.string, name=None), TensorSpec(shape=(None,), dtype=tf.string, name=None)), TensorSpec(shape=(None, 5), dtype=tf.float64, name=None))>,\n",
              " <PrefetchDataset element_spec=((TensorSpec(shape=(None,), dtype=tf.string, name=None), TensorSpec(shape=(None,), dtype=tf.string, name=None)), TensorSpec(shape=(None, 5), dtype=tf.float64, name=None))>)"
            ]
          },
          "metadata": {},
          "execution_count": 74
        }
      ]
    },
    {
      "cell_type": "markdown",
      "source": [
        "Fit the model"
      ],
      "metadata": {
        "id": "RuSGriOpQm_3"
      }
    },
    {
      "cell_type": "code",
      "source": [
        "history_4 = model_4.fit(concatenated_train_dataset,\n",
        "                        epochs=3,\n",
        "                        steps_per_epoch=int(0.1*len(concatenated_train_dataset)),\n",
        "                        validation_data=concatenated_val_dataset,\n",
        "                        validation_steps=int(0.1*len(concatenated_val_dataset)),\n",
        "                        callbacks=[tensorboard_callback,model_checkpoint])"
      ],
      "metadata": {
        "colab": {
          "base_uri": "https://localhost:8080/"
        },
        "id": "b5fOnCIOW16u",
        "outputId": "1ce2f51e-23b4-4c69-9899-306b387d457e"
      },
      "execution_count": 75,
      "outputs": [
        {
          "output_type": "stream",
          "name": "stdout",
          "text": [
            "Epoch 1/3\n",
            "562/562 [==============================] - ETA: 0s - loss: 0.9851 - accuracy: 0.6029\n",
            "Epoch 1: val_accuracy did not improve from 0.81316\n",
            "562/562 [==============================] - 41s 54ms/step - loss: 0.9851 - accuracy: 0.6029 - val_loss: 0.7831 - val_accuracy: 0.6945\n",
            "Epoch 2/3\n",
            "562/562 [==============================] - ETA: 0s - loss: 0.8041 - accuracy: 0.6873\n",
            "Epoch 2: val_accuracy did not improve from 0.81316\n",
            "562/562 [==============================] - 28s 51ms/step - loss: 0.8041 - accuracy: 0.6873 - val_loss: 0.7182 - val_accuracy: 0.7264\n",
            "Epoch 3/3\n",
            "562/562 [==============================] - ETA: 0s - loss: 0.7789 - accuracy: 0.7028\n",
            "Epoch 3: val_accuracy did not improve from 0.81316\n",
            "562/562 [==============================] - 25s 45ms/step - loss: 0.7789 - accuracy: 0.7028 - val_loss: 0.6933 - val_accuracy: 0.7360\n"
          ]
        }
      ]
    },
    {
      "cell_type": "code",
      "source": [
        "model_4.evaluate(concatenated_val_dataset)"
      ],
      "metadata": {
        "colab": {
          "base_uri": "https://localhost:8080/"
        },
        "id": "EiNczYf_XPx4",
        "outputId": "01108b43-c4c7-42af-e1d2-6d138bbeeac4"
      },
      "execution_count": 76,
      "outputs": [
        {
          "output_type": "stream",
          "name": "stdout",
          "text": [
            "945/945 [==============================] - 20s 22ms/step - loss: 0.6980 - accuracy: 0.7335\n"
          ]
        },
        {
          "output_type": "execute_result",
          "data": {
            "text/plain": [
              "[0.6980135440826416, 0.7335164546966553]"
            ]
          },
          "metadata": {},
          "execution_count": 76
        }
      ]
    },
    {
      "cell_type": "code",
      "source": [
        "model_4_pred_probs=model_4.predict(concatenated_val_dataset) # ???????????????\n",
        "model_4_pred_probs"
      ],
      "metadata": {
        "colab": {
          "base_uri": "https://localhost:8080/"
        },
        "id": "kp9BmDUcYEF2",
        "outputId": "9360a3b0-2cce-42e7-8894-b5f324eb6b86"
      },
      "execution_count": 77,
      "outputs": [
        {
          "output_type": "stream",
          "name": "stdout",
          "text": [
            "945/945 [==============================] - 22s 20ms/step\n"
          ]
        },
        {
          "output_type": "execute_result",
          "data": {
            "text/plain": [
              "array([[4.5459077e-01, 3.4858426e-01, 4.0932037e-03, 1.8535857e-01,\n",
              "        7.3731928e-03],\n",
              "       [3.0006593e-01, 5.3569180e-01, 3.1404807e-03, 1.5933275e-01,\n",
              "        1.7690486e-03],\n",
              "       [3.0382472e-01, 1.7844084e-01, 4.8142787e-02, 4.2675704e-01,\n",
              "        4.2834543e-02],\n",
              "       ...,\n",
              "       [3.4271338e-04, 5.8712820e-03, 6.0145259e-02, 1.3389514e-04,\n",
              "        9.3350679e-01],\n",
              "       [9.8602409e-03, 6.7108884e-02, 2.3354451e-01, 4.0907850e-03,\n",
              "        6.8539560e-01],\n",
              "       [2.3109172e-01, 4.7365531e-01, 2.2558418e-01, 1.9074155e-02,\n",
              "        5.0594687e-02]], dtype=float32)"
            ]
          },
          "metadata": {},
          "execution_count": 77
        }
      ]
    },
    {
      "cell_type": "code",
      "source": [
        "model_4_predicts = tf.argmax(model_4_pred_probs,axis=1)\n",
        "model_4_predicts[:5]"
      ],
      "metadata": {
        "colab": {
          "base_uri": "https://localhost:8080/"
        },
        "id": "wbibSjs2YTMH",
        "outputId": "cc2f7862-f376-4f30-ff1f-2601e17474dd"
      },
      "execution_count": 78,
      "outputs": [
        {
          "output_type": "execute_result",
          "data": {
            "text/plain": [
              "<tf.Tensor: shape=(5,), dtype=int64, numpy=array([0, 1, 3, 2, 2])>"
            ]
          },
          "metadata": {},
          "execution_count": 78
        }
      ]
    },
    {
      "cell_type": "code",
      "source": [
        "model_4_results = hp.calculate_results(val_labels_encode,model_4_predicts)\n",
        "model_4_results"
      ],
      "metadata": {
        "colab": {
          "base_uri": "https://localhost:8080/"
        },
        "id": "zDw4ACyyY6D4",
        "outputId": "dc84653d-88ca-4fc2-91ad-bf09f60a32fc"
      },
      "execution_count": 79,
      "outputs": [
        {
          "output_type": "execute_result",
          "data": {
            "text/plain": [
              "{'accuracy': 73.35164835164835,\n",
              " 'precision': 0.734785682423711,\n",
              " 'recall': 0.7335164835164835,\n",
              " 'f1': 0.7305987364508678}"
            ]
          },
          "metadata": {},
          "execution_count": 79
        }
      ]
    },
    {
      "cell_type": "markdown",
      "source": [
        "# Model 5 : Both embeddings + positional embedding"
      ],
      "metadata": {
        "id": "kK04SxJZMJpc"
      }
    },
    {
      "cell_type": "markdown",
      "source": [
        "Preparing data for the model fitting"
      ],
      "metadata": {
        "id": "A9hudNE9Oga6"
      }
    },
    {
      "cell_type": "code",
      "source": [
        "train_df[\"line_num\"].value_counts()\n"
      ],
      "metadata": {
        "colab": {
          "base_uri": "https://localhost:8080/"
        },
        "id": "7HbMYU5DZdxJ",
        "outputId": "a4cc6919-a93d-4ddc-ddd3-e5447347767b"
      },
      "execution_count": 80,
      "outputs": [
        {
          "output_type": "execute_result",
          "data": {
            "text/plain": [
              "0     15000\n",
              "1     15000\n",
              "2     15000\n",
              "3     15000\n",
              "4     14992\n",
              "5     14949\n",
              "6     14758\n",
              "7     14279\n",
              "8     13346\n",
              "9     11981\n",
              "10    10041\n",
              "11     7892\n",
              "12     5853\n",
              "13     4152\n",
              "14     2835\n",
              "15     1861\n",
              "16     1188\n",
              "17      751\n",
              "18      462\n",
              "19      286\n",
              "20      162\n",
              "21      101\n",
              "22       66\n",
              "23       33\n",
              "24       22\n",
              "25       14\n",
              "26        7\n",
              "27        4\n",
              "28        3\n",
              "29        1\n",
              "30        1\n",
              "Name: line_num, dtype: int64"
            ]
          },
          "metadata": {},
          "execution_count": 80
        }
      ]
    },
    {
      "cell_type": "code",
      "source": [
        "#Plot \n",
        "import seaborn as sns\n",
        "sns.histplot(data=train_df,x=\"line_num\",bins=15);"
      ],
      "metadata": {
        "colab": {
          "base_uri": "https://localhost:8080/",
          "height": 280
        },
        "id": "rC4fHJ5wJB_K",
        "outputId": "4f792055-f802-44fe-e7f6-11dc58e50464"
      },
      "execution_count": 81,
      "outputs": [
        {
          "output_type": "display_data",
          "data": {
            "text/plain": [
              "<Figure size 432x288 with 1 Axes>"
            ],
            "image/png": "[encoded data removed]"
          },
          "metadata": {
            "needs_background": "light"
          }
        }
      ]
    },
    {
      "cell_type": "code",
      "source": [
        "import numpy as np \n",
        "np.percentile(train_df[\"line_num\"],98)"
      ],
      "metadata": {
        "colab": {
          "base_uri": "https://localhost:8080/"
        },
        "id": "ZIWd9v_cId0s",
        "outputId": "660cabe1-2d27-4352-a197-19dce327e00a"
      },
      "execution_count": 82,
      "outputs": [
        {
          "output_type": "execute_result",
          "data": {
            "text/plain": [
              "15.0"
            ]
          },
          "metadata": {},
          "execution_count": 82
        }
      ]
    },
    {
      "cell_type": "code",
      "source": [
        "#Because of the fact that up to 15 is about 98% of all of the train data, then one_hot will be performed with depth=15\n",
        "#To decrease size 2 times\n",
        "train_line_num_oh = tf.one_hot(train_df[\"line_num\"].to_numpy(),depth=15)\n",
        "val_line_num_oh = tf.one_hot(val_df[\"line_num\"].to_numpy(),depth=15)\n",
        "test_line_num_oh = tf.one_hot(test_df[\"line_num\"].to_numpy(),depth=15)\n",
        "train_line_num_oh[:5]"
      ],
      "metadata": {
        "colab": {
          "base_uri": "https://localhost:8080/"
        },
        "id": "kMRr5GCnIyfa",
        "outputId": "a8a5eb55-cdde-45b6-d6c5-13e66faec205"
      },
      "execution_count": 83,
      "outputs": [
        {
          "output_type": "execute_result",
          "data": {
            "text/plain": [
              "<tf.Tensor: shape=(5, 15), dtype=float32, numpy=\n",
              "array([[1., 0., 0., 0., 0., 0., 0., 0., 0., 0., 0., 0., 0., 0., 0.],\n",
              "       [0., 1., 0., 0., 0., 0., 0., 0., 0., 0., 0., 0., 0., 0., 0.],\n",
              "       [0., 0., 1., 0., 0., 0., 0., 0., 0., 0., 0., 0., 0., 0., 0.],\n",
              "       [0., 0., 0., 1., 0., 0., 0., 0., 0., 0., 0., 0., 0., 0., 0.],\n",
              "       [0., 0., 0., 0., 1., 0., 0., 0., 0., 0., 0., 0., 0., 0., 0.]],\n",
              "      dtype=float32)>"
            ]
          },
          "metadata": {},
          "execution_count": 83
        }
      ]
    },
    {
      "cell_type": "code",
      "source": [
        "train_df[\"num_of_lines\"].value_counts()"
      ],
      "metadata": {
        "colab": {
          "base_uri": "https://localhost:8080/"
        },
        "id": "JlGBpNVxKS7F",
        "outputId": "636321f2-853f-4cf8-ae55-c7d01a1ca1bf"
      },
      "execution_count": 84,
      "outputs": [
        {
          "output_type": "execute_result",
          "data": {
            "text/plain": [
              "11    24468\n",
              "10    23639\n",
              "12    22113\n",
              "9     19400\n",
              "13    18438\n",
              "14    14610\n",
              "8     12285\n",
              "15    10768\n",
              "7      7464\n",
              "16     7429\n",
              "17     5202\n",
              "6      3353\n",
              "18     3344\n",
              "19     2480\n",
              "20     1281\n",
              "5      1146\n",
              "21      770\n",
              "22      759\n",
              "23      264\n",
              "4       215\n",
              "24      200\n",
              "25      182\n",
              "26       81\n",
              "28       58\n",
              "3        32\n",
              "30       31\n",
              "27       28\n",
              "Name: num_of_lines, dtype: int64"
            ]
          },
          "metadata": {},
          "execution_count": 84
        }
      ]
    },
    {
      "cell_type": "code",
      "source": [
        "sns.histplot(data=train_df,x=\"num_of_lines\",bins=10);"
      ],
      "metadata": {
        "colab": {
          "base_uri": "https://localhost:8080/",
          "height": 282
        },
        "id": "hofV7N0hKWPo",
        "outputId": "48695547-0c86-4144-98b7-fc71dbd0d455"
      },
      "execution_count": 85,
      "outputs": [
        {
          "output_type": "display_data",
          "data": {
            "text/plain": [
              "<Figure size 432x288 with 1 Axes>"
            ],
            "image/png": "[encoded data removed]"
          },
          "metadata": {
            "needs_background": "light"
          }
        }
      ]
    },
    {
      "cell_type": "code",
      "source": [
        "sum=0\n",
        "for i in range(3,20):\n",
        "  sum = sum + train_df[\"num_of_lines\"].value_counts()[i]\n",
        "sum"
      ],
      "metadata": {
        "colab": {
          "base_uri": "https://localhost:8080/"
        },
        "id": "c8UII8yFKXol",
        "outputId": "8c3cdd5a-e2e3-410e-c57b-a088f14ef840"
      },
      "execution_count": 86,
      "outputs": [
        {
          "output_type": "execute_result",
          "data": {
            "text/plain": [
              "176386"
            ]
          },
          "metadata": {},
          "execution_count": 86
        }
      ]
    },
    {
      "cell_type": "code",
      "source": [
        "#Calculate percent\n",
        "perc = sum/len(train_df)*100\n",
        "perc"
      ],
      "metadata": {
        "colab": {
          "base_uri": "https://localhost:8080/"
        },
        "id": "XIDMMKDXK82b",
        "outputId": "967bf3d8-9f2e-4faa-f2ca-77de27f77ee2"
      },
      "execution_count": 87,
      "outputs": [
        {
          "output_type": "execute_result",
          "data": {
            "text/plain": [
              "97.97045101088648"
            ]
          },
          "metadata": {},
          "execution_count": 87
        }
      ]
    },
    {
      "cell_type": "code",
      "source": [
        "#Due to the same fact as before - now depth will be 20\n",
        "train_total_lines_oh = tf.one_hot(train_df[\"num_of_lines\"].to_numpy(),depth=20)\n",
        "val_total_lines_oh = tf.one_hot(val_df[\"num_of_lines\"].to_numpy(),depth=20)\n",
        "test_total_lines_oh = tf.one_hot(test_df[\"num_of_lines\"].to_numpy(),depth=20)\n",
        "#Of course any abstract above 20 will have vector covered with zeros\n",
        "val_total_lines_oh[:2], val_total_lines_oh.shape"
      ],
      "metadata": {
        "colab": {
          "base_uri": "https://localhost:8080/"
        },
        "id": "whBec6VxLqBq",
        "outputId": "66875bde-315a-4f7a-e792-638e8fdaf221"
      },
      "execution_count": 88,
      "outputs": [
        {
          "output_type": "execute_result",
          "data": {
            "text/plain": [
              "(<tf.Tensor: shape=(2, 20), dtype=float32, numpy=\n",
              " array([[0., 0., 0., 0., 0., 0., 0., 0., 0., 1., 0., 0., 0., 0., 0., 0.,\n",
              "         0., 0., 0., 0.],\n",
              "        [0., 0., 0., 0., 0., 0., 0., 0., 0., 1., 0., 0., 0., 0., 0., 0.,\n",
              "         0., 0., 0., 0.]], dtype=float32)>, TensorShape([30212, 20]))"
            ]
          },
          "metadata": {},
          "execution_count": 88
        }
      ]
    },
    {
      "cell_type": "markdown",
      "source": [
        "##  Building model 5\n",
        "\n",
        "1. Create token-level model\n",
        "2. Create character-level model\n",
        "3. Create model for number of line \n",
        "4. Create model for all lines of abstracts\n",
        "5. Combine models 1 and 2\n",
        "6. Combine models 5 with 3,4\n",
        "7. Output layer after combined models\n",
        "8. Combine all four inputs"
      ],
      "metadata": {
        "id": "3nP3GJ4QNwzK"
      }
    },
    {
      "cell_type": "code",
      "source": [
        "#1. Token-level model\n",
        "token_inputs = layers.Input(shape=[], dtype=tf.string,name=\"Token_input\")\n",
        "token_vectorizer = feature_extractor(token_inputs)\n",
        "token_output = layers.Dense(units=128,activation=\"relu\")(token_vectorizer)\n",
        "token_model_5 = tf.keras.Model(token_inputs,token_output)\n",
        "\n",
        "#2. Character-level model\n",
        "character_inputs = layers.Input(shape=(1,),\n",
        "                               dtype=tf.string,\n",
        "                               name=\"Char_input\",\n",
        "                               )\n",
        "character_vectorizer = char_vectorizer(character_inputs)\n",
        "character_embedding = embedding_char_layer(character_vectorizer)\n",
        "character_ouputs = layers.Bidirectional(layers.LSTM(32))(character_embedding)\n",
        "character_model_5 = tf.keras.Model(character_inputs,character_ouputs)\n",
        "\n",
        "#3. Num of lines model\n",
        "num_lines_inputs = layers.Input(shape=(15,),\n",
        "                                dtype=tf.float32,\n",
        "                                name=\"num_lines_input\")\n",
        "num_lines_outputs = layers.Dense(32,activation=\"relu\")(num_lines_inputs)\n",
        "num_lines_model_5 = tf.keras.Model(num_lines_inputs,\n",
        "                                   num_lines_outputs)\n",
        "\n",
        "#4. All lines of abstract model\n",
        "all_line_inputs = layers.Input(shape=(20,),\n",
        "                               dtype=tf.float32,\n",
        "                               name=\"all_lines_input\")\n",
        "all_line_outputs = layers.Dense(32,activation=\"relu\")(all_line_inputs)\n",
        "all_line_model_5 = tf.keras.Model(all_line_inputs,\n",
        "                                  all_line_outputs)\n",
        "#5. Concatenate model from 1/2\n",
        "Concat_model_12 = layers.Concatenate(name=\"Concat_model_12\")([token_model_5.output,\n",
        "                                                              character_model_5.output])\n",
        "\n",
        "\n",
        "a = layers.Dense(256,activation=\"relu\")(Concat_model_12)\n",
        "dropout_5 = layers.Dropout(0.5)(a) # Regularization\n",
        "\n",
        "#6. Concatenate model from 3/4/5 \n",
        "Concat_model_345 = layers.Concatenate(name=\"Concat_model_345\")([num_lines_model_5.output,\n",
        "                                                                all_line_model_5.output,\n",
        "                                                                dropout_5])\n",
        "\n",
        "#7. Output layer for all concatenated models\n",
        "output_layer = layers.Dense(5,activation=\"softmax\",name=\"output_layer\")(Concat_model_345)\n",
        "\n",
        "#8. Create end model\n",
        "model_5 = tf.keras.Model(inputs=[num_lines_model_5.input,\n",
        "                                 all_line_model_5.input,\n",
        "                                 token_model_5.input,\n",
        "                                 character_model_5.input],\n",
        "                         outputs=output_layer,\n",
        "                         name=\"model_5_tribrid\")"
      ],
      "metadata": {
        "id": "NTJ5nn9WPS3J"
      },
      "execution_count": 89,
      "outputs": []
    },
    {
      "cell_type": "code",
      "source": [
        "#Summary\n",
        "model_5.summary()"
      ],
      "metadata": {
        "colab": {
          "base_uri": "https://localhost:8080/"
        },
        "id": "sWnu6dkHdcH3",
        "outputId": "9fa20234-3ecb-4d0d-d2ec-48577e205dee"
      },
      "execution_count": 90,
      "outputs": [
        {
          "output_type": "stream",
          "name": "stdout",
          "text": [
            "Model: \"model_5_tribrid\"\n",
            "__________________________________________________________________________________________________\n",
            " Layer (type)                   Output Shape         Param #     Connected to                     \n",
            "==================================================================================================\n",
            " Char_input (InputLayer)        [(None, 1)]          0           []                               \n",
            "                                                                                                  \n",
            " Token_input (InputLayer)       [(None,)]            0           []                               \n",
            "                                                                                                  \n",
            " text_vectorization_1 (TextVect  (None, 290)         0           ['Char_input[0][0]']             \n",
            " orization)                                                                                       \n",
            "                                                                                                  \n",
            " keras_layer (KerasLayer)       (None, 512)          256797824   ['Token_input[0][0]']            \n",
            "                                                                                                  \n",
            " embedding (Embedding)          (None, 290, 25)      700         ['text_vectorization_1[2][0]']   \n",
            "                                                                                                  \n",
            " dense_7 (Dense)                (None, 128)          65664       ['keras_layer[2][0]']            \n",
            "                                                                                                  \n",
            " bidirectional_1 (Bidirectional  (None, 64)          14848       ['embedding[2][0]']              \n",
            " )                                                                                                \n",
            "                                                                                                  \n",
            " Concat_model_12 (Concatenate)  (None, 192)          0           ['dense_7[0][0]',                \n",
            "                                                                  'bidirectional_1[0][0]']        \n",
            "                                                                                                  \n",
            " num_lines_input (InputLayer)   [(None, 15)]         0           []                               \n",
            "                                                                                                  \n",
            " all_lines_input (InputLayer)   [(None, 20)]         0           []                               \n",
            "                                                                                                  \n",
            " dense_10 (Dense)               (None, 256)          49408       ['Concat_model_12[0][0]']        \n",
            "                                                                                                  \n",
            " dense_8 (Dense)                (None, 32)           512         ['num_lines_input[0][0]']        \n",
            "                                                                                                  \n",
            " dense_9 (Dense)                (None, 32)           672         ['all_lines_input[0][0]']        \n",
            "                                                                                                  \n",
            " dropout_2 (Dropout)            (None, 256)          0           ['dense_10[0][0]']               \n",
            "                                                                                                  \n",
            " Concat_model_345 (Concatenate)  (None, 320)         0           ['dense_8[0][0]',                \n",
            "                                                                  'dense_9[0][0]',                \n",
            "                                                                  'dropout_2[0][0]']              \n",
            "                                                                                                  \n",
            " output_layer (Dense)           (None, 5)            1605        ['Concat_model_345[0][0]']       \n",
            "                                                                                                  \n",
            "==================================================================================================\n",
            "Total params: 256,931,233\n",
            "Trainable params: 133,409\n",
            "Non-trainable params: 256,797,824\n",
            "__________________________________________________________________________________________________\n"
          ]
        }
      ]
    },
    {
      "cell_type": "code",
      "source": [
        "#Visualize model 5\n",
        "from keras.utils import plot_model\n",
        "plot_model(model_5)"
      ],
      "metadata": {
        "colab": {
          "base_uri": "https://localhost:8080/",
          "height": 856
        },
        "id": "iB7gRZ3MeLxi",
        "outputId": "e827becd-0487-45c3-ad01-2d5857b31391"
      },
      "execution_count": 91,
      "outputs": [
        {
          "output_type": "execute_result",
          "data": {
            "image/png": "[encoded data removed]",
            "text/plain": [
              "<IPython.core.display.Image object>"
            ]
          },
          "metadata": {},
          "execution_count": 91
        }
      ]
    },
    {
      "cell_type": "markdown",
      "source": [
        "Compile the Model"
      ],
      "metadata": {
        "id": "WF-25l9fegUr"
      }
    },
    {
      "cell_type": "code",
      "source": [
        "model_5.compile(loss=tf.keras.losses.CategoricalCrossentropy(label_smoothing=0.2),\n",
        "                optimizer=tf.keras.optimizers.Adam(),\n",
        "                metrics=[\"accuracy\"])"
      ],
      "metadata": {
        "id": "gdcSHah-fXET"
      },
      "execution_count": 92,
      "outputs": []
    },
    {
      "cell_type": "markdown",
      "source": [
        "Make train dataset\n"
      ],
      "metadata": {
        "id": "JD2uFvfFmUPL"
      }
    },
    {
      "cell_type": "code",
      "source": [
        "train_all__sentence_dataset = tf.data.Dataset.from_tensor_slices((train_line_num_oh,\n",
        "                                                                  train_total_lines_oh,\n",
        "                                                                  train_sentences,\n",
        "                                                                  train_chars))\n",
        "                                                  \n",
        "train_all_labels_dataset = tf.data.Dataset.from_tensor_slices((train_labels_oh))\n",
        "train_all_dataset = tf.data.Dataset.zip((train_all__sentence_dataset , train_all_labels_dataset)).batch(32).prefetch(tf.data.AUTOTUNE)"
      ],
      "metadata": {
        "id": "HA4yNipNhRnx"
      },
      "execution_count": 93,
      "outputs": []
    },
    {
      "cell_type": "markdown",
      "source": [
        "Make validation dataset"
      ],
      "metadata": {
        "id": "pw--DtgymXjN"
      }
    },
    {
      "cell_type": "code",
      "source": [
        "val_all__sentence_dataset = tf.data.Dataset.from_tensor_slices((val_line_num_oh,\n",
        "                                                                  val_total_lines_oh,\n",
        "                                                                  val_sentences,\n",
        "                                                                  val_chars))\n",
        "                                                  \n",
        "val_all_labels_dataset = tf.data.Dataset.from_tensor_slices((val_labels_oh))\n",
        "val_all_dataset = tf.data.Dataset.zip((val_all__sentence_dataset , val_all_labels_dataset)).batch(32).prefetch(tf.data.AUTOTUNE)"
      ],
      "metadata": {
        "id": "9ZnwbLS6mbao"
      },
      "execution_count": 94,
      "outputs": []
    },
    {
      "cell_type": "markdown",
      "source": [
        "Fit model5"
      ],
      "metadata": {
        "id": "qni5wZvPnHKh"
      }
    },
    {
      "cell_type": "code",
      "source": [
        "train_all__sentence_dataset, val_all__sentence_dataset"
      ],
      "metadata": {
        "colab": {
          "base_uri": "https://localhost:8080/"
        },
        "id": "v58__jninI6r",
        "outputId": "18b3dc50-7a36-4335-b9cc-67d3236fbd28"
      },
      "execution_count": 95,
      "outputs": [
        {
          "output_type": "execute_result",
          "data": {
            "text/plain": [
              "(<TensorSliceDataset element_spec=(TensorSpec(shape=(15,), dtype=tf.float32, name=None), TensorSpec(shape=(20,), dtype=tf.float32, name=None), TensorSpec(shape=(), dtype=tf.string, name=None), TensorSpec(shape=(), dtype=tf.string, name=None))>,\n",
              " <TensorSliceDataset element_spec=(TensorSpec(shape=(15,), dtype=tf.float32, name=None), TensorSpec(shape=(20,), dtype=tf.float32, name=None), TensorSpec(shape=(), dtype=tf.string, name=None), TensorSpec(shape=(), dtype=tf.string, name=None))>)"
            ]
          },
          "metadata": {},
          "execution_count": 95
        }
      ]
    },
    {
      "cell_type": "code",
      "source": [
        "history_5 = model_5.fit(train_all_dataset,\n",
        "                        epochs=3,\n",
        "                        steps_per_epoch=int(0.1*len(train_all_dataset)),\n",
        "                        validation_data=val_all_dataset,\n",
        "                        validation_steps=int(0.1*len(val_all_dataset)),\n",
        "                        callbacks=[tensorboard_callback,model_checkpoint])"
      ],
      "metadata": {
        "colab": {
          "base_uri": "https://localhost:8080/"
        },
        "id": "TVQi_hxfnrEc",
        "outputId": "4308f889-d12e-4533-d6af-a360b5b0689f"
      },
      "execution_count": 96,
      "outputs": [
        {
          "output_type": "stream",
          "name": "stdout",
          "text": [
            "Epoch 1/3\n",
            "561/562 [============================>.] - ETA: 0s - loss: 1.0951 - accuracy: 0.7234\n",
            "Epoch 1: val_accuracy did not improve from 0.81316\n",
            "562/562 [==============================] - 44s 59ms/step - loss: 1.0948 - accuracy: 0.7237 - val_loss: 0.9842 - val_accuracy: 0.8022\n",
            "Epoch 2/3\n",
            "561/562 [============================>.] - ETA: 0s - loss: 0.9695 - accuracy: 0.8171\n",
            "Epoch 2: val_accuracy improved from 0.81316 to 0.82580, saving model to Model_1_Checkpoint\n",
            "562/562 [==============================] - 33s 58ms/step - loss: 0.9694 - accuracy: 0.8171 - val_loss: 0.9515 - val_accuracy: 0.8258\n",
            "Epoch 3/3\n",
            "561/562 [============================>.] - ETA: 0s - loss: 0.9509 - accuracy: 0.8225\n",
            "Epoch 3: val_accuracy improved from 0.82580 to 0.83411, saving model to Model_1_Checkpoint\n",
            "562/562 [==============================] - 30s 54ms/step - loss: 0.9509 - accuracy: 0.8225 - val_loss: 0.9406 - val_accuracy: 0.8341\n"
          ]
        }
      ]
    },
    {
      "cell_type": "markdown",
      "source": [
        "#Evaluation - Compare models"
      ],
      "metadata": {
        "id": "ZbYu0bXi1sEL"
      }
    },
    {
      "cell_type": "code",
      "source": [
        "model_5_pred_probs = model_5.predict(val_all_dataset)\n",
        "model_5_predicts = tf.argmax(model_5_pred_probs,axis=1)\n",
        "model_5_predicts"
      ],
      "metadata": {
        "colab": {
          "base_uri": "https://localhost:8080/"
        },
        "id": "s4Ehrwa0pVmz",
        "outputId": "16903042-99bf-4d69-a290-234e7f070aee"
      },
      "execution_count": 97,
      "outputs": [
        {
          "output_type": "stream",
          "name": "stdout",
          "text": [
            "945/945 [==============================] - 22s 20ms/step\n"
          ]
        },
        {
          "output_type": "execute_result",
          "data": {
            "text/plain": [
              "<tf.Tensor: shape=(30212,), dtype=int64, numpy=array([0, 0, 3, ..., 4, 4, 1])>"
            ]
          },
          "metadata": {},
          "execution_count": 97
        }
      ]
    },
    {
      "cell_type": "code",
      "source": [
        "model_5_results = hp.calculate_results(val_labels_encode,model_5_predicts)\n",
        "model_5_results"
      ],
      "metadata": {
        "colab": {
          "base_uri": "https://localhost:8080/"
        },
        "id": "9STh_J-lvCzR",
        "outputId": "869b0697-1c9d-4093-ecd4-eeaecf293965"
      },
      "execution_count": 98,
      "outputs": [
        {
          "output_type": "execute_result",
          "data": {
            "text/plain": [
              "{'accuracy': 83.40394545213823,\n",
              " 'precision': 0.8331091059395856,\n",
              " 'recall': 0.8340394545213823,\n",
              " 'f1': 0.8331721084712931}"
            ]
          },
          "metadata": {},
          "execution_count": 98
        }
      ]
    },
    {
      "cell_type": "code",
      "source": [
        "#Model results \n",
        "import pandas as pd\n",
        "model_results = pd.DataFrame({\"model_0\": model_0_results,\n",
        "                             \"model_1_Conv1D\":model_1_results,\n",
        "                             \"model_2_TF_HUB\":model_2_results,\n",
        "                             \"model_3_Conv1D_Char\":model_3_results,\n",
        "                             \"model_4_Char_Token\":model_4_results,\n",
        "                             \"model_5_char_token_pos\":model_5_results}).transpose()\n",
        "model_results[\"accuracy\"] = model_results[\"accuracy\"]/100\n",
        "model_results"
      ],
      "metadata": {
        "colab": {
          "base_uri": "https://localhost:8080/",
          "height": 237
        },
        "id": "7Y6dLG9x1iAa",
        "outputId": "06ce8a9e-b63f-41aa-a24c-b6cdfa40e1ec"
      },
      "execution_count": 99,
      "outputs": [
        {
          "output_type": "execute_result",
          "data": {
            "text/plain": [
              "                        accuracy  precision    recall        f1\n",
              "model_0                 0.721832   0.718647  0.721832  0.698925\n",
              "model_1_Conv1D          0.807295   0.805589  0.807295  0.805608\n",
              "model_2_TF_HUB          0.713458   0.713791  0.713458  0.710549\n",
              "model_3_Conv1D_Char     0.658149   0.652605  0.658149  0.651052\n",
              "model_4_Char_Token      0.733516   0.734786  0.733516  0.730599\n",
              "model_5_char_token_pos  0.834039   0.833109  0.834039  0.833172"
            ],
            "text/html": [
              "\n",
              "  <div id=\"df-7ea98713-bdf3-47bc-8ce7-34617263f924\">\n",
              "    <div class=\"colab-df-container\">\n",
              "      <div>\n",
              "<style scoped>\n",
              "    .dataframe tbody tr th:only-of-type {\n",
              "        vertical-align: middle;\n",
              "    }\n",
              "\n",
              "    .dataframe tbody tr th {\n",
              "        vertical-align: top;\n",
              "    }\n",
              "\n",
              "    .dataframe thead th {\n",
              "        text-align: right;\n",
              "    }\n",
              "</style>\n",
              "<table border=\"1\" class=\"dataframe\">\n",
              "  <thead>\n",
              "    <tr style=\"text-align: right;\">\n",
              "      <th></th>\n",
              "      <th>accuracy</th>\n",
              "      <th>precision</th>\n",
              "      <th>recall</th>\n",
              "      <th>f1</th>\n",
              "    </tr>\n",
              "  </thead>\n",
              "  <tbody>\n",
              "    <tr>\n",
              "      <th>model_0</th>\n",
              "      <td>0.721832</td>\n",
              "      <td>0.718647</td>\n",
              "      <td>0.721832</td>\n",
              "      <td>0.698925</td>\n",
              "    </tr>\n",
              "    <tr>\n",
              "      <th>model_1_Conv1D</th>\n",
              "      <td>0.807295</td>\n",
              "      <td>0.805589</td>\n",
              "      <td>0.807295</td>\n",
              "      <td>0.805608</td>\n",
              "    </tr>\n",
              "    <tr>\n",
              "      <th>model_2_TF_HUB</th>\n",
              "      <td>0.713458</td>\n",
              "      <td>0.713791</td>\n",
              "      <td>0.713458</td>\n",
              "      <td>0.710549</td>\n",
              "    </tr>\n",
              "    <tr>\n",
              "      <th>model_3_Conv1D_Char</th>\n",
              "      <td>0.658149</td>\n",
              "      <td>0.652605</td>\n",
              "      <td>0.658149</td>\n",
              "      <td>0.651052</td>\n",
              "    </tr>\n",
              "    <tr>\n",
              "      <th>model_4_Char_Token</th>\n",
              "      <td>0.733516</td>\n",
              "      <td>0.734786</td>\n",
              "      <td>0.733516</td>\n",
              "      <td>0.730599</td>\n",
              "    </tr>\n",
              "    <tr>\n",
              "      <th>model_5_char_token_pos</th>\n",
              "      <td>0.834039</td>\n",
              "      <td>0.833109</td>\n",
              "      <td>0.834039</td>\n",
              "      <td>0.833172</td>\n",
              "    </tr>\n",
              "  </tbody>\n",
              "</table>\n",
              "</div>\n",
              "      <button class=\"colab-df-convert\" onclick=\"convertToInteractive('df-7ea98713-bdf3-47bc-8ce7-34617263f924')\"\n",
              "              title=\"Convert this dataframe to an interactive table.\"\n",
              "              style=\"display:none;\">\n",
              "        \n",
              "  <svg xmlns=\"http://www.w3.org/2000/svg\" height=\"24px\"viewBox=\"0 0 24 24\"\n",
              "       width=\"24px\">\n",
              "    <path d=\"M0 0h24v24H0V0z\" fill=\"none\"/>\n",
              "    <path d=\"M18.56 5.44l.94 2.06.94-2.06 2.06-.94-2.06-.94-.94-2.06-.94 2.06-2.06.94zm-11 1L8.5 8.5l.94-2.06 2.06-.94-2.06-.94L8.5 2.5l-.94 2.06-2.06.94zm10 10l.94 2.06.94-2.06 2.06-.94-2.06-.94-.94-2.06-.94 2.06-2.06.94z\"/><path d=\"M17.41 7.96l-1.37-1.37c-.4-.4-.92-.59-1.43-.59-.52 0-1.04.2-1.43.59L10.3 9.45l-7.72 7.72c-.78.78-.78 2.05 0 2.83L4 21.41c.39.39.9.59 1.41.59.51 0 1.02-.2 1.41-.59l7.78-7.78 2.81-2.81c.8-.78.8-2.07 0-2.86zM5.41 20L4 18.59l7.72-7.72 1.47 1.35L5.41 20z\"/>\n",
              "  </svg>\n",
              "      </button>\n",
              "      \n",
              "  <style>\n",
              "    .colab-df-container {\n",
              "      display:flex;\n",
              "      flex-wrap:wrap;\n",
              "      gap: 12px;\n",
              "    }\n",
              "\n",
              "    .colab-df-convert {\n",
              "      background-color: #E8F0FE;\n",
              "      border: none;\n",
              "      border-radius: 50%;\n",
              "      cursor: pointer;\n",
              "      display: none;\n",
              "      fill: #1967D2;\n",
              "      height: 32px;\n",
              "      padding: 0 0 0 0;\n",
              "      width: 32px;\n",
              "    }\n",
              "\n",
              "    .colab-df-convert:hover {\n",
              "      background-color: #E2EBFA;\n",
              "      box-shadow: 0px 1px 2px rgba(60, 64, 67, 0.3), 0px 1px 3px 1px rgba(60, 64, 67, 0.15);\n",
              "      fill: #174EA6;\n",
              "    }\n",
              "\n",
              "    [theme=dark] .colab-df-convert {\n",
              "      background-color: #3B4455;\n",
              "      fill: #D2E3FC;\n",
              "    }\n",
              "\n",
              "    [theme=dark] .colab-df-convert:hover {\n",
              "      background-color: #434B5C;\n",
              "      box-shadow: 0px 1px 3px 1px rgba(0, 0, 0, 0.15);\n",
              "      filter: drop-shadow(0px 1px 2px rgba(0, 0, 0, 0.3));\n",
              "      fill: #FFFFFF;\n",
              "    }\n",
              "  </style>\n",
              "\n",
              "      <script>\n",
              "        const buttonEl =\n",
              "          document.querySelector('#df-7ea98713-bdf3-47bc-8ce7-34617263f924 button.colab-df-convert');\n",
              "        buttonEl.style.display =\n",
              "          google.colab.kernel.accessAllowed ? 'block' : 'none';\n",
              "\n",
              "        async function convertToInteractive(key) {\n",
              "          const element = document.querySelector('#df-7ea98713-bdf3-47bc-8ce7-34617263f924');\n",
              "          const dataTable =\n",
              "            await google.colab.kernel.invokeFunction('convertToInteractive',\n",
              "                                                     [key], {});\n",
              "          if (!dataTable) return;\n",
              "\n",
              "          const docLinkHtml = 'Like what you see? Visit the ' +\n",
              "            '<a target=\"_blank\" href=https://colab.research.google.com/notebooks/data_table.ipynb>data table notebook</a>'\n",
              "            + ' to learn more about interactive tables.';\n",
              "          element.innerHTML = '';\n",
              "          dataTable['output_type'] = 'display_data';\n",
              "          await google.colab.output.renderOutput(dataTable, element);\n",
              "          const docLink = document.createElement('div');\n",
              "          docLink.innerHTML = docLinkHtml;\n",
              "          element.appendChild(docLink);\n",
              "        }\n",
              "      </script>\n",
              "    </div>\n",
              "  </div>\n",
              "  "
            ]
          },
          "metadata": {},
          "execution_count": 99
        }
      ]
    },
    {
      "cell_type": "code",
      "source": [
        "model_results.plot(kind=\"bar\", figsize=(8,6)).legend(bbox_to_anchor=(1.0,1.0));"
      ],
      "metadata": {
        "colab": {
          "base_uri": "https://localhost:8080/",
          "height": 489
        },
        "id": "HXZWoywn5MeK",
        "outputId": "7fed7140-6fde-4b3d-ae5e-a60f796886a5"
      },
      "execution_count": 103,
      "outputs": [
        {
          "output_type": "display_data",
          "data": {
            "text/plain": [
              "<Figure size 576x432 with 1 Axes>"
            ],
            "image/png": "[encoded data removed]"
          },
          "metadata": {
            "needs_background": "light"
          }
        }
      ]
    },
    {
      "cell_type": "code",
      "source": [
        "model_results[\"f1\"].sort_values(ascending=True).plot(kind=\"bar\")"
      ],
      "metadata": {
        "colab": {
          "base_uri": "https://localhost:8080/",
          "height": 398
        },
        "id": "hzNtES7Y6Bhh",
        "outputId": "d755106e-1452-48fe-a075-242129fa7b48"
      },
      "execution_count": 104,
      "outputs": [
        {
          "output_type": "execute_result",
          "data": {
            "text/plain": [
              "<AxesSubplot:>"
            ]
          },
          "metadata": {},
          "execution_count": 104
        },
        {
          "output_type": "display_data",
          "data": {
            "text/plain": [
              "<Figure size 432x288 with 1 Axes>"
            ],
            "image/png": "[encoded data removed]"
          },
          "metadata": {
            "needs_background": "light"
          }
        }
      ]
    },
    {
      "cell_type": "markdown",
      "source": [
        "#Save model 5"
      ],
      "metadata": {
        "id": "Ku5ci8ILAaAl"
      }
    },
    {
      "cell_type": "code",
      "source": [
        "model_5.save(\"model_5\")"
      ],
      "metadata": {
        "colab": {
          "base_uri": "https://localhost:8080/"
        },
        "id": "IN1Rqp8TAepN",
        "outputId": "076596eb-645a-423b-d0bf-6a7680fdf0a3"
      },
      "execution_count": 105,
      "outputs": [
        {
          "output_type": "stream",
          "name": "stderr",
          "text": [
            "WARNING:absl:Function `_wrapped_model` contains input name(s) Token_input, Char_input with unsupported characters which will be renamed to token_input, char_input in the SavedModel.\n",
            "WARNING:absl:Found untraced functions such as lstm_cell_4_layer_call_fn, lstm_cell_4_layer_call_and_return_conditional_losses, lstm_cell_5_layer_call_fn, lstm_cell_5_layer_call_and_return_conditional_losses while saving (showing 4 of 4). These functions will not be directly callable after loading.\n"
          ]
        }
      ]
    },
    {
      "cell_type": "code",
      "source": [
        "loaded_model5 = tf.keras.models.load_model(\"model_5\")"
      ],
      "metadata": {
        "id": "Fz6lIfnwAjo3"
      },
      "execution_count": 107,
      "outputs": []
    },
    {
      "cell_type": "code",
      "source": [
        "loaded_model5.evaluate(val_all_dataset)"
      ],
      "metadata": {
        "colab": {
          "base_uri": "https://localhost:8080/"
        },
        "id": "WQ9XXjOoA1Jr",
        "outputId": "7ae6a4c5-2b0c-4794-8a9a-bf56cba71d0a"
      },
      "execution_count": 108,
      "outputs": [
        {
          "output_type": "stream",
          "name": "stdout",
          "text": [
            "945/945 [==============================] - 24s 22ms/step - loss: 0.9392 - accuracy: 0.8340\n"
          ]
        },
        {
          "output_type": "execute_result",
          "data": {
            "text/plain": [
              "[0.939153254032135, 0.8340394496917725]"
            ]
          },
          "metadata": {},
          "execution_count": 108
        }
      ]
    },
    {
      "cell_type": "code",
      "source": [
        "assert loaded_model5 == model_5"
      ],
      "metadata": {
        "id": "qt5pwCKpBTaN"
      },
      "execution_count": null,
      "outputs": []
    }
  ]
}